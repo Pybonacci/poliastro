{
 "cells": [
  {
   "cell_type": "markdown",
   "id": "a0459b7f-794d-4899-a899-434559089a6c",
   "metadata": {},
   "source": [
    "# Import"
   ]
  },
  {
   "cell_type": "code",
   "execution_count": 1,
   "id": "5be15dee-3e7c-4ebd-b70f-360f661c7218",
   "metadata": {},
   "outputs": [],
   "source": [
    "from datetime import datetime, timedelta\n",
    "from math import atan2, sqrt\n",
    "from random import random\n",
    "from typing import Union\n",
    "\n",
    "import astropy.units as u\n",
    "from astropy.time import Time, TimeDelta\n",
    "import numpy as np\n",
    "from typeguard import typechecked"
   ]
  },
  {
   "cell_type": "markdown",
   "id": "2b6b1b48-f12f-4aa7-b2be-5114acf44649",
   "metadata": {},
   "source": [
    "# Data"
   ]
  },
  {
   "cell_type": "code",
   "execution_count": 2,
   "id": "5ec2773b-cdaf-4d52-9526-d600eb71d4b0",
   "metadata": {},
   "outputs": [
    {
     "data": {
      "text/plain": [
       "<Time object: scale='ut1' format='iso' value=['2022-01-01 00:00:00.000' '2022-01-02 00:00:00.000'\n",
       " '2022-01-03 00:00:00.000' '2022-01-04 00:00:00.000'\n",
       " '2022-01-05 00:00:00.000' '2022-01-06 00:00:00.000'\n",
       " '2022-01-07 00:00:00.000' '2022-01-08 00:00:00.000'\n",
       " '2022-01-09 00:00:00.000']>"
      ]
     },
     "execution_count": 2,
     "metadata": {},
     "output_type": "execute_result"
    }
   ],
   "source": [
    "START = Time('2022-01-01 00:00', scale = 'ut1')\n",
    "STOP = Time('2022-01-10 00:00', scale = 'ut1')\n",
    "STEP_LENGTH = 1 << u.d\n",
    "\n",
    "TIMES = Time(np.arange(START, STOP, STEP_LENGTH))\n",
    "TIMES"
   ]
  },
  {
   "cell_type": "code",
   "execution_count": 3,
   "id": "b209608f-5602-41de-9005-b9c603b2063b",
   "metadata": {},
   "outputs": [
    {
     "data": {
      "text/plain": [
       "[{'x': <Quantity 6.25350266 km>, 'y': <Quantity 3.78524177 km>},\n",
       " {'x': <Quantity 3.35121602 km>, 'y': <Quantity 2.43147868 km>},\n",
       " {'x': <Quantity 9.44068878 km>, 'y': <Quantity 8.95284076 km>},\n",
       " {'x': <Quantity 0.39916973 km>, 'y': <Quantity 8.15307567 km>},\n",
       " {'x': <Quantity 0.92443308 km>, 'y': <Quantity 3.70176948 km>}]"
      ]
     },
     "execution_count": 3,
     "metadata": {},
     "output_type": "execute_result"
    }
   ],
   "source": [
    "FACTOR = 10\n",
    "POINTS_LENGTH = 5\n",
    "\n",
    "POINTS = [\n",
    "    {'x': random() * FACTOR << u.km, 'y': random() * FACTOR << u.km}\n",
    "    for _ in range(POINTS_LENGTH)\n",
    "]\n",
    "POINTS"
   ]
  },
  {
   "cell_type": "markdown",
   "id": "45f1e2ac-e7cb-4387-b897-527217ede17b",
   "metadata": {},
   "source": [
    "# PoC"
   ]
  },
  {
   "cell_type": "code",
   "execution_count": 4,
   "id": "61a3a374-4bc7-441c-8b3c-b7f941e925f8",
   "metadata": {},
   "outputs": [],
   "source": [
    "@typechecked\n",
    "class State:\n",
    "    \n",
    "    @u.quantity_input(x = u.km, y = u.km)\n",
    "    def __init__(self, epoch: Time, x: u.Quantity, y: u.Quantity):\n",
    "        assert epoch.ndim == x.ndim == y.ndim == 0\n",
    "        self._epoch = epoch\n",
    "        self._x = x\n",
    "        self._y = y\n",
    "    \n",
    "    def __repr__(self) -> str:\n",
    "        return f'<State epoch={self._epoch} x={self._x} y={self._y}>'\n",
    "    \n",
    "    def __eq__(self, other) -> bool:\n",
    "        return self._epoch == other.epoch and self._x == other.x and self._y == other.y\n",
    "    \n",
    "    @property\n",
    "    def epoch(self) -> Time:\n",
    "        return self._epoch\n",
    "    \n",
    "    @epoch.setter\n",
    "    def epoch(self, value: Time):\n",
    "        assert value.ndim == 0\n",
    "        self._epoch = value\n",
    "    \n",
    "    @property\n",
    "    def x(self) -> u.Quantity:\n",
    "        return self._x\n",
    "    \n",
    "    @x.setter\n",
    "    @u.quantity_input(value = u.km)\n",
    "    def x(self, value: u.Quantity):\n",
    "        assert value.ndim == 0\n",
    "        self._x = value\n",
    "    \n",
    "    @property\n",
    "    def y(self) -> u.Quantity:\n",
    "        return self._y\n",
    "    \n",
    "    @y.setter\n",
    "    @u.quantity_input(value = u.km)\n",
    "    def y(self, value: u.Quantity):\n",
    "        assert value.ndim == 0\n",
    "        self._y = value\n",
    "    \n",
    "    def to_polar(self) -> tuple[u.Quantity, u.Quantity]:\n",
    "        return (\n",
    "            sqrt(self._x.to_value(u.km) ** 2 + self._y.to_value(u.km) ** 2) << u.km,\n",
    "            atan2(self._y.to_value(u.km), self._x.to_value(u.km)) << u.rad,\n",
    "        )"
   ]
  },
  {
   "cell_type": "code",
   "execution_count": 5,
   "id": "fc4270bd-7a57-430e-be15-41f60c2b271b",
   "metadata": {},
   "outputs": [
    {
     "name": "stdout",
     "output_type": "stream",
     "text": [
      "<State epoch=2022-01-01 00:00:00.000 x=2.0 km y=3.0 km>\n",
      "(<Quantity 3.60555128 km>, <Quantity 0.98279372 rad>)\n"
     ]
    }
   ],
   "source": [
    "a = State(Time('2022-01-01 00:00', scale = 'ut1'), 2.0 << u.km, 3.0 << u.km)\n",
    "print(a)\n",
    "print(a.to_polar())"
   ]
  },
  {
   "cell_type": "code",
   "execution_count": 23,
   "id": "1cc5317b-fe9d-4031-8fc7-97476cbc09c0",
   "metadata": {},
   "outputs": [],
   "source": [
    "@typechecked\n",
    "class Orbit:\n",
    "\n",
    "    def __init__(self, state: State):\n",
    "        self._state = state\n",
    "\n",
    "    def __repr__(self) -> str:\n",
    "        return f'<Orbit epoch={self._state.epoch} x={self._state.x} y={self._state.y}>'\n",
    "\n",
    "    def propagate(self, timedelta: TimeDelta, inplace: bool = False) -> 'Union[Orbit, OrbitArray]':\n",
    "        \n",
    "        if timedelta.ndim == 0:\n",
    "        \n",
    "            days = timedelta.to_value(u.d)\n",
    "            dx = (random() - 0.5) * days << u.km\n",
    "            dy = (random() - 0.5) * days << u.km\n",
    "            \n",
    "            if inplace:\n",
    "                self._state.epoch += timedelta\n",
    "                self._state.x += dx\n",
    "                self._state.y += dy\n",
    "                return self\n",
    "            else:\n",
    "                return type(self)(State(\n",
    "                    epoch = self._state.epoch + timedelta,\n",
    "                    x = self._state.x + dx,\n",
    "                    y = self._state.y + dy,\n",
    "                ))\n",
    "        \n",
    "        else:\n",
    "            \n",
    "            assert not inplace\n",
    "            \n",
    "            epoch = None\n",
    "\n",
    "    @property\n",
    "    def state(self) -> State:\n",
    "        return self._state"
   ]
  },
  {
   "cell_type": "code",
   "execution_count": 24,
   "id": "2d162cd3-2822-418a-98fb-760e950792a9",
   "metadata": {},
   "outputs": [
    {
     "name": "stdout",
     "output_type": "stream",
     "text": [
      "<Orbit epoch=2022-01-01 00:00:00.000 x=2.0 km y=3.0 km>\n",
      "<Orbit epoch=2022-01-02 00:00:00.000 x=1.794312925825925 km y=2.719979738636332 km>\n",
      "False\n",
      "False\n"
     ]
    }
   ],
   "source": [
    "a = Orbit(State(Time('2022-01-01 00:00', scale = 'ut1'), 2.0 << u.km, 3.0 << u.km))\n",
    "print(a)\n",
    "b = a.propagate(TimeDelta(1 << u.d), inplace = False)\n",
    "print(b)\n",
    "print(a is b)\n",
    "print(a == b)"
   ]
  },
  {
   "cell_type": "code",
   "execution_count": 25,
   "id": "a264eb18-f89e-4e3a-92fd-289d0453fefa",
   "metadata": {},
   "outputs": [
    {
     "name": "stdout",
     "output_type": "stream",
     "text": [
      "<Orbit epoch=2022-01-02 00:00:00.000 x=1.8764727077406333 km y=2.710528540562871 km>\n",
      "True\n",
      "True\n"
     ]
    }
   ],
   "source": [
    "c = a.propagate(TimeDelta(1 << u.d), inplace = True)\n",
    "print(c)\n",
    "print(a is c)\n",
    "print(a == c)"
   ]
  },
  {
   "cell_type": "code",
   "execution_count": 8,
   "id": "c7267196-de15-4488-9721-0f9917db2a9b",
   "metadata": {},
   "outputs": [],
   "source": [
    "@typechecked\n",
    "class StateArray:\n",
    "\n",
    "    @u.quantity_input(x = u.km, y = u.km)\n",
    "    def __init__(self, epoch: Time, x: u.Quantity, y: u.Quantity):\n",
    "        assert epoch.shape == x.shape == y.shape\n",
    "        self._epoch = epoch\n",
    "        self._x = x\n",
    "        self._y = y\n",
    "\n",
    "    def __repr__(self) -> str:\n",
    "        return  (\n",
    "            f'<StateArray shape={self.shape} value=[\\n'\n",
    "            + '\\n'.join([\n",
    "                f' (epoch={state.epoch} x={state.x} y={state.y}),'\n",
    "                for state in self.reshape(self.size)\n",
    "            ])\n",
    "            + '\\n]>'\n",
    "        )\n",
    "    \n",
    "    def __getitem__(self, idx) -> 'Union[StateArray, State]':\n",
    "        target = type(self)(\n",
    "            epoch = self._epoch[idx],\n",
    "            x = self._x[idx],\n",
    "            y = self._y[idx],\n",
    "        )\n",
    "        if np.squeeze(target.epoch).ndim == 0 and (\n",
    "            isinstance(idx, int) or (\n",
    "                isinstance(idx, tuple) and all(isinstance(item, int) for item in idx)\n",
    "            )\n",
    "        ):\n",
    "            return State(\n",
    "                epoch = target.epoch,\n",
    "                x = target.x,\n",
    "                y = target.y,\n",
    "            )\n",
    "        return target\n",
    "\n",
    "    def reshape(self, *args) -> 'StateArray':\n",
    "        return type(self)(\n",
    "            epoch = self._epoch.reshape(*args),\n",
    "            x = self._x.reshape(*args),\n",
    "            y = self._y.reshape(*args),\n",
    "        )\n",
    "\n",
    "    @property\n",
    "    def epoch(self) -> Time:\n",
    "        return self._epoch\n",
    "\n",
    "    @property\n",
    "    def x(self) -> u.Quantity:\n",
    "        return self._x\n",
    "\n",
    "    @property\n",
    "    def y(self) -> u.Quantity:\n",
    "        return self._y\n",
    "\n",
    "    @property\n",
    "    def ndim(self):\n",
    "        return self._epoch.ndim\n",
    "\n",
    "    @property\n",
    "    def size(self):\n",
    "        return self._epoch.size\n",
    "\n",
    "    @property\n",
    "    def shape(self):\n",
    "        return self._epoch.shape\n",
    "\n",
    "    def to_polar(self) -> tuple[u.Quantity, u.Quantity]:\n",
    "        return np.sqrt(self._x ** 2 + self._y ** 2), np.arctan2(self._y, self._x)\n",
    "\n",
    "    @classmethod\n",
    "    def from_states(cls, states):\n",
    "        return cls(\n",
    "            epoch = Time([state.epoch for state in states]),\n",
    "            x = u.Quantity([state.x for state in states], u.km),\n",
    "            y = u.Quantity([state.y for state in states], u.km),\n",
    "        )"
   ]
  },
  {
   "cell_type": "code",
   "execution_count": 9,
   "id": "1c8c4807-2cce-4b79-99c4-9cec2d41b342",
   "metadata": {},
   "outputs": [
    {
     "data": {
      "text/plain": [
       "[<State epoch=2022-01-01 00:00:00.000 x=6.253502657298325 km y=3.7852417656020876 km>,\n",
       " <State epoch=2022-01-02 00:00:00.000 x=3.3512160233674617 km y=2.4314786801575385 km>,\n",
       " <State epoch=2022-01-03 00:00:00.000 x=9.440688784123175 km y=8.952840758946511 km>,\n",
       " <State epoch=2022-01-04 00:00:00.000 x=0.39916973060293404 km y=8.153075673625192 km>,\n",
       " <State epoch=2022-01-05 00:00:00.000 x=0.9244330754053787 km y=3.701769484864422 km>]"
      ]
     },
     "execution_count": 9,
     "metadata": {},
     "output_type": "execute_result"
    }
   ],
   "source": [
    "states = [\n",
    "    State(time, **position)\n",
    "    for time, position in zip(TIMES, POINTS)\n",
    "]\n",
    "states"
   ]
  },
  {
   "cell_type": "code",
   "execution_count": 10,
   "id": "345f68cd-b834-4f21-be7a-4aed7e2b3553",
   "metadata": {},
   "outputs": [
    {
     "data": {
      "text/plain": [
       "<StateArray shape=(2, 2) value=[\n",
       " (epoch=2022-01-01 00:00:00.000 x=6.253502657298325 km y=3.7852417656020876 km),\n",
       " (epoch=2022-01-02 00:00:00.000 x=3.3512160233674617 km y=2.4314786801575385 km),\n",
       " (epoch=2022-01-03 00:00:00.000 x=9.440688784123175 km y=8.952840758946511 km),\n",
       " (epoch=2022-01-04 00:00:00.000 x=0.39916973060293404 km y=8.153075673625192 km),\n",
       "]>"
      ]
     },
     "execution_count": 10,
     "metadata": {},
     "output_type": "execute_result"
    }
   ],
   "source": [
    "statearray = StateArray.from_states(states)\n",
    "a = statearray[:4].reshape(2, 2)\n",
    "a"
   ]
  },
  {
   "cell_type": "code",
   "execution_count": 11,
   "id": "63c41b5d-5cb5-4739-88a5-a0bec95fff43",
   "metadata": {},
   "outputs": [
    {
     "data": {
      "text/plain": [
       "<State epoch=2022-01-04 00:00:00.000 x=0.39916973060293404 km y=8.153075673625192 km>"
      ]
     },
     "execution_count": 11,
     "metadata": {},
     "output_type": "execute_result"
    }
   ],
   "source": [
    "a[1, 1]"
   ]
  },
  {
   "cell_type": "code",
   "execution_count": 12,
   "id": "f94b4680-1c56-4463-a681-8707c8f568d9",
   "metadata": {},
   "outputs": [
    {
     "data": {
      "text/plain": [
       "(<Quantity [ 7.30988035,  4.1403789 , 13.01076333,  8.16284138,  3.81545198] km>,\n",
       " <Quantity [0.54430705, 0.62766937, 0.75888157, 1.52187598, 1.32607429] rad>)"
      ]
     },
     "execution_count": 12,
     "metadata": {},
     "output_type": "execute_result"
    }
   ],
   "source": [
    "statearray.to_polar()"
   ]
  },
  {
   "cell_type": "code",
   "execution_count": 13,
   "id": "bf091185-726e-4ad6-b855-79bab95c17ed",
   "metadata": {},
   "outputs": [],
   "source": [
    "@typechecked\n",
    "class OrbitArray:\n",
    "    \n",
    "    def __init__(self, statearray: StateArray):\n",
    "        self._statearray = statearray\n",
    "    \n",
    "    def __repr__(self) -> str:\n",
    "        return  (\n",
    "            f'<OrbitArray shape={self.shape} value=[\\n'\n",
    "            + '\\n'.join([\n",
    "                f' (epoch={state.epoch} x={state.x} y={state.y}),'\n",
    "                for state in self._statearray.reshape(np.multiply.reduce(self._statearray.shape))\n",
    "            ])\n",
    "            + '\\n]>'\n",
    "        )\n",
    "    \n",
    "    def __getitem__(self, idx) -> 'Union[OrbitArray, Orbit]':\n",
    "        target = self._statearray[idx]\n",
    "        if isinstance(target, State):\n",
    "            return Orbit(state = target)\n",
    "        return OrbitArray(statearray = target)\n",
    "\n",
    "    def propagate(self, timedelta: TimeDelta, inplace: bool = False) -> 'OrbitArray':\n",
    "        \n",
    "        if timedelta.ndim == 0:\n",
    "            timedelta = np.repeat(timedelta.to_value(u.d), self.size).reshape(self.shape) << u.d\n",
    "        else: # TODO allow better broadcasting logic\n",
    "            assert timedelta.shape == self.shape\n",
    "        \n",
    "        days = timedelta.to_value(u.d)\n",
    "        dx = ((np.random.random(self.size) - 0.5) << u.km).reshape(self.shape) * days\n",
    "        dy = ((np.random.random(self.size) - 0.5) << u.km).reshape(self.shape) * days\n",
    "        \n",
    "        if inplace:\n",
    "            self._statearray.epoch[:] += timedelta\n",
    "            self._statearray.x[:] += dx\n",
    "            self._statearray.y[:] += dy\n",
    "            return self\n",
    "        else:\n",
    "            return type(self)(StateArray(\n",
    "                epoch = self._statearray.epoch + timedelta,\n",
    "                x = self._statearray.x + dx,\n",
    "                y = self._statearray.y + dy,\n",
    "            ))\n",
    "\n",
    "    def reshape(self, *args) -> 'OrbitArray':\n",
    "        return type(self)(statearray = self._statearray.reshape(*args))\n",
    "\n",
    "    @property\n",
    "    def statearray(self) -> StateArray:\n",
    "        return self._statearray\n",
    "\n",
    "    @property\n",
    "    def ndim(self):\n",
    "        return self._statearray.ndim\n",
    "\n",
    "    @property\n",
    "    def shape(self):\n",
    "        return self._statearray.shape\n",
    "\n",
    "    @property\n",
    "    def size(self):\n",
    "        return self._statearray.size\n",
    "\n",
    "    @classmethod\n",
    "    def from_orbits(cls, orbits):\n",
    "        return cls(\n",
    "            statearray = StateArray.from_states([orbit.state for orbit in orbits]),\n",
    "        )"
   ]
  },
  {
   "cell_type": "code",
   "execution_count": 14,
   "id": "143dfbf6-c626-41eb-a7a8-0ecffc5b7b84",
   "metadata": {},
   "outputs": [
    {
     "data": {
      "text/plain": [
       "<OrbitArray shape=(5,) value=[\n",
       " (epoch=2022-01-01 00:00:00.000 x=6.253502657298325 km y=3.7852417656020876 km),\n",
       " (epoch=2022-01-02 00:00:00.000 x=3.3512160233674617 km y=2.4314786801575385 km),\n",
       " (epoch=2022-01-03 00:00:00.000 x=9.440688784123175 km y=8.952840758946511 km),\n",
       " (epoch=2022-01-04 00:00:00.000 x=0.39916973060293404 km y=8.153075673625192 km),\n",
       " (epoch=2022-01-05 00:00:00.000 x=0.9244330754053787 km y=3.701769484864422 km),\n",
       "]>"
      ]
     },
     "execution_count": 14,
     "metadata": {},
     "output_type": "execute_result"
    }
   ],
   "source": [
    "a = OrbitArray(statearray)\n",
    "a"
   ]
  },
  {
   "cell_type": "code",
   "execution_count": 15,
   "id": "76c75ecd-b8a3-46be-a671-ed0c076423b3",
   "metadata": {},
   "outputs": [
    {
     "data": {
      "text/plain": [
       "<OrbitArray shape=(2, 2) value=[\n",
       " (epoch=2022-01-01 00:00:00.000 x=6.253502657298325 km y=3.7852417656020876 km),\n",
       " (epoch=2022-01-02 00:00:00.000 x=3.3512160233674617 km y=2.4314786801575385 km),\n",
       " (epoch=2022-01-03 00:00:00.000 x=9.440688784123175 km y=8.952840758946511 km),\n",
       " (epoch=2022-01-04 00:00:00.000 x=0.39916973060293404 km y=8.153075673625192 km),\n",
       "]>"
      ]
     },
     "execution_count": 15,
     "metadata": {},
     "output_type": "execute_result"
    }
   ],
   "source": [
    "b = a[:4].reshape(2, 2)\n",
    "b"
   ]
  },
  {
   "cell_type": "code",
   "execution_count": 16,
   "id": "16f3a6cc-d4f9-4d13-a5b8-b660a80f74ef",
   "metadata": {},
   "outputs": [
    {
     "data": {
      "text/plain": [
       "(<OrbitArray shape=(2, 2) value=[\n",
       "  (epoch=2022-01-01 00:00:00.000 x=6.253502657298325 km y=3.7852417656020876 km),\n",
       "  (epoch=2022-01-02 00:00:00.000 x=3.3512160233674617 km y=2.4314786801575385 km),\n",
       "  (epoch=2022-01-03 00:00:00.000 x=9.440688784123175 km y=8.952840758946511 km),\n",
       "  (epoch=2022-01-04 00:00:00.000 x=0.39916973060293404 km y=8.153075673625192 km),\n",
       " ]>,\n",
       " <OrbitArray shape=(2, 2) value=[\n",
       "  (epoch=2022-01-08 00:00:00.000 x=3.5816864142090945 km y=5.885919960010017 km),\n",
       "  (epoch=2022-01-09 00:00:00.000 x=4.6142463041484145 km y=1.6241837450638048 km),\n",
       "  (epoch=2022-01-10 00:00:00.000 x=10.431136438674688 km y=12.21448501292679 km),\n",
       "  (epoch=2022-01-11 00:00:00.000 x=-2.472579439256678 km y=9.555661842465295 km),\n",
       " ]>)"
      ]
     },
     "execution_count": 16,
     "metadata": {},
     "output_type": "execute_result"
    }
   ],
   "source": [
    "c = b.propagate(TimeDelta(7 << u.d))\n",
    "b, c"
   ]
  },
  {
   "cell_type": "code",
   "execution_count": null,
   "id": "0124e001-756f-4985-8489-4fc62e9f502d",
   "metadata": {},
   "outputs": [],
   "source": []
  },
  {
   "cell_type": "code",
   "execution_count": null,
   "id": "6e80598d-30bd-4fe9-b939-3f14182cd305",
   "metadata": {},
   "outputs": [],
   "source": []
  }
 ],
 "metadata": {
  "kernelspec": {
   "display_name": "Python 3 (ipykernel)",
   "language": "python",
   "name": "python3"
  },
  "language_info": {
   "codemirror_mode": {
    "name": "ipython",
    "version": 3
   },
   "file_extension": ".py",
   "mimetype": "text/x-python",
   "name": "python",
   "nbconvert_exporter": "python",
   "pygments_lexer": "ipython3",
   "version": "3.9.6"
  }
 },
 "nbformat": 4,
 "nbformat_minor": 5
}
