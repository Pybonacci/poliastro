{
 "cells": [
  {
   "cell_type": "markdown",
   "id": "a42d4d57-f1d4-4cf7-bb30-5c9a791be20d",
   "metadata": {
    "tags": []
   },
   "source": [
    "# First Prototype, `OrbitArray` Class"
   ]
  },
  {
   "cell_type": "markdown",
   "id": "1051a951-1376-49c0-a09b-54aa5db72cab",
   "metadata": {
    "tags": []
   },
   "source": [
    "## Objective: User-facing API\n",
    "\n",
    "From a user's perspective, the ultimate goal is to achieve something along the following lines:\n",
    "\n",
    "```python\n",
    "from poliastro.twobody import Orbit, OrbitArray\n",
    "from poliastro.ephem import Ephem\n",
    "\n",
    "from typing import Any\n",
    "\n",
    "from astropy.time import Time, TimeDelta\n",
    "from datetime import datetime, timedelta\n",
    "\n",
    "import numpy as np\n",
    "\n",
    "## Some test-data\n",
    "\n",
    "time_zero: datetime = Time('1970-01-01 00:00').datetime\n",
    "days: int = 36525 # 100a\n",
    "times: Time = Time([Time(time_zero + timedelta(days = day)) for day in range(0, days)])\n",
    "\n",
    "data: list[dict[str, Any]] = {...} # a list of classical orbital elements (and attractors)\n",
    "\n",
    "## Poliastro ingest, type 1\n",
    "\n",
    "orbs: list[Orbit] = [\n",
    "    Orbit.from_classical(**item) # ingest data\n",
    "    for item in data\n",
    "]\n",
    "\n",
    "orbarr: OrbitArray = OrbitArray(orbs)\n",
    "\n",
    "## Poliastro ingest, type 2\n",
    "\n",
    "orbarr: OrbitArray = OrbitArray.from_classical(\n",
    "    **{key: [item[key] for item in data] for k in data[0].keys()}\n",
    ")\n",
    "\n",
    "## Time-deltas, 1D array\n",
    "\n",
    "dt1d: TimeDelta = times - orbarr.epochs\n",
    "\n",
    "assert len(dt1d) == len(orbarr) == len(orbarr.epochs)\n",
    "\n",
    "## Propagate array with time-deltas\n",
    "\n",
    "orbarr_propagated: OrbitArray = orbarr.propagate(dt1d)\n",
    "\n",
    "assert len(orbarr_propagated) == len(orbarr)\n",
    "\n",
    "## Propagate array with array of time stamps (hiding the time-deltas)\n",
    "\n",
    "# Consistent with Orbit.propagate as it returns another OrbitArray\n",
    "orbarr_propagated: OrbitArray = orbarr.propagate(times)\n",
    "\n",
    "assert len(orbarr_propagated) == len(orbarr)\n",
    "\n",
    "## Time-deltas, 2D array\n",
    "\n",
    "dt2d = np.repeat(times, len(orbarr), axis = 0) - orbarr.epochs[:, None]\n",
    "\n",
    "assert dt2d.shape == (len(orbarr), len(times))\n",
    "\n",
    "# Juanlu's idea: A special `propagate_array` function:\n",
    "\n",
    "from poliastro.somewhere import propagate_array\n",
    "\n",
    "xxx: UnkownType = propagate_array(orbarr, astro_timedeltas)\n",
    "\n",
    "## gh-1364: Juanlu's preferred solution, extended (longer-term idea?)\n",
    "\n",
    "ephem: Ephem = Ephem.from_orbit(orbs[0], **kwargs)\n",
    "ephemarr: EphemArray = EphemArray.from_orbitarray(orbarr, **kwargs)\n",
    "```"
   ]
  },
  {
   "cell_type": "markdown",
   "id": "f5c44230-c602-48be-b8df-1097c670aaa9",
   "metadata": {
    "tags": []
   },
   "source": [
    "## Strategy\n",
    "\n",
    "To **simplify** matters, this is not astrodynamics but **Brownian motion**, of sorts. This notebook is looking at the relationships between `Orbit`, `State`, `OrbitArray` and `StateArray` objects and allows some kind of propagation on all of them. \n",
    "\n",
    "This notebook uses type annotations and run-time type checks - for testing only. This stuff is not going into `poliastro` ..."
   ]
  },
  {
   "cell_type": "markdown",
   "id": "1a17284a-d9d1-4b49-a272-ef921037c701",
   "metadata": {},
   "source": [
    "## Import"
   ]
  },
  {
   "cell_type": "code",
   "execution_count": 1,
   "id": "5be15dee-3e7c-4ebd-b70f-360f661c7218",
   "metadata": {},
   "outputs": [],
   "source": [
    "from datetime import datetime, timedelta\n",
    "from math import atan2, sqrt\n",
    "from random import random\n",
    "from typing import Union\n",
    "\n",
    "import astropy.units as u\n",
    "from astropy.time import Time, TimeDelta\n",
    "import numpy as np\n",
    "from typeguard import typechecked"
   ]
  },
  {
   "cell_type": "markdown",
   "id": "2b6b1b48-f12f-4aa7-b2be-5114acf44649",
   "metadata": {},
   "source": [
    "## Data\n",
    "\n",
    "We need some test data, i.e. an array of time stamps and some initial points in 2D space."
   ]
  },
  {
   "cell_type": "code",
   "execution_count": 2,
   "id": "5ec2773b-cdaf-4d52-9526-d600eb71d4b0",
   "metadata": {},
   "outputs": [
    {
     "data": {
      "text/plain": [
       "<Time object: scale='ut1' format='iso' value=['2022-01-01 00:00:00.000' '2022-01-02 00:00:00.000'\n",
       " '2022-01-03 00:00:00.000' '2022-01-04 00:00:00.000'\n",
       " '2022-01-05 00:00:00.000' '2022-01-06 00:00:00.000'\n",
       " '2022-01-07 00:00:00.000' '2022-01-08 00:00:00.000'\n",
       " '2022-01-09 00:00:00.000']>"
      ]
     },
     "execution_count": 2,
     "metadata": {},
     "output_type": "execute_result"
    }
   ],
   "source": [
    "START = Time('2022-01-01 00:00', scale = 'ut1')\n",
    "STOP = Time('2022-01-10 00:00', scale = 'ut1')\n",
    "STEP_LENGTH = 1 << u.d\n",
    "\n",
    "TIMES = Time(np.arange(START, STOP, STEP_LENGTH))\n",
    "TIMES"
   ]
  },
  {
   "cell_type": "code",
   "execution_count": 3,
   "id": "b209608f-5602-41de-9005-b9c603b2063b",
   "metadata": {},
   "outputs": [
    {
     "data": {
      "text/plain": [
       "[{'x': <Quantity 4.36778178 km>, 'y': <Quantity 7.15903842 km>},\n",
       " {'x': <Quantity 2.4675424 km>, 'y': <Quantity 9.30450374 km>},\n",
       " {'x': <Quantity 2.17044867 km>, 'y': <Quantity 4.17008355 km>},\n",
       " {'x': <Quantity 7.21581638 km>, 'y': <Quantity 2.4140457 km>},\n",
       " {'x': <Quantity 1.71669918 km>, 'y': <Quantity 2.17006841 km>}]"
      ]
     },
     "execution_count": 3,
     "metadata": {},
     "output_type": "execute_result"
    }
   ],
   "source": [
    "FACTOR = 10\n",
    "POINTS_LENGTH = 5\n",
    "\n",
    "POINTS = [\n",
    "    {'x': random() * FACTOR << u.km, 'y': random() * FACTOR << u.km}\n",
    "    for _ in range(POINTS_LENGTH)\n",
    "]\n",
    "POINTS"
   ]
  },
  {
   "cell_type": "markdown",
   "id": "45f1e2ac-e7cb-4387-b897-527217ede17b",
   "metadata": {},
   "source": [
    "## The Baseline: \"Scalar\" `Orbit` and `State` Classes\n",
    "\n",
    "Differing from `poliastro`, the `epoch` is moved into the `State` class (and its decedents). This could potentially allow some interesting optimizations and extensions when implementing a `StateArray` class because it centralizes all relevant data into one place."
   ]
  },
  {
   "cell_type": "code",
   "execution_count": 4,
   "id": "61a3a374-4bc7-441c-8b3c-b7f941e925f8",
   "metadata": {},
   "outputs": [],
   "source": [
    "@typechecked\n",
    "class State:\n",
    "    \n",
    "    @u.quantity_input(x = u.km, y = u.km)\n",
    "    def __init__(self, epoch: Time, x: u.Quantity, y: u.Quantity):\n",
    "        assert epoch.ndim == x.ndim == y.ndim == 0\n",
    "        self._epoch = epoch\n",
    "        self._x = x\n",
    "        self._y = y\n",
    "    \n",
    "    def __repr__(self) -> str:\n",
    "        return f'<State epoch={self._epoch} x={self._x} y={self._y}>'\n",
    "    \n",
    "    def __eq__(self, other) -> bool:\n",
    "        return self._epoch == other.epoch and self._x == other.x and self._y == other.y\n",
    "    \n",
    "    @property\n",
    "    def epoch(self) -> Time:\n",
    "        return self._epoch\n",
    "    \n",
    "    @epoch.setter\n",
    "    def epoch(self, value: Time):\n",
    "        assert value.ndim == 0\n",
    "        self._epoch = value\n",
    "    \n",
    "    @property\n",
    "    def x(self) -> u.Quantity:\n",
    "        return self._x\n",
    "    \n",
    "    @x.setter\n",
    "    @u.quantity_input(value = u.km)\n",
    "    def x(self, value: u.Quantity):\n",
    "        assert value.ndim == 0\n",
    "        self._x = value\n",
    "    \n",
    "    @property\n",
    "    def y(self) -> u.Quantity:\n",
    "        return self._y\n",
    "    \n",
    "    @y.setter\n",
    "    @u.quantity_input(value = u.km)\n",
    "    def y(self, value: u.Quantity):\n",
    "        assert value.ndim == 0\n",
    "        self._y = value\n",
    "    \n",
    "    def to_polar(self) -> tuple[u.Quantity, u.Quantity]:\n",
    "        return (\n",
    "            sqrt(self._x.to_value(u.km) ** 2 + self._y.to_value(u.km) ** 2) << u.km,\n",
    "            atan2(self._y.to_value(u.km), self._x.to_value(u.km)) << u.rad,\n",
    "        )"
   ]
  },
  {
   "cell_type": "markdown",
   "id": "7b644005-899e-432d-b001-5143a772822a",
   "metadata": {},
   "source": [
    "We can set up a state and play with it:"
   ]
  },
  {
   "cell_type": "code",
   "execution_count": 5,
   "id": "438bf9e0-6645-4219-9e41-cbcb74e7268e",
   "metadata": {},
   "outputs": [
    {
     "name": "stdout",
     "output_type": "stream",
     "text": [
      "<State epoch=2022-01-01 00:00:00.000 x=2.0 km y=3.0 km>\n",
      "(<Quantity 3.60555128 km>, <Quantity 0.98279372 rad>)\n"
     ]
    }
   ],
   "source": [
    "a = State(Time('2022-01-01 00:00', scale = 'ut1'), 2.0 << u.km, 3.0 << u.km)\n",
    "print(a)\n",
    "print(a.to_polar())"
   ]
  },
  {
   "cell_type": "markdown",
   "id": "57c99f6c-a6f8-4c0b-9bb6-974a102f7d17",
   "metadata": {},
   "source": [
    "Next up is the `Orbit` class. It is more or less a simple wrapper around the state from a data perspective. Otherwise it would keep virtually all of its established methods. For simplicity in this PoC, almost all methods have been stripped and it directly includes its \"propagator\" code. Notice that the `propagate` method can handle both time scalars and time arrays, the latter resulting in an `OrbitArray` object. Also notice that there is a new `inplace` argument, making the orbit object as well as its state object (more explicitly) mutable."
   ]
  },
  {
   "cell_type": "code",
   "execution_count": 6,
   "id": "3974e14d-69a6-4455-9773-57a843fafa38",
   "metadata": {},
   "outputs": [],
   "source": [
    "@typechecked\n",
    "class Orbit:\n",
    "\n",
    "    def __init__(self, state: State):\n",
    "        self._state = state\n",
    "\n",
    "    def __repr__(self) -> str:\n",
    "        return f'<Orbit epoch={self._state.epoch} x={self._state.x} y={self._state.y}>'\n",
    "\n",
    "    def propagate(self, timedelta: TimeDelta, inplace: bool = False): # HACK ignore the check ... 'Union[Orbit, OrbitArray]'\n",
    "        \n",
    "        if timedelta.ndim == 0:\n",
    "        \n",
    "            days = timedelta.to_value(u.d)\n",
    "            dx = (random() - 0.5) * days << u.km\n",
    "            dy = (random() - 0.5) * days << u.km\n",
    "            \n",
    "            if inplace:\n",
    "                self._state.epoch += timedelta\n",
    "                self._state.x += dx\n",
    "                self._state.y += dy\n",
    "                return self\n",
    "            else:\n",
    "                return type(self)(State(\n",
    "                    epoch = self._state.epoch + timedelta,\n",
    "                    x = self._state.x + dx,\n",
    "                    y = self._state.y + dy,\n",
    "                ))\n",
    "        \n",
    "        else:\n",
    "            \n",
    "            assert not inplace\n",
    "\n",
    "            days = timedelta.to_value(u.d)\n",
    "            dx = ((np.random.random(timedelta.size) - 0.5) << u.km).reshape(timedelta.shape) * days\n",
    "            dy = ((np.random.random(timedelta.size) - 0.5) << u.km).reshape(timedelta.shape) * days\n",
    "            \n",
    "            return OrbitArray(StateArray(\n",
    "                epoch = self._state.epoch + timedelta,\n",
    "                x = self._state.x + dx,\n",
    "                y = self._state.y + dy,\n",
    "            ))\n",
    "\n",
    "    @property\n",
    "    def state(self) -> State:\n",
    "        return self._state"
   ]
  },
  {
   "cell_type": "markdown",
   "id": "18cdc336-6861-49ad-b227-3197b7120cef",
   "metadata": {},
   "source": [
    "We can set up an orbit (via a state) and play with it. In the first example, the `propagate` generates a new `Orbit` object as `poliastro` currently does:"
   ]
  },
  {
   "cell_type": "code",
   "execution_count": 7,
   "id": "a0177d40-52b2-4159-891e-872a2cef466a",
   "metadata": {},
   "outputs": [
    {
     "name": "stdout",
     "output_type": "stream",
     "text": [
      "<Orbit epoch=2022-01-01 00:00:00.000 x=2.0 km y=3.0 km>\n",
      "<Orbit epoch=2022-01-02 00:00:00.000 x=2.239494521435809 km y=2.5712314644599825 km>\n",
      "False\n",
      "False\n"
     ]
    }
   ],
   "source": [
    "a = Orbit(State(Time('2022-01-01 00:00', scale = 'ut1'), 2.0 << u.km, 3.0 << u.km))\n",
    "print(a)\n",
    "b = a.propagate(TimeDelta(1 << u.d), inplace = False)\n",
    "print(b)\n",
    "print(a is b)\n",
    "print(a == b)"
   ]
  },
  {
   "cell_type": "markdown",
   "id": "a27b9792-bd63-4c53-a988-f0888b42efa3",
   "metadata": {},
   "source": [
    "The second example does the conversion in place but returns the object itself for consistency and convenience:"
   ]
  },
  {
   "cell_type": "code",
   "execution_count": 8,
   "id": "e8d59d22-7753-419f-8c76-23f243223cec",
   "metadata": {},
   "outputs": [
    {
     "name": "stdout",
     "output_type": "stream",
     "text": [
      "<Orbit epoch=2022-01-02 00:00:00.000 x=2.147608847256621 km y=3.0201135765810463 km>\n",
      "True\n",
      "True\n"
     ]
    }
   ],
   "source": [
    "c = a.propagate(TimeDelta(1 << u.d), inplace = True)\n",
    "print(c)\n",
    "print(a is c)\n",
    "print(a == c)"
   ]
  },
  {
   "cell_type": "markdown",
   "id": "47d8023c-42fe-413d-b4d7-223ef0601292",
   "metadata": {},
   "source": [
    "## New Territory: The `OrbitArray` and `StateArray` Classes\n",
    "\n",
    "Time to look at the array types. It has a number of methods and properties that make it look like a `numpy.ndarray`. Like its `numpy` counterpart, it is in fact actually n-dimensional. In theory, longer-term, it could actually be an object exposing an [array interface](https://numpy.org/doc/stable/reference/arrays.interface.html). By contrast, it could also be something else entirely and the one place which is responsible for stripping units (and keeping track of them separately). Anyway, a simple first sketch that at least allows most common types of slicing and falls back to \"scalar\" `State` objects in the right places etc:"
   ]
  },
  {
   "cell_type": "code",
   "execution_count": 9,
   "id": "0727ffd1-14e1-419b-bb78-bddabd290d21",
   "metadata": {},
   "outputs": [],
   "source": [
    "@typechecked\n",
    "class StateArray:\n",
    "\n",
    "    @u.quantity_input(x = u.km, y = u.km)\n",
    "    def __init__(self, epoch: Time, x: u.Quantity, y: u.Quantity):\n",
    "        assert epoch.shape == x.shape == y.shape\n",
    "        self._epoch = epoch\n",
    "        self._x = x\n",
    "        self._y = y\n",
    "\n",
    "    def __repr__(self) -> str:\n",
    "        return  (\n",
    "            f'<StateArray shape={self.shape} value=[\\n'\n",
    "            + '\\n'.join([\n",
    "                f' (epoch={state.epoch} x={state.x} y={state.y}),'\n",
    "                for state in self.reshape(self.size)\n",
    "            ])\n",
    "            + '\\n]>'\n",
    "        )\n",
    "    \n",
    "    def __getitem__(self, idx) -> 'Union[StateArray, State]':\n",
    "        target = type(self)(\n",
    "            epoch = self._epoch[idx],\n",
    "            x = self._x[idx],\n",
    "            y = self._y[idx],\n",
    "        )\n",
    "        if np.squeeze(target.epoch).ndim == 0 and (\n",
    "            isinstance(idx, int) or (\n",
    "                isinstance(idx, tuple) and all(isinstance(item, int) for item in idx)\n",
    "            )\n",
    "        ):\n",
    "            return State(\n",
    "                epoch = target.epoch,\n",
    "                x = target.x,\n",
    "                y = target.y,\n",
    "            )\n",
    "        return target\n",
    "\n",
    "    def reshape(self, *args) -> 'StateArray':\n",
    "        return type(self)(\n",
    "            epoch = self._epoch.reshape(*args),\n",
    "            x = self._x.reshape(*args),\n",
    "            y = self._y.reshape(*args),\n",
    "        )\n",
    "\n",
    "    @property\n",
    "    def epoch(self) -> Time:\n",
    "        return self._epoch\n",
    "\n",
    "    @property\n",
    "    def x(self) -> u.Quantity:\n",
    "        return self._x\n",
    "\n",
    "    @property\n",
    "    def y(self) -> u.Quantity:\n",
    "        return self._y\n",
    "\n",
    "    @property\n",
    "    def ndim(self):\n",
    "        return self._epoch.ndim\n",
    "\n",
    "    @property\n",
    "    def size(self):\n",
    "        return self._epoch.size\n",
    "\n",
    "    @property\n",
    "    def shape(self):\n",
    "        return self._epoch.shape\n",
    "\n",
    "    def to_polar(self) -> tuple[u.Quantity, u.Quantity]:\n",
    "        return np.sqrt(self._x ** 2 + self._y ** 2), np.arctan2(self._y, self._x)\n",
    "\n",
    "    @classmethod\n",
    "    def from_states(cls, states):\n",
    "        return cls(\n",
    "            epoch = Time([state.epoch for state in states]),\n",
    "            x = u.Quantity([state.x for state in states], u.km),\n",
    "            y = u.Quantity([state.y for state in states], u.km),\n",
    "        )"
   ]
  },
  {
   "cell_type": "markdown",
   "id": "e920d390-4fca-4771-b82e-b01560e49396",
   "metadata": {},
   "source": [
    "We can initialize a list of `State` objects and use them to create a `StateArray` object before playing with it:"
   ]
  },
  {
   "cell_type": "code",
   "execution_count": 10,
   "id": "7e8206d2-a58d-489d-b5db-19b7844dff20",
   "metadata": {},
   "outputs": [
    {
     "data": {
      "text/plain": [
       "[<State epoch=2022-01-01 00:00:00.000 x=4.367781784725335 km y=7.159038421642075 km>,\n",
       " <State epoch=2022-01-02 00:00:00.000 x=2.4675424027460813 km y=9.304503739617974 km>,\n",
       " <State epoch=2022-01-03 00:00:00.000 x=2.170448666651229 km y=4.170083553162107 km>,\n",
       " <State epoch=2022-01-04 00:00:00.000 x=7.215816384842416 km y=2.41404569941827 km>,\n",
       " <State epoch=2022-01-05 00:00:00.000 x=1.7166991800874798 km y=2.1700684137359216 km>]"
      ]
     },
     "execution_count": 10,
     "metadata": {},
     "output_type": "execute_result"
    }
   ],
   "source": [
    "states = [\n",
    "    State(time, **position)\n",
    "    for time, position in zip(TIMES, POINTS)\n",
    "]\n",
    "states"
   ]
  },
  {
   "cell_type": "code",
   "execution_count": 11,
   "id": "345f68cd-b834-4f21-be7a-4aed7e2b3553",
   "metadata": {},
   "outputs": [
    {
     "data": {
      "text/plain": [
       "<StateArray shape=(2, 2) value=[\n",
       " (epoch=2022-01-01 00:00:00.000 x=4.367781784725335 km y=7.159038421642075 km),\n",
       " (epoch=2022-01-02 00:00:00.000 x=2.4675424027460813 km y=9.304503739617974 km),\n",
       " (epoch=2022-01-03 00:00:00.000 x=2.170448666651229 km y=4.170083553162107 km),\n",
       " (epoch=2022-01-04 00:00:00.000 x=7.215816384842416 km y=2.41404569941827 km),\n",
       "]>"
      ]
     },
     "execution_count": 11,
     "metadata": {},
     "output_type": "execute_result"
    }
   ],
   "source": [
    "statearray = StateArray.from_states(states)\n",
    "a = statearray[:4].reshape(2, 2)\n",
    "a"
   ]
  },
  {
   "cell_type": "code",
   "execution_count": 12,
   "id": "63c41b5d-5cb5-4739-88a5-a0bec95fff43",
   "metadata": {},
   "outputs": [
    {
     "data": {
      "text/plain": [
       "<State epoch=2022-01-04 00:00:00.000 x=7.215816384842416 km y=2.41404569941827 km>"
      ]
     },
     "execution_count": 12,
     "metadata": {},
     "output_type": "execute_result"
    }
   ],
   "source": [
    "a[1, 1]"
   ]
  },
  {
   "cell_type": "code",
   "execution_count": 13,
   "id": "f94b4680-1c56-4463-a681-8707c8f568d9",
   "metadata": {},
   "outputs": [
    {
     "data": {
      "text/plain": [
       "(<Quantity [8.38625953, 9.62613917, 4.70111096, 7.60891732, 2.76699349] km>,\n",
       " <Quantity [1.0229781 , 1.31156493, 1.0908986 , 0.32284445, 0.90151771] rad>)"
      ]
     },
     "execution_count": 13,
     "metadata": {},
     "output_type": "execute_result"
    }
   ],
   "source": [
    "statearray.to_polar()"
   ]
  },
  {
   "cell_type": "markdown",
   "id": "242c8234-446f-405f-81d7-4965338f599f",
   "metadata": {},
   "source": [
    "Just like the `Orbit` class is a wrapper around the `State` class in many ways, the `Orbit` array mostly wraps `StateArray`. Its `propagate` method could theoretically allow standard `numpy` broadcasting rules depending on shape of the `timedelta` parameter. In the following example, for simplicity, only scalar values for `timedelta` or values for `timedelta` with a shape matching the shape of the `OrbitArray` are allowed:"
   ]
  },
  {
   "cell_type": "code",
   "execution_count": 14,
   "id": "33a90d57-06f3-4ef3-8e26-21e3189fa601",
   "metadata": {},
   "outputs": [],
   "source": [
    "@typechecked\n",
    "class OrbitArray:\n",
    "    \n",
    "    def __init__(self, statearray: StateArray):\n",
    "        self._statearray = statearray\n",
    "    \n",
    "    def __repr__(self) -> str:\n",
    "        return  (\n",
    "            f'<OrbitArray shape={self.shape} value=[\\n'\n",
    "            + '\\n'.join([\n",
    "                f' (epoch={state.epoch} x={state.x} y={state.y}),'\n",
    "                for state in self._statearray.reshape(np.multiply.reduce(self._statearray.shape))\n",
    "            ])\n",
    "            + '\\n]>'\n",
    "        )\n",
    "    \n",
    "    def __getitem__(self, idx) -> 'Union[OrbitArray, Orbit]':\n",
    "        target = self._statearray[idx]\n",
    "        if isinstance(target, State):\n",
    "            return Orbit(state = target)\n",
    "        return OrbitArray(statearray = target)\n",
    "\n",
    "    def propagate(self, timedelta: TimeDelta, inplace: bool = False) -> 'OrbitArray':\n",
    "        \n",
    "        if timedelta.ndim == 0:\n",
    "            timedelta = np.repeat(timedelta.to_value(u.d), self.size).reshape(self.shape) << u.d\n",
    "        else: # TODO allow better broadcasting logic\n",
    "            assert timedelta.shape == self.shape\n",
    "        \n",
    "        days = timedelta.to_value(u.d)\n",
    "        dx = ((np.random.random(self.size) - 0.5) << u.km).reshape(self.shape) * days\n",
    "        dy = ((np.random.random(self.size) - 0.5) << u.km).reshape(self.shape) * days\n",
    "        \n",
    "        if inplace:\n",
    "            self._statearray.epoch[:] += timedelta\n",
    "            self._statearray.x[:] += dx\n",
    "            self._statearray.y[:] += dy\n",
    "            return self\n",
    "        else:\n",
    "            return type(self)(StateArray(\n",
    "                epoch = self._statearray.epoch + timedelta,\n",
    "                x = self._statearray.x + dx,\n",
    "                y = self._statearray.y + dy,\n",
    "            ))\n",
    "\n",
    "    def reshape(self, *args) -> 'OrbitArray':\n",
    "        return type(self)(statearray = self._statearray.reshape(*args))\n",
    "\n",
    "    @property\n",
    "    def statearray(self) -> StateArray:\n",
    "        return self._statearray\n",
    "\n",
    "    @property\n",
    "    def ndim(self):\n",
    "        return self._statearray.ndim\n",
    "\n",
    "    @property\n",
    "    def shape(self):\n",
    "        return self._statearray.shape\n",
    "\n",
    "    @property\n",
    "    def size(self):\n",
    "        return self._statearray.size\n",
    "\n",
    "    @classmethod\n",
    "    def from_orbits(cls, orbits):\n",
    "        return cls(\n",
    "            statearray = StateArray.from_states([orbit.state for orbit in orbits]),\n",
    "        )"
   ]
  },
  {
   "cell_type": "markdown",
   "id": "51aab62a-6ed8-4f02-b0c5-539bc9f980b2",
   "metadata": {},
   "source": [
    "Using our previously created `StateArray` object, we can now play with the `OrbitArray` class:"
   ]
  },
  {
   "cell_type": "code",
   "execution_count": 15,
   "id": "279daba7-c8c3-49ea-84af-13e41119a474",
   "metadata": {},
   "outputs": [
    {
     "data": {
      "text/plain": [
       "<OrbitArray shape=(5,) value=[\n",
       " (epoch=2022-01-01 00:00:00.000 x=4.367781784725335 km y=7.159038421642075 km),\n",
       " (epoch=2022-01-02 00:00:00.000 x=2.4675424027460813 km y=9.304503739617974 km),\n",
       " (epoch=2022-01-03 00:00:00.000 x=2.170448666651229 km y=4.170083553162107 km),\n",
       " (epoch=2022-01-04 00:00:00.000 x=7.215816384842416 km y=2.41404569941827 km),\n",
       " (epoch=2022-01-05 00:00:00.000 x=1.7166991800874798 km y=2.1700684137359216 km),\n",
       "]>"
      ]
     },
     "execution_count": 15,
     "metadata": {},
     "output_type": "execute_result"
    }
   ],
   "source": [
    "a = OrbitArray(statearray)\n",
    "a"
   ]
  },
  {
   "cell_type": "code",
   "execution_count": 16,
   "id": "76c75ecd-b8a3-46be-a671-ed0c076423b3",
   "metadata": {},
   "outputs": [
    {
     "data": {
      "text/plain": [
       "<OrbitArray shape=(2, 2) value=[\n",
       " (epoch=2022-01-01 00:00:00.000 x=4.367781784725335 km y=7.159038421642075 km),\n",
       " (epoch=2022-01-02 00:00:00.000 x=2.4675424027460813 km y=9.304503739617974 km),\n",
       " (epoch=2022-01-03 00:00:00.000 x=2.170448666651229 km y=4.170083553162107 km),\n",
       " (epoch=2022-01-04 00:00:00.000 x=7.215816384842416 km y=2.41404569941827 km),\n",
       "]>"
      ]
     },
     "execution_count": 16,
     "metadata": {},
     "output_type": "execute_result"
    }
   ],
   "source": [
    "b = a[:4].reshape(2, 2)\n",
    "b"
   ]
  },
  {
   "cell_type": "code",
   "execution_count": 17,
   "id": "16f3a6cc-d4f9-4d13-a5b8-b660a80f74ef",
   "metadata": {},
   "outputs": [
    {
     "data": {
      "text/plain": [
       "(<OrbitArray shape=(2, 2) value=[\n",
       "  (epoch=2022-01-01 00:00:00.000 x=4.367781784725335 km y=7.159038421642075 km),\n",
       "  (epoch=2022-01-02 00:00:00.000 x=2.4675424027460813 km y=9.304503739617974 km),\n",
       "  (epoch=2022-01-03 00:00:00.000 x=2.170448666651229 km y=4.170083553162107 km),\n",
       "  (epoch=2022-01-04 00:00:00.000 x=7.215816384842416 km y=2.41404569941827 km),\n",
       " ]>,\n",
       " <OrbitArray shape=(2, 2) value=[\n",
       "  (epoch=2022-01-08 00:00:00.000 x=4.113693036110389 km y=5.184992075088092 km),\n",
       "  (epoch=2022-01-09 00:00:00.000 x=1.935475453149731 km y=11.828073927563336 km),\n",
       "  (epoch=2022-01-10 00:00:00.000 x=5.222701961898467 km y=0.868684884635686 km),\n",
       "  (epoch=2022-01-11 00:00:00.000 x=4.823137392858772 km y=4.440253533694463 km),\n",
       " ]>)"
      ]
     },
     "execution_count": 17,
     "metadata": {},
     "output_type": "execute_result"
    }
   ],
   "source": [
    "c = b.propagate(TimeDelta(7 << u.d))\n",
    "b, c"
   ]
  },
  {
   "cell_type": "markdown",
   "id": "57334aab-2032-4abb-8c49-4faafbd8caba",
   "metadata": {},
   "source": [
    "Because a single \"scalar\" `Orbit` object can be propagated to many points in time, we can now actually test it:"
   ]
  },
  {
   "cell_type": "code",
   "execution_count": 18,
   "id": "76ab6a32-a6ae-48a3-9001-6cc9e9ef50a8",
   "metadata": {},
   "outputs": [
    {
     "data": {
      "text/plain": [
       "<Orbit epoch=2022-01-01 00:00:00.000 x=2.0 km y=3.0 km>"
      ]
     },
     "execution_count": 18,
     "metadata": {},
     "output_type": "execute_result"
    }
   ],
   "source": [
    "a = Orbit(State(Time('2022-01-01 00:00', scale = 'ut1'), 2.0 << u.km, 3.0 << u.km))\n",
    "a"
   ]
  },
  {
   "cell_type": "code",
   "execution_count": 19,
   "id": "f3f4d7b6-093c-4bc6-bd75-047308cfa738",
   "metadata": {},
   "outputs": [
    {
     "data": {
      "text/plain": [
       "<OrbitArray shape=(2, 3) value=[\n",
       " (epoch=2022-01-02 00:00:00.000 x=1.8758431019286572 km y=2.876872646005249 km),\n",
       " (epoch=2022-01-03 00:00:00.000 x=2.4438721928780947 km y=3.169198727393347 km),\n",
       " (epoch=2022-01-04 00:00:00.000 x=2.361379575267373 km y=3.3804708701261568 km),\n",
       " (epoch=2022-01-05 00:00:00.000 x=0.9873495799265113 km y=4.303186379469707 km),\n",
       " (epoch=2022-01-06 00:00:00.000 x=0.8682743746407637 km y=3.2713790948420023 km),\n",
       " (epoch=2022-01-07 00:00:00.000 x=4.8200590299603645 km y=4.356403526953536 km),\n",
       "]>"
      ]
     },
     "execution_count": 19,
     "metadata": {},
     "output_type": "execute_result"
    }
   ],
   "source": [
    "b = a.propagate(TimeDelta(np.arange(1, 7).reshape(2, 3) << u.d))\n",
    "b"
   ]
  },
  {
   "cell_type": "markdown",
   "id": "beb5b6bd-199a-45ba-8b68-e81201f68948",
   "metadata": {},
   "source": [
    "## Further thinking\n",
    "\n",
    "- [Structured arrays](https://numpy.org/doc/stable/user/basics.rec.html) can actually be n-dimensional. This could be a foundation for `StateArray` classes, opening the back door for alternative libraries which are exposing an [array interface](https://numpy.org/doc/stable/reference/arrays.interface.html). In a bigger picture, the state array could be the place where stuff like `cupy.ndarray` or `dask.array` are transparently accepted.\n",
    "- [Dask and xarray vs Astropy](https://github.com/astropy/astropy/issues/12600) - this would not be the first time people are trying it. To enable it, one actually needs to take care of the Units somehow. Since we need to strip them anyway for `numba`, ideally in one central place, `StateArray` could be the one place where it happens.\n",
    "- Numpy `ufunc`s can apparently (transparently) be used on `cupy` arrays, experimental though, see this [issue](https://github.com/cupy/cupy/issues/2011). This is not a general rule, `cupy` needs to have its own version of the function. The beauty is that one does not need to write different code - `cupy` automatically patches `numpy` function calls of they are applied to a `cupy` array.\n",
    "- Dask arrays are known to work with `numba` via `gufunc`s, see [here](https://docs.dask.org/en/latest/generated/dask.array.gufunc.apply_gufunc.html) and [here](https://examples.dask.org/applications/stencils-with-numba.html).\n",
    "- Just a note: `astropy`'s [Time](https://docs.astropy.org/en/stable/time/index.html) arrays are a little inconsistent or flexible, depending on the point of view. They can reference time stamps as strings as well as `datetime` objects. Not sure if this is an issue here."
   ]
  },
  {
   "cell_type": "code",
   "execution_count": null,
   "id": "f16964e3-847e-4745-92e8-6530dd78c659",
   "metadata": {},
   "outputs": [],
   "source": []
  }
 ],
 "metadata": {
  "kernelspec": {
   "display_name": "Python 3 (ipykernel)",
   "language": "python",
   "name": "python3"
  },
  "language_info": {
   "codemirror_mode": {
    "name": "ipython",
    "version": 3
   },
   "file_extension": ".py",
   "mimetype": "text/x-python",
   "name": "python",
   "nbconvert_exporter": "python",
   "pygments_lexer": "ipython3",
   "version": "3.9.6"
  }
 },
 "nbformat": 4,
 "nbformat_minor": 5
}
