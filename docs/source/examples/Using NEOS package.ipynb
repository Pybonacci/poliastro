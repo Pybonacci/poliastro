{
 "cells": [
  {
   "cell_type": "markdown",
   "metadata": {},
   "source": [
    "# Using NEOS package"
   ]
  },
  {
   "cell_type": "markdown",
   "metadata": {},
   "source": [
    "With the new `poliastro` version (0.7.0), a new package is included: [NEOs package](file:///C:/Users/Antonio/Desktop/Proyectos/poliastro/docs/source/html_output/api.html#module-poliastro.neos).\n",
    "\n",
    "The docstrings of this package states the following:\n",
    "\n",
    "> Functions related to NEOs and different NASA APIs. All of them are coded as part of SOCIS 2017 proposal.\n",
    "\n",
    "So, first of all, an important question:\n",
    "\n",
    "## What are NEOs?\n",
    "\n",
    "NEO stands for near-Earth object. The Center for NEO Studies ([CNEOS](http://cneos.jpl.nasa.gov/)) defines NEOs as comets and asteroids that have been nudged by the gravitational attraction of nearby planets into orbits that allow them to enter the Earth’s neighborhood.\n",
    "\n",
    "And what does \"near\" exactly mean? In terms of orbital elements, asteroids and comets can be considered NEOs if their perihelion (orbit point which is nearest to the Sun) is less than 1.3 au = 1.945 * 10<sup>8</sup> km from the Sun."
   ]
  },
  {
   "cell_type": "code",
   "execution_count": 1,
   "metadata": {},
   "outputs": [],
   "source": [
    "from astropy import time\n",
    "\n",
    "from poliastro.twobody.orbit import Orbit\n",
    "from poliastro.bodies import Earth\n",
    "from poliastro.plotting import OrbitPlotter2D"
   ]
  },
  {
   "cell_type": "markdown",
   "metadata": {},
   "source": [
    "## NeoWS module\n",
    "This module make requests to [NASA NEO Webservice](https://api.nasa.gov/api.html#NeoWS), so you'll need an internet connection to run the next examples.\n",
    "\n",
    "The simplest `neows` function is `orbit_from_name()`, which return an Orbit object given a name:"
   ]
  },
  {
   "cell_type": "code",
   "execution_count": 2,
   "metadata": {},
   "outputs": [],
   "source": [
    "from poliastro.neos import neows"
   ]
  },
  {
   "cell_type": "code",
   "execution_count": 3,
   "metadata": {
    "scrolled": false
   },
   "outputs": [
    {
     "data": {
      "application/vnd.jupyter.widget-view+json": {
       "model_id": "e26d53eed8ce448c9932fb64a7303c90",
       "version_major": 2,
       "version_minor": 0
      },
      "text/plain": [
       "FigureWidget({\n",
       "    'data': [{'hoverinfo': 'none',\n",
       "              'line': {'color': 'rgb(31, 119, 180)', 'dash':…"
      ]
     },
     "metadata": {},
     "output_type": "display_data"
    }
   ],
   "source": [
    "eros = neows.orbit_from_name(\"Eros\")\n",
    "\n",
    "frame = OrbitPlotter2D()\n",
    "frame.plot(eros, label=\"Eros\")"
   ]
  },
  {
   "cell_type": "markdown",
   "metadata": {},
   "source": [
    "You can also search by IAU number or SPK-ID (there is a faster `neows.orbit_from_spk_id()` function in that case, although):"
   ]
  },
  {
   "cell_type": "code",
   "execution_count": 4,
   "metadata": {},
   "outputs": [
    {
     "data": {
      "application/vnd.jupyter.widget-view+json": {
       "model_id": "f47d2a1b0b664fdcad81f8118a76b84e",
       "version_major": 2,
       "version_minor": 0
      },
      "text/plain": [
       "FigureWidget({\n",
       "    'data': [{'hoverinfo': 'none',\n",
       "              'line': {'color': 'rgb(31, 119, 180)', 'dash':…"
      ]
     },
     "metadata": {},
     "output_type": "display_data"
    }
   ],
   "source": [
    "ganymed = neows.orbit_from_name(\"1036\")  # Ganymed IAU number\n",
    "amor = neows.orbit_from_name(\"2001221\")  # Amor SPK-ID\n",
    "eros = neows.orbit_from_spk_id(\"2000433\")  # Eros SPK-ID\n",
    "\n",
    "frame = OrbitPlotter2D()\n",
    "frame.plot(ganymed, label=\"Ganymed\")\n",
    "frame.plot(amor, label=\"Amor\")\n",
    "frame.plot(eros, label=\"Eros\")"
   ]
  },
  {
   "cell_type": "markdown",
   "metadata": {},
   "source": [
    "Since `neows` relies on [Small-Body Database browser](https://ssd.jpl.nasa.gov/sbdb.cgi) to get the SPK-ID given a body name, you can use the wildcards from that browser: `*` and `?`."
   ]
  },
  {
   "cell_type": "markdown",
   "metadata": {},
   "source": [
    "<div class=\"alert alert-info\">Keep it in mind that `orbit_from_name()` can only return one Orbit, so if several objects are found with that name, it will raise an error with the different bodies.</div>"
   ]
  },
  {
   "cell_type": "code",
   "execution_count": 5,
   "metadata": {
    "scrolled": true
   },
   "outputs": [
    {
     "ename": "ValueError",
     "evalue": "6 different bodies found:\n903 Nealley (A918 RH)\n2688 Halley (1982 HG1)\n14182 Alley (1998 WG12)\n",
     "output_type": "error",
     "traceback": [
      "\u001b[0;31m---------------------------------------------------------------------------\u001b[0m",
      "\u001b[0;31mValueError\u001b[0m                                Traceback (most recent call last)",
      "\u001b[0;32m<ipython-input-5-2ff6e3b83a9b>\u001b[0m in \u001b[0;36m<module>\u001b[0;34m\u001b[0m\n\u001b[0;32m----> 1\u001b[0;31m \u001b[0mneows\u001b[0m\u001b[0;34m.\u001b[0m\u001b[0morbit_from_name\u001b[0m\u001b[0;34m(\u001b[0m\u001b[0;34m\"*alley\"\u001b[0m\u001b[0;34m)\u001b[0m\u001b[0;34m\u001b[0m\u001b[0;34m\u001b[0m\u001b[0m\n\u001b[0m",
      "\u001b[0;32m~/Development/poliastro/poliastro-library/src/poliastro/neos/neows.py\u001b[0m in \u001b[0;36morbit_from_name\u001b[0;34m(name, api_key)\u001b[0m\n\u001b[1;32m    139\u001b[0m \u001b[0;34m\u001b[0m\u001b[0m\n\u001b[1;32m    140\u001b[0m     \"\"\"\n\u001b[0;32m--> 141\u001b[0;31m     \u001b[0mspk_id\u001b[0m \u001b[0;34m=\u001b[0m \u001b[0mspk_id_from_name\u001b[0m\u001b[0;34m(\u001b[0m\u001b[0mname\u001b[0m\u001b[0;34m)\u001b[0m\u001b[0;34m\u001b[0m\u001b[0;34m\u001b[0m\u001b[0m\n\u001b[0m\u001b[1;32m    142\u001b[0m     \u001b[0;32mif\u001b[0m \u001b[0mspk_id\u001b[0m \u001b[0;32mis\u001b[0m \u001b[0;32mnot\u001b[0m \u001b[0;32mNone\u001b[0m\u001b[0;34m:\u001b[0m\u001b[0;34m\u001b[0m\u001b[0;34m\u001b[0m\u001b[0m\n\u001b[1;32m    143\u001b[0m         \u001b[0;32mreturn\u001b[0m \u001b[0morbit_from_spk_id\u001b[0m\u001b[0;34m(\u001b[0m\u001b[0mspk_id\u001b[0m\u001b[0;34m,\u001b[0m \u001b[0mapi_key\u001b[0m\u001b[0;34m)\u001b[0m\u001b[0;34m\u001b[0m\u001b[0;34m\u001b[0m\u001b[0m\n",
      "\u001b[0;32m~/Development/poliastro/poliastro-library/src/poliastro/neos/neows.py\u001b[0m in \u001b[0;36mspk_id_from_name\u001b[0;34m(name)\u001b[0m\n\u001b[1;32m    108\u001b[0m         \u001b[0;32mfor\u001b[0m \u001b[0mbody\u001b[0m \u001b[0;32min\u001b[0m \u001b[0mobject_list\u001b[0m\u001b[0;34m[\u001b[0m\u001b[0;34m:\u001b[0m\u001b[0mobj_num\u001b[0m\u001b[0;34m]\u001b[0m\u001b[0;34m:\u001b[0m\u001b[0;34m\u001b[0m\u001b[0;34m\u001b[0m\u001b[0m\n\u001b[1;32m    109\u001b[0m             \u001b[0mbodies\u001b[0m \u001b[0;34m+=\u001b[0m \u001b[0mbody\u001b[0m\u001b[0;34m.\u001b[0m\u001b[0mstring\u001b[0m \u001b[0;34m+\u001b[0m \u001b[0;34m\"\\n\"\u001b[0m\u001b[0;34m\u001b[0m\u001b[0;34m\u001b[0m\u001b[0m\n\u001b[0;32m--> 110\u001b[0;31m         \u001b[0;32mraise\u001b[0m \u001b[0mValueError\u001b[0m\u001b[0;34m(\u001b[0m\u001b[0mstr\u001b[0m\u001b[0;34m(\u001b[0m\u001b[0mlen\u001b[0m\u001b[0;34m(\u001b[0m\u001b[0mobject_list\u001b[0m\u001b[0;34m)\u001b[0m\u001b[0;34m)\u001b[0m \u001b[0;34m+\u001b[0m \u001b[0;34m\" different bodies found:\\n\"\u001b[0m \u001b[0;34m+\u001b[0m \u001b[0mbodies\u001b[0m\u001b[0;34m)\u001b[0m\u001b[0;34m\u001b[0m\u001b[0;34m\u001b[0m\u001b[0m\n\u001b[0m\u001b[1;32m    111\u001b[0m \u001b[0;34m\u001b[0m\u001b[0m\n\u001b[1;32m    112\u001b[0m     \u001b[0;31m# If everything else failed\u001b[0m\u001b[0;34m\u001b[0m\u001b[0;34m\u001b[0m\u001b[0;34m\u001b[0m\u001b[0m\n",
      "\u001b[0;31mValueError\u001b[0m: 6 different bodies found:\n903 Nealley (A918 RH)\n2688 Halley (1982 HG1)\n14182 Alley (1998 WG12)\n"
     ]
    }
   ],
   "source": [
    "neows.orbit_from_name(\"*alley\")"
   ]
  },
  {
   "cell_type": "markdown",
   "metadata": {},
   "source": [
    "<div class=\"alert alert-info\">Note that epoch is provided by the Web Service itself, so if you need orbit on another epoch, you have to propagate it:</div>"
   ]
  },
  {
   "cell_type": "code",
   "execution_count": 6,
   "metadata": {},
   "outputs": [
    {
     "data": {
      "text/plain": [
       "'2019-04-27 00:00'"
      ]
     },
     "execution_count": 6,
     "metadata": {},
     "output_type": "execute_result"
    }
   ],
   "source": [
    "eros.epoch.iso"
   ]
  },
  {
   "cell_type": "code",
   "execution_count": 7,
   "metadata": {},
   "outputs": [
    {
     "data": {
      "text/plain": [
       "'2017-09-03 12:00'"
      ]
     },
     "execution_count": 7,
     "metadata": {},
     "output_type": "execute_result"
    }
   ],
   "source": [
    "epoch = time.Time(2458000.0, scale=\"tdb\", format=\"jd\")\n",
    "eros_november = eros.propagate(epoch)\n",
    "eros_november.epoch.iso"
   ]
  },
  {
   "cell_type": "markdown",
   "metadata": {},
   "source": [
    "Given that we are using NASA APIs, there is a maximum number of requests. If you want to make many requests, it is recommended getting a [NASA API key](https://api.nasa.gov/index.html#apply-for-an-api-key). You can use your API key adding the `api_key` parameter to the function:"
   ]
  },
  {
   "cell_type": "code",
   "execution_count": 8,
   "metadata": {},
   "outputs": [
    {
     "data": {
      "text/plain": [
       "1 x 4 AU x 0.4 deg (HeliocentricEclipticJ2000) orbit around Sun (☉) at epoch 2455011.5 (TDB)"
      ]
     },
     "execution_count": 8,
     "metadata": {},
     "output_type": "execute_result"
    }
   ],
   "source": [
    "neows.orbit_from_name(\"Toutatis\", api_key=\"DEMO_KEY\")"
   ]
  },
  {
   "cell_type": "markdown",
   "metadata": {},
   "source": [
    "## DASTCOM5 module\n",
    "\n",
    "This module can also be used to get NEOs orbit, in the same way that `neows`, but it have some advantages (and some disadvantages).\n",
    "\n",
    "It relies on DASTCOM5 database, a NASA/JPL maintained asteroid and comet database. This database has to be downloaded at least once in order to use this module. According to its README, it is updated typically a couple times per day, but \n",
    " potentially as frequently as once per hour, so you can download it whenever you want the more recently discovered bodies. This also means that, after downloading the file, you can use the database offline.\n",
    " \n",
    "The file is a ~230 MB zip that you can manually [download](ftp://ssd.jpl.nasa.gov/pub/ssd/dastcom5.zip) and unzip in `~/.poliastro` or, more easily, you can use\n",
    "```Python\n",
    "dastcom5.download_dastcom5()\n",
    "```"
   ]
  },
  {
   "cell_type": "markdown",
   "metadata": {},
   "source": [
    "The main DASTCOM5 advantage over NeoWs is that you can use it to search not only NEOs, but any asteroid or comet. The easiest function is `orbit_from_name()`:"
   ]
  },
  {
   "cell_type": "code",
   "execution_count": 9,
   "metadata": {},
   "outputs": [],
   "source": [
    "from poliastro.neos import dastcom5"
   ]
  },
  {
   "cell_type": "code",
   "execution_count": 10,
   "metadata": {
    "scrolled": false
   },
   "outputs": [
    {
     "data": {
      "application/vnd.jupyter.widget-view+json": {
       "model_id": "7c61f8026dbb4aeb90211068a91638c8",
       "version_major": 2,
       "version_minor": 0
      },
      "text/plain": [
       "FigureWidget({\n",
       "    'data': [{'hoverinfo': 'none',\n",
       "              'line': {'color': 'rgb(31, 119, 180)', 'dash':…"
      ]
     },
     "metadata": {},
     "output_type": "display_data"
    }
   ],
   "source": [
    "atira = dastcom5.orbit_from_name(\"atira\")  # NEO\n",
    "wikipedia = dastcom5.orbit_from_name(\"wikipedia\")  # Asteroid, but not NEO.\n",
    "\n",
    "frame = OrbitPlotter2D()\n",
    "frame.plot(atira, label=\"Atira (NEO)\")\n",
    "frame.plot(wikipedia, label=\"Wikipedia (asteroid)\")"
   ]
  },
  {
   "cell_type": "markdown",
   "metadata": {},
   "source": [
    "Keep in mind that this function returns a list of orbits matching your string. This is made on purpose given that there are comets which have several records in the database (one for each orbit determination in history) what allow plots like this one:"
   ]
  },
  {
   "cell_type": "code",
   "execution_count": 11,
   "metadata": {
    "scrolled": false
   },
   "outputs": [
    {
     "data": {
      "application/vnd.jupyter.widget-view+json": {
       "model_id": "0a8328280c3d43818006d727a8f1c91d",
       "version_major": 2,
       "version_minor": 0
      },
      "text/plain": [
       "FigureWidget({\n",
       "    'data': [{'hoverinfo': 'none',\n",
       "              'line': {'color': 'rgb(31, 119, 180)', 'dash':…"
      ]
     },
     "metadata": {},
     "output_type": "display_data"
    }
   ],
   "source": [
    "halleys = dastcom5.orbit_from_name(\"1P\")\n",
    "\n",
    "frame = OrbitPlotter2D()\n",
    "frame.plot(halleys[0], label=\"Halley\")\n",
    "frame.plot(halleys[5], label=\"Halley\")\n",
    "frame.plot(halleys[10], label=\"Halley\")\n",
    "frame.plot(halleys[20], label=\"Halley\")\n",
    "frame.plot(halleys[-1], label=\"Halley\")"
   ]
  },
  {
   "cell_type": "markdown",
   "metadata": {},
   "source": [
    "While `neows` can only be used to get Orbit objects, `dastcom5` can also provide asteroid and comet complete database.\n",
    "Once you have this, you can get specific data about one or more bodies. The complete databases are `ndarrays`, so if you want to know the entire list of available parameters, you can look at the `dtype`, and they are also explained in\n",
    "[documentation API Reference](https://docs.poliastro.space/en/latest/api/safe/neos/dastcom5_parameters.html):"
   ]
  },
  {
   "cell_type": "code",
   "execution_count": 12,
   "metadata": {},
   "outputs": [
    {
     "data": {
      "text/plain": [
       "('NO',\n",
       " 'NOBS',\n",
       " 'OBSFRST',\n",
       " 'OBSLAST',\n",
       " 'EPOCH',\n",
       " 'CALEPO',\n",
       " 'MA',\n",
       " 'W',\n",
       " 'OM',\n",
       " 'IN',\n",
       " 'EC',\n",
       " 'A',\n",
       " 'QR',\n",
       " 'TP',\n",
       " 'TPCAL',\n",
       " 'TPFRAC',\n",
       " 'SOLDAT',\n",
       " 'SRC1',\n",
       " 'SRC2',\n",
       " 'SRC3')"
      ]
     },
     "execution_count": 12,
     "metadata": {},
     "output_type": "execute_result"
    }
   ],
   "source": [
    "ast_db = dastcom5.asteroid_db()\n",
    "comet_db = dastcom5.comet_db()\n",
    "ast_db.dtype.names[\n",
    "    :20\n",
    "]  # They are more than 100, but that would be too much lines in this notebook :P"
   ]
  },
  {
   "cell_type": "markdown",
   "metadata": {},
   "source": [
    "<div class=\"alert alert-info\">Asteroid and comet parameters are not exactly the same (although they are very close):</div>"
   ]
  },
  {
   "cell_type": "markdown",
   "metadata": {},
   "source": [
    "With these `ndarrays` you can classify asteroids and comets, sort them, get all their parameters, and whatever comes to your mind.\n",
    "\n",
    "For example, NEOs can be grouped in several ways. One of the NEOs group is called `Atiras`, and is formed by NEOs whose orbits are contained entirely with the orbit of the Earth. They are a really little group, and we can try to plot all of these NEOs using `asteroid_db()`:"
   ]
  },
  {
   "cell_type": "markdown",
   "metadata": {},
   "source": [
    "Talking in orbital terms, `Atiras` have an aphelion distance, `Q < 0.983 au` and a semi-major axis, ` a < 1.0 au`.\n",
    "Visiting [documentation API Reference](https://docs.poliastro.space/en/latest/dastcom5 parameters.html), you can see that DASTCOM5 provides semi-major axis, but doesn't provide aphelion distance. You can get aphelion distance easily knowing perihelion distance (q, QR in DASTCOM5) and semi-major axis `Q = 2*a - q`, but there are probably many other ways."
   ]
  },
  {
   "cell_type": "code",
   "execution_count": 13,
   "metadata": {
    "scrolled": true
   },
   "outputs": [],
   "source": [
    "aphelion_condition = 2 * ast_db[\"A\"] - ast_db[\"QR\"] < 0.983\n",
    "axis_condition = ast_db[\"A\"] < 1.3\n",
    "atiras = ast_db[aphelion_condition & axis_condition]"
   ]
  },
  {
   "cell_type": "markdown",
   "metadata": {},
   "source": [
    "The number of `Atira NEOs` we use using this method is:"
   ]
  },
  {
   "cell_type": "code",
   "execution_count": 14,
   "metadata": {},
   "outputs": [
    {
     "data": {
      "text/plain": [
       "16"
      ]
     },
     "execution_count": 14,
     "metadata": {},
     "output_type": "execute_result"
    }
   ],
   "source": [
    "len(atiras)"
   ]
  },
  {
   "cell_type": "markdown",
   "metadata": {},
   "source": [
    "Which is consistent with the [stats published by CNEOS](https://cneos.jpl.nasa.gov/stats/totals.html)"
   ]
  },
  {
   "cell_type": "markdown",
   "metadata": {},
   "source": [
    "Now we're gonna plot all of their orbits, with corresponding labels, just because we love plots :)"
   ]
  },
  {
   "cell_type": "code",
   "execution_count": 15,
   "metadata": {},
   "outputs": [],
   "source": [
    "from poliastro.twobody.orbit import Orbit\n",
    "from poliastro.bodies import Earth\n",
    "\n",
    "earth = Orbit.from_body_ephem(Earth)"
   ]
  },
  {
   "cell_type": "markdown",
   "metadata": {},
   "source": [
    "We only need to get the 16 orbits from these 16 `ndarrays`.\n",
    "\n",
    "There are two ways:\n",
    "\n",
    "* Gather all their orbital elements manually and use the `Orbit.from_classical()` function.\n",
    "* Use the `NO` property (logical record number in DASTCOM5 database) and the `dastcom5.orbit_from_record()` function.\n",
    "\n",
    "The second one seems easier and it is related to the current notebook, so we are going to use that one:"
   ]
  },
  {
   "cell_type": "markdown",
   "metadata": {},
   "source": [
    "We are going to use `ASTNAM` property of DASTCOM5 database:"
   ]
  },
  {
   "cell_type": "code",
   "execution_count": 16,
   "metadata": {},
   "outputs": [
    {
     "name": "stderr",
     "output_type": "stream",
     "text": [
      "/home/juanlu/Development/poliastro/poliastro-library/src/poliastro/twobody/propagation.py:230: UserWarning:\n",
      "\n",
      "Frame <class 'astropy.coordinates.builtin_frames.icrs.ICRS'> does not support 'obstime', time values were not returned\n",
      "\n"
     ]
    },
    {
     "data": {
      "image/png": "[encoded data removed]",
      "text/plain": [
       "<Figure size 1008x432 with 1 Axes>"
      ]
     },
     "metadata": {
      "needs_background": "light"
     },
     "output_type": "display_data"
    }
   ],
   "source": [
    "import matplotlib.pyplot as plt\n",
    "\n",
    "plt.ion()\n",
    "\n",
    "from poliastro.plotting.static import StaticOrbitPlotter\n",
    "\n",
    "frame = StaticOrbitPlotter()\n",
    "\n",
    "frame.plot(earth, label=\"Earth\")\n",
    "\n",
    "for record in atiras[\"NO\"]:\n",
    "    ss = dastcom5.orbit_from_record(record).to_icrs()\n",
    "    frame.plot(ss, color=\"#666666\")"
   ]
  },
  {
   "cell_type": "markdown",
   "metadata": {},
   "source": [
    "If we needed also the names of each asteroid, we could do:"
   ]
  },
  {
   "cell_type": "code",
   "execution_count": 17,
   "metadata": {
    "scrolled": false
   },
   "outputs": [
    {
     "data": {
      "image/png": "[encoded data removed]",
      "text/plain": [
       "<Figure size 1008x432 with 1 Axes>"
      ]
     },
     "metadata": {
      "needs_background": "light"
     },
     "output_type": "display_data"
    }
   ],
   "source": [
    "frame = StaticOrbitPlotter()\n",
    "\n",
    "frame.plot(earth, label=\"Earth\")\n",
    "\n",
    "for i in range(len(atiras)):\n",
    "    record = atiras[\"NO\"][i]\n",
    "    label = atiras[\"ASTNAM\"][i].decode().strip()  # DASTCOM5 strings are binary\n",
    "    ss = dastcom5.orbit_from_record(record).to_icrs()\n",
    "    frame.plot(ss, label=label)"
   ]
  },
  {
   "cell_type": "markdown",
   "metadata": {},
   "source": [
    "<div class=\"alert alert-info\">We knew beforehand that there are no `Atira` comets, only asteroids (comet orbits are usually more eccentric), but we could use the same method with `com_db` if we wanted.</div>"
   ]
  },
  {
   "cell_type": "markdown",
   "metadata": {},
   "source": [
    "Finally, another interesting function in `dastcom5` is `entire_db()`, which is really similar to `ast_db` and `com_db`, but it returns a `Pandas dataframe` instead of a `numpy ndarray`. The dataframe has asteroids and comets in it, but in order to achieve that (and a more manageable dataframe), a lot of parameters were removed, and others were renamed:"
   ]
  },
  {
   "cell_type": "code",
   "execution_count": 18,
   "metadata": {},
   "outputs": [
    {
     "data": {
      "text/plain": [
       "Index(['NUMBER', 'NOBS', 'OBSFRST', 'OBSLAST', 'EPOCH', 'CALEPOCH', 'MA', 'W',\n",
       "       'OM', 'IN', 'EC', 'A', 'QR', 'TP', 'TPCAL', 'TPFRAC', 'SOLDAT', 'DESIG',\n",
       "       'IREF', 'NAME'],\n",
       "      dtype='object')"
      ]
     },
     "execution_count": 18,
     "metadata": {},
     "output_type": "execute_result"
    }
   ],
   "source": [
    "db = dastcom5.entire_db()\n",
    "db.columns"
   ]
  },
  {
   "cell_type": "markdown",
   "metadata": {},
   "source": [
    "Also, in this function, DASTCOM5 data (specially strings) is ready to use (decoded and improved strings, etc):"
   ]
  },
  {
   "cell_type": "code",
   "execution_count": 19,
   "metadata": {},
   "outputs": [
    {
     "data": {
      "text/html": [
       "<div>\n",
       "<style scoped>\n",
       "    .dataframe tbody tr th:only-of-type {\n",
       "        vertical-align: middle;\n",
       "    }\n",
       "\n",
       "    .dataframe tbody tr th {\n",
       "        vertical-align: top;\n",
       "    }\n",
       "\n",
       "    .dataframe thead th {\n",
       "        text-align: right;\n",
       "    }\n",
       "</style>\n",
       "<table border=\"1\" class=\"dataframe\">\n",
       "  <thead>\n",
       "    <tr style=\"text-align: right;\">\n",
       "      <th></th>\n",
       "      <th>NUMBER</th>\n",
       "      <th>NOBS</th>\n",
       "      <th>OBSFRST</th>\n",
       "      <th>OBSLAST</th>\n",
       "      <th>EPOCH</th>\n",
       "      <th>CALEPOCH</th>\n",
       "      <th>MA</th>\n",
       "      <th>W</th>\n",
       "      <th>OM</th>\n",
       "      <th>IN</th>\n",
       "      <th>EC</th>\n",
       "      <th>A</th>\n",
       "      <th>QR</th>\n",
       "      <th>TP</th>\n",
       "      <th>TPCAL</th>\n",
       "      <th>TPFRAC</th>\n",
       "      <th>SOLDAT</th>\n",
       "      <th>DESIG</th>\n",
       "      <th>IREF</th>\n",
       "      <th>NAME</th>\n",
       "    </tr>\n",
       "  </thead>\n",
       "  <tbody>\n",
       "    <tr>\n",
       "      <th>2687</th>\n",
       "      <td>2688</td>\n",
       "      <td>1732</td>\n",
       "      <td>19500814</td>\n",
       "      <td>20160827</td>\n",
       "      <td>2455701.5</td>\n",
       "      <td>20110520.0</td>\n",
       "      <td>22.786977</td>\n",
       "      <td>183.484408</td>\n",
       "      <td>95.422520</td>\n",
       "      <td>3.454589</td>\n",
       "      <td>0.143215</td>\n",
       "      <td>3.165183</td>\n",
       "      <td>2.711882</td>\n",
       "      <td>2.455571e+06</td>\n",
       "      <td>2.011011e+07</td>\n",
       "      <td>0.309024</td>\n",
       "      <td>2.457850e+06</td>\n",
       "      <td>1982 HG1</td>\n",
       "      <td>23</td>\n",
       "      <td>Halley</td>\n",
       "    </tr>\n",
       "    <tr>\n",
       "      <th>739644</th>\n",
       "      <td>900001</td>\n",
       "      <td>161</td>\n",
       "      <td>0</td>\n",
       "      <td>0</td>\n",
       "      <td>1633920.5</td>\n",
       "      <td>-2390607.0</td>\n",
       "      <td>0.165294</td>\n",
       "      <td>88.110000</td>\n",
       "      <td>30.810000</td>\n",
       "      <td>163.470000</td>\n",
       "      <td>0.967600</td>\n",
       "      <td>18.067901</td>\n",
       "      <td>0.585400</td>\n",
       "      <td>1.633908e+06</td>\n",
       "      <td>-2.390525e+06</td>\n",
       "      <td>0.620000</td>\n",
       "      <td>0.000000e+00</td>\n",
       "      <td>1P</td>\n",
       "      <td>SAO/-239</td>\n",
       "      <td>Halley</td>\n",
       "    </tr>\n",
       "    <tr>\n",
       "      <th>739645</th>\n",
       "      <td>900002</td>\n",
       "      <td>161</td>\n",
       "      <td>0</td>\n",
       "      <td>0</td>\n",
       "      <td>1661840.5</td>\n",
       "      <td>-1631115.0</td>\n",
       "      <td>0.031113</td>\n",
       "      <td>89.110000</td>\n",
       "      <td>32.060000</td>\n",
       "      <td>163.700000</td>\n",
       "      <td>0.967700</td>\n",
       "      <td>18.095975</td>\n",
       "      <td>0.584500</td>\n",
       "      <td>1.661838e+06</td>\n",
       "      <td>-1.631113e+06</td>\n",
       "      <td>0.070000</td>\n",
       "      <td>0.000000e+00</td>\n",
       "      <td>1P</td>\n",
       "      <td>SAO/-163</td>\n",
       "      <td>Halley</td>\n",
       "    </tr>\n",
       "    <tr>\n",
       "      <th>739646</th>\n",
       "      <td>900003</td>\n",
       "      <td>161</td>\n",
       "      <td>0</td>\n",
       "      <td>0</td>\n",
       "      <td>1689880.5</td>\n",
       "      <td>-860823.0</td>\n",
       "      <td>0.211345</td>\n",
       "      <td>90.778000</td>\n",
       "      <td>34.018000</td>\n",
       "      <td>163.340000</td>\n",
       "      <td>0.967680</td>\n",
       "      <td>18.118812</td>\n",
       "      <td>0.585600</td>\n",
       "      <td>1.689864e+06</td>\n",
       "      <td>-8.608065e+05</td>\n",
       "      <td>0.962000</td>\n",
       "      <td>0.000000e+00</td>\n",
       "      <td>1P</td>\n",
       "      <td>SAO/-86</td>\n",
       "      <td>Halley</td>\n",
       "    </tr>\n",
       "    <tr>\n",
       "      <th>739647</th>\n",
       "      <td>900004</td>\n",
       "      <td>161</td>\n",
       "      <td>0</td>\n",
       "      <td>0</td>\n",
       "      <td>1717320.5</td>\n",
       "      <td>-111008.0</td>\n",
       "      <td>359.963217</td>\n",
       "      <td>92.559000</td>\n",
       "      <td>35.904000</td>\n",
       "      <td>163.589000</td>\n",
       "      <td>0.967370</td>\n",
       "      <td>17.995709</td>\n",
       "      <td>0.587200</td>\n",
       "      <td>1.717323e+06</td>\n",
       "      <td>-1.110108e+05</td>\n",
       "      <td>0.349000</td>\n",
       "      <td>0.000000e+00</td>\n",
       "      <td>1P</td>\n",
       "      <td>SAO/-11</td>\n",
       "      <td>Halley</td>\n",
       "    </tr>\n",
       "    <tr>\n",
       "      <th>739648</th>\n",
       "      <td>900005</td>\n",
       "      <td>161</td>\n",
       "      <td>0</td>\n",
       "      <td>0</td>\n",
       "      <td>1745200.5</td>\n",
       "      <td>660206.0</td>\n",
       "      <td>0.142118</td>\n",
       "      <td>92.652000</td>\n",
       "      <td>36.129000</td>\n",
       "      <td>163.577000</td>\n",
       "      <td>0.967550</td>\n",
       "      <td>18.030817</td>\n",
       "      <td>0.585100</td>\n",
       "      <td>1.745189e+06</td>\n",
       "      <td>6.601260e+05</td>\n",
       "      <td>0.460000</td>\n",
       "      <td>0.000000e+00</td>\n",
       "      <td>1P</td>\n",
       "      <td>SAO/66</td>\n",
       "      <td>Halley</td>\n",
       "    </tr>\n",
       "    <tr>\n",
       "      <th>739649</th>\n",
       "      <td>900006</td>\n",
       "      <td>161</td>\n",
       "      <td>0</td>\n",
       "      <td>0</td>\n",
       "      <td>1772640.5</td>\n",
       "      <td>1410324.0</td>\n",
       "      <td>0.019990</td>\n",
       "      <td>93.694000</td>\n",
       "      <td>37.219000</td>\n",
       "      <td>163.437000</td>\n",
       "      <td>0.967840</td>\n",
       "      <td>18.132463</td>\n",
       "      <td>0.583140</td>\n",
       "      <td>1.772639e+06</td>\n",
       "      <td>1.410322e+06</td>\n",
       "      <td>0.934000</td>\n",
       "      <td>0.000000e+00</td>\n",
       "      <td>1P</td>\n",
       "      <td>SAO/141</td>\n",
       "      <td>Halley</td>\n",
       "    </tr>\n",
       "    <tr>\n",
       "      <th>739650</th>\n",
       "      <td>900007</td>\n",
       "      <td>161</td>\n",
       "      <td>0</td>\n",
       "      <td>0</td>\n",
       "      <td>1800800.5</td>\n",
       "      <td>2180429.0</td>\n",
       "      <td>359.761537</td>\n",
       "      <td>94.147000</td>\n",
       "      <td>37.908000</td>\n",
       "      <td>163.574000</td>\n",
       "      <td>0.967980</td>\n",
       "      <td>18.159588</td>\n",
       "      <td>0.581470</td>\n",
       "      <td>1.800819e+06</td>\n",
       "      <td>2.180518e+06</td>\n",
       "      <td>0.223000</td>\n",
       "      <td>0.000000e+00</td>\n",
       "      <td>1P</td>\n",
       "      <td>SAO/218</td>\n",
       "      <td>Halley</td>\n",
       "    </tr>\n",
       "    <tr>\n",
       "      <th>739651</th>\n",
       "      <td>900008</td>\n",
       "      <td>161</td>\n",
       "      <td>0</td>\n",
       "      <td>0</td>\n",
       "      <td>1828920.5</td>\n",
       "      <td>2950425.0</td>\n",
       "      <td>0.057332</td>\n",
       "      <td>95.241000</td>\n",
       "      <td>39.111000</td>\n",
       "      <td>163.367000</td>\n",
       "      <td>0.968750</td>\n",
       "      <td>18.429120</td>\n",
       "      <td>0.575910</td>\n",
       "      <td>1.828916e+06</td>\n",
       "      <td>2.950420e+06</td>\n",
       "      <td>0.898000</td>\n",
       "      <td>0.000000e+00</td>\n",
       "      <td>1P</td>\n",
       "      <td>SAO/295</td>\n",
       "      <td>Halley</td>\n",
       "    </tr>\n",
       "    <tr>\n",
       "      <th>739652</th>\n",
       "      <td>900009</td>\n",
       "      <td>161</td>\n",
       "      <td>0</td>\n",
       "      <td>0</td>\n",
       "      <td>1857720.5</td>\n",
       "      <td>3740301.0</td>\n",
       "      <td>0.158377</td>\n",
       "      <td>96.510000</td>\n",
       "      <td>40.579000</td>\n",
       "      <td>163.542000</td>\n",
       "      <td>0.968590</td>\n",
       "      <td>18.375995</td>\n",
       "      <td>0.577190</td>\n",
       "      <td>1.857708e+06</td>\n",
       "      <td>3.740216e+06</td>\n",
       "      <td>0.842000</td>\n",
       "      <td>0.000000e+00</td>\n",
       "      <td>1P</td>\n",
       "      <td>SAO/374</td>\n",
       "      <td>Halley</td>\n",
       "    </tr>\n",
       "    <tr>\n",
       "      <th>739653</th>\n",
       "      <td>900010</td>\n",
       "      <td>161</td>\n",
       "      <td>0</td>\n",
       "      <td>0</td>\n",
       "      <td>1885960.5</td>\n",
       "      <td>4510625.0</td>\n",
       "      <td>359.959606</td>\n",
       "      <td>97.028000</td>\n",
       "      <td>41.210000</td>\n",
       "      <td>163.479000</td>\n",
       "      <td>0.968910</td>\n",
       "      <td>18.454165</td>\n",
       "      <td>0.573740</td>\n",
       "      <td>1.885964e+06</td>\n",
       "      <td>4.510628e+06</td>\n",
       "      <td>0.749000</td>\n",
       "      <td>0.000000e+00</td>\n",
       "      <td>1P</td>\n",
       "      <td>SAO/451</td>\n",
       "      <td>Halley</td>\n",
       "    </tr>\n",
       "    <tr>\n",
       "      <th>739654</th>\n",
       "      <td>900011</td>\n",
       "      <td>161</td>\n",
       "      <td>0</td>\n",
       "      <td>0</td>\n",
       "      <td>1914920.5</td>\n",
       "      <td>5301008.0</td>\n",
       "      <td>0.135791</td>\n",
       "      <td>97.582000</td>\n",
       "      <td>41.974000</td>\n",
       "      <td>163.394000</td>\n",
       "      <td>0.968710</td>\n",
       "      <td>18.395334</td>\n",
       "      <td>0.575590</td>\n",
       "      <td>1.914910e+06</td>\n",
       "      <td>5.300927e+06</td>\n",
       "      <td>0.630000</td>\n",
       "      <td>0.000000e+00</td>\n",
       "      <td>1P</td>\n",
       "      <td>SAO/530</td>\n",
       "      <td>Halley</td>\n",
       "    </tr>\n",
       "    <tr>\n",
       "      <th>739655</th>\n",
       "      <td>900012</td>\n",
       "      <td>161</td>\n",
       "      <td>0</td>\n",
       "      <td>0</td>\n",
       "      <td>1942840.5</td>\n",
       "      <td>6070318.0</td>\n",
       "      <td>0.032109</td>\n",
       "      <td>98.799000</td>\n",
       "      <td>43.261000</td>\n",
       "      <td>163.476000</td>\n",
       "      <td>0.968040</td>\n",
       "      <td>18.173655</td>\n",
       "      <td>0.580830</td>\n",
       "      <td>1.942838e+06</td>\n",
       "      <td>6.070315e+06</td>\n",
       "      <td>0.976000</td>\n",
       "      <td>0.000000e+00</td>\n",
       "      <td>1P</td>\n",
       "      <td>SAO/607</td>\n",
       "      <td>Halley</td>\n",
       "    </tr>\n",
       "    <tr>\n",
       "      <th>739656</th>\n",
       "      <td>900013</td>\n",
       "      <td>161</td>\n",
       "      <td>0</td>\n",
       "      <td>0</td>\n",
       "      <td>1971160.5</td>\n",
       "      <td>6840929.0</td>\n",
       "      <td>359.952171</td>\n",
       "      <td>99.149000</td>\n",
       "      <td>43.800000</td>\n",
       "      <td>163.418000</td>\n",
       "      <td>0.968150</td>\n",
       "      <td>18.197174</td>\n",
       "      <td>0.579580</td>\n",
       "      <td>1.971164e+06</td>\n",
       "      <td>6.841003e+06</td>\n",
       "      <td>0.267000</td>\n",
       "      <td>0.000000e+00</td>\n",
       "      <td>1P</td>\n",
       "      <td>SAO/684</td>\n",
       "      <td>Halley</td>\n",
       "    </tr>\n",
       "    <tr>\n",
       "      <th>739657</th>\n",
       "      <td>900014</td>\n",
       "      <td>161</td>\n",
       "      <td>0</td>\n",
       "      <td>0</td>\n",
       "      <td>1998800.5</td>\n",
       "      <td>7600602.0</td>\n",
       "      <td>0.157833</td>\n",
       "      <td>99.997000</td>\n",
       "      <td>44.687000</td>\n",
       "      <td>163.443000</td>\n",
       "      <td>0.967850</td>\n",
       "      <td>18.097667</td>\n",
       "      <td>0.581840</td>\n",
       "      <td>1.998788e+06</td>\n",
       "      <td>7.600521e+06</td>\n",
       "      <td>0.171000</td>\n",
       "      <td>0.000000e+00</td>\n",
       "      <td>1P</td>\n",
       "      <td>SAO/760</td>\n",
       "      <td>Halley</td>\n",
       "    </tr>\n",
       "    <tr>\n",
       "      <th>739658</th>\n",
       "      <td>900015</td>\n",
       "      <td>161</td>\n",
       "      <td>0</td>\n",
       "      <td>0</td>\n",
       "      <td>2026840.5</td>\n",
       "      <td>8370310.0</td>\n",
       "      <td>0.124640</td>\n",
       "      <td>100.101000</td>\n",
       "      <td>44.930000</td>\n",
       "      <td>163.447000</td>\n",
       "      <td>0.967810</td>\n",
       "      <td>18.090090</td>\n",
       "      <td>0.582320</td>\n",
       "      <td>2.026831e+06</td>\n",
       "      <td>8.370228e+06</td>\n",
       "      <td>0.770000</td>\n",
       "      <td>0.000000e+00</td>\n",
       "      <td>1P</td>\n",
       "      <td>SAO/837</td>\n",
       "      <td>Halley</td>\n",
       "    </tr>\n",
       "    <tr>\n",
       "      <th>739659</th>\n",
       "      <td>900016</td>\n",
       "      <td>161</td>\n",
       "      <td>0</td>\n",
       "      <td>0</td>\n",
       "      <td>2054360.5</td>\n",
       "      <td>9120714.0</td>\n",
       "      <td>359.940520</td>\n",
       "      <td>100.777000</td>\n",
       "      <td>45.646000</td>\n",
       "      <td>163.311000</td>\n",
       "      <td>0.968070</td>\n",
       "      <td>18.169746</td>\n",
       "      <td>0.580160</td>\n",
       "      <td>2.054365e+06</td>\n",
       "      <td>9.120719e+06</td>\n",
       "      <td>0.174000</td>\n",
       "      <td>0.000000e+00</td>\n",
       "      <td>1P</td>\n",
       "      <td>SAO/912</td>\n",
       "      <td>Halley</td>\n",
       "    </tr>\n",
       "    <tr>\n",
       "      <th>739660</th>\n",
       "      <td>900017</td>\n",
       "      <td>161</td>\n",
       "      <td>0</td>\n",
       "      <td>0</td>\n",
       "      <td>2082520.5</td>\n",
       "      <td>9890819.0</td>\n",
       "      <td>359.774025</td>\n",
       "      <td>101.484000</td>\n",
       "      <td>46.561000</td>\n",
       "      <td>163.399000</td>\n",
       "      <td>0.967890</td>\n",
       "      <td>18.122392</td>\n",
       "      <td>0.581910</td>\n",
       "      <td>2.082538e+06</td>\n",
       "      <td>9.890906e+06</td>\n",
       "      <td>0.188000</td>\n",
       "      <td>0.000000e+00</td>\n",
       "      <td>1P</td>\n",
       "      <td>SAO/989</td>\n",
       "      <td>Halley</td>\n",
       "    </tr>\n",
       "    <tr>\n",
       "      <th>739661</th>\n",
       "      <td>900018</td>\n",
       "      <td>161</td>\n",
       "      <td>0</td>\n",
       "      <td>0</td>\n",
       "      <td>2110480.5</td>\n",
       "      <td>10660308.0</td>\n",
       "      <td>359.839206</td>\n",
       "      <td>102.473000</td>\n",
       "      <td>47.624000</td>\n",
       "      <td>163.112000</td>\n",
       "      <td>0.968870</td>\n",
       "      <td>18.454867</td>\n",
       "      <td>0.574500</td>\n",
       "      <td>2.110493e+06</td>\n",
       "      <td>1.066032e+07</td>\n",
       "      <td>0.434000</td>\n",
       "      <td>0.000000e+00</td>\n",
       "      <td>1P</td>\n",
       "      <td>SAO/1066</td>\n",
       "      <td>Halley</td>\n",
       "    </tr>\n",
       "    <tr>\n",
       "      <th>739662</th>\n",
       "      <td>900019</td>\n",
       "      <td>161</td>\n",
       "      <td>0</td>\n",
       "      <td>0</td>\n",
       "      <td>2139360.5</td>\n",
       "      <td>11450402.0</td>\n",
       "      <td>359.793477</td>\n",
       "      <td>103.704000</td>\n",
       "      <td>49.054000</td>\n",
       "      <td>163.224000</td>\n",
       "      <td>0.968790</td>\n",
       "      <td>18.416854</td>\n",
       "      <td>0.574790</td>\n",
       "      <td>2.139377e+06</td>\n",
       "      <td>1.145042e+07</td>\n",
       "      <td>0.061000</td>\n",
       "      <td>0.000000e+00</td>\n",
       "      <td>1P</td>\n",
       "      <td>SAO/1145</td>\n",
       "      <td>Halley</td>\n",
       "    </tr>\n",
       "    <tr>\n",
       "      <th>739663</th>\n",
       "      <td>900020</td>\n",
       "      <td>161</td>\n",
       "      <td>0</td>\n",
       "      <td>0</td>\n",
       "      <td>2167680.5</td>\n",
       "      <td>12221015.0</td>\n",
       "      <td>0.201554</td>\n",
       "      <td>103.849000</td>\n",
       "      <td>49.304000</td>\n",
       "      <td>163.192000</td>\n",
       "      <td>0.968840</td>\n",
       "      <td>18.427792</td>\n",
       "      <td>0.574210</td>\n",
       "      <td>2.167664e+06</td>\n",
       "      <td>1.222093e+07</td>\n",
       "      <td>0.323000</td>\n",
       "      <td>0.000000e+00</td>\n",
       "      <td>1P</td>\n",
       "      <td>SAO/1222</td>\n",
       "      <td>Halley</td>\n",
       "    </tr>\n",
       "    <tr>\n",
       "      <th>739664</th>\n",
       "      <td>900021</td>\n",
       "      <td>161</td>\n",
       "      <td>0</td>\n",
       "      <td>0</td>\n",
       "      <td>2196560.5</td>\n",
       "      <td>13011109.0</td>\n",
       "      <td>0.179564</td>\n",
       "      <td>104.500000</td>\n",
       "      <td>50.152000</td>\n",
       "      <td>163.076000</td>\n",
       "      <td>0.968930</td>\n",
       "      <td>18.432893</td>\n",
       "      <td>0.572710</td>\n",
       "      <td>2.196546e+06</td>\n",
       "      <td>1.301103e+07</td>\n",
       "      <td>0.082000</td>\n",
       "      <td>0.000000e+00</td>\n",
       "      <td>1P</td>\n",
       "      <td>SAO/1301</td>\n",
       "      <td>Halley</td>\n",
       "    </tr>\n",
       "    <tr>\n",
       "      <th>739665</th>\n",
       "      <td>900022</td>\n",
       "      <td>161</td>\n",
       "      <td>0</td>\n",
       "      <td>0</td>\n",
       "      <td>2224680.5</td>\n",
       "      <td>13781105.0</td>\n",
       "      <td>359.927910</td>\n",
       "      <td>105.295000</td>\n",
       "      <td>51.020000</td>\n",
       "      <td>163.113000</td>\n",
       "      <td>0.968370</td>\n",
       "      <td>18.216883</td>\n",
       "      <td>0.576200</td>\n",
       "      <td>2.224686e+06</td>\n",
       "      <td>1.378111e+07</td>\n",
       "      <td>0.187000</td>\n",
       "      <td>0.000000e+00</td>\n",
       "      <td>1P</td>\n",
       "      <td>SAO/1378</td>\n",
       "      <td>Halley</td>\n",
       "    </tr>\n",
       "    <tr>\n",
       "      <th>739666</th>\n",
       "      <td>900023</td>\n",
       "      <td>161</td>\n",
       "      <td>0</td>\n",
       "      <td>0</td>\n",
       "      <td>2253040.5</td>\n",
       "      <td>14560628.0</td>\n",
       "      <td>0.234781</td>\n",
       "      <td>105.835000</td>\n",
       "      <td>51.866000</td>\n",
       "      <td>162.890000</td>\n",
       "      <td>0.968000</td>\n",
       "      <td>18.115625</td>\n",
       "      <td>0.579700</td>\n",
       "      <td>2.253022e+06</td>\n",
       "      <td>1.456061e+07</td>\n",
       "      <td>0.133000</td>\n",
       "      <td>0.000000e+00</td>\n",
       "      <td>1P</td>\n",
       "      <td>SAO/1456</td>\n",
       "      <td>Halley</td>\n",
       "    </tr>\n",
       "    <tr>\n",
       "      <th>739667</th>\n",
       "      <td>900024</td>\n",
       "      <td>161</td>\n",
       "      <td>0</td>\n",
       "      <td>0</td>\n",
       "      <td>2280480.5</td>\n",
       "      <td>15310814.0</td>\n",
       "      <td>359.842327</td>\n",
       "      <td>106.976000</td>\n",
       "      <td>53.057000</td>\n",
       "      <td>162.917000</td>\n",
       "      <td>0.967750</td>\n",
       "      <td>18.021705</td>\n",
       "      <td>0.581200</td>\n",
       "      <td>2.280493e+06</td>\n",
       "      <td>1.531083e+07</td>\n",
       "      <td>0.739000</td>\n",
       "      <td>0.000000e+00</td>\n",
       "      <td>1P</td>\n",
       "      <td>SAO/1531</td>\n",
       "      <td>Halley</td>\n",
       "    </tr>\n",
       "    <tr>\n",
       "      <th>739668</th>\n",
       "      <td>900025</td>\n",
       "      <td>161</td>\n",
       "      <td>0</td>\n",
       "      <td>0</td>\n",
       "      <td>2308300.5</td>\n",
       "      <td>16071024.0</td>\n",
       "      <td>359.954121</td>\n",
       "      <td>107.550300</td>\n",
       "      <td>53.770100</td>\n",
       "      <td>162.905500</td>\n",
       "      <td>0.967490</td>\n",
       "      <td>17.951861</td>\n",
       "      <td>0.583615</td>\n",
       "      <td>2.308304e+06</td>\n",
       "      <td>1.607103e+07</td>\n",
       "      <td>0.040600</td>\n",
       "      <td>0.000000e+00</td>\n",
       "      <td>1P</td>\n",
       "      <td>H593/0</td>\n",
       "      <td>Halley</td>\n",
       "    </tr>\n",
       "    <tr>\n",
       "      <th>739669</th>\n",
       "      <td>900026</td>\n",
       "      <td>161</td>\n",
       "      <td>0</td>\n",
       "      <td>0</td>\n",
       "      <td>2308300.5</td>\n",
       "      <td>16071024.0</td>\n",
       "      <td>359.954121</td>\n",
       "      <td>107.550300</td>\n",
       "      <td>53.770100</td>\n",
       "      <td>162.905500</td>\n",
       "      <td>0.967490</td>\n",
       "      <td>17.951861</td>\n",
       "      <td>0.583615</td>\n",
       "      <td>2.308304e+06</td>\n",
       "      <td>1.607103e+07</td>\n",
       "      <td>0.040600</td>\n",
       "      <td>0.000000e+00</td>\n",
       "      <td>1P</td>\n",
       "      <td>SAO/1607</td>\n",
       "      <td>Halley</td>\n",
       "    </tr>\n",
       "    <tr>\n",
       "      <th>739670</th>\n",
       "      <td>900027</td>\n",
       "      <td>278</td>\n",
       "      <td>0</td>\n",
       "      <td>0</td>\n",
       "      <td>2335640.5</td>\n",
       "      <td>16820831.0</td>\n",
       "      <td>359.805545</td>\n",
       "      <td>109.221400</td>\n",
       "      <td>55.566900</td>\n",
       "      <td>162.264900</td>\n",
       "      <td>0.967933</td>\n",
       "      <td>18.168865</td>\n",
       "      <td>0.582621</td>\n",
       "      <td>2.335656e+06</td>\n",
       "      <td>1.682092e+07</td>\n",
       "      <td>0.779400</td>\n",
       "      <td>0.000000e+00</td>\n",
       "      <td>1P</td>\n",
       "      <td>I353/0</td>\n",
       "      <td>Halley</td>\n",
       "    </tr>\n",
       "    <tr>\n",
       "      <th>739671</th>\n",
       "      <td>900028</td>\n",
       "      <td>278</td>\n",
       "      <td>0</td>\n",
       "      <td>0</td>\n",
       "      <td>2335640.5</td>\n",
       "      <td>16820831.0</td>\n",
       "      <td>359.805545</td>\n",
       "      <td>109.221400</td>\n",
       "      <td>55.566900</td>\n",
       "      <td>162.264900</td>\n",
       "      <td>0.967933</td>\n",
       "      <td>18.168865</td>\n",
       "      <td>0.582621</td>\n",
       "      <td>2.335656e+06</td>\n",
       "      <td>1.682092e+07</td>\n",
       "      <td>0.779400</td>\n",
       "      <td>0.000000e+00</td>\n",
       "      <td>1P</td>\n",
       "      <td>SAO/1682</td>\n",
       "      <td>Halley</td>\n",
       "    </tr>\n",
       "    <tr>\n",
       "      <th>739672</th>\n",
       "      <td>900029</td>\n",
       "      <td>718</td>\n",
       "      <td>0</td>\n",
       "      <td>0</td>\n",
       "      <td>2363600.5</td>\n",
       "      <td>17590321.0</td>\n",
       "      <td>0.101706</td>\n",
       "      <td>110.709300</td>\n",
       "      <td>57.245800</td>\n",
       "      <td>162.372500</td>\n",
       "      <td>0.967686</td>\n",
       "      <td>18.087083</td>\n",
       "      <td>0.584466</td>\n",
       "      <td>2.363593e+06</td>\n",
       "      <td>1.759031e+07</td>\n",
       "      <td>0.562300</td>\n",
       "      <td>0.000000e+00</td>\n",
       "      <td>1P</td>\n",
       "      <td>J103/0</td>\n",
       "      <td>Halley</td>\n",
       "    </tr>\n",
       "    <tr>\n",
       "      <th>739673</th>\n",
       "      <td>900030</td>\n",
       "      <td>718</td>\n",
       "      <td>0</td>\n",
       "      <td>0</td>\n",
       "      <td>2363600.5</td>\n",
       "      <td>17590321.0</td>\n",
       "      <td>0.101706</td>\n",
       "      <td>110.709300</td>\n",
       "      <td>57.245800</td>\n",
       "      <td>162.372500</td>\n",
       "      <td>0.967686</td>\n",
       "      <td>18.087083</td>\n",
       "      <td>0.584466</td>\n",
       "      <td>2.363593e+06</td>\n",
       "      <td>1.759031e+07</td>\n",
       "      <td>0.562300</td>\n",
       "      <td>0.000000e+00</td>\n",
       "      <td>1P</td>\n",
       "      <td>SAO/1759</td>\n",
       "      <td>Halley</td>\n",
       "    </tr>\n",
       "    <tr>\n",
       "      <th>739674</th>\n",
       "      <td>900031</td>\n",
       "      <td>653</td>\n",
       "      <td>0</td>\n",
       "      <td>0</td>\n",
       "      <td>2391600.5</td>\n",
       "      <td>18351118.0</td>\n",
       "      <td>0.020156</td>\n",
       "      <td>110.704300</td>\n",
       "      <td>57.518500</td>\n",
       "      <td>162.258800</td>\n",
       "      <td>0.967394</td>\n",
       "      <td>17.989419</td>\n",
       "      <td>0.586563</td>\n",
       "      <td>2.391599e+06</td>\n",
       "      <td>1.835112e+07</td>\n",
       "      <td>0.939600</td>\n",
       "      <td>0.000000e+00</td>\n",
       "      <td>1P</td>\n",
       "      <td>SAO/1835</td>\n",
       "      <td>Halley</td>\n",
       "    </tr>\n",
       "    <tr>\n",
       "      <th>739675</th>\n",
       "      <td>900032</td>\n",
       "      <td>653</td>\n",
       "      <td>0</td>\n",
       "      <td>0</td>\n",
       "      <td>2418800.5</td>\n",
       "      <td>19100509.0</td>\n",
       "      <td>0.243754</td>\n",
       "      <td>111.737100</td>\n",
       "      <td>58.562900</td>\n",
       "      <td>162.218600</td>\n",
       "      <td>0.967302</td>\n",
       "      <td>17.958530</td>\n",
       "      <td>0.587208</td>\n",
       "      <td>2.418782e+06</td>\n",
       "      <td>1.910042e+07</td>\n",
       "      <td>0.678500</td>\n",
       "      <td>0.000000e+00</td>\n",
       "      <td>1P</td>\n",
       "      <td>SAO/1910</td>\n",
       "      <td>Halley</td>\n",
       "    </tr>\n",
       "    <tr>\n",
       "      <th>739676</th>\n",
       "      <td>900033</td>\n",
       "      <td>7428</td>\n",
       "      <td>18350821</td>\n",
       "      <td>19940111</td>\n",
       "      <td>2449400.5</td>\n",
       "      <td>19940217.0</td>\n",
       "      <td>38.384264</td>\n",
       "      <td>111.332485</td>\n",
       "      <td>58.420081</td>\n",
       "      <td>162.262691</td>\n",
       "      <td>0.967143</td>\n",
       "      <td>17.834144</td>\n",
       "      <td>0.585978</td>\n",
       "      <td>2.446467e+06</td>\n",
       "      <td>1.986021e+07</td>\n",
       "      <td>0.395317</td>\n",
       "      <td>2.452124e+06</td>\n",
       "      <td>1P</td>\n",
       "      <td>J863/77</td>\n",
       "      <td>Halley</td>\n",
       "    </tr>\n",
       "  </tbody>\n",
       "</table>\n",
       "</div>"
      ],
      "text/plain": [
       "        NUMBER  NOBS   OBSFRST   OBSLAST      EPOCH    CALEPOCH          MA  \\\n",
       "2687      2688  1732  19500814  20160827  2455701.5  20110520.0   22.786977   \n",
       "739644  900001   161         0         0  1633920.5  -2390607.0    0.165294   \n",
       "739645  900002   161         0         0  1661840.5  -1631115.0    0.031113   \n",
       "739646  900003   161         0         0  1689880.5   -860823.0    0.211345   \n",
       "739647  900004   161         0         0  1717320.5   -111008.0  359.963217   \n",
       "739648  900005   161         0         0  1745200.5    660206.0    0.142118   \n",
       "739649  900006   161         0         0  1772640.5   1410324.0    0.019990   \n",
       "739650  900007   161         0         0  1800800.5   2180429.0  359.761537   \n",
       "739651  900008   161         0         0  1828920.5   2950425.0    0.057332   \n",
       "739652  900009   161         0         0  1857720.5   3740301.0    0.158377   \n",
       "739653  900010   161         0         0  1885960.5   4510625.0  359.959606   \n",
       "739654  900011   161         0         0  1914920.5   5301008.0    0.135791   \n",
       "739655  900012   161         0         0  1942840.5   6070318.0    0.032109   \n",
       "739656  900013   161         0         0  1971160.5   6840929.0  359.952171   \n",
       "739657  900014   161         0         0  1998800.5   7600602.0    0.157833   \n",
       "739658  900015   161         0         0  2026840.5   8370310.0    0.124640   \n",
       "739659  900016   161         0         0  2054360.5   9120714.0  359.940520   \n",
       "739660  900017   161         0         0  2082520.5   9890819.0  359.774025   \n",
       "739661  900018   161         0         0  2110480.5  10660308.0  359.839206   \n",
       "739662  900019   161         0         0  2139360.5  11450402.0  359.793477   \n",
       "739663  900020   161         0         0  2167680.5  12221015.0    0.201554   \n",
       "739664  900021   161         0         0  2196560.5  13011109.0    0.179564   \n",
       "739665  900022   161         0         0  2224680.5  13781105.0  359.927910   \n",
       "739666  900023   161         0         0  2253040.5  14560628.0    0.234781   \n",
       "739667  900024   161         0         0  2280480.5  15310814.0  359.842327   \n",
       "739668  900025   161         0         0  2308300.5  16071024.0  359.954121   \n",
       "739669  900026   161         0         0  2308300.5  16071024.0  359.954121   \n",
       "739670  900027   278         0         0  2335640.5  16820831.0  359.805545   \n",
       "739671  900028   278         0         0  2335640.5  16820831.0  359.805545   \n",
       "739672  900029   718         0         0  2363600.5  17590321.0    0.101706   \n",
       "739673  900030   718         0         0  2363600.5  17590321.0    0.101706   \n",
       "739674  900031   653         0         0  2391600.5  18351118.0    0.020156   \n",
       "739675  900032   653         0         0  2418800.5  19100509.0    0.243754   \n",
       "739676  900033  7428  18350821  19940111  2449400.5  19940217.0   38.384264   \n",
       "\n",
       "                 W         OM          IN        EC          A        QR  \\\n",
       "2687    183.484408  95.422520    3.454589  0.143215   3.165183  2.711882   \n",
       "739644   88.110000  30.810000  163.470000  0.967600  18.067901  0.585400   \n",
       "739645   89.110000  32.060000  163.700000  0.967700  18.095975  0.584500   \n",
       "739646   90.778000  34.018000  163.340000  0.967680  18.118812  0.585600   \n",
       "739647   92.559000  35.904000  163.589000  0.967370  17.995709  0.587200   \n",
       "739648   92.652000  36.129000  163.577000  0.967550  18.030817  0.585100   \n",
       "739649   93.694000  37.219000  163.437000  0.967840  18.132463  0.583140   \n",
       "739650   94.147000  37.908000  163.574000  0.967980  18.159588  0.581470   \n",
       "739651   95.241000  39.111000  163.367000  0.968750  18.429120  0.575910   \n",
       "739652   96.510000  40.579000  163.542000  0.968590  18.375995  0.577190   \n",
       "739653   97.028000  41.210000  163.479000  0.968910  18.454165  0.573740   \n",
       "739654   97.582000  41.974000  163.394000  0.968710  18.395334  0.575590   \n",
       "739655   98.799000  43.261000  163.476000  0.968040  18.173655  0.580830   \n",
       "739656   99.149000  43.800000  163.418000  0.968150  18.197174  0.579580   \n",
       "739657   99.997000  44.687000  163.443000  0.967850  18.097667  0.581840   \n",
       "739658  100.101000  44.930000  163.447000  0.967810  18.090090  0.582320   \n",
       "739659  100.777000  45.646000  163.311000  0.968070  18.169746  0.580160   \n",
       "739660  101.484000  46.561000  163.399000  0.967890  18.122392  0.581910   \n",
       "739661  102.473000  47.624000  163.112000  0.968870  18.454867  0.574500   \n",
       "739662  103.704000  49.054000  163.224000  0.968790  18.416854  0.574790   \n",
       "739663  103.849000  49.304000  163.192000  0.968840  18.427792  0.574210   \n",
       "739664  104.500000  50.152000  163.076000  0.968930  18.432893  0.572710   \n",
       "739665  105.295000  51.020000  163.113000  0.968370  18.216883  0.576200   \n",
       "739666  105.835000  51.866000  162.890000  0.968000  18.115625  0.579700   \n",
       "739667  106.976000  53.057000  162.917000  0.967750  18.021705  0.581200   \n",
       "739668  107.550300  53.770100  162.905500  0.967490  17.951861  0.583615   \n",
       "739669  107.550300  53.770100  162.905500  0.967490  17.951861  0.583615   \n",
       "739670  109.221400  55.566900  162.264900  0.967933  18.168865  0.582621   \n",
       "739671  109.221400  55.566900  162.264900  0.967933  18.168865  0.582621   \n",
       "739672  110.709300  57.245800  162.372500  0.967686  18.087083  0.584466   \n",
       "739673  110.709300  57.245800  162.372500  0.967686  18.087083  0.584466   \n",
       "739674  110.704300  57.518500  162.258800  0.967394  17.989419  0.586563   \n",
       "739675  111.737100  58.562900  162.218600  0.967302  17.958530  0.587208   \n",
       "739676  111.332485  58.420081  162.262691  0.967143  17.834144  0.585978   \n",
       "\n",
       "                  TP         TPCAL    TPFRAC        SOLDAT     DESIG  \\\n",
       "2687    2.455571e+06  2.011011e+07  0.309024  2.457850e+06  1982 HG1   \n",
       "739644  1.633908e+06 -2.390525e+06  0.620000  0.000000e+00        1P   \n",
       "739645  1.661838e+06 -1.631113e+06  0.070000  0.000000e+00        1P   \n",
       "739646  1.689864e+06 -8.608065e+05  0.962000  0.000000e+00        1P   \n",
       "739647  1.717323e+06 -1.110108e+05  0.349000  0.000000e+00        1P   \n",
       "739648  1.745189e+06  6.601260e+05  0.460000  0.000000e+00        1P   \n",
       "739649  1.772639e+06  1.410322e+06  0.934000  0.000000e+00        1P   \n",
       "739650  1.800819e+06  2.180518e+06  0.223000  0.000000e+00        1P   \n",
       "739651  1.828916e+06  2.950420e+06  0.898000  0.000000e+00        1P   \n",
       "739652  1.857708e+06  3.740216e+06  0.842000  0.000000e+00        1P   \n",
       "739653  1.885964e+06  4.510628e+06  0.749000  0.000000e+00        1P   \n",
       "739654  1.914910e+06  5.300927e+06  0.630000  0.000000e+00        1P   \n",
       "739655  1.942838e+06  6.070315e+06  0.976000  0.000000e+00        1P   \n",
       "739656  1.971164e+06  6.841003e+06  0.267000  0.000000e+00        1P   \n",
       "739657  1.998788e+06  7.600521e+06  0.171000  0.000000e+00        1P   \n",
       "739658  2.026831e+06  8.370228e+06  0.770000  0.000000e+00        1P   \n",
       "739659  2.054365e+06  9.120719e+06  0.174000  0.000000e+00        1P   \n",
       "739660  2.082538e+06  9.890906e+06  0.188000  0.000000e+00        1P   \n",
       "739661  2.110493e+06  1.066032e+07  0.434000  0.000000e+00        1P   \n",
       "739662  2.139377e+06  1.145042e+07  0.061000  0.000000e+00        1P   \n",
       "739663  2.167664e+06  1.222093e+07  0.323000  0.000000e+00        1P   \n",
       "739664  2.196546e+06  1.301103e+07  0.082000  0.000000e+00        1P   \n",
       "739665  2.224686e+06  1.378111e+07  0.187000  0.000000e+00        1P   \n",
       "739666  2.253022e+06  1.456061e+07  0.133000  0.000000e+00        1P   \n",
       "739667  2.280493e+06  1.531083e+07  0.739000  0.000000e+00        1P   \n",
       "739668  2.308304e+06  1.607103e+07  0.040600  0.000000e+00        1P   \n",
       "739669  2.308304e+06  1.607103e+07  0.040600  0.000000e+00        1P   \n",
       "739670  2.335656e+06  1.682092e+07  0.779400  0.000000e+00        1P   \n",
       "739671  2.335656e+06  1.682092e+07  0.779400  0.000000e+00        1P   \n",
       "739672  2.363593e+06  1.759031e+07  0.562300  0.000000e+00        1P   \n",
       "739673  2.363593e+06  1.759031e+07  0.562300  0.000000e+00        1P   \n",
       "739674  2.391599e+06  1.835112e+07  0.939600  0.000000e+00        1P   \n",
       "739675  2.418782e+06  1.910042e+07  0.678500  0.000000e+00        1P   \n",
       "739676  2.446467e+06  1.986021e+07  0.395317  2.452124e+06        1P   \n",
       "\n",
       "            IREF    NAME  \n",
       "2687          23  Halley  \n",
       "739644  SAO/-239  Halley  \n",
       "739645  SAO/-163  Halley  \n",
       "739646   SAO/-86  Halley  \n",
       "739647   SAO/-11  Halley  \n",
       "739648    SAO/66  Halley  \n",
       "739649   SAO/141  Halley  \n",
       "739650   SAO/218  Halley  \n",
       "739651   SAO/295  Halley  \n",
       "739652   SAO/374  Halley  \n",
       "739653   SAO/451  Halley  \n",
       "739654   SAO/530  Halley  \n",
       "739655   SAO/607  Halley  \n",
       "739656   SAO/684  Halley  \n",
       "739657   SAO/760  Halley  \n",
       "739658   SAO/837  Halley  \n",
       "739659   SAO/912  Halley  \n",
       "739660   SAO/989  Halley  \n",
       "739661  SAO/1066  Halley  \n",
       "739662  SAO/1145  Halley  \n",
       "739663  SAO/1222  Halley  \n",
       "739664  SAO/1301  Halley  \n",
       "739665  SAO/1378  Halley  \n",
       "739666  SAO/1456  Halley  \n",
       "739667  SAO/1531  Halley  \n",
       "739668    H593/0  Halley  \n",
       "739669  SAO/1607  Halley  \n",
       "739670    I353/0  Halley  \n",
       "739671  SAO/1682  Halley  \n",
       "739672    J103/0  Halley  \n",
       "739673  SAO/1759  Halley  \n",
       "739674  SAO/1835  Halley  \n",
       "739675  SAO/1910  Halley  \n",
       "739676   J863/77  Halley  "
      ]
     },
     "execution_count": 19,
     "metadata": {},
     "output_type": "execute_result"
    }
   ],
   "source": [
    "db[\n",
    "    db.NAME == \"Halley\"\n",
    "]  # As you can see, Halley is the name of an asteroid too, did you know that?"
   ]
  },
  {
   "cell_type": "markdown",
   "metadata": {},
   "source": [
    "Panda offers many functionalities, and can also be used in the same way as the `ast_db` and `comet_db` functions:"
   ]
  },
  {
   "cell_type": "code",
   "execution_count": 20,
   "metadata": {},
   "outputs": [],
   "source": [
    "aphelion_condition = (2 * db[\"A\"] - db[\"QR\"]) < 0.983\n",
    "axis_condition = db[\"A\"] < 1.3\n",
    "atiras = db[aphelion_condition & axis_condition]"
   ]
  },
  {
   "cell_type": "code",
   "execution_count": 21,
   "metadata": {},
   "outputs": [
    {
     "data": {
      "text/plain": [
       "349"
      ]
     },
     "execution_count": 21,
     "metadata": {},
     "output_type": "execute_result"
    }
   ],
   "source": [
    "len(atiras)"
   ]
  },
  {
   "cell_type": "markdown",
   "metadata": {},
   "source": [
    "What? I said they can be used in the same way!"
   ]
  },
  {
   "cell_type": "markdown",
   "metadata": {},
   "source": [
    "Dont worry :) If you want to know what's happening here, the only difference is that we are now working with comets too, and some comets have a negative semi-major axis!"
   ]
  },
  {
   "cell_type": "code",
   "execution_count": 22,
   "metadata": {},
   "outputs": [
    {
     "data": {
      "text/plain": [
       "333"
      ]
     },
     "execution_count": 22,
     "metadata": {},
     "output_type": "execute_result"
    }
   ],
   "source": [
    "len(atiras[atiras.A < 0])"
   ]
  },
  {
   "cell_type": "markdown",
   "metadata": {},
   "source": [
    "So, rewriting our condition:"
   ]
  },
  {
   "cell_type": "code",
   "execution_count": 23,
   "metadata": {},
   "outputs": [
    {
     "data": {
      "text/plain": [
       "16"
      ]
     },
     "execution_count": 23,
     "metadata": {},
     "output_type": "execute_result"
    }
   ],
   "source": [
    "axis_condition = (db[\"A\"] < 1.3) & (db[\"A\"] > 0)\n",
    "atiras = db[aphelion_condition & axis_condition]\n",
    "len(atiras)"
   ]
  }
 ],
 "metadata": {
  "kernelspec": {
   "display_name": "Python 3",
   "language": "python",
   "name": "python3"
  },
  "language_info": {
   "codemirror_mode": {
    "name": "ipython",
    "version": 3
   },
   "file_extension": ".py",
   "mimetype": "text/x-python",
   "name": "python",
   "nbconvert_exporter": "python",
   "pygments_lexer": "ipython3",
   "version": "3.7.1"
  },
  "nbsphinx": {
   "allow_errors": true
  },
  "widgets": {
   "application/vnd.jupyter.widget-state+json": {
    "state": {
     "0a8328280c3d43818006d727a8f1c91d": {
      "buffers": [
       {
        "data": "efcHBiHhlEHxK+kX/JSTQf5mbF7HY49B6UL4H7N3gkFzYQClX8MsQR7XwrSWl4bB/LbGgzxImcGRuGn4sNakwdDvl48qNa7BJb6GUPFatMHZ0ufKAie6wUlR0/NnPMDBFrJSfuqkw8GJ0wCehUnHwU+yKfl3JsvBw5VRIsY3z8HlFodZn7zRwXw9QU8/89PBI3aE23o91sF2KzGx9ZjYwSVAyLtBA9vB1PmroOF53cGxkB9QS/rfwekPsFH1QOHBnB2SAhKH4sFGV+KQK87jwYqDJM7wFOXBhsDG4hBa5sEq4lqpPJznwftLEAgo2ujBPCQKR4sS6sHKADFiJETrwcDOI1W4bezBdMvxXxSO7cH50U5DD6TuwTwI/HKKru/BFIqUnjlW8MG8rc7yYc7wweC0wllCP/HBqjBneGao8cEuHATtYQnywYzA677QYfLB5DCIxVex8sGJJlMGpffywUpdVwlwNPPB3FbkI3pn88EfgSe5jpDzwXkqaHCDr/PBSluuYDjE88GBlqcxmM7zwYCWpzGYzvPBSluuYDjE88FSKmhwg6/zwQuBJ7mOkPPBtVbkI3pn88EjXVcJcDTzwUAmUwal9/LBrzCIxVex8sE3wOu+0GHywcsbBO1hCfLBOTBneGao8cGGtMJZQj/xwUmtzvJhzvDBi4mUnjlW8MEhB/xyiq7vwdXQTkMPpO7BOsrxXxSO7cFgzSNVuG3swUn/MGIkROvBpSIKR4sS6sE1ShAIKNrowWLgWqk8nOfBgr7G4hBa5sFcgSTO8BTlwRlV4pArzuPBSBuSAhKH4sFMDbBR9UDhwVWLH1BL+t/BN/SroOF53cH0Oci7QQPbwQElMbH1mNjBNm+E23o91sEgNkFPP/PTwQAPh1mfvNHB9IRRIsY3z8E5oCn5dybLwd2/AJ6FScfBSZ1Sfuqkw8EAO9PzZzzAwUui58oCJ7rBqYmGUPFatMGlfZePKjWuwQg+afiw1qTBPrDFgzxImcEvqsC0lpeGwbZ9j6VfwyxB3mT6H7N3gkERMm5ex2OPQbaw6Rf8lJNBePcHBiHhlEE=",
        "encoding": "base64",
        "path": [
         "_data",
         0,
         "x",
         "value"
        ]
       },
       {
        "data": "AAAAAADKer4xXksisKOEQS4RLd0MmZRBP38sFgbLnkHu8aqooG6kQXXsJm6uYqlBshJkOJE8rkF3Y9hupHuxQTdEt6r6xrNBpP1I3+39tUGtGeufNR64QXJLTt6gJbpBzKrPLBgSvEFWDWfmn+G9QRuM8Tlakr9B9mRei0SRwEGSoCv8R0jBQRzO5cd67cFBcGFIpDKAwkEn185T2P/CQZqPm0Hoa8NBkeUaCfPDw0GKr9bonQfEQYHNAyCjNsRBtVRpNtJQxEGHOVcuEFbEQQv3eKBXRsRB4oZnwbghxEEg6vRQWejDQbt8QnN0msNBCC/Kc1o4w0E5fplycMLCQcF9E/wvOcJBP2SliyadwUHVx+759O7AQQ3c89ZOL8BBCT4JYvO9vkE0gC+SmP28QcFd1mpbH7tB9AOd5igluUEZihnSChG3QVAu97El5bRBGKuJjbajskGIgBygEE+wQYAlvuY106tBHz/MypvrpkEaIqA5YeyhQZiEsLZZtZlBzL6fjuHujkGGoUV3WaZ0QR3FRXdZpnTBDNGfjuHujsGVjrC2WbWZwXkmoDlh7KHBokPMypvrpsEPKr7mNdOrwb6CHKAQT7DBf62JjbajssFNMPexJeW0wUCMGdIKEbfBDwad5iglucGxX9ZqWx+7wQKCL5KY/bzB1D8JYvO9vsH53PPWTi/AwaXI7vn07sDBFGWliyadwcF8fhP8LznCwe9+mXJwwsLBlC/Kc1o4w8E7fUJzdJrDwYfq9FBZ6MPBLIdnwbghxME493igV0bEwZY5Vy4QVsTBpFRpNtJQxME5zQMgozbEwQ+v1uidB8TB5eQaCfPDw8GijptB6GvDwejVzlPY/8LB119IpDKAwsEfzOXHeu3BwRmeK/xHSMHB8mFei0SRwMGzhPE5WpK/wSkEZ+af4b3Bx5/PLBgSvMEIPk7eoCW6wQgJ6581HrjBBulI3+39tcFRKreq+sazwfhC2G6ke7HB1r9jOJE8rsFtgSZurmKpwalmqqigbqTBphkrFgbLnsEOSyvdDJmUwSw/RyKwo4TBAAAA6O+UYT8=",
        "encoding": "base64",
        "path": [
         "_data",
         0,
         "y",
         "value"
        ]
       },
       {
        "data": "Z41mrQKBkkE=",
        "encoding": "base64",
        "path": [
         "_data",
         1,
         "x",
         "value"
        ]
       },
       {
        "data": "HEQh9GDqi0E=",
        "encoding": "base64",
        "path": [
         "_data",
         1,
         "y",
         "value"
        ]
       },
       {
        "data": "5ii6Oj3MlEFfQJyAvpiTQYLM38G2l49BR598dv3SgkEpc2b2Ug8+QUBZmTli/YXB9rCvGnvvmMF3YG3y4KWkweGNyg5UAa7Bvko0zThAtMGO4LzSMwy6wd4+7q9QL8DBiIaJkn6Yw8Fy/J55Hz7HwYavof1wHMvBY0gaR3Yvz8GApXoVfrnRwQLOaL9O8dPBQmls0OM81sEu3zqX35nYweadhnLSBdvBUQ7ZUz1+3cGctSkpSgDgwbe0V6UgReHBXX7lRFOM4sGM0X+/kNTjwXbLvrmGHOXBXxDvIeNi5sHt+Y6MVabnwfmQGI+Q5ejBcteyF0sf6sGjGmjAQVLrwZShgxw4fezBDRW//vme7cFxZO+2XLbuwWix6UVAwu/BcW8xQ8hg8MGg38sko9nwwSw4TDM0S/HBaqCPXQa18cHOLXWOrBbywXO3Tx3Cb/LBvr6oNeu/8sELeOk11QbzwVZeiAQ3RPPBx4RjW9F388He+fkIb6HzwW/+QCflwPPBaY3cRxPW88FWm42V4+DzwRubs+pK4fPBWRLK3EjX88FbZta858LzwVNwxYw8pPPBms7D6WZ788FVRqfrkEjzwXPMivnuC/PBXvHJk7/F8sGuXJMTS3bywUzEVGDjHfLBdz5Nm+O88cEz95zBr1PxwYQdM0W04vDBwUkEnWVq8MHxLPmZf9bvwVJcUsyLy+7BLCs6/wK17cGX7DhRBJTswcU8Qam5aevBeoKag1Y36sFsfOq0Fv7owUSZpCQ9v+fBkLAugBJ85sE6PRLo4zXlwS9Xl5gB7uPBEmgrj72l4sG64vgtal7hwaMiF99YGeDBjAd0cbGv3cF+eI9HajbbwUwMcgxpydjBD4RH5S1r1sEJy5W8KR7UwXqjD7675NHBXFZkyV2Cz8F6ymQ7b2vLwZf9VAXjiMfBSCq9Wrrew8H9sqxOvHDAwdMKsd3jhLrBXm9QPUWutMFSQc7XQseuwWCwsZvZVKXBQTU8cxcemsGbraEWgfmHwTAvFyXVDzXBKgb/Zc+egUGUIXaPkcmOQYbdUZYaZZNBzii6Oj3MlEE=",
        "encoding": "base64",
        "path": [
         "_data",
         2,
         "x",
         "value"
        ]
       },
       {
        "data": "gJbqfQAEKsFI/YlIvD6EQb1I9yqjbpRBLT5XdSavnkHjguZNK2ukQRZx2yjebKlBCjSll4JXrkFdcVuVA5OxQYRRJLi76bNB6PPwh4AttkH6qF5h/Fu4QXVM85HvcrpBQjKOqTJwvEHWT9eyuFG+Qf1WMajICsBB8SgtXvXcwEE/l0/UiZ7BQTEYuX6+TsJBu3tsut3swkFsFYuIRHjDQYGyWTZj8MNBzyhh8b1UxEHPzRFH7aTEQaRCZo+e4MRBNqkXQpQHxUESbgs2phnFQUBEucrBFsVBBqde++n+xEEXFuxbN9LEQbo3r//XkMRB0P3TSQ87xEG2xO2nNdHDQTIF0Da4U8NB85EUUhjDwkHlT8MO6x/CQa3fpKHYasFBAKDesZukwEHhjxUxAZy/QcDWJRzJz71BXiJMjGnmu0Fv0mr22uG5QdVg59QxxLdB+IzGgpyPtUH7uBv8YEazQXDIHIba6rBB+M2Jgu7+rEFNhg5Qaw2oQbyUTflDBqNBC2xlo07dm0HnA65HqpeRQa+0WkLGGH1BSKRl+MRjaMEA2QpTYKuKwRjiTa7aipfBsbsNPLnQoMHoDs2qiMelwbKi1ai9pKrBWqoNoFRjr8EicPvENP+xwaj0JX2eOLTBVFvxgZxbtsGvLmT5+mW4wW5/W2ufVbrBfbyb7IoovMGbQXst3Ny9wY+2B2rRcL/BhWfTHGVxwMHuPyqepBjBwe8Y4tF6rcHB/9dnS04vwsHWuOI2mZ3CwdMXKOPp98LBXa7tNuM9w8EXcsEQPW/DwVopZJHEi8PBmxA6UFyTw8ExgZt5/IXDwaZa5tayY8PB2txHwKIsw8G0mU34BOHCwVYMY3EngcLBqiZ4/WwNwsHkpyPoTIbBwRA+qntS7MDBXTVpcRxAwMEtcHGcuAS/wQaN3FarZ73BPBR42rqqu8GatHnOsc+5wYBUHuB52LfB8R3lyRnHtcGRDNg8s52zwag0Ca6AXrHBoyYRFaYXrsG2PGGoHlCpwTQhf1NYa6TBbIAj87zcnsGDpHPgqryUwVqsp8rUAYXBJrLvfQAEKsE=",
        "encoding": "base64",
        "path": [
         "_data",
         2,
         "y",
         "value"
        ]
       },
       {
        "data": "ikvMIezGlEE=",
        "encoding": "base64",
        "path": [
         "_data",
         3,
         "x",
         "value"
        ]
       },
       {
        "data": "7EOAlhf2WEE=",
        "encoding": "base64",
        "path": [
         "_data",
         3,
         "y",
         "value"
        ]
       },
       {
        "data": "R1xbsFaGlEEqJNfh6myTQeZwESzrYI9BawsIeqGpgkGogyuTiSI4QTn1X4FGRobByqlc8FgqmcFTXpWBUNOkwdCAyI5+Q67B7EOf/P1ttME+IYpU7ki6wY6h1JVDVsDBHiDdPxnJw8HvpdYcannHwTm06sBoY8vBM6pgSwyDz8EVIKpHCurRwXQ/tjoHKdTBKHUHSSx81sE/Par1E+HYwVRj6nRGVdvBYMuXNzzW3cHjjEVDsDDgwXYP3RUKeuHB4PsOE9jF4sGI09AyxBLkwSbUI0Z3X+XB98vXWJqq5sFZUBET2PLnwXfpJhneNunBLH5qaF516sHDd3evEK3rwQiwoqCz3OzBsU4vPQ4D7sEwKfMX8R7vwUYID8ebF/DBKNBwemSZ8MGiTmHdTBTxwUHStD3Wh/HBO25rgonz8cHKsnWm91bywe64JSu6sfLBAojWgXMD88Gx7Vxsz0vzwXxd3lODivPBcVS0lU6/88Ht/QzG+unzwaJsBOhbCvTBEZP8mlAg9MGGPAU9wiv0wZGSMAKlLPTBgx68APgi9MGQwAEyxQ70weaiL2gh8PPB7sLROCzH88EyL0PcD5TzwdeKKAIBV/PBE7Mgmz4Q88HUgeOXEcDywU2QEZ7MZvLBr3gCs8sE8sEjbOncc5rxwd/gsboyKPHBpbX/En6u8MFUQsda0y3wwX/89GduTe/BxBOhyWkz7sGcF2mQuw7twSK932+R4OvByAdU4iKq6sE/UL3nr2zpweRj3rt/KejBy8bzhN/h5sExzUj8IJflwdWOFRKZSuTBbpAMjp794sG2aQKuiLHhwQWmG8StZ+DBizHbq8NC3sFyyft76r/bwX8HFKJmSdnBwnP4EMLh1sGEA9xmd4vUwayMIl/vSNLByyejVn4c0MGdsNPJwxDMwXhT5Bl9HcjBgIV4DztjxMHUiAZW1eXAwQNI+7jJUbvB22bpP4BftcFyhFvr3vWvwT27afBMU6bBD3kaTnLCm8FUU1oaYaGKwYw8zoWFA1bBpdkVR08FgEEt8hruhJyNQUjsQ+mW+5JBb01bsFaGlEE=",
        "encoding": "base64",
        "path": [
         "_data",
         4,
         "x",
         "value"
        ]
       },
       {
        "data": "EAtXKk9DPMFb4q/+EcuDQQNiWHYDQJRBdAOz/LWTnkFyWBqy/WqkQU9xpDogfqlBERDRagd+rkHeWkj0xbKxQZmpd77PF7RBV4QXJalrtkEEHU3x66u4QQT+Zh1G1rpB/cUxOXzovEGhMgW3a+C+QaUjlY8GXsBBY+WqE7s8wUGjkAfWbQvCQbhD/cRJycJBMmePKot1w0EV5DB2gA/EQei8zfOKlsRBsVpjbx8KxUFs7H7ExmnFQS3sDVketcVBwzICg9jrxUGb0WDYvA3GQWcuaWmoGsZBTGyY5I0SxkGQBWSkdfXFQZ9snaZ9w8VB7pWHbdl8xUFNSb7K0SHFQRL1JZTEssRB8WQxQyQwxEHqEOF+d5rDQY2p9ZBY8sJBevPkxnQ4wkER6DS/i23BQZU99aNuksBB2+5Fpv5Pv0H+eqjrXl69QVv7OA7/UbtBij9Tl/ssuUHkqVV2ivG2QXtmQLn4obRBtpJ/LahAskEiiaTWGaCvQSbTrJxVpapBSc6puyWWpUEiR/ROwXegQdOC1DzenpZB4OETuACKiEEyA0FcSMleQapZaHJ2v4DB1ee5T1GVksEaBKCZp6mcwWmDbxwtSaPBRC63JZkiqMEGXl85GNyswda9fshluLDB+PMbKv3tssGPQ3A7iwy1wVi4eLXgEbfBlF/KUOj7uMEyc0nrqMi6waAi3ZBHdrzBNzYHZQkDvsGq4WZrVW2/wYwXqBbbWcDBs7VinW3qwMEF4KJCzWfBwc+7hcl40cHBXp2+RAMnwsH6zN+GFGjCwaG0P31plMLBLMQcddSrwsHQxbhKPa7CwdAUO4Khm8LBHA9AShR0wsGOHhNovjfCwaq7pw3e5sHBjrx8mcaBwcF+BqxA4AjBwZk4f6OnfMDBxBTwmVq7v8Hml6E7Klm+wRE8HUcr1LzBVAunuO4tu8EfqmTQJ2i5wdDsslGqhLfB3Kj3oGiFtcHn1ODBcWyzwXyHIjjvO7HB5K/HmUXsrcGvkk12yDqpwYVrIos9aKTBieZP4DrznsFVpwlg++eUwW9d8SkucoXB/+MDK09DPME=",
        "encoding": "base64",
        "path": [
         "_data",
         4,
         "y",
         "value"
        ]
       },
       {
        "data": "QHEeW4EAk0E=",
        "encoding": "base64",
        "path": [
         "_data",
         5,
         "x",
         "value"
        ]
       },
       {
        "data": "sdAJ7ykgh0E=",
        "encoding": "base64",
        "path": [
         "_data",
         5,
         "y",
         "value"
        ]
       },
       {
        "data": "0NEG4o1plEF8x0iSLXmTQYI9sYoVyY9Bx7Eqvaxeg0EOYnu40f5LQTJhPZP/AIXBEoLobFJmmMFyPYPwlmGkwStzgBcaw63BninCkQMntMEGJgj8v/u5wVDF+sXfLMDBnRZeAjmdw8HcaLE3YEvHwfhp1jSKM8vBpDst/K9Rz8GJeCx1ydDRwTpvMItgD9TBvwhW80xi1sHW5w5rKcfYwZsuNDJ+O9vBOl8/lsO83cFPuPlGMiTgwRfsYrHgbeHB0o+kMhm64sH4oudUhQfkwUvXOGXNVOXBsWvT1Zmg5sExskWglOnnwaczAqZqLunBTgLyDc1t6sGg4J+dcqbrwR9wmAwZ1+zBdpGhUIb+7cEQgHLhiRvvwe97T/l+FvDBIec4UeSY8MFCZT+ObhTxwcYdYFeeiPHB4k8R6Pv08cE53reLF1nywflOzRCKtPLBwY0/M/UG88ENyJz9A1DzwSc5pyBrj/PBRKD2QOnE88EBWVc6R/DzweekoVhYEfTBtYzOhfon9MHn2xptFjT0wdz5E5OfNfTBddp1YpQs9MF3v8wt/hj0wZYd2SXx+vPBn4y/RIzS88HmNxou+Z/zwdO3DARsY/PBbZSGMSMd88Ek1+spZ83ywRj9ZR6KdPLBBUgqqecS8sGFwgxv5KjxwbdOwbftNvHB5rA1/Xi98MHos3hyAz3wwRh5VgUjbO/B/KkAkVxS7sHtyrH91S3twXPRHda8/+vBseAUg0jJ6sEYWIEKuYvpwUrShMVVSOjBHB8ID2wA58FGEhrsTbXlwf1cf69QaOTB6qDamcsa48FWbNd3Fs7hwQTdxD+Ig+DBf3MaYOt43sHo5e3fX/TbweA0MmgGfNnBQyvTz2oS18GMEoy7CbrUwf6how1OddLBA4T2Z45G0MF6HcSFFWDMwS6bFjfUZ8jB4bvMd3CoxMH2OI89xyXBwdHJrMjtxrvB6tMB57bJtcFuAJVOFlqwwUbY0QhN+6bBKis+TanlnMHOC60MPY6MwQXrGA1dUGHBzOW85UqUfUH5kdb/w7iMQVxVnuuztJJBNhEH4o1plEE=",
        "encoding": "base64",
        "path": [
         "_data",
         6,
         "x",
         "value"
        ]
       },
       {
        "data": "4AZ9hTeRSMEXY8nnVRSDQd+enTm455NBQwZLvm5JnkEaeZJwTVKkQZhZsN9Hd6lBh4inGlmOrkHf1kvzIMmxQSOQHGTrPrRBJnMRrAKmtkFSfJu+7Pu4QRqN6ENBPrtBhWY6FKxqvUG6RW6e736/QSTVnZtzvMBBQGdkp0SrwUEd5ybF9IrCQcIjzl+dWsNBKCRAaGgZxEGzQAgykcbEQaZqEz5lYcVBl6Sv8kTpxUHqARFApF3GQfeUsjALvsZBmnj+ZBYKx0Fafb15d0HHQWfh5Fj1Y8dBiMludGxxx0G20ADrzmnHQafnOpYkTcdBz8SfAosbx0FHOh9RNdXGQTbaYQJsesZBhzwMrIwLxkEE8EaYCYnFQciI7k9p88RB9T3lD0ZLxEEJChUqTZHDQdYyxlI+xsJBRmUC2+rqwUEDF9DYNADBQSqaJD4OB8BBBkP6vu8AvkGOkD/WANu7QVARK6SGnrlB2n/5R89Nt0Fd3MK9Peu0QfFyqWhHebJBckohFOP0r0GHffBQneKqQQjsU9H3wKVBB73ptzyVoEGoNvcYgcmWQQY8ofVy04hBY4ABwKGuYEHITfSZEk+AwV7BIevQQ5LBzDhvlJY0nME/JA2KzfeiwUBJVE9rtafBr/JulEFOrMEqW7meyV6wwYdPVP1mf7LB5oN3f8eGtMEzBZHC03K2wemu8I+QQbjBFPOg5yDxucFVgBrsx3+7wSvt16zq67zBW7HwzRE0vsEzxAYL61a/we0C/EmlKcDBGAH2IBaUwMHau79RWurAwX2bfO8YLMHBG5TPNA5ZwcEHP7fJC3HBwXGHU/P4c8HBC6tjrdJhwcFSSGKtqzrBwStFPE+s/sDBtG+2axKuwMFTu6wYMUnAwdqk2abgoL/BVosIK5mIvsEWsOGorEq9wZRZbtli6LvBi6zy8ShjusH4ynYrkLy4wekBMCVM9rbBImB0IzEStcEzlwctMhKzwRW5sghf+LDBlzZyOsSNrcE6SbZr/P+owQhdaFsYTKTBRNZpEeLtnsHwYP54AwuVwVZuJ5uL84XBsC+phDeRSME=",
        "encoding": "base64",
        "path": [
         "_data",
         6,
         "y",
         "value"
        ]
       },
       {
        "data": "xrHgICT0kUE=",
        "encoding": "base64",
        "path": [
         "_data",
         7,
         "x",
         "value"
        ]
       },
       {
        "data": "6ZCTHVPGjUE=",
        "encoding": "base64",
        "path": [
         "_data",
         7,
         "y",
         "value"
        ]
       },
       {
        "data": "f4tAkgjelEE5VoXaNSiUQSTcG5Rz5JBBfqJthz4shkHwGGBqqBlmQX1wke5sF4DBJD6RFn9LlcG+tcw+PneiwUChAidIcqvB6G7nrs3GssG45oxoZl+4wQ31CoApfb7B0C3yd+SMwsGEBqX2ORfGwZN+Vvfu2cnBKIvvGCPRzcHGdIDuX/zQwRBgQW8+JtPB+0kCHvJj1cGzRmCYK7PXwSFY6muJEdrB951cipp83MFpgPLN4PHewYLUm8Vpt+DBFNjYFnH44cHanVhuuzrjwStwyJL8fOTBZj9RVOi95cHJigTjM/zmwRaH3iOXNujBbgD+As5r6cEhULXBmZrqwSsMHD/CwevBuLzOORfg7MFo7ZCJcfTtwWJNjk+0/e7ByD0BHM7678HBDAgEXXXwwWhUX2FA5vDBpEPvx5xP8cEI1/ubBbHxwbrqGHQWCvLBH++rgHNa8sGI74/qyaHywa1ZeijQ3/LBN4PISkYU88EJxmc99j7zwXdFlP+zX/PBbOU00V1288E9sKVV3ILzwS7QzKsihfPBl0hhey5988FVv1X3B2vzwajYZNXBTvPBvNvHOnko88FRgiueVfjywR/qAZ+IvvLBBJhb0k178sH2R3yF6i7ywYjYanat2fHBMPbFgu578cGEMjFNDhbxwQ3kt9l1qPDB1n6MIZYz8MHU9yc9z2/vwVC2ap7Ta+7B7ofaZUVc7cHPfVqAPELswQPSKajbHuvBK7kzOU/z6cHyhnH7y8DoweVRnuSNiOfBJC+E0tZL5sEDxzI/7Qvlwf1AdfAayuPBQnTio6uH4sGJxOW460XhwWMuIdomBuDBJ10TT02T3cG65TzFYiPbwaMrMjwRv9jBiSXj5M9o1sEqSxdxByPUwSrguZcP8NHB6ihOVVmkz8F0ee6AGpfLwZGMYemPvMfByOdkgbIYxMHH7RvfQq/AwVO9vLuKB7vBQcM5/PwytcFsKmEcvs2vwW7zkbdNUabBepNCJ+D0m8EiKhRs90aLwQoz4pEH01vBUdvef/XGfkEe4YHxKD+NQbBB8E0wBZNBfotAkgjelEE=",
        "encoding": "base64",
        "path": [
         "_data",
         8,
         "x",
         "value"
        ]
       },
       {
        "data": "o7Rrh5SzUsFkDmabchSCQVZWRmfRWZNBRgvdEO64nUEiDggsbw6kQRK6Yih2PalBEWHPDzRkrkHf64m/rL6xQUcZWovSQbRBsNrkcvS4tkFO7WjghyG5QZpBej8RebtB+1ctjCa9vUGohifQceu/QVe6gcXZAMFBYjPHgeL+wUGPa70/ze7CQaOTn6+iz8NBN/T5DXugxEEGE5ISf2DFQXiTUc7oDsZBZhFPdwSrxkF7oiIiMTTHQRr0xmfhqcdBLQdc95sLyEGGSTUT/FjIQeAjsvixkchBUPB1MoO1yEHJmKrUSsTIQUS/D6P5vchB0jSvIJaiyEGwjSaJPHLIQc2/jLMeLchBPsoR34PTx0GXW41pyGXHQbYsSHBd5MZB2TRiW8hPxkEp6k1UoqjFQRJP7qeX78RB4Yz6FGclxEEpMl4H4UrDQVPCYMHmYMJBVQ9yc2lowUHruYpDaWLAQQc+Qoron75BQsiFxUpkvEH5NeR0RhS6Qb085ds9srdB5muB0KVAtUH3eOoyA8KyQcvDylToOLBBVaBSpeRPq0G8cVvEjCOmQVo/FjAe8qBBwrOGoeaBl0FhlV8jmVWKQTnsCAq3TGdBxy4fQaHcfMGl9RBaAC2RwXT77Mys7ZrB1L5mBJA3osHM+9rMxtOmwSgkwCi6RqvBsbsECtSLr8EHUOvSVs+xwWFPFP+JvbPBFEnpGoaOtcFi3GrVa0C3wWJSRel70bjB+g/f6RhAusHjPoPtyIq7wY1e8RI3sLzBuy3A4DSvvcGmsyl9u4a+wUMB/7zsNb/B1lysCBS8v8FM4jCLUwzAwYzxTzyjJcDByUFLAN8pwMH5j/d5AhnAwc8UzBU+5r/BBTbzgrdwv8Fys0hh6tG+wYlO7WJ6Cr7B/ZuAHTUbvcFjQjU2EQW8wRuqkWMtybrBJjPjRc9oucEFm5QXYuW3weySwTZ1QLbBy36Jibp7tMH7uMm+BJmywS5sDG1FmrDBMsk3IxYDrcEpLpbj/aGowQeeRcHFFaTBJ7v9rDvGnsGZuxS5ux2VwaqaRLcAeIbBW7Vrh5SzUsE=",
        "encoding": "base64",
        "path": [
         "_data",
         8,
         "y",
         "value"
        ]
       },
       {
        "data": "E8rfZ6Ew5ME=",
        "encoding": "base64",
        "path": [
         "_data",
         9,
         "x",
         "value"
        ]
       },
       {
        "data": "xo7HzSCGyEE=",
        "encoding": "base64",
        "path": [
         "_data",
         9,
         "y",
         "value"
        ]
       }
      ],
      "model_module": "plotlywidget",
      "model_module_version": "^0.6.0",
      "model_name": "FigureModel",
      "state": {
       "_config": {
        "plotlyServerURL": "https://plot.ly"
       },
       "_data": [
        {
         "hoverinfo": "none",
         "line": {
          "color": "rgb(31, 119, 180)",
          "dash": "dash",
          "width": 2
         },
         "mode": "lines",
         "name": "-239-06-03 00:00 (Halley)",
         "type": "scatter",
         "uid": "c451cf2d-66a8-48e1-a320-07823c8f9bb1",
         "x": {
          "dtype": "float64",
          "shape": [
           100
          ]
         },
         "y": {
          "dtype": "float64",
          "shape": [
           100
          ]
         }
        },
        {
         "marker": {
          "color": "rgb(31, 119, 180)",
          "size": 10
         },
         "mode": "markers",
         "name": "-239-06-03 00:00 (Halley)",
         "type": "scatter",
         "uid": "8d1eff6a-59cd-404f-a90e-da24568a93c1",
         "x": {
          "dtype": "float64",
          "shape": [
           1
          ]
         },
         "y": {
          "dtype": "float64",
          "shape": [
           1
          ]
         }
        },
        {
         "hoverinfo": "none",
         "line": {
          "color": "rgb(255, 127, 14)",
          "dash": "dash",
          "width": 2
         },
         "mode": "lines",
         "name": "141-03-23 00:00 (Halley)",
         "type": "scatter",
         "uid": "ede05958-b2a6-47f4-a467-0b9aac8fb066",
         "x": {
          "dtype": "float64",
          "shape": [
           100
          ]
         },
         "y": {
          "dtype": "float64",
          "shape": [
           100
          ]
         }
        },
        {
         "marker": {
          "color": "rgb(255, 127, 14)",
          "size": 10
         },
         "mode": "markers",
         "name": "141-03-23 00:00 (Halley)",
         "type": "scatter",
         "uid": "d2413935-743c-44aa-9560-6db178fcfa23",
         "x": {
          "dtype": "float64",
          "shape": [
           1
          ]
         },
         "y": {
          "dtype": "float64",
          "shape": [
           1
          ]
         }
        },
        {
         "hoverinfo": "none",
         "line": {
          "color": "rgb(44, 160, 44)",
          "dash": "dash",
          "width": 2
         },
         "mode": "lines",
         "name": "530-10-10 00:00 (Halley)",
         "type": "scatter",
         "uid": "b07f761e-4ec0-402a-8252-c24b816a9193",
         "x": {
          "dtype": "float64",
          "shape": [
           100
          ]
         },
         "y": {
          "dtype": "float64",
          "shape": [
           100
          ]
         }
        },
        {
         "marker": {
          "color": "rgb(44, 160, 44)",
          "size": 10
         },
         "mode": "markers",
         "name": "530-10-10 00:00 (Halley)",
         "type": "scatter",
         "uid": "a4f2e01d-4dcf-4b46-959c-3cb0cf75bcef",
         "x": {
          "dtype": "float64",
          "shape": [
           1
          ]
         },
         "y": {
          "dtype": "float64",
          "shape": [
           1
          ]
         }
        },
        {
         "hoverinfo": "none",
         "line": {
          "color": "rgb(214, 39, 40)",
          "dash": "dash",
          "width": 2
         },
         "mode": "lines",
         "name": "1301-11-17 00:00 (Halley)",
         "type": "scatter",
         "uid": "6b3bf580-5d71-4626-8324-3b4658e690e8",
         "x": {
          "dtype": "float64",
          "shape": [
           100
          ]
         },
         "y": {
          "dtype": "float64",
          "shape": [
           100
          ]
         }
        },
        {
         "marker": {
          "color": "rgb(214, 39, 40)",
          "size": 10
         },
         "mode": "markers",
         "name": "1301-11-17 00:00 (Halley)",
         "type": "scatter",
         "uid": "0b3cbed0-cc3d-413f-b74c-03ffbde52154",
         "x": {
          "dtype": "float64",
          "shape": [
           1
          ]
         },
         "y": {
          "dtype": "float64",
          "shape": [
           1
          ]
         }
        },
        {
         "hoverinfo": "none",
         "line": {
          "color": "rgb(148, 103, 189)",
          "dash": "dash",
          "width": 2
         },
         "mode": "lines",
         "name": "1994-02-17 00:00 (Halley)",
         "type": "scatter",
         "uid": "9b1517b8-ae05-4a43-9113-13168291ad16",
         "x": {
          "dtype": "float64",
          "shape": [
           100
          ]
         },
         "y": {
          "dtype": "float64",
          "shape": [
           100
          ]
         }
        },
        {
         "marker": {
          "color": "rgb(148, 103, 189)",
          "size": 10
         },
         "mode": "markers",
         "name": "1994-02-17 00:00 (Halley)",
         "type": "scatter",
         "uid": "f9d72037-71ab-4050-8c06-42f959615dbc",
         "x": {
          "dtype": "float64",
          "shape": [
           1
          ]
         },
         "y": {
          "dtype": "float64",
          "shape": [
           1
          ]
         }
        }
       ],
       "_js2py_pointsCallback": {},
       "_js2py_relayout": {},
       "_js2py_restyle": {},
       "_js2py_update": {},
       "_last_layout_edit_id": 11,
       "_last_trace_edit_id": 11,
       "_layout": {
        "autosize": true,
        "shapes": [
         {
          "fillcolor": "#ffcc00",
          "line": {
           "color": "#ffcc00"
          },
          "opacity": 1,
          "type": "circle",
          "x0": -13136189.026166996,
          "x1": 13136189.026166996,
          "xref": "x",
          "y0": -13136189.026166996,
          "y1": 13136189.026166996,
          "yref": "y"
         }
        ],
        "template": {},
        "xaxis": {
         "constrain": "domain",
         "title": {
          "text": "x (km)"
         }
        },
        "yaxis": {
         "scaleanchor": "x",
         "title": {
          "text": "y (km)"
         }
        }
       },
       "_py2js_animate": {},
       "_py2js_deleteTraces": {},
       "_py2js_moveTraces": {},
       "_py2js_removeLayoutProps": {},
       "_py2js_removeTraceProps": {},
       "_py2js_restyle": {},
       "_view_count": 1
      }
     },
     "128a2905ba954252a74879e515ac2102": {
      "buffers": [
       {
        "data": "d/cHBiHhlEHxK+kX/JSTQQNnbF7HY49B70L4H7N3gkG4awClX8MsQTbXwrSWl4bBvbbGgzxImcFUuGn4sNakwcbvl48qNa7BKL6GUPFatMHf0ufKAie6wUhR0/NnPMDBCLJSfuqkw8Fs0wCehUnHwTeyKfl3JsvBvpVRIsY3z8HYFodZn7zRwYc9QU8/89PBGXaE23o91sGFKzGx9ZjYwRdAyLtBA9vB3PmroOF53cGgkB9QS/rfwd4PsFH1QOHBmh2SAhKH4sFEV+KQK87jwXyDJM7wFOXBhMDG4hBa5sEo4lqpPJznwflLEAgo2ujBOiQKR4sS6sG0ADFiJETrwb3OI1W4bezBhsvxXxSO7cHz0U5DD6TuwSAI/HKKru/BEoqUnjlW8MG6rc7yYc7wweC0wllCP/HBlzBneGao8cEeHATtYQnywXnA677QYfLB4jCIxVex8sF3JlMGpffywTRdVwlwNPPByFbkI3pn88EegSe5jpDzwWUqaHCDr/PBSFuuYDjE88FqlqcxmM7zwWyWpzGYzvPBRluuYDjE88FkKmhwg6/zwR2BJ7mOkPPByVbkI3pn88FHXVcJcDTzwXYmUwal9/LB4jCIxVex8sF5wOu+0GHywR0cBO1hCfLBlzBneGao8cHgtMJZQj/xwbytzvJhzvDBEoqUnjlW8MEgCPxyiq7vwfPRTkMPpO7BicvxXxSO7cGpziNVuG3swbQAMWIkROvBOiQKR4sS6sH3SxAIKNrowSniWqk8nOfBhMDG4hBa5sF8gyTO8BTlwUVX4pArzuPBmR2SAhKH4sHfD7BR9UDhwa6QH1BL+t/B3vmroOF53cEYQMi7QQPbwYYrMbH1mNjBE3aE23o91sF6PUFPP/PTwdoWh1mfvNHBwJVRIsY3z8E7sin5dybLwW7TAJ6FScfBErJSfuqkw8FKUdPzZzzAwdfS58oCJ7rBLL6GUPFatMHM75ePKjWuwX+4afiw1qTB1rbGgzxImcFX18K0lpeGwcRQAKVfwyxBvUL4H7N3gkECZ2xex2OPQegr6Rf8lJNBdvcHBiHhlEE=",
        "encoding": "base64",
        "path": [
         "_data",
         0,
         "x",
         "value"
        ]
       },
       {
        "data": "AAAAAAB+i74XXksisKOEQSURLd0MmZRBOn8sFgbLnkHi8aqooG6kQXnsJm6uYqlBnxJkOJE8rkFnY9hupHuxQTVEt6r6xrNBpf1I3+39tUGyGeufNR64QXJLTt6gJbpBxarPLBgSvEFIDWfmn+G9QReM8Tlakr9B9GRei0SRwEGQoCv8R0jBQR3O5cd67cFBbWFIpDKAwkEq185T2P/CQZmPm0Hoa8NBluUaCfPDw0GDr9bonQfEQX3NAyCjNsRBsVRpNtJQxEGDOVcuEFbEQQj3eKBXRsRB4IZnwbghxEEc6vRQWejDQbd8QnN0msNB+C7Kc1o4w0FJfplycMLCQat9E/wvOcJBN2SliyadwUHCx+759O7AQQnc89ZOL8BBwT0JYvO9vkEJgC+SmP28QZJd1mpbH7tB2gOd5igluUH/iRnSChG3QQ0u97El5bRB8aqJjbajskFJgBygEE+wQRMlvuY106tBkj7MypvrpkF7IaA5YeyhQd6DsLZZtZlBkr2fjuHujkGgm0V3WaZ0QYOXRXdZpnTBhrufjuHujsGWgrC2WbWZwekgoDlh7KHBGj7MypvrpsFQJL7mNdOrwRCAHKAQT7DBsKqJjbajssHULfexJeW0wcOJGdIKEbfBmgOd5iglucFUXdZqWx+7wc5/L5KY/bzBij0JYvO9vsHz2/PWTi/AwaTH7vn07sDBIWSliyadwcGZfRP8LznCwTF+mXJwwsLB4i7Kc1o4w8GmfEJzdJrDwQTq9FBZ6MPBzYZnwbghxMH49nigV0bEwXM5Vy4QVsTBoFRpNtJQxMFvzQMgozbEwXiv1uidB8TBiuUaCfPDw8GOj5tB6GvDwSDXzlPY/8LBZGFIpDKAwsEUzuXHeu3BwYagK/xHSMHB8GRei0SRwMELjPE5WpK/wTsNZ+af4b3BwarPLBgSvMFrS07eoCW6wagZ6581HrjBoP1I3+39tcExRLeq+sazwXBj2G6ke7HBnxJkOJE8rsF87CZurmKpwfnxqqigbqTBWX8sFgbLnsEjES3dDJmUwU1eSyKwo4TBAAAAAAC/mL4=",
        "encoding": "base64",
        "path": [
         "_data",
         0,
         "y",
         "value"
        ]
       },
       {
        "data": "aI1mrQKBkkE=",
        "encoding": "base64",
        "path": [
         "_data",
         1,
         "x",
         "value"
        ]
       },
       {
        "data": "GEQh9GDqi0E=",
        "encoding": "base64",
        "path": [
         "_data",
         1,
         "y",
         "value"
        ]
       },
       {
        "data": "5ii6Oj3MlEFfQJyAvpiTQYLM38G2l49BRZ98dv3SgkFtcGb2Ug8+QetYmTli/YXBALGvGnvvmMFaYG3y4KWkwdaNyg5UAa7BxEo0zThAtMGM4LzSMwy6wd0+7q9QL8DBjIaJkn6Yw8Fx/J55Hz7HwWqvof1wHMvBUEgaR3Yvz8F+pXoVfrnRwfbNaL9O8dPBQGls0OM81sEs3zqX35nYweadhnLSBdvBXQ7ZUz1+3cGbtSkpSgDgwba0V6UgReHBaH7lRFOM4sGL0X+/kNTjwXXLvrmGHOXBXhDvIeNi5sHu+Y6MVabnwQiRGI+Q5ejBhNeyF0sf6sGiGmjAQVLrwZShgxw4fezBDBW//vme7cFwZO+2XLbuwWex6UVAwu/BcW8xQ8hg8MGf38sko9nwwSw4TDM0S/HBaKCPXQa18cHeLXWOrBbywXK3Tx3Cb/LBvb6oNeu/8sEKeOk11QbzwVVeiAQ3RPPBxoRjW9F388Hd+fkIb6HzwW/+QCflwPPBaY3cRxPW88FVm42V4+DzwRqbs+pK4fPBWBLK3EjX88FbZta858LzwWZwxYw8pPPBmc7D6WZ788FVRqfrkEjzwXLMivnuC/PBXfHJk7/F8sGtXJMTS3bywU3EVGDjHfLBdz5Nm+O88cEy95zBr1PxwYMdM0W04vDBwUkEnWVq8MHxLPmZf9bvwVJcUsyLy+7BLCs6/wK17cGD7DhRBJTswcQ8Qam5aevBeYKag1Y36sF6fOq0Fv7owTaZpCQ9v+fBkLAugBJ85sE4PRLo4zXlwS5Xl5gB7uPBHGgrj72l4sHC4vgtal7hwZsiF99YGeDBdQd0cbGv3cF0eI9HajbbwUQMcgxpydjBFoRH5S1r1sH3ypW8KR7UwWujD7675NHBfVZkyV2Cz8FDymQ7b2vLwUT9VAXjiMfBIyq9Wrrew8HlsqxOvHDAwVsKsd3jhLrBbm5QPUWutMGxQM7XQseuwduusZvZVKXBdTM8cxcemsEwqKEWgfmHwfrnFiXVDzXBMwr/Zc+egUH6JXaPkcmOQe7eUZYaZZNB5Si6Oj3MlEE=",
        "encoding": "base64",
        "path": [
         "_data",
         2,
         "x",
         "value"
        ]
       },
       {
        "data": "BpfqfQAEKsFG/YlIvD6EQb9I9yqjbpRBLz5XdSavnkHpguZNK2ukQQZx2yjebKlBEDSll4JXrkFWcVuVA5OxQYJRJLi76bNB7fPwh4AttkH7qF5h/Fu4QXZM85HvcrpBSDKOqTJwvEHXT9eyuFG+QfdWMajICsBB7igtXvXcwEFAl0/UiZ7BQS4YuX6+TsJBvXtsut3swkFtFYuIRHjDQYOyWTZj8MNBzyhh8b1UxEHSzRFH7aTEQaRCZo+e4MRBOqkXQpQHxUEVbgs2phnFQUNEucrBFsVBCqde++n+xEEbFuxbN9LEQcA3r//XkMRB2P3TSQ87xEG6xO2nNdHDQTYF0Da4U8NB95EUUhjDwkHsT8MO6x/CQbTfpKHYasFBE6DesZukwEHxjxUxAZy/Qc3WJRzJz71BRyJMjGnmu0Fj0mr22uG5QeVg59QxxLdBBY3GgpyPtUEMuRv8YEazQYHIHIba6rBBGc6Jgu7+rEFuhg5Qaw2oQd2UTflDBqNBTmxlo07dm0EqBK5HqpeRQTq0WkLGGH1BMaBl+MRjaMH72ApTYKuKwbjhTa7aipfBj7sNPLnQoMHvDs2qiMelwWii1ai9pKrBcaoNoFRjr8H5b/vENP+xwYz0JX2eOLTBOFvxgZxbtsGzLmT5+mW4wYF/W2ufVbrBXbyb7IoovMGfQXst3Ny9wWq2B2rRcL/Bd2fTHGVxwMH1PyqepBjBwfEY4tF6rcHB/ddnS04vwsHWuOI2mZ3CwcgXKOPp98LBXa7tNuM9w8EOcsEQPW/DwVwpZJHEi8PBnhA6UFyTw8EwgZt5/IXDwZ5a5tayY8PB09xHwKIsw8GvmU34BOHCwVAMY3EngcLBqyZ4/WwNwsHZpyPoTIbBwQY+qntS7MDBXjVpcRxAwMEPcHGcuAS/wd6M3FarZ73BJhR42rqqu8GJtHnOsc+5wVZUHuB52LfBkh3lyRnHtcFtDNg8s52zwUM0Ca6AXrHBFiYRFaYXrsGwO2GoHlCpwasgf1NYa6TB1n0j87zcnsFFoHPgqryUwZ6hp8rUAYXBhpzqfQAEKsE=",
        "encoding": "base64",
        "path": [
         "_data",
         2,
         "y",
         "value"
        ]
       },
       {
        "data": "iUvMIezGlEE=",
        "encoding": "base64",
        "path": [
         "_data",
         3,
         "x",
         "value"
        ]
       },
       {
        "data": "20OAlhf2WEE=",
        "encoding": "base64",
        "path": [
         "_data",
         3,
         "y",
         "value"
        ]
       },
       {
        "data": "SFxbsFaGlEEsJNfh6myTQdNwESzrYI9BggsIeqGpgkE7jiuTiSI4QRL1X4FGRobBtalc8FgqmcFJXpWBUNOkwc+AyI5+Q67B9EOf/P1ttMEhIYpU7ki6wYmh1JVDVsDBFSDdPxnJw8HmpdYcannHwSy06sBoY8vBOapgSwyDz8EeIKpHCurRwXE/tjoHKdTBJXUHSSx81sFPPar1E+HYwVJj6nRGVdvBa8uXNzzW3cHqjEVDsDDgwXQP3RUKeuHB4PsOE9jF4sGS09AyxBLkwSTUI0Z3X+XBEczXWJqq5sF3UBET2PLnwYnpJhneNunBUH5qaF516sHUd3evEK3rwRuwoqCz3OzBxk4vPQ4D7sF6KfMX8R7vwWEID8ebF/DBRNBwemSZ8MHPTmHdTBTxwV/StD3Wh/HBaW5rgonz8cH8snWm91bywRG5JSu6sfLBOIjWgXMD88Hp7Vxsz0vzwcld3lODivPBvVS0lU6/88E8/gzG+unzwfJsBOhbCvTBYpP8mlAg9MHaPAU9wiv0weSSMAKlLPTB1x68APgi9MG2wAEyxQ70wSSjL2gh8PPBFMPROCzH88EyL0PcD5TzwcWKKAIBV/PB7bIgmz4Q88GegeOXEcDywQqQEZ7MZvLBbngCs8sE8sG0a+ncc5rxwXbgsboyKPHBFrX/En6u8MHAQcda0y3wwU779GduTe/BYBKhyWkz7sERFmmQuw7twWK732+R4OvB+AVU4iKq6sFCTr3nr2zpwcdh3rt/KejBgMTzhN/h5sGoykj8IJflwTuMFRKZSuTBpI0Mjp794sGkZgKuiLHhwcuiG8StZ+DBvirbq8NC3sEQwvt76r/bwb7/E6JmSdnBgGv4EMLh1sGo+ttmd4vUwS+DIl/vSNLBrx2jVn4c0MHdmtPJwxDMwR485Bl9HcjBJWx4DztjxMHfbQZW1eXAwfoM+7jJUbvB3CbpP4BftcEE+lrr3vWvwQslafBMU6bBeDMZTnLCm8Hen1caYaGKwbD2t4WFA1bBzooYR08FgEHMPB3uhJyNQRagROmW+5JBSVxbsFaGlEE=",
        "encoding": "base64",
        "path": [
         "_data",
         4,
         "x",
         "value"
        ]
       },
       {
        "data": "UwxXKk9DPMFN4q/+EcuDQRpiWHYDQJRBaQOz/LWTnkFdWBqy/WqkQUtxpDogfqlBDhDRagd+rkHhWkj0xbKxQZ2pd77PF7RBX4QXJalrtkEBHU3x66u4QQr+Zh1G1rpBB8YxOXzovEGsMgW3a+C+QaojlY8GXsBBdOWqE7s8wUG1kAfWbQvCQclD/cRJycJBRmePKot1w0Ev5DB2gA/EQQC9zfOKlsRB01pjbx8KxUGN7H7ExmnFQVXsDVketcVB7TICg9jrxUHV0WDYvA3GQZ8uaWmoGsZBmGyY5I0SxkHcBWSkdfXFQe1snaZ9w8VBSpaHbdl8xUGxSb7K0SHFQXr1JZTEssRBYWUxQyQwxEF8EeF+d5rDQROq9ZBY8sJBD/TkxnQ4wkGo6DS/i23BQSo+9aNuksBBKvBFpv5Pv0FxfKjrXl69QeL8OA7/UbtBMEFTl/ssuUGCq1V2ivG2QVloQLn4obRBk5R/LahAskEcjaTWGaCvQfDWrJxVpapBdNKpuyWWpUGMS/ROwXegQYdw1DzenpZBiL0TuACKiEHq4j9cSMleQTp9aHJ2v4DB2vi5T1GVksF4FaCZp6mcwYeLbxwtSaPBkDa3JZkiqMG5ZV85GNyswa7BfshluLDB4fcbKv3tssEWR3A7iwy1wb+7eLXgEbfB3mLKUOj7uMGIdknrqMi6wcUl3ZBHdrzBFzkHZQkDvsFJ5GZrVW2/wc8YqBbbWcDB7LZinW3qwMER4aJCzWfBwbi8hcl40cHBKZ6+RAMnwsGezd+GFGjCwRu1P31plMLBd8QcddSrwsHfxbhKPa7CwaoUO4Khm8LBrw5AShR0wsHZHRNovjfCwZ+6pw3e5sHBHbt8mcaBwcGUBKxA4AjBwSQ2f6OnfMDBpQ7wmVq7v8EykKE7Klm+wYIyHUcr1LzBXf+muO4tu8F7m2TQJ2i5wWDaslGqhLfBx5H3oGiFtcHat+DBcWyzwW5iIjjvO7HB60/HmUXsrcEBFk12yDqpwYXIIYs9aKTBnj5O4DrznsGiigdg++eUwbBW7CkucoXBMw9XKk9DPME=",
        "encoding": "base64",
        "path": [
         "_data",
         4,
         "y",
         "value"
        ]
       },
       {
        "data": "QXEeW4EAk0E=",
        "encoding": "base64",
        "path": [
         "_data",
         5,
         "x",
         "value"
        ]
       },
       {
        "data": "stAJ7ykgh0E=",
        "encoding": "base64",
        "path": [
         "_data",
         5,
         "y",
         "value"
        ]
       },
       {
        "data": "zdEG4o1plEF7x0iSLXmTQWA9sYoVyY9BorEqvaxeg0FdXnu40f5LQe9gPZP/AIXBN4LobFJmmMGePYPwlmGkwUJzgBcaw63BvinCkQMntME0Jgj8v/u5wW7F+sXfLMDBwxZeAjmdw8HyaLE3YEvHwRpq1jSKM8vBwDst/K9Rz8GIeCx1ydDRwVJvMItgD9TBzAhW80xi1sHl5w5rKcfYwY0uNDJ+O9vBTV8/lsO83cFeuPlGMiTgwSXsYrHgbeHB0I+kMhm64sH+oudUhQfkwWLXOGXNVOXBvmvT1Zmg5sE+skWglOnnwcUzAqZqLunBbgLyDc1t6sGz4J+dcqbrwTBwmAwZ1+zBpJGhUIb+7cElgHLhiRvvwQp8T/l+FvDBLuc4UeSY8MFOZT+ObhTxwdUdYFeeiPHB8k8R6Pv08cFH3reLF1nywQdPzRCKtPLB040/M/UG88EdyJz9A1DzwTk5pyBrj/PBaKD2QOnE88EoWVc6R/DzwfukoVhYEfTB24zOhfon9MEO3BptFjT0wRb6E5OfNfTBw9p1YpQs9MHZv8wt/hj0wfcd2SXx+vPBOY2/RIzS88GlOBou+Z/zwaC4DARsY/PBSJWGMSMd88Ec2OspZ83ywTv+ZR6KdPLBQEkqqecS8sHSwwxv5KjxwTBQwbftNvHBhbI1/Xi98MGktXhyAz3wwcF8VgUjbO/BDq4AkVxS7sEiz7H91S3twQ3WHda8/+vBk+UUg0jJ6sFcXYEKuYvpwdzXhMVVSOjB+CQID2wA58GLGBrsTbXlwadjf69QaOTB66famcsa48Hrc9d3Fs7hwQrlxD+Ig+DBloQaYOt43sED+O3fX/TbwTlIMmgGfNnBwD/Tz2oS18FpKIy7CbrUwXO5ow1OddLBP532Z45G0MGmU8SFFWDMwU7VFjfUZ8jBs/rMd3CoxMGSfI89xyXBwQBcrcjtxrvBJHMC57bJtcFyrZVOFlqwwXZR0whN+6bBCVVBTanlnMFjybMMPY6MwTL3NA1dUGHBACiv5UqUfUGTtND/w7iMQd58nOuztJJBzdEG4o1plEE=",
        "encoding": "base64",
        "path": [
         "_data",
         6,
         "x",
         "value"
        ]
       },
       {
        "data": "YQd9hTeRSMEiY8nnVRSDQf2enTm455NBWAZLvm5JnkEpeZJwTVKkQYtZsN9Hd6lBlYinGlmOrkHr1kvzIMmxQSuQHGTrPrRBNXMRrAKmtkFlfJu+7Pu4QTGN6ENBPrtBn2Y6FKxqvUHMRW6e736/QTHVnZtzvMBBTWdkp0SrwUEj5ybF9IrCQdIjzl+dWsNBNCRAaGgZxEHBQAgykcbEQaxqEz5lYcVBqqSv8kTpxUH9ARFApF3GQQmVsjALvsZBqHj+ZBYKx0Fwfb15d0HHQYXh5Fj1Y8dBocludGxxx0HQ0ADrzmnHQcXnOpYkTcdB+8SfAosbx0FjOh9RNdXGQVbaYQJsesZBvjwMrIwLxkEo8EaYCYnFQfaI7k9p88RBNz7lD0ZLxEEvChUqTZHDQQ8zxlI+xsJBgGUC2+rqwUE5F9DYNADBQYiaJD4OB8BBnkP6vu8AvkH6kD/WANu7QcARK6SGnrlBiYD5R89Nt0EM3cK9Peu0QXlzqWhHebJB8EshFOP0r0HFfvBQneKqQWX4U9H3wKVBwcnptzyVoEF7UPcYgcmWQWtwofVy04hBqkgCwKGuYEFDGfSZEk+AwR6nIevQQ5LBDh9vlJY0nMFTFw2Kzfeiwcg8VE9rtafBqOVulEFOrMHrVLmeyV6wwTdJVP1mf7LB8313f8eGtMFh/5DC03K2wU2p8I+QQbjBru2g5yDxucEkexrsx3+7wVzo16zq67zByazwzRE0vsH7vwYL61a/wR0B/EmlKcDBaP/1IBaUwMFzur9RWurAwXCafO8YLMHBZJPPNA5ZwcHNPrfJC3HBwaqHU/P4c8HB0qtjrdJhwcG/SWKtqzrBwWNHPE+s/sDBxnK2axKuwMFxv6wYMUnAwaGv2abgoL/BMJkIK5mIvsGVweGorEq9wXRvbtli6LvBAcjy8ShjusEv7XYrkLy4wcIsMCVM9rbBXZZ0IzEStcEb3ActMhKzwc4Rswhf+LDBGhtzOsSNrcH6c7dr/P+owefnaVsYTKTBxeZtEeLtnsE3jQN5AwuVwXXMM5uL84XBsgh9hTeRSME=",
        "encoding": "base64",
        "path": [
         "_data",
         6,
         "y",
         "value"
        ]
       },
       {
        "data": "xrHgICT0kUE=",
        "encoding": "base64",
        "path": [
         "_data",
         7,
         "x",
         "value"
        ]
       },
       {
        "data": "55CTHVPGjUE=",
        "encoding": "base64",
        "path": [
         "_data",
         7,
         "y",
         "value"
        ]
       },
       {
        "data": "fotAkgjelEE4VoXaNSiUQSPcG5Rz5JBBCqJthz4shkHvGGBqqBlmQSVxke5sF4DBID6RFn9LlcHFtcw+PneiwTShAidIcqvB527nrs3GssHP5oxoZl+4wRX1CoApfb7B1i3yd+SMwsGDBqX2ORfGwZ5+Vvfu2cnBJovvGCPRzcHFdIDuX/zQwQ5gQW8+JtPB+UkCHvJj1cGyRmCYK7PXwSlY6muJEdrB9Z1cipp83MF1gPLN4PHewYvUm8Vpt+DBFNjYFnH44cHZnVhuuzrjwSBwyJL8fOTBcT9RVOi95cHIigTjM/zmwRWH3iOXNujBbgD+As5r6cEgULXBmZrqwSoMHD/CwevBtrzOORfg7MFo7ZCJcfTtwWFNjk+0/e7Bxz0BHM7678HADAgEXXXwwWhUX2FA5vDBo0Pvx5xP8cEH1/ubBbHxwbrqGHQWCvLBHu+rgHNa8sGH74/qyaHywaxZeijQ3/LBN4PISkYU88EIxmc99j7zwXZFlP+zX/PBa+U00V1288E9sKVV3ILzwS7QzKsihfPBl0hhey5988FUv1X3B2vzwajYZNXBTvPBu9vHOnko88FQgiueVfjywR7qAZ+IvvLB9Jdb0k178sEHSHyF6i7ywYjYanat2fHBL/bFgu578cGEMjFNDhbxwQzkt9l1qPDB1H6MIZYz8MHt9yc9z2/vwU+2ap7Ta+7B7ofaZUVc7cG5fVqAPELswQLSKajbHuvBKbkzOU/z6cEAh3H7y8DoweJRnuSNiOfBMS+E0tZL5sEBxzI/7QvlwQZBdfAayuPBQ3Tio6uH4sGRxOW460XhwWIuIdomBuDBHF0TT02T3cGu5TzFYiPbwZgrMjwRv9jBkSXj5M9o1sE7SxdxByPUwS7guZcP8NHB6ihOVVmkz8GFee6AGpfLwYuMYemPvMfBCehkgbIYxMEF7hvfQq/AwWm9vLuKB7vB/cI5/PwytcFwKmEcvs2vwbvzkbdNUabB1JJCJ+D0m8HJKRRs90aLwXqA4pEH01vB5Nbef/XGfkFy4oHxKD+NQUtB8E0wBZNBfotAkgjelEE=",
        "encoding": "base64",
        "path": [
         "_data",
         8,
         "x",
         "value"
        ]
       },
       {
        "data": "s7Rrh5SzUsFiDmabchSCQVZWRmfRWZNBnAvdEO64nUEhDggsbw6kQTe6Yih2PalBEGHPDzRkrkHh64m/rL6xQUUZWovSQbRBsNrkcvS4tkFX7WjghyG5QZ5Bej8RebtBAVgtjCa9vUGqhifQceu/QVu6gcXZAMFBXzPHgeL+wUGRa70/ze7CQaWTn6+iz8NBN/T5DXugxEEIE5ISf2DFQX2TUc7oDsZBaBFPdwSrxkF9oiIiMTTHQSH0xmfhqcdBMAdc95sLyEGJSTUT/FjIQd0jsvixkchBWPB1MoO1yEHNmKrUSsTIQUi/D6P5vchB1jSvIJaiyEG0jSaJPHLIQdG/jLMeLchBM8oR34PTx0GbW41pyGXHQbosSHBd5MZB1TRiW8hPxkEv6k1UoqjFQRhP7qeX78RB54z6FGclxEEwMl4H4UrDQVrCYMHmYMJBWw9yc2lowUH0uYpDaWLAQRM+Qoron75BU8iFxUpkvEEBNuR0RhS6Qc485ds9srdB92uB0KVAtUEIeeoyA8KyQfzDylToOLBBR6BSpeRPq0H9cVvEjCOmQbw/FjAe8qBBRLSGoeaBl0Fmll8jmVWKQU/wCAq3TGdBsi4fQaHcfMFG9RBaAC2RwdL67Mys7ZrB6r5mBJA3osG7+9rMxtOmwe8jwCi6RqvBiLsECtSLr8H7T+vSVs+xwUBPFP+JvbPB70jpGoaOtcFV3GrVa0C3wV5SRel70bjB+Q/f6RhAusG/PoPtyIq7wXde8RI3sLzBqS3A4DSvvcGQsyl9u4a+wT4B/7zsNb/B3FysCBS8v8FM4jCLUwzAwYPxTzyjJcDBxUFLAN8pwMH1j/d5AhnAwckUzBU+5r/BBjbzgrdwv8Fws0hh6tG+wYRO7WJ6Cr7B9JuAHTUbvcFlQjU2EQW8wRiqkWMtybrBQTPjRc9oucEhm5QXYuW3we+SwTZ1QLbBsn6Jibp7tMH4uMm+BJmywT5sDG1FmrDBBsk3IxYDrcEZLpbj/aGowR6gRcHFFaTBdLz9rDvGnsFzuhS5ux2VwRmdRLcAeIbBs7Rrh5SzUsE=",
        "encoding": "base64",
        "path": [
         "_data",
         8,
         "y",
         "value"
        ]
       },
       {
        "data": "EsrfZ6Ew5ME=",
        "encoding": "base64",
        "path": [
         "_data",
         9,
         "x",
         "value"
        ]
       },
       {
        "data": "yo7HzSCGyEE=",
        "encoding": "base64",
        "path": [
         "_data",
         9,
         "y",
         "value"
        ]
       }
      ],
      "model_module": "plotlywidget",
      "model_module_version": "^0.6.0",
      "model_name": "FigureModel",
      "state": {
       "_config": {
        "plotlyServerURL": "https://plot.ly"
       },
       "_data": [
        {
         "hoverinfo": "none",
         "line": {
          "color": "rgb(31, 119, 180)",
          "dash": "dash",
          "width": 2
         },
         "mode": "lines",
         "name": "-239-06-03 00:00 (Halley)",
         "type": "scatter",
         "uid": "3c49dbc1-9839-472a-b115-df9df7077067",
         "x": {
          "dtype": "float64",
          "shape": [
           100
          ]
         },
         "y": {
          "dtype": "float64",
          "shape": [
           100
          ]
         }
        },
        {
         "marker": {
          "color": "rgb(31, 119, 180)",
          "size": 10
         },
         "mode": "markers",
         "name": "-239-06-03 00:00 (Halley)",
         "type": "scatter",
         "uid": "79290466-6c3f-4d91-9882-82e99fe8f415",
         "x": {
          "dtype": "float64",
          "shape": [
           1
          ]
         },
         "y": {
          "dtype": "float64",
          "shape": [
           1
          ]
         }
        },
        {
         "hoverinfo": "none",
         "line": {
          "color": "rgb(255, 127, 14)",
          "dash": "dash",
          "width": 2
         },
         "mode": "lines",
         "name": "141-03-23 00:00 (Halley)",
         "type": "scatter",
         "uid": "6ba27671-83ed-410e-a032-8e074575b80d",
         "x": {
          "dtype": "float64",
          "shape": [
           100
          ]
         },
         "y": {
          "dtype": "float64",
          "shape": [
           100
          ]
         }
        },
        {
         "marker": {
          "color": "rgb(255, 127, 14)",
          "size": 10
         },
         "mode": "markers",
         "name": "141-03-23 00:00 (Halley)",
         "type": "scatter",
         "uid": "2c3bd45d-47ca-4153-95ee-1fb181f1011d",
         "x": {
          "dtype": "float64",
          "shape": [
           1
          ]
         },
         "y": {
          "dtype": "float64",
          "shape": [
           1
          ]
         }
        },
        {
         "hoverinfo": "none",
         "line": {
          "color": "rgb(44, 160, 44)",
          "dash": "dash",
          "width": 2
         },
         "mode": "lines",
         "name": "530-10-10 00:00 (Halley)",
         "type": "scatter",
         "uid": "86755ac2-a89c-46c2-a68d-5b58daa1f168",
         "x": {
          "dtype": "float64",
          "shape": [
           100
          ]
         },
         "y": {
          "dtype": "float64",
          "shape": [
           100
          ]
         }
        },
        {
         "marker": {
          "color": "rgb(44, 160, 44)",
          "size": 10
         },
         "mode": "markers",
         "name": "530-10-10 00:00 (Halley)",
         "type": "scatter",
         "uid": "893a14a7-863c-4fc0-bc10-74b405887d14",
         "x": {
          "dtype": "float64",
          "shape": [
           1
          ]
         },
         "y": {
          "dtype": "float64",
          "shape": [
           1
          ]
         }
        },
        {
         "hoverinfo": "none",
         "line": {
          "color": "rgb(214, 39, 40)",
          "dash": "dash",
          "width": 2
         },
         "mode": "lines",
         "name": "1301-11-17 00:00 (Halley)",
         "type": "scatter",
         "uid": "1551d415-71d4-42a3-a596-f7bf268afd4c",
         "x": {
          "dtype": "float64",
          "shape": [
           100
          ]
         },
         "y": {
          "dtype": "float64",
          "shape": [
           100
          ]
         }
        },
        {
         "marker": {
          "color": "rgb(214, 39, 40)",
          "size": 10
         },
         "mode": "markers",
         "name": "1301-11-17 00:00 (Halley)",
         "type": "scatter",
         "uid": "89788e3d-a0ae-4965-a3db-81e4e67d5e63",
         "x": {
          "dtype": "float64",
          "shape": [
           1
          ]
         },
         "y": {
          "dtype": "float64",
          "shape": [
           1
          ]
         }
        },
        {
         "hoverinfo": "none",
         "line": {
          "color": "rgb(148, 103, 189)",
          "dash": "dash",
          "width": 2
         },
         "mode": "lines",
         "name": "1994-02-17 00:00 (Halley)",
         "type": "scatter",
         "uid": "8532be8b-0687-49e5-b2cb-1681d96638be",
         "x": {
          "dtype": "float64",
          "shape": [
           100
          ]
         },
         "y": {
          "dtype": "float64",
          "shape": [
           100
          ]
         }
        },
        {
         "marker": {
          "color": "rgb(148, 103, 189)",
          "size": 10
         },
         "mode": "markers",
         "name": "1994-02-17 00:00 (Halley)",
         "type": "scatter",
         "uid": "ceb17fc8-765a-495c-b26c-c980b5f56382",
         "x": {
          "dtype": "float64",
          "shape": [
           1
          ]
         },
         "y": {
          "dtype": "float64",
          "shape": [
           1
          ]
         }
        }
       ],
       "_js2py_layoutDelta": {
        "layout_delta": {
         "annotations": [],
         "calendar": "gregorian",
         "clickmode": "event",
         "colorscale": {
          "diverging": [
           [
            0,
            "rgb(5,10,172)"
           ],
           [
            0.35,
            "rgb(106,137,247)"
           ],
           [
            0.5,
            "rgb(190,190,190)"
           ],
           [
            0.6,
            "rgb(220,170,132)"
           ],
           [
            0.7,
            "rgb(230,145,90)"
           ],
           [
            1,
            "rgb(178,10,28)"
           ]
          ],
          "sequential": [
           [
            0,
            "rgb(220,220,220)"
           ],
           [
            0.2,
            "rgb(245,195,157)"
           ],
           [
            0.4,
            "rgb(245,160,105)"
           ],
           [
            1,
            "rgb(178,10,28)"
           ]
          ],
          "sequentialminus": [
           [
            0,
            "rgb(5,10,172)"
           ],
           [
            0.35,
            "rgb(40,60,190)"
           ],
           [
            0.5,
            "rgb(70,100,245)"
           ],
           [
            0.6,
            "rgb(90,120,245)"
           ],
           [
            0.7,
            "rgb(106,137,247)"
           ],
           [
            1,
            "rgb(220,220,220)"
           ]
          ]
         },
         "colorway": [
          "#1f77b4",
          "#ff7f0e",
          "#2ca02c",
          "#d62728",
          "#9467bd",
          "#8c564b",
          "#e377c2",
          "#7f7f7f",
          "#bcbd22",
          "#17becf"
         ],
         "dragmode": "zoom",
         "font": {
          "color": "#444",
          "family": "\"Open Sans\", verdana, arial, sans-serif",
          "size": 12
         },
         "height": 470,
         "hidesources": false,
         "hoverdistance": 20,
         "hoverlabel": {
          "font": {
           "family": "Arial, sans-serif",
           "size": 13
          },
          "namelength": 15
         },
         "hovermode": "x",
         "images": [],
         "legend": {
          "bgcolor": "#fff",
          "bordercolor": "#444",
          "borderwidth": 0,
          "font": {
           "color": "#444",
           "family": "\"Open Sans\", verdana, arial, sans-serif",
           "size": 12
          },
          "orientation": "v",
          "traceorder": "normal",
          "valign": "middle",
          "x": 1.02,
          "xanchor": "left",
          "y": 1,
          "yanchor": "auto"
         },
         "margin": {
          "autoexpand": true,
          "b": 80,
          "l": 80,
          "pad": 0,
          "r": 80,
          "t": 100
         },
         "modebar": {
          "activecolor": "rgba(68, 68, 68, 0.7)",
          "bgcolor": "rgba(255, 255, 255, 0.5)",
          "color": "rgba(68, 68, 68, 0.3)",
          "orientation": "h"
         },
         "paper_bgcolor": "#fff",
         "plot_bgcolor": "#fff",
         "separators": ".,",
         "shapes": [
          {
           "layer": "above",
           "line": {
            "dash": "solid",
            "width": 2
           },
           "visible": true,
           "xsizemode": "scaled",
           "ysizemode": "scaled"
          }
         ],
         "showlegend": true,
         "sliders": [],
         "spikedistance": 20,
         "title": {
          "font": {
           "color": "#444",
           "family": "\"Open Sans\", verdana, arial, sans-serif",
           "size": 17
          },
          "pad": {
           "b": 0,
           "l": 0,
           "r": 0,
           "t": 0
          },
          "text": "Click to enter Plot title",
          "x": 0.5,
          "xanchor": "auto",
          "xref": "container",
          "y": "auto",
          "yanchor": "auto",
          "yref": "container"
         },
         "updatemenus": [],
         "width": 966.8,
         "xaxis": {
          "anchor": "y",
          "automargin": false,
          "autorange": true,
          "color": "#444",
          "constraintoward": "center",
          "domain": [
           1.1102230246251565e-16,
           0.9999999999999999
          ],
          "dtick": 1000000000,
          "exponentformat": "B",
          "fixedrange": false,
          "gridcolor": "rgb(238, 238, 238)",
          "gridwidth": 1,
          "hoverformat": "",
          "layer": "above traces",
          "nticks": 0,
          "range": [
           -5424937265.248556,
           436581946.70030427
          ],
          "rangemode": "normal",
          "separatethousands": false,
          "showexponent": "all",
          "showgrid": true,
          "showline": false,
          "showspikes": false,
          "showticklabels": true,
          "side": "bottom",
          "tick0": 0,
          "tickangle": "auto",
          "tickfont": {
           "color": "#444",
           "family": "\"Open Sans\", verdana, arial, sans-serif",
           "size": 12
          },
          "tickformat": "",
          "tickmode": "auto",
          "tickprefix": "",
          "ticks": "",
          "ticksuffix": "",
          "title": {
           "font": {
            "color": "#444",
            "family": "\"Open Sans\", verdana, arial, sans-serif",
            "size": 14
           },
           "text": "x (km)"
          },
          "type": "linear",
          "visible": true,
          "zeroline": true,
          "zerolinecolor": "#444",
          "zerolinewidth": 1
         },
         "yaxis": {
          "anchor": "x",
          "automargin": false,
          "autorange": true,
          "color": "#444",
          "constrain": "range",
          "constraintoward": "middle",
          "domain": [
           0,
           1
          ],
          "dtick": 500000000,
          "exponentformat": "B",
          "fixedrange": false,
          "gridcolor": "rgb(238, 238, 238)",
          "gridwidth": 1,
          "hoverformat": "",
          "layer": "above traces",
          "nticks": 0,
          "range": [
           -1218845956.2821155,
           1396293384.4335299
          ],
          "rangemode": "normal",
          "scaleratio": 1,
          "separatethousands": false,
          "showexponent": "all",
          "showgrid": true,
          "showline": false,
          "showspikes": false,
          "showticklabels": true,
          "side": "left",
          "tick0": 0,
          "tickangle": "auto",
          "tickfont": {
           "color": "#444",
           "family": "\"Open Sans\", verdana, arial, sans-serif",
           "size": 12
          },
          "tickformat": "",
          "tickmode": "auto",
          "tickprefix": "",
          "ticks": "",
          "ticksuffix": "",
          "title": {
           "font": {
            "color": "#444",
            "family": "\"Open Sans\", verdana, arial, sans-serif",
            "size": 14
           },
           "text": "y (km)"
          },
          "type": "linear",
          "visible": true,
          "zeroline": true,
          "zerolinecolor": "#444",
          "zerolinewidth": 1
         }
        },
        "layout_edit_id": 11
       },
       "_js2py_pointsCallback": {},
       "_js2py_relayout": {},
       "_js2py_restyle": {},
       "_js2py_traceDeltas": {
        "trace_deltas": [
         {
          "connectgaps": false,
          "error_x": {
           "visible": false
          },
          "error_y": {
           "visible": false
          },
          "fill": "none",
          "hoverlabel": {
           "font": {
            "family": "Arial, sans-serif",
            "size": 13
           },
           "namelength": 15
          },
          "hoveron": "points",
          "hovertemplate": "",
          "hovertext": "",
          "index": 0,
          "legendgroup": "",
          "line": {
           "shape": "linear",
           "simplify": true
          },
          "opacity": 1,
          "showlegend": true,
          "stackgroup": "",
          "text": "",
          "uid": "3c49dbc1-9839-472a-b115-df9df7077067",
          "visible": true,
          "xaxis": "x",
          "xcalendar": "gregorian",
          "yaxis": "y",
          "ycalendar": "gregorian"
         },
         {
          "cliponaxis": true,
          "error_x": {
           "visible": false
          },
          "error_y": {
           "visible": false
          },
          "fill": "none",
          "hoverinfo": "all",
          "hoverlabel": {
           "font": {
            "family": "Arial, sans-serif",
            "size": 13
           },
           "namelength": 15
          },
          "hoveron": "points",
          "hovertemplate": "",
          "hovertext": "",
          "index": 1,
          "legendgroup": "",
          "marker": {
           "gradient": {
            "type": "none"
           },
           "line": {
            "color": "#444",
            "width": 0
           },
           "maxdisplayed": 0,
           "opacity": 1,
           "symbol": "circle"
          },
          "opacity": 1,
          "selected": {
           "marker": {
            "opacity": 1
           }
          },
          "showlegend": true,
          "stackgroup": "",
          "text": "",
          "uid": "79290466-6c3f-4d91-9882-82e99fe8f415",
          "unselected": {
           "marker": {
            "opacity": 0.2
           }
          },
          "visible": true,
          "xaxis": "x",
          "xcalendar": "gregorian",
          "yaxis": "y",
          "ycalendar": "gregorian"
         },
         {
          "connectgaps": false,
          "error_x": {
           "visible": false
          },
          "error_y": {
           "visible": false
          },
          "fill": "none",
          "hoverlabel": {
           "font": {
            "family": "Arial, sans-serif",
            "size": 13
           },
           "namelength": 15
          },
          "hoveron": "points",
          "hovertemplate": "",
          "hovertext": "",
          "index": 2,
          "legendgroup": "",
          "line": {
           "shape": "linear",
           "simplify": true
          },
          "opacity": 1,
          "showlegend": true,
          "stackgroup": "",
          "text": "",
          "uid": "6ba27671-83ed-410e-a032-8e074575b80d",
          "visible": true,
          "xaxis": "x",
          "xcalendar": "gregorian",
          "yaxis": "y",
          "ycalendar": "gregorian"
         },
         {
          "cliponaxis": true,
          "error_x": {
           "visible": false
          },
          "error_y": {
           "visible": false
          },
          "fill": "none",
          "hoverinfo": "all",
          "hoverlabel": {
           "font": {
            "family": "Arial, sans-serif",
            "size": 13
           },
           "namelength": 15
          },
          "hoveron": "points",
          "hovertemplate": "",
          "hovertext": "",
          "index": 3,
          "legendgroup": "",
          "marker": {
           "gradient": {
            "type": "none"
           },
           "line": {
            "color": "#444",
            "width": 0
           },
           "maxdisplayed": 0,
           "opacity": 1,
           "symbol": "circle"
          },
          "opacity": 1,
          "selected": {
           "marker": {
            "opacity": 1
           }
          },
          "showlegend": true,
          "stackgroup": "",
          "text": "",
          "uid": "2c3bd45d-47ca-4153-95ee-1fb181f1011d",
          "unselected": {
           "marker": {
            "opacity": 0.2
           }
          },
          "visible": true,
          "xaxis": "x",
          "xcalendar": "gregorian",
          "yaxis": "y",
          "ycalendar": "gregorian"
         },
         {
          "connectgaps": false,
          "error_x": {
           "visible": false
          },
          "error_y": {
           "visible": false
          },
          "fill": "none",
          "hoverlabel": {
           "font": {
            "family": "Arial, sans-serif",
            "size": 13
           },
           "namelength": 15
          },
          "hoveron": "points",
          "hovertemplate": "",
          "hovertext": "",
          "index": 4,
          "legendgroup": "",
          "line": {
           "shape": "linear",
           "simplify": true
          },
          "opacity": 1,
          "showlegend": true,
          "stackgroup": "",
          "text": "",
          "uid": "86755ac2-a89c-46c2-a68d-5b58daa1f168",
          "visible": true,
          "xaxis": "x",
          "xcalendar": "gregorian",
          "yaxis": "y",
          "ycalendar": "gregorian"
         },
         {
          "cliponaxis": true,
          "error_x": {
           "visible": false
          },
          "error_y": {
           "visible": false
          },
          "fill": "none",
          "hoverinfo": "all",
          "hoverlabel": {
           "font": {
            "family": "Arial, sans-serif",
            "size": 13
           },
           "namelength": 15
          },
          "hoveron": "points",
          "hovertemplate": "",
          "hovertext": "",
          "index": 5,
          "legendgroup": "",
          "marker": {
           "gradient": {
            "type": "none"
           },
           "line": {
            "color": "#444",
            "width": 0
           },
           "maxdisplayed": 0,
           "opacity": 1,
           "symbol": "circle"
          },
          "opacity": 1,
          "selected": {
           "marker": {
            "opacity": 1
           }
          },
          "showlegend": true,
          "stackgroup": "",
          "text": "",
          "uid": "893a14a7-863c-4fc0-bc10-74b405887d14",
          "unselected": {
           "marker": {
            "opacity": 0.2
           }
          },
          "visible": true,
          "xaxis": "x",
          "xcalendar": "gregorian",
          "yaxis": "y",
          "ycalendar": "gregorian"
         },
         {
          "connectgaps": false,
          "error_x": {
           "visible": false
          },
          "error_y": {
           "visible": false
          },
          "fill": "none",
          "hoverlabel": {
           "font": {
            "family": "Arial, sans-serif",
            "size": 13
           },
           "namelength": 15
          },
          "hoveron": "points",
          "hovertemplate": "",
          "hovertext": "",
          "index": 6,
          "legendgroup": "",
          "line": {
           "shape": "linear",
           "simplify": true
          },
          "opacity": 1,
          "showlegend": true,
          "stackgroup": "",
          "text": "",
          "uid": "1551d415-71d4-42a3-a596-f7bf268afd4c",
          "visible": true,
          "xaxis": "x",
          "xcalendar": "gregorian",
          "yaxis": "y",
          "ycalendar": "gregorian"
         },
         {
          "cliponaxis": true,
          "error_x": {
           "visible": false
          },
          "error_y": {
           "visible": false
          },
          "fill": "none",
          "hoverinfo": "all",
          "hoverlabel": {
           "font": {
            "family": "Arial, sans-serif",
            "size": 13
           },
           "namelength": 15
          },
          "hoveron": "points",
          "hovertemplate": "",
          "hovertext": "",
          "index": 7,
          "legendgroup": "",
          "marker": {
           "gradient": {
            "type": "none"
           },
           "line": {
            "color": "#444",
            "width": 0
           },
           "maxdisplayed": 0,
           "opacity": 1,
           "symbol": "circle"
          },
          "opacity": 1,
          "selected": {
           "marker": {
            "opacity": 1
           }
          },
          "showlegend": true,
          "stackgroup": "",
          "text": "",
          "uid": "89788e3d-a0ae-4965-a3db-81e4e67d5e63",
          "unselected": {
           "marker": {
            "opacity": 0.2
           }
          },
          "visible": true,
          "xaxis": "x",
          "xcalendar": "gregorian",
          "yaxis": "y",
          "ycalendar": "gregorian"
         },
         {
          "connectgaps": false,
          "error_x": {
           "visible": false
          },
          "error_y": {
           "visible": false
          },
          "fill": "none",
          "hoverlabel": {
           "font": {
            "family": "Arial, sans-serif",
            "size": 13
           },
           "namelength": 15
          },
          "hoveron": "points",
          "hovertemplate": "",
          "hovertext": "",
          "index": 8,
          "legendgroup": "",
          "line": {
           "shape": "linear",
           "simplify": true
          },
          "opacity": 1,
          "showlegend": true,
          "stackgroup": "",
          "text": "",
          "uid": "8532be8b-0687-49e5-b2cb-1681d96638be",
          "visible": true,
          "xaxis": "x",
          "xcalendar": "gregorian",
          "yaxis": "y",
          "ycalendar": "gregorian"
         },
         {
          "cliponaxis": true,
          "error_x": {
           "visible": false
          },
          "error_y": {
           "visible": false
          },
          "fill": "none",
          "hoverinfo": "all",
          "hoverlabel": {
           "font": {
            "family": "Arial, sans-serif",
            "size": 13
           },
           "namelength": 15
          },
          "hoveron": "points",
          "hovertemplate": "",
          "hovertext": "",
          "index": 9,
          "legendgroup": "",
          "marker": {
           "gradient": {
            "type": "none"
           },
           "line": {
            "color": "#444",
            "width": 0
           },
           "maxdisplayed": 0,
           "opacity": 1,
           "symbol": "circle"
          },
          "opacity": 1,
          "selected": {
           "marker": {
            "opacity": 1
           }
          },
          "showlegend": true,
          "stackgroup": "",
          "text": "",
          "uid": "ceb17fc8-765a-495c-b26c-c980b5f56382",
          "unselected": {
           "marker": {
            "opacity": 0.2
           }
          },
          "visible": true,
          "xaxis": "x",
          "xcalendar": "gregorian",
          "yaxis": "y",
          "ycalendar": "gregorian"
         }
        ],
        "trace_edit_id": 11
       },
       "_js2py_update": {},
       "_last_layout_edit_id": 11,
       "_last_trace_edit_id": 11,
       "_layout": {
        "autosize": true,
        "shapes": [
         {
          "fillcolor": "#ffcc00",
          "line": {
           "color": "#ffcc00"
          },
          "opacity": 1,
          "type": "circle",
          "x0": -13136189.026166992,
          "x1": 13136189.026166992,
          "xref": "x",
          "y0": -13136189.026166992,
          "y1": 13136189.026166992,
          "yref": "y"
         }
        ],
        "template": {},
        "xaxis": {
         "constrain": "domain",
         "title": "x (km)"
        },
        "yaxis": {
         "scaleanchor": "x",
         "title": "y (km)"
        }
       },
       "_py2js_animate": {},
       "_py2js_deleteTraces": {},
       "_py2js_moveTraces": {},
       "_py2js_removeLayoutProps": {},
       "_py2js_removeTraceProps": {},
       "_py2js_restyle": {},
       "_view_count": 1
      }
     },
     "24d2c38e19f54605b6b67a72fa67cc35": {
      "buffers": [
       {
        "data": "qJhkpq/qkUGaQ0xMEN2RQYzC2UhAtJFB4OwWrmlwkUET9uJp0hGRQbDK3P3bmJBBphXgGgMGkEFlFPlAvrOOQRfi1wFDKo1BfKRPFCpxi0ETkrYpOoqJQUoDETRpd4dB8eimYNo6hUGpGvnj29aCQZLqW5nkTYBBgEhU8SJFe0FBnV3JRa91QS4iMlTnv29BIec7elO6Y0FkC1fP0WhNQaghrOnPTkXBUszF3FNCYsFB4mKJVmRvwWFMFi8ZVnbBuyehWhsGfcHKzWiApt2BwZMrYQFiN4XBsXDrBMyMiME+gEnTdNqLwexgIrP0HI/BouQMtncokcFA9cXei7mSwVC07WIZQJTBJKxnq426lcHgTsmZYieXweOMfhoghZjBz8d0qF3SmcE4hbzAww2bwSXKokQNNpzB5hzVyAhKncH+szbQmUiewb5JIvG5MJ/B8iP18bwAoMHDOsA8AV2gwXpyo7zKrKDBRb2SMsfvoMHu9YyRsSWhwaC2yUVSTqHBT6cDbn9pocGYNaQGHXehwZg1pAYdd6HBTqcDbn9pocGgtslFUk6hwfD1jJGxJaHBQ72SMsfvoMF8cqO8yqygwcY6wDwBXaDB9CP18bwAoMHCSSLxuTCfwQS0NtCZSJ7B6RzVyAhKncEwyqJEDTacwT6FvMDDDZvB2Md0qF3SmcHrjH4aIIWYwepOyZliJ5fBJqxnq426lcFWtO1iGUCUwUf1xd6LuZLBr+QMtncokcHvYCKz9ByPwVWASdN02ovBxnDrBMyMiMGoK2EBYjeFwdnNaICm3YHB5CehWhsGfcGFTBYvGVZ2wcDiYolWZG/BpszF3FNCYsH0Iqzpz05FwSAKV8/RaE1B5+Y7elO6Y0HtITJU579vQSCdXclFr3VBV0hU8SJFe0GN6luZ5E2AQZ8a+ePb1oJB6eimYNo6hUE/AxE0aXeHQQ2Stik6iolBbqRPFCpxi0EM4tcBQyqNQVkU+UC+s45BoxXgGgMGkEGtytz925iQQRD24mnSEZFB3+wWrmlwkUGLwtlIQLSRQZhDTEwQ3ZFBqJhkpq/qkUE=",
        "encoding": "base64",
        "path": [
         "_data",
         0,
         "x",
         "value"
        ]
       },
       {
        "data": "AAAAAACAUr7dCKONOGRZQeH+4EQiV2lB6QR8lwTxckFyxoeT8SJ5QXzfGEj1On9BVl43zmOZgkGUJZbTIIKFQTT25QKyVIhBGVmqhS4Oi0H6sfhfx6uNQduYziplFZBBd53OWFJEkUGC5Jz2cmGSQXX02hmha5NBC9MkYMphlEGrZegJ8UKVQcgs9/8sDpZBSrjEwqzClkFsN1tCtl+XQcuGJ56n5JdB+wfXy/dQmEGJP5skN6SYQaebQdgP3phBRL+oRUb+mEF/Ijg4uQSZQdmrGgpi8ZhBT/kYq1TEmEEZSQyMv32YQXIx/27rHZhBDYAtHDull0GfkTD8KhSXQRMYwZdQa5ZB7oGS/VmrlUGC5+YODdWUQcRxlLNG6ZNB1X5O9vnokkHSPx0KL9WRQTwRBjoCr5BBO5T6h0XvjkEiMp9Ao2CMQdROim3AtIlBeiWnBV7uhkFqhYpQWBCEQXRNmfOjHYFBGKohzJUyfEFFiSqe0gx2QdcXAkSpoG9BKCr/FBMHY0Ec5NjBfmdJQcbi2MF+Z0nBGir/FBMHY8GiFwJEqaBvwQeJKp7SDHbBEKohzJUyfMFXTZnzox2BwVeFilBYEITBXCWnBV7uhsG5ToptwLSJwQgyn0CjYIzBLZT6h0XvjsEtEQY6Aq+Qwck/HQov1ZHByH5O9vnoksG6cZSzRumTwXXn5g4N1ZTB5YGS/VmrlcEMGMGXUGuWwZiRMPwqFJfBBYAtHDull8FrMf9u6x2YwRNJDIy/fZjBS/kYq1TEmMHUqxoKYvGYwXoiODi5BJnBP7+oRUb+mMGmm0HYD96YwYg/myQ3pJjB+gfXy/dQmMHLhieep+SXwWw3W0K2X5fBSbjEwqzClsHHLPf/LA6Wwa1l6AnxQpXBDtMkYMphlMF19NoZoWuTwYXknPZyYZLBfJ3OWFJEkcHgmM4qZRWQwQCy+F/Hq43BJFmqhS4Oi8FA9uUCslSIwaQlltMggoXBZF43zmOZgsGa3xhI9Tp/wZbGh5PxInnB6wR8lwTxcsH7/uBEIldpwT8Jo404ZFnBAAAAAACAbb4=",
        "encoding": "base64",
        "path": [
         "_data",
         0,
         "y",
         "value"
        ]
       },
       {
        "data": "tUS+eJcHkcE=",
        "encoding": "base64",
        "path": [
         "_data",
         1,
         "x",
         "value"
        ]
       },
       {
        "data": "btAZ2emvl0E=",
        "encoding": "base64",
        "path": [
         "_data",
         1,
         "y",
         "value"
        ]
       },
       {
        "data": "uDSiniHPqkH5GjHTWSOsQQQjAeDbVa1B6o6R0GtlrkH2vTm28VCvQQdMXGS9C7BBsTg8MB1csEHItcJkRZmwQbduLvf2wrBBHNfy7AbZsEE/1QWIXtuwQQg+UV77ybBBC/gvXO+ksEEDNfSxYGywQQ3NiayJILBBQqC68nCDr0FygYurnaCuQdwTiFSDma1B0RgAJDFvrEEg+P6d2iKrQSpNTVfWtalBDglNlJwpqEF6MBzFxX+mQawGjuAIuqRBVaasnznaokGBeZWbRuKgQXUfQ59uqJ1BRsPOA1RkmUHwAHwoo/yUQUbUA4DmdZBBunjG+5Cph0Had1wcO3h8Qd6rgDaqtGJBPFh9nrblY8H6qwqncFt9wdgKfZm0ZYjBwDwZ564LkcFg9KTlWtyVwTp0L57nn5rB+1VW7WtRn8HB0zSjCPahwY+XEliMNaTBDh+O1O9kpsF0hmZ38oGowd5sN5FmiqrBRKxYozN8rMHhIeaIWFWuwTy62sP2CbDBBEqMIxPbsMEWWTPVKZ2xwfxEscZyT7LB8O5ZMDbxssFQfmVSzYGzwYDd0yCjALTBA8IQ3TRttMHy3rmcEse0wbBU/LzfDbXBxHESQlNBtcHvVX8iOGG1wRbqun1tbbXBm9EVvuZltcHtZbKlq0q1we9chUbYG7XBn1hm5ZzZtMGmM07IPYS0wYBV9u8SHLTBkJkhvYehs8GyTOyBGhWzwSValf9bd7LBOuJG0e7IscHaC3jEhgqxwfHYlB/oPLDBVBpWr83BrsG/a9lry+6swcIZ09uqAqvBFmPgSmf/qMHz9y3eE+emwRvj83DZu6TBvBeQWvR/osESHIsgsjWgwSTzzS3evpvBTcBV4if/lsFnRluNJjGSwV13uTKcs4rBljtUIzj8gMGy98zrkxhtwWg8M5rUJFNBHjhdAh/0d0Hh5Tq7WHCFQQw7h0+1vY5BeNLePUfsk0HavMDHwFuYQenglsy0qJxBpm27NFpnoEF0951xvGSiQc37fwd0SqRBHT9SRowWpkFgBIjnKsenQUjM+/aRWqlBtjSiniHPqkE=",
        "encoding": "base64",
        "path": [
         "_data",
         2,
         "x",
         "value"
        ]
       },
       {
        "data": "ddHnvdwYpcGIVmfF/+CiwUrEl7/4kaDBmNzO1VFcnME1DiXlDXCXwUBlD8k4ZJLBH4tTTwx8isG+0TqpiQWAwZjRXMPKvmXBuWI99TzqZEE2PUFxe9x/Qe9gm6FQoIpBUhWAwOCikkGmYqNyy+mXQf2cU9l3H51BU0ODlkMfoUGLUtn62KCjQaBr973mEaZB6TY3juhvqEGfIS68bbiqQRjDnb4b6axBZlKPn7D/rkEO9gyoAn2wQVvCNvAHa7FBh33szPJIskG8V1B83hWzQdUYzsH30LNBLm/av315tEEuQcK+wg61QTsRvd8skLVB6dyJuzb9tUEg9/Lrb1W2QQscq399mLZB1U8MWBrGtkFy5VdwF962QVg7Lg5c4LZB4DcM2+XMtkHuPrTmyKO2QY4kgJIvZbZBJW6xZVoRtkFH6uzKn6i1QbcwJrdrK7VB1t1WOj+atEFPQHT6r/WzQTKdLJlnPrNBIg4LBSN1skHNOba2sZqxQTuoEtv0r7BB3lBK1rxrr0FsGEll4FqtQUmxd4x1L6tBi7Md1bjrqEHWe0Xa/5GmQTLRteC2JKRBVfyOV16moUGM0jyIEDOeQSqvIjerAZlBU5+DGue9k0EywqMBY9qMQWSnOiAKKoJBnjiQASHXbUHka3ozz7pZwQH8eum1pHvBdu8oO0xQiMFaLbV/LlORwaKfMNHyZJbBXnLiTTlYm8Fg3wjQ8xOgwVgdhRGEZ6LBbWzxf2ekpMG4YZaPT8imwXUBOXUH0ajBgWRObHa8qsERi0vgoYiswVL/1navM67ByvzB+Oa7r8GeiegL2o+wwcg+wAfULrHB70iLjz26scHwR7/thjGywfLExys1lLLBkv/GkOLhssH5anEKPxqzwfLDl38QPbPBvKoKDDNKs8E/BJolmUGzwaX/CapLI7PB4Vzv1WnvssEvYHwkKaaywaSjXxjVR7LB2Zrt7c7UscGEBeU2jU2xwUGjNWCbsrDBbiZHIpkEsMH3Gam4c4iuwe4tC7eH5KzB4ugJHR8fq8GPwstMDTqpwTNTfktGN6fBedHnvdwYpcE=",
        "encoding": "base64",
        "path": [
         "_data",
         2,
         "y",
         "value"
        ]
       },
       {
        "data": "ctsN572ar0E=",
        "encoding": "base64",
        "path": [
         "_data",
         3,
         "x",
         "value"
        ]
       },
       {
        "data": "7Ot7+NzVoEE=",
        "encoding": "base64",
        "path": [
         "_data",
         3,
         "y",
         "value"
        ]
       }
      ],
      "model_module": "plotlywidget",
      "model_module_version": "^0.6.0",
      "model_name": "FigureModel",
      "state": {
       "_config": {
        "plotlyServerURL": "https://plot.ly"
       },
       "_data": [
        {
         "hoverinfo": "none",
         "line": {
          "color": "rgb(31, 119, 180)",
          "dash": "dash",
          "width": 2
         },
         "mode": "lines",
         "name": "2008-02-15 00:00 (Atira (NEO))",
         "type": "scatter",
         "uid": "b87762d3-bbad-497c-8991-ee741ed3abd6",
         "x": {
          "dtype": "float64",
          "shape": [
           100
          ]
         },
         "y": {
          "dtype": "float64",
          "shape": [
           100
          ]
         }
        },
        {
         "marker": {
          "color": "rgb(31, 119, 180)",
          "size": 10
         },
         "mode": "markers",
         "name": "2008-02-15 00:00 (Atira (NEO))",
         "type": "scatter",
         "uid": "88c24f28-e1fc-4387-9f78-a2236c1aa211",
         "x": {
          "dtype": "float64",
          "shape": [
           1
          ]
         },
         "y": {
          "dtype": "float64",
          "shape": [
           1
          ]
         }
        },
        {
         "hoverinfo": "none",
         "line": {
          "color": "rgb(255, 127, 14)",
          "dash": "dash",
          "width": 2
         },
         "mode": "lines",
         "name": "2012-09-13 00:00 (Wikipedia (asteroid))",
         "type": "scatter",
         "uid": "cda61510-d0e5-4377-b3f6-03d81a65bebf",
         "x": {
          "dtype": "float64",
          "shape": [
           100
          ]
         },
         "y": {
          "dtype": "float64",
          "shape": [
           100
          ]
         }
        },
        {
         "marker": {
          "color": "rgb(255, 127, 14)",
          "size": 10
         },
         "mode": "markers",
         "name": "2012-09-13 00:00 (Wikipedia (asteroid))",
         "type": "scatter",
         "uid": "d477a8aa-e2f2-460d-b1f3-7fedb87993fe",
         "x": {
          "dtype": "float64",
          "shape": [
           1
          ]
         },
         "y": {
          "dtype": "float64",
          "shape": [
           1
          ]
         }
        }
       ],
       "_js2py_layoutDelta": {
        "layout_delta": {
         "annotations": [],
         "calendar": "gregorian",
         "clickmode": "event",
         "colorscale": {
          "diverging": [
           [
            0,
            "rgb(5,10,172)"
           ],
           [
            0.35,
            "rgb(106,137,247)"
           ],
           [
            0.5,
            "rgb(190,190,190)"
           ],
           [
            0.6,
            "rgb(220,170,132)"
           ],
           [
            0.7,
            "rgb(230,145,90)"
           ],
           [
            1,
            "rgb(178,10,28)"
           ]
          ],
          "sequential": [
           [
            0,
            "rgb(220,220,220)"
           ],
           [
            0.2,
            "rgb(245,195,157)"
           ],
           [
            0.4,
            "rgb(245,160,105)"
           ],
           [
            1,
            "rgb(178,10,28)"
           ]
          ],
          "sequentialminus": [
           [
            0,
            "rgb(5,10,172)"
           ],
           [
            0.35,
            "rgb(40,60,190)"
           ],
           [
            0.5,
            "rgb(70,100,245)"
           ],
           [
            0.6,
            "rgb(90,120,245)"
           ],
           [
            0.7,
            "rgb(106,137,247)"
           ],
           [
            1,
            "rgb(220,220,220)"
           ]
          ]
         },
         "colorway": [
          "#1f77b4",
          "#ff7f0e",
          "#2ca02c",
          "#d62728",
          "#9467bd",
          "#8c564b",
          "#e377c2",
          "#7f7f7f",
          "#bcbd22",
          "#17becf"
         ],
         "dragmode": "zoom",
         "font": {
          "color": "#444",
          "family": "\"Open Sans\", verdana, arial, sans-serif",
          "size": 12
         },
         "height": 470,
         "hidesources": false,
         "hoverdistance": 20,
         "hoverlabel": {
          "font": {
           "family": "Arial, sans-serif",
           "size": 13
          },
          "namelength": 15
         },
         "hovermode": "x",
         "images": [],
         "legend": {
          "bgcolor": "#fff",
          "bordercolor": "#444",
          "borderwidth": 0,
          "font": {
           "color": "#444",
           "family": "\"Open Sans\", verdana, arial, sans-serif",
           "size": 12
          },
          "orientation": "v",
          "traceorder": "normal",
          "valign": "middle",
          "x": 1.02,
          "xanchor": "left",
          "y": 1,
          "yanchor": "auto"
         },
         "margin": {
          "autoexpand": true,
          "b": 80,
          "l": 80,
          "pad": 0,
          "r": 80,
          "t": 100
         },
         "modebar": {
          "activecolor": "rgba(68, 68, 68, 0.7)",
          "bgcolor": "rgba(255, 255, 255, 0.5)",
          "color": "rgba(68, 68, 68, 0.3)",
          "orientation": "h"
         },
         "paper_bgcolor": "#fff",
         "plot_bgcolor": "#fff",
         "separators": ".,",
         "shapes": [
          {
           "layer": "above",
           "line": {
            "dash": "solid",
            "width": 2
           },
           "visible": true,
           "xsizemode": "scaled",
           "ysizemode": "scaled"
          }
         ],
         "showlegend": true,
         "sliders": [],
         "spikedistance": 20,
         "title": {
          "font": {
           "color": "#444",
           "family": "\"Open Sans\", verdana, arial, sans-serif",
           "size": 17
          },
          "pad": {
           "b": 0,
           "l": 0,
           "r": 0,
           "t": 0
          },
          "text": "Click to enter Plot title",
          "x": 0.5,
          "xanchor": "auto",
          "xref": "container",
          "y": "auto",
          "yanchor": "auto",
          "yref": "container"
         },
         "updatemenus": [],
         "width": 966.8,
         "xaxis": {
          "anchor": "y",
          "automargin": false,
          "autorange": true,
          "color": "#444",
          "constraintoward": "center",
          "domain": [
           0.26773753963377184,
           0.7322624603662282
          ],
          "dtick": 200000000,
          "exponentformat": "B",
          "fixedrange": false,
          "gridcolor": "rgb(238, 238, 238)",
          "gridwidth": 1,
          "hoverformat": "",
          "layer": "above traces",
          "nticks": 0,
          "range": [
           -359492989.73013437,
           359441723.290033
          ],
          "rangemode": "normal",
          "separatethousands": false,
          "showexponent": "all",
          "showgrid": true,
          "showline": false,
          "showspikes": false,
          "showticklabels": true,
          "side": "bottom",
          "tick0": 0,
          "tickangle": "auto",
          "tickfont": {
           "color": "#444",
           "family": "\"Open Sans\", verdana, arial, sans-serif",
           "size": 12
          },
          "tickformat": "",
          "tickmode": "auto",
          "tickprefix": "",
          "ticks": "",
          "ticksuffix": "",
          "title": {
           "font": {
            "color": "#444",
            "family": "\"Open Sans\", verdana, arial, sans-serif",
            "size": 14
           },
           "text": "x (km)"
          },
          "type": "linear",
          "visible": true,
          "zeroline": true,
          "zerolinecolor": "#444",
          "zerolinewidth": 1
         },
         "yaxis": {
          "anchor": "x",
          "automargin": false,
          "autorange": true,
          "color": "#444",
          "constrain": "range",
          "constraintoward": "middle",
          "domain": [
           0,
           1
          ],
          "dtick": 100000000,
          "exponentformat": "B",
          "fixedrange": false,
          "gridcolor": "rgb(238, 238, 238)",
          "gridwidth": 1,
          "hoverformat": "",
          "layer": "above traces",
          "nticks": 0,
          "range": [
           -362931625.9429044,
           423104172.0818297
          ],
          "rangemode": "normal",
          "scaleratio": 1,
          "separatethousands": false,
          "showexponent": "all",
          "showgrid": true,
          "showline": false,
          "showspikes": false,
          "showticklabels": true,
          "side": "left",
          "tick0": 0,
          "tickangle": "auto",
          "tickfont": {
           "color": "#444",
           "family": "\"Open Sans\", verdana, arial, sans-serif",
           "size": 12
          },
          "tickformat": "",
          "tickmode": "auto",
          "tickprefix": "",
          "ticks": "",
          "ticksuffix": "",
          "title": {
           "font": {
            "color": "#444",
            "family": "\"Open Sans\", verdana, arial, sans-serif",
            "size": 14
           },
           "text": "y (km)"
          },
          "type": "linear",
          "visible": true,
          "zeroline": true,
          "zerolinecolor": "#444",
          "zerolinewidth": 1
         }
        },
        "layout_edit_id": 5
       },
       "_js2py_pointsCallback": {},
       "_js2py_relayout": {},
       "_js2py_restyle": {},
       "_js2py_traceDeltas": {
        "trace_deltas": [
         {
          "connectgaps": false,
          "error_x": {
           "visible": false
          },
          "error_y": {
           "visible": false
          },
          "fill": "none",
          "hoverlabel": {
           "font": {
            "family": "Arial, sans-serif",
            "size": 13
           },
           "namelength": 15
          },
          "hoveron": "points",
          "hovertemplate": "",
          "hovertext": "",
          "index": 0,
          "legendgroup": "",
          "line": {
           "shape": "linear",
           "simplify": true
          },
          "opacity": 1,
          "showlegend": true,
          "stackgroup": "",
          "text": "",
          "uid": "b87762d3-bbad-497c-8991-ee741ed3abd6",
          "visible": true,
          "xaxis": "x",
          "xcalendar": "gregorian",
          "yaxis": "y",
          "ycalendar": "gregorian"
         },
         {
          "cliponaxis": true,
          "error_x": {
           "visible": false
          },
          "error_y": {
           "visible": false
          },
          "fill": "none",
          "hoverinfo": "all",
          "hoverlabel": {
           "font": {
            "family": "Arial, sans-serif",
            "size": 13
           },
           "namelength": 15
          },
          "hoveron": "points",
          "hovertemplate": "",
          "hovertext": "",
          "index": 1,
          "legendgroup": "",
          "marker": {
           "gradient": {
            "type": "none"
           },
           "line": {
            "color": "#444",
            "width": 0
           },
           "maxdisplayed": 0,
           "opacity": 1,
           "symbol": "circle"
          },
          "opacity": 1,
          "selected": {
           "marker": {
            "opacity": 1
           }
          },
          "showlegend": true,
          "stackgroup": "",
          "text": "",
          "uid": "88c24f28-e1fc-4387-9f78-a2236c1aa211",
          "unselected": {
           "marker": {
            "opacity": 0.2
           }
          },
          "visible": true,
          "xaxis": "x",
          "xcalendar": "gregorian",
          "yaxis": "y",
          "ycalendar": "gregorian"
         },
         {
          "connectgaps": false,
          "error_x": {
           "visible": false
          },
          "error_y": {
           "visible": false
          },
          "fill": "none",
          "hoverlabel": {
           "font": {
            "family": "Arial, sans-serif",
            "size": 13
           },
           "namelength": 15
          },
          "hoveron": "points",
          "hovertemplate": "",
          "hovertext": "",
          "index": 2,
          "legendgroup": "",
          "line": {
           "shape": "linear",
           "simplify": true
          },
          "opacity": 1,
          "showlegend": true,
          "stackgroup": "",
          "text": "",
          "uid": "cda61510-d0e5-4377-b3f6-03d81a65bebf",
          "visible": true,
          "xaxis": "x",
          "xcalendar": "gregorian",
          "yaxis": "y",
          "ycalendar": "gregorian"
         },
         {
          "cliponaxis": true,
          "error_x": {
           "visible": false
          },
          "error_y": {
           "visible": false
          },
          "fill": "none",
          "hoverinfo": "all",
          "hoverlabel": {
           "font": {
            "family": "Arial, sans-serif",
            "size": 13
           },
           "namelength": 15
          },
          "hoveron": "points",
          "hovertemplate": "",
          "hovertext": "",
          "index": 3,
          "legendgroup": "",
          "marker": {
           "gradient": {
            "type": "none"
           },
           "line": {
            "color": "#444",
            "width": 0
           },
           "maxdisplayed": 0,
           "opacity": 1,
           "symbol": "circle"
          },
          "opacity": 1,
          "selected": {
           "marker": {
            "opacity": 1
           }
          },
          "showlegend": true,
          "stackgroup": "",
          "text": "",
          "uid": "d477a8aa-e2f2-460d-b1f3-7fedb87993fe",
          "unselected": {
           "marker": {
            "opacity": 0.2
           }
          },
          "visible": true,
          "xaxis": "x",
          "xcalendar": "gregorian",
          "yaxis": "y",
          "ycalendar": "gregorian"
         }
        ],
        "trace_edit_id": 5
       },
       "_js2py_update": {},
       "_last_layout_edit_id": 5,
       "_last_trace_edit_id": 5,
       "_layout": {
        "autosize": true,
        "shapes": [
         {
          "fillcolor": "#ffcc00",
          "line": {
           "color": "#ffcc00"
          },
          "opacity": 1,
          "type": "circle",
          "x0": -11272239.839735778,
          "x1": 11272239.839735778,
          "xref": "x",
          "y0": -11272239.839735778,
          "y1": 11272239.839735778,
          "yref": "y"
         }
        ],
        "template": {},
        "xaxis": {
         "constrain": "domain",
         "title": "x (km)"
        },
        "yaxis": {
         "scaleanchor": "x",
         "title": "y (km)"
        }
       },
       "_py2js_animate": {},
       "_py2js_deleteTraces": {},
       "_py2js_moveTraces": {},
       "_py2js_removeLayoutProps": {},
       "_py2js_removeTraceProps": {},
       "_py2js_restyle": {},
       "_view_count": 1
      }
     },
     "277c43d15dc54a509ace91ee8a338e0d": {
      "buffers": [
       {
        "data": "qJhkpq/qkUGaQ0xMEN2RQYzC2UhAtJFB4OwWrmlwkUET9uJp0hGRQbDK3P3bmJBBphXgGgMGkEFlFPlAvrOOQRfi1wFDKo1BfKRPFCpxi0ETkrYpOoqJQUoDETRpd4dB8eimYNo6hUGpGvnj29aCQZLqW5nkTYBBgEhU8SJFe0FBnV3JRa91QS4iMlTnv29BIec7elO6Y0FkC1fP0WhNQaghrOnPTkXBUszF3FNCYsFB4mKJVmRvwWFMFi8ZVnbBuyehWhsGfcHKzWiApt2BwZMrYQFiN4XBsXDrBMyMiME+gEnTdNqLwexgIrP0HI/BouQMtncokcFA9cXei7mSwVC07WIZQJTBJKxnq426lcHgTsmZYieXweOMfhoghZjBz8d0qF3SmcE4hbzAww2bwSXKokQNNpzB5hzVyAhKncH+szbQmUiewb5JIvG5MJ/B8iP18bwAoMHDOsA8AV2gwXpyo7zKrKDBRb2SMsfvoMHu9YyRsSWhwaC2yUVSTqHBT6cDbn9pocGYNaQGHXehwZg1pAYdd6HBTqcDbn9pocGgtslFUk6hwfD1jJGxJaHBQ72SMsfvoMF8cqO8yqygwcY6wDwBXaDB9CP18bwAoMHCSSLxuTCfwQS0NtCZSJ7B6RzVyAhKncEwyqJEDTacwT6FvMDDDZvB2Md0qF3SmcHrjH4aIIWYwepOyZliJ5fBJqxnq426lcFWtO1iGUCUwUf1xd6LuZLBr+QMtncokcHvYCKz9ByPwVWASdN02ovBxnDrBMyMiMGoK2EBYjeFwdnNaICm3YHB5CehWhsGfcGFTBYvGVZ2wcDiYolWZG/BpszF3FNCYsH0Iqzpz05FwSAKV8/RaE1B5+Y7elO6Y0HtITJU579vQSCdXclFr3VBV0hU8SJFe0GN6luZ5E2AQZ8a+ePb1oJB6eimYNo6hUE/AxE0aXeHQQ2Stik6iolBbqRPFCpxi0EM4tcBQyqNQVkU+UC+s45BoxXgGgMGkEGtytz925iQQRD24mnSEZFB3+wWrmlwkUGLwtlIQLSRQZhDTEwQ3ZFBqJhkpq/qkUE=",
        "encoding": "base64",
        "path": [
         "_data",
         0,
         "x",
         "value"
        ]
       },
       {
        "data": "AAAAAACAUr7dCKONOGRZQeH+4EQiV2lB6QR8lwTxckFyxoeT8SJ5QXzfGEj1On9BVl43zmOZgkGUJZbTIIKFQTT25QKyVIhBGVmqhS4Oi0H6sfhfx6uNQduYziplFZBBd53OWFJEkUGC5Jz2cmGSQXX02hmha5NBC9MkYMphlEGrZegJ8UKVQcgs9/8sDpZBSrjEwqzClkFsN1tCtl+XQcuGJ56n5JdB+wfXy/dQmEGJP5skN6SYQaebQdgP3phBRL+oRUb+mEF/Ijg4uQSZQdmrGgpi8ZhBT/kYq1TEmEEZSQyMv32YQXIx/27rHZhBDYAtHDull0GfkTD8KhSXQRMYwZdQa5ZB7oGS/VmrlUGC5+YODdWUQcRxlLNG6ZNB1X5O9vnokkHSPx0KL9WRQTwRBjoCr5BBO5T6h0XvjkEiMp9Ao2CMQdROim3AtIlBeiWnBV7uhkFqhYpQWBCEQXRNmfOjHYFBGKohzJUyfEFFiSqe0gx2QdcXAkSpoG9BKCr/FBMHY0Ec5NjBfmdJQcbi2MF+Z0nBGir/FBMHY8GiFwJEqaBvwQeJKp7SDHbBEKohzJUyfMFXTZnzox2BwVeFilBYEITBXCWnBV7uhsG5ToptwLSJwQgyn0CjYIzBLZT6h0XvjsEtEQY6Aq+Qwck/HQov1ZHByH5O9vnoksG6cZSzRumTwXXn5g4N1ZTB5YGS/VmrlcEMGMGXUGuWwZiRMPwqFJfBBYAtHDull8FrMf9u6x2YwRNJDIy/fZjBS/kYq1TEmMHUqxoKYvGYwXoiODi5BJnBP7+oRUb+mMGmm0HYD96YwYg/myQ3pJjB+gfXy/dQmMHLhieep+SXwWw3W0K2X5fBSbjEwqzClsHHLPf/LA6Wwa1l6AnxQpXBDtMkYMphlMF19NoZoWuTwYXknPZyYZLBfJ3OWFJEkcHgmM4qZRWQwQCy+F/Hq43BJFmqhS4Oi8FA9uUCslSIwaQlltMggoXBZF43zmOZgsGa3xhI9Tp/wZbGh5PxInnB6wR8lwTxcsH7/uBEIldpwT8Jo404ZFnBAAAAAACAbb4=",
        "encoding": "base64",
        "path": [
         "_data",
         0,
         "y",
         "value"
        ]
       },
       {
        "data": "tUS+eJcHkcE=",
        "encoding": "base64",
        "path": [
         "_data",
         1,
         "x",
         "value"
        ]
       },
       {
        "data": "btAZ2emvl0E=",
        "encoding": "base64",
        "path": [
         "_data",
         1,
         "y",
         "value"
        ]
       },
       {
        "data": "uDSiniHPqkH5GjHTWSOsQQQjAeDbVa1B6o6R0GtlrkH2vTm28VCvQQdMXGS9C7BBsTg8MB1csEHItcJkRZmwQbduLvf2wrBBHNfy7AbZsEE/1QWIXtuwQQg+UV77ybBBC/gvXO+ksEEDNfSxYGywQQ3NiayJILBBQqC68nCDr0FygYurnaCuQdwTiFSDma1B0RgAJDFvrEEg+P6d2iKrQSpNTVfWtalBDglNlJwpqEF6MBzFxX+mQawGjuAIuqRBVaasnznaokGBeZWbRuKgQXUfQ59uqJ1BRsPOA1RkmUHwAHwoo/yUQUbUA4DmdZBBunjG+5Cph0Had1wcO3h8Qd6rgDaqtGJBPFh9nrblY8H6qwqncFt9wdgKfZm0ZYjBwDwZ564LkcFg9KTlWtyVwTp0L57nn5rB+1VW7WtRn8HB0zSjCPahwY+XEliMNaTBDh+O1O9kpsF0hmZ38oGowd5sN5FmiqrBRKxYozN8rMHhIeaIWFWuwTy62sP2CbDBBEqMIxPbsMEWWTPVKZ2xwfxEscZyT7LB8O5ZMDbxssFQfmVSzYGzwYDd0yCjALTBA8IQ3TRttMHy3rmcEse0wbBU/LzfDbXBxHESQlNBtcHvVX8iOGG1wRbqun1tbbXBm9EVvuZltcHtZbKlq0q1we9chUbYG7XBn1hm5ZzZtMGmM07IPYS0wYBV9u8SHLTBkJkhvYehs8GyTOyBGhWzwSValf9bd7LBOuJG0e7IscHaC3jEhgqxwfHYlB/oPLDBVBpWr83BrsG/a9lry+6swcIZ09uqAqvBFmPgSmf/qMHz9y3eE+emwRvj83DZu6TBvBeQWvR/osESHIsgsjWgwSTzzS3evpvBTcBV4if/lsFnRluNJjGSwV13uTKcs4rBljtUIzj8gMGy98zrkxhtwWg8M5rUJFNBHjhdAh/0d0Hh5Tq7WHCFQQw7h0+1vY5BeNLePUfsk0HavMDHwFuYQenglsy0qJxBpm27NFpnoEF0951xvGSiQc37fwd0SqRBHT9SRowWpkFgBIjnKsenQUjM+/aRWqlBtjSiniHPqkE=",
        "encoding": "base64",
        "path": [
         "_data",
         2,
         "x",
         "value"
        ]
       },
       {
        "data": "ddHnvdwYpcGIVmfF/+CiwUrEl7/4kaDBmNzO1VFcnME1DiXlDXCXwUBlD8k4ZJLBH4tTTwx8isG+0TqpiQWAwZjRXMPKvmXBuWI99TzqZEE2PUFxe9x/Qe9gm6FQoIpBUhWAwOCikkGmYqNyy+mXQf2cU9l3H51BU0ODlkMfoUGLUtn62KCjQaBr973mEaZB6TY3juhvqEGfIS68bbiqQRjDnb4b6axBZlKPn7D/rkEO9gyoAn2wQVvCNvAHa7FBh33szPJIskG8V1B83hWzQdUYzsH30LNBLm/av315tEEuQcK+wg61QTsRvd8skLVB6dyJuzb9tUEg9/Lrb1W2QQscq399mLZB1U8MWBrGtkFy5VdwF962QVg7Lg5c4LZB4DcM2+XMtkHuPrTmyKO2QY4kgJIvZbZBJW6xZVoRtkFH6uzKn6i1QbcwJrdrK7VB1t1WOj+atEFPQHT6r/WzQTKdLJlnPrNBIg4LBSN1skHNOba2sZqxQTuoEtv0r7BB3lBK1rxrr0FsGEll4FqtQUmxd4x1L6tBi7Md1bjrqEHWe0Xa/5GmQTLRteC2JKRBVfyOV16moUGM0jyIEDOeQSqvIjerAZlBU5+DGue9k0EywqMBY9qMQWSnOiAKKoJBnjiQASHXbUHka3ozz7pZwQH8eum1pHvBdu8oO0xQiMFaLbV/LlORwaKfMNHyZJbBXnLiTTlYm8Fg3wjQ8xOgwVgdhRGEZ6LBbWzxf2ekpMG4YZaPT8imwXUBOXUH0ajBgWRObHa8qsERi0vgoYiswVL/1navM67ByvzB+Oa7r8GeiegL2o+wwcg+wAfULrHB70iLjz26scHwR7/thjGywfLExys1lLLBkv/GkOLhssH5anEKPxqzwfLDl38QPbPBvKoKDDNKs8E/BJolmUGzwaX/CapLI7PB4Vzv1WnvssEvYHwkKaaywaSjXxjVR7LB2Zrt7c7UscGEBeU2jU2xwUGjNWCbsrDBbiZHIpkEsMH3Gam4c4iuwe4tC7eH5KzB4ugJHR8fq8GPwstMDTqpwTNTfktGN6fBedHnvdwYpcE=",
        "encoding": "base64",
        "path": [
         "_data",
         2,
         "y",
         "value"
        ]
       },
       {
        "data": "ctsN572ar0E=",
        "encoding": "base64",
        "path": [
         "_data",
         3,
         "x",
         "value"
        ]
       },
       {
        "data": "7Ot7+NzVoEE=",
        "encoding": "base64",
        "path": [
         "_data",
         3,
         "y",
         "value"
        ]
       }
      ],
      "model_module": "plotlywidget",
      "model_module_version": "^0.6.0",
      "model_name": "FigureModel",
      "state": {
       "_config": {
        "plotlyServerURL": "https://plot.ly"
       },
       "_data": [
        {
         "hoverinfo": "none",
         "line": {
          "color": "rgb(31, 119, 180)",
          "dash": "dash",
          "width": 2
         },
         "mode": "lines",
         "name": "2008-02-15 00:00 (Atira (NEO))",
         "type": "scatter",
         "uid": "6173699d-8e76-4099-83e1-32e48972c87a",
         "x": {
          "dtype": "float64",
          "shape": [
           100
          ]
         },
         "y": {
          "dtype": "float64",
          "shape": [
           100
          ]
         }
        },
        {
         "marker": {
          "color": "rgb(31, 119, 180)",
          "size": 10
         },
         "mode": "markers",
         "name": "2008-02-15 00:00 (Atira (NEO))",
         "type": "scatter",
         "uid": "78a7ae60-0103-472c-894c-0f7794a819f9",
         "x": {
          "dtype": "float64",
          "shape": [
           1
          ]
         },
         "y": {
          "dtype": "float64",
          "shape": [
           1
          ]
         }
        },
        {
         "hoverinfo": "none",
         "line": {
          "color": "rgb(255, 127, 14)",
          "dash": "dash",
          "width": 2
         },
         "mode": "lines",
         "name": "2012-09-13 00:00 (Wikipedia (asteroid))",
         "type": "scatter",
         "uid": "28f3584c-021f-4724-98f6-c1530a9ed282",
         "x": {
          "dtype": "float64",
          "shape": [
           100
          ]
         },
         "y": {
          "dtype": "float64",
          "shape": [
           100
          ]
         }
        },
        {
         "marker": {
          "color": "rgb(255, 127, 14)",
          "size": 10
         },
         "mode": "markers",
         "name": "2012-09-13 00:00 (Wikipedia (asteroid))",
         "type": "scatter",
         "uid": "b1ff4c83-dfb5-4996-9753-d81986b2aac5",
         "x": {
          "dtype": "float64",
          "shape": [
           1
          ]
         },
         "y": {
          "dtype": "float64",
          "shape": [
           1
          ]
         }
        }
       ],
       "_js2py_pointsCallback": {},
       "_js2py_relayout": {},
       "_js2py_restyle": {},
       "_js2py_update": {},
       "_last_layout_edit_id": 5,
       "_last_trace_edit_id": 5,
       "_layout": {
        "autosize": true,
        "shapes": [
         {
          "fillcolor": "#ffcc00",
          "line": {
           "color": "#ffcc00"
          },
          "opacity": 1,
          "type": "circle",
          "x0": -11272239.839735778,
          "x1": 11272239.839735778,
          "xref": "x",
          "y0": -11272239.839735778,
          "y1": 11272239.839735778,
          "yref": "y"
         }
        ],
        "template": {},
        "xaxis": {
         "constrain": "domain",
         "title": "x (km)"
        },
        "yaxis": {
         "scaleanchor": "x",
         "title": "y (km)"
        }
       },
       "_py2js_animate": {},
       "_py2js_deleteTraces": {},
       "_py2js_moveTraces": {},
       "_py2js_removeLayoutProps": {},
       "_py2js_removeTraceProps": {},
       "_py2js_restyle": {},
       "_view_count": 0
      }
     },
     "310bbe0a5fb146139a2e4826f64b7605": {
      "buffers": [
       {
        "data": "SMf9lCstpkGv7+q+rhSmQeK9v3pRy6VB0feeaF9RpUFs+8s8VqekQQ+iFj7lzaNBn3ItkezFokHQYZBRfJChQQZNEnnTLqBBb6YULr1EnUHH+g+xbNmZQRAuG8Y7H5ZBLvEFBwIakkF2mgDNyJuLQXJq6dShfoJBox05bOjLcUEoG/ibukVCwXFvToToK3fBzibskhFkhsHYfpMeyMGQwdtbPH98dJbB7JZiQUZEnMEuAw7gkxWhwTcnRsSFEaTBbEWsT+USp8F25xZsmRaqwXR1aJyGGa3Bk4BIGEkMsMGnWF68UoixweQvMXpY/7LB2x31vNdvtMHX8tWpVNi1wRY7h6dbN7fB/JVR3YKLuMEThRKoa9O5wXA0rgPEDbvBZqZ+50c5vMEtFlmUwlS9wbRA0dIPX77BF4FyIB1Xv8FBH1xl9R3AwY/9UHtGhsDBn6fpSRbkwMG3mSIdBDfBwSEJ0ni6fsHBc4/GcO+6wcFXovr0ZOvBwfRKjhHpD8LBqypFIlYowsGVuFP5kjTCwZK4U/mSNMLBqipFIlYowsHzSo4R6Q/CwVWi+vRk68HBdI/GcO+6wcEhCdJ4un7BwbaZIh0EN8HBnafpSRbkwMGM/VB7RobAwUEfXGX1HcDBEYFyIB1Xv8G1QNHSD1++wSAWWZTCVL3BZKZ+50c5vMFqNK4DxA27wQyFEqhr07nB8ZVR3YKLuMEKO4enWze3wc3y1alU2LXByx31vNdvtMHULzF6WP+ywZ5YXrxSiLHBiYBIGEkMsMFgdWichhmtwVTnFmyZFqrBTUWsT+USp8EcJ0bEhRGkwRkDDuCTFaHBqpZiQUZEnMGsWzx/fHSWwax+kx7IwZDBNybskhFkhsFfbk6E6Ct3wYAT+Ju6RULBtR45bOjLcUH0aunUoX6CQfSaAM3Im4tBavEFBwIakkFCLhvGOx+WQQj7D7Fs2ZlBoaYULr1EnUEaTRJ50y6gQeZhkFF8kKFBs3ItkezFokEgohY+5c2jQXn7yzxWp6RB3PeeaF9RpUHrvb96UculQbLv6r6uFKZBSMf9lCstpkE=",
        "encoding": "base64",
        "path": [
         "_data",
         0,
         "x",
         "value"
        ]
       },
       {
        "data": "AAAAAADgqT7uKVI4t2R0QUqbGGg0WoRB8a1UaRJtjkGivtuiSTCUQT5h3Hs6FZlBoL6xMFDgnUGAZcTsTEahQZUlzSajiqNBJtQqjdS6pUGq8Fmqn9SnQXKi3R/a1alB01604XK8q0H8RrJXdIatQSwUj2IGMq9BRkpJIbhesEERBvUujROxQegRafLHtrFBdiTyKMBHskH/q31i4MWyQXr+pJumMLNBj5myw6SHs0ECTBcugcqzQfJT2u72+LNBnSilIdYStEEesyEbBBi0QYwSeIR7CLRBvpTPYEzks0EyN838m6uzQRe0IMikXrNBeb1HGbb9skHbfsXbM4myQQKzIimWAbJBXnogzWhnsUFskJ21SruwQQbXhJ3a+69Bhk86mCdgrkHiiNO+JKWsQdY9rLuazKpBLEpGqXDYqEGkvyscqsqmQaZAdg9lpaRBDn0fttdqokE8t1ozTh2gQQrroXhQfptBeKhhS62llkHLay+/sbWRQRYPsYnpZolB3KGNeoCQfkEEeYFuWGdkQfR5gW5YZ2TBPqKNeoCQfsEsD7GJ6WaJwexrL7+xtZHBlqhhS62llsEo66F4UH6bwUK3WjNOHaDBG30fttdqosGwQHYPZaWkwae/KxyqyqbBNUpGqXDYqMHWPay7msyqwfmI074kpazBiU86mCdgrsEN14Sd2vuvwXCQnbVKu7DBZnogzWhnscEHsyIplgGyweB+xdszibLBfL1HGbb9ssEZtCDIpF6zwTQ3zfybq7PBvZTPYEzks8GMEniEewi0wR6zIRsEGLTBniilIdYStMHyU9ru9vizwQBMFy6ByrPBjJmyw6SHs8F2/qSbpjCzwfmrfWLgxbLBbiTyKMBHssHfEWnyx7axwQkG9S6NE7HBO0pJIbhesMESFI9iBjKvweNGsld0hq3BvF604XK8q8FTot0f2tWpwYTwWaqf1KfBBdQqjdS6pcF2Jc0mo4qjwVxlxOxMRqHBRr6xMFDgncHiYNx7OhWZwUq+26JJMJTBK61UaRJtjsFMmhhoNFqEwXYoUji3ZHTBAAAAAAAgoD4=",
        "encoding": "base64",
        "path": [
         "_data",
         0,
         "y",
         "value"
        ]
       },
       {
        "data": "/9qTVsBAtsE=",
        "encoding": "base64",
        "path": [
         "_data",
         1,
         "x",
         "value"
        ]
       },
       {
        "data": "fBdgHzpjssE=",
        "encoding": "base64",
        "path": [
         "_data",
         1,
         "y",
         "value"
        ]
       },
       {
        "data": "5FewZMFbn8H8zHZ0+1edwfMJMoQKHZvBugq+HTutmMHXgJRKEAuWwUOR8fxAOZPBsjt2Q7U6kMGZt1WUBiWKwTPO8FfYh4PBPB+AX2JJecH4sjJrqgpmwWAS0IURbk1B6x4AwLzAckGMXYBGCBKBQcbCpWzw44hB8cxHmwNnkEFSm3UNEmSUQeg97gUHZZhBIqh2+MFlnEEwyFFKETGgQYFEXIMGK6JBjIHzGbcepEGiyMf2HwqmQdCBmItG66dBU1pf3TrAqUHDv5SDGYerQQWpfpoNPq1BrgOIplLjrkF6Q1czmzqwQc4PE0oN+bBBVEKyRjussUHXX251bFOyQQC65H307bJBFK++FDR7s0FN4+WfmfqzQaIwm8yha7RBN5XVFtjNtEHUlV1B1yC1QQhFKb5JZLVBqluNBuqXtUGweejigru1QayufqHvzrVBe71MPBzStUGJHaxtBcW1QaxysrO4p7VBmgFJQlR6tUE5dwrkBj21QakaB8oP8LRBeSKhSr6TtEGDUsSPcSi0QU8wzTSYrrNBsuyE1K8ms0FiiqeHRJGyQeu4eVTw7rFBt0EDkFpAsUGAsZExN4awQdUYajKMgq9BBZDrk6TkrUHy2h8xYjSsQQ45Fp+Cc6pB2Tskk9SjqEH4g+0FNsemQUTCr0aS36RBzuDOAODuokG6Yqs1H/egQVg8slmu9J1BxbqsuSj1mUEMX9aczPOVQbFmvPm69JFBVqq91CT4i0GfkSra1RuEQY9xDrFGuXhB0mG/iSYKY0HMuv6XCVVVwVfRLMhqxnPBqZ23YsHfgMEFAaaCEZmHwfZXAmY3CI7B3+4skUgTksFv7HIL6PaUwdAseLb/q5fBqTfVHcUvmsEixo+koH+cwdvfKzEwmZ7B151J0SQ9oMFZTaWFfhChwbAmVFjLxaHBWnX+ZVBcosH9m++FctOiwQcLB+q2KqPBvVpPncNho8EMC7ngX3ijwXZSmWV0bqPB5q+wZQtEo8FAe6CYUPmiwUJS2gaRjqLB1dU3ujoEosG/koxM3FqhwZACp1Qkk6DB5VewZMFbn8E=",
        "encoding": "base64",
        "path": [
         "_data",
         2,
         "x",
         "value"
        ]
       },
       {
        "data": "XaYMIgbulMGilb10HB6Ywetczna0JJvB6bNtsK/+ncEcUkrTjlSgwXhyWXGfkKHBcv3p40OyosFo0CiZUbijwYiHr2+6oaTBXFD5zI1tpcFJ4GeV+RqmwYjl2ARLqabBIrDsZu8Xp8FCHkCudGanwabo/emJlKfBYh5Omf+hp8EFzk3cx46nwSBiXIL2WqfBAPOv9cAGp8FjmkUEfpKmwVKLZoal/qXB8ioe489LpcEegyBztXqkwdD/wsItjKPBHFrLsy6BosGkuvl/y1qhwQNaU50zGqDB/iOkCmOBncHeqnbAUp+awZ1t+ysvkZfBCeIejB5alMHTVMRPcf2QwT8xYVY9/YrBF9L6CoLCg8GC+hAHSaR4wTyzpT4/z2LBKJ89+QyFWEGnsPobXOZ1Qe4SX7m064JBuvwuNv7xikGewfR04n6RQV5Fwsheg5VB8NwR50+CmUHe5GhXl3edQbJvnEuQr6BBr8ZJp3KaokG2TyK7eHqkQQcVhbWzTaZBsj3c9EESqEGc3xb4UMapQSLxij8faKtBnqVPHP71rEEjkzJsU26uQQ39fUCbz69BjjrutjSMsEEszt6BtSOxQZKG3NSzrbFBNKPDcKEpskGBWSKW/payQfw/6Iha9bJBXuKbBFREs0FgtJ6gmYOzQdQHGCTqsrNBHoUwyRTSs0El2Fhv+eCzQUO+Z7yI37NBvFFtLMTNs0HzQisQvquzQbqSM3qZebNBYkTBGoo3s0HqS3AK1OWyQcCkC4TLhLJBCO25jdQUskGvBeKRYpaxQVAAMuj3CbFB1v5CTyVwsEGbCcmuEpOvQZURUn6fLa5BNYW4hGGxrEFMajO44B+rQWlvjvm6eqlBe3yHaaLDp0EqikypW/ylQcAM5we8JqRBJel1nqdEokH9oihdD1igQQpU/BXexZxBMKOudJbOmEEQBfFoXs6UQeIcP7xVyZBB2L1mXUKHiUGejSpjzIKBQYmuw4QaG3NBzED6S5D7SkHNeMe+UTpowcjo5Wi/SnvB3/XvHNYMhcF7qOfGVT2MweUoQ7y6l5HBWaYMIgbulME=",
        "encoding": "base64",
        "path": [
         "_data",
         2,
         "y",
         "value"
        ]
       },
       {
        "data": "kKWnbGTyoUE=",
        "encoding": "base64",
        "path": [
         "_data",
         3,
         "x",
         "value"
        ]
       },
       {
        "data": "aFTIgZvbs0E=",
        "encoding": "base64",
        "path": [
         "_data",
         3,
         "y",
         "value"
        ]
       },
       {
        "data": "u43ER2VzmcFVGON9SM2bwSxZiW7+Ap7BRw0Q+h8JoMFGhHPGdvygwdVym8WI2qHB881SDXGiosHaivuLYVOjwRYx+tyj7KPBn5q5BJptpMGeEoUTv9WkwfvzkK6nJKXBn4WkfgJapcF8AfODmHWlwc9XzU5Nd6XBTD3yHB9fpcEvTV7bJi2lwVdgmgyY4aTBSpaik8B8pMGTy5xjCP+jwfJAsRTxaKPB1udzXhW7osEfCWh4KPahwdOsQmH1GqHBADKqDV4qoMGtlJX+tEqewYblX4rvGZzBkuHUzK3EmcHRdUFwV02XwVDVeUB3tpTBzKP+i7gCksHM3j3HyGmOwaoY2na9n4jBuA3430atgsFOu9/LDDF5wQpWJRIDn2nBQIoh5cyrEMEqeQW49NBoQQ35egbsJHlBYrwSbsLygkEyx7HSj06JQQB2yzdQn49BI/UghEDvkkGCyY3k2AKWQcKcZl5FB5lB+bSBtmn5m0Fx7BaKPNaeQZIoDDhlzaBBJNLxgRwiokEEBRXr5GejQdHlgqBunaRBcOIpjnrBpUFFZ8On29KmQXGEJx940KdBGKDKhkq5qEFlwznfYoypQcm3f47nSKpBIO9zQBbuqkFJ/guvRHurQdMr4VHh76tBeCQ19HNLrEHrMNswno2sQfExhtMbtqxBXhUXH8PErEFNSqP4hLmsQQvbBvdslKxBgx/yVqFVrEHKWH/TYv2rQTbXeGMMjKtBQnOU2xICq0HwAQV2BGCqQeno3T+IpqlBEfTfbF3WqEFI7mCSWvCnQcwoGcps9aZBRPW6vZbmpUEQA1Cc78SkQc56b/qhkaNBVYB1nupNokFxYPk5F/ugQeQIpiMKNZ9BtIAkLD9bnEG9OrbWvWuZQZOfUs6MaZZBLxIVAcZXk0ETc9ZtkzmQQflGbsJXJIpBAXTsSp/Jg0HU1wCiFNN6QT2kTN2sKmxBUA8MJGRyNkE46/VK01RmwZIe+4xkknfB3nnjSgDigcEgg6L2VdmHwUfI3eAMqY3BeNwLvJOlkcHA+oOX61yUwUj/fDzB95bBt43ER2VzmcE=",
        "encoding": "base64",
        "path": [
         "_data",
         4,
         "x",
         "value"
        ]
       },
       {
        "data": "pssASJGJmUG4uR4ju2eXQZTQcWo5JpVByGdsbF/HkkEvkVC3nk2QQfv7sygJd4tB+DikzG4nhkHMOInc57GAQU3LlOQpOHZB5tx5yt+uZUHAb7KReFQmwc5j6PBXtGjBedksOSUTeMHR72AHveiBwWo/sb2HxIfBImDyuuiWjcGa90bX76yRwYhiyxW+g5TB5kcJ5PFMl8FdZskSrAWawdx2cm4eq5zBjqBfo446n8G3E92GrNigwTUl+Lh5BqLBGLJ9zXclo8F1L+HtfjSkwTyqgbh3MqXBGtKnYFwepsFAYWS8OfemwciwOD8wvKfB1xeH4HRsqMFwit3sUQepwU26QsEnjKnBf6bEb236qcEb+Z5MsVGqwZeyZ2OZkarB6VnJ0+O5qsFKG2sVZ8qqwebVwCISw6rBk/aWiuyjqsEgCUhoFm2qwUAIpELIHqrBA4qr0VK5qcEU2VqrHj2pwanA2terqqjBkCyGTZECqMFgqUxVfEWnwegtEtgvdKbB0U/ElYOPpcEv//NGY5ikwVUK2anNj6PBxOO5e9N2osGkWcZflk6hwa4Ph7RHGKDBNP0qsk6qncEj68HGBA2bwaYDqZFjW5jBo1h/9TGYlcGzM+HvSMaSwRb75FMh0Y/B2daL8voDisGQYG+oGSuEweR3ffMImXzBT10Zl5DccMHA8mk5jbNUwQD2cBDMp1lBk46cGADccUE6a/eSdx19QcFt+JVfEYRBsdyJUz1wiUFOj0jEy6WOQQ9Qxh9W1pFB6nJ6Hdg/lEEWGOpQ74yWQfR/wXo8u5hBo3qmGIDImkFBuXe2nLKcQQIwcRyZd55B2xj7K9EKoEFwNnTOhsWgQd3Ozf4sa6FB9zjQ+xj7oUEZzOZptnSiQcMMDuyH16JB2tgNpScjo0H5XXqgR1ejQT+cDyOyc6NBDaAU4kl4o0FvWo0hCmWjQSz4G7kGOqNBj6+M/2v3okF3GiGdfp2iQSY6ykSbLKJB9RiaVDaloUGEis9d2wehQeWw95QsVaBBPilzVcQbn0FIVvAbk2WdQXYHHTCJiZtBqMsASJGJmUE=",
        "encoding": "base64",
        "path": [
         "_data",
         4,
         "y",
         "value"
        ]
       },
       {
        "data": "A6wmbhAvpcE=",
        "encoding": "base64",
        "path": [
         "_data",
         5,
         "x",
         "value"
        ]
       },
       {
        "data": "viPGxHuWkcE=",
        "encoding": "base64",
        "path": [
         "_data",
         5,
         "y",
         "value"
        ]
       }
      ],
      "model_module": "plotlywidget",
      "model_module_version": "^0.6.0",
      "model_name": "FigureModel",
      "state": {
       "_config": {
        "plotlyServerURL": "https://plot.ly"
       },
       "_data": [
        {
         "hoverinfo": "none",
         "line": {
          "color": "rgb(31, 119, 180)",
          "dash": "dash",
          "width": 2
         },
         "mode": "lines",
         "name": "2019-04-27 00:00 (Ganymed)",
         "type": "scatter",
         "uid": "6042f711-83c6-4c59-83d4-53069ff84760",
         "x": {
          "dtype": "float64",
          "shape": [
           100
          ]
         },
         "y": {
          "dtype": "float64",
          "shape": [
           100
          ]
         }
        },
        {
         "marker": {
          "color": "rgb(31, 119, 180)",
          "size": 10
         },
         "mode": "markers",
         "name": "2019-04-27 00:00 (Ganymed)",
         "type": "scatter",
         "uid": "6915182d-6c5f-46f1-add9-f4e9ba3f79ef",
         "x": {
          "dtype": "float64",
          "shape": [
           1
          ]
         },
         "y": {
          "dtype": "float64",
          "shape": [
           1
          ]
         }
        },
        {
         "hoverinfo": "none",
         "line": {
          "color": "rgb(255, 127, 14)",
          "dash": "dash",
          "width": 2
         },
         "mode": "lines",
         "name": "2019-04-27 00:00 (Amor)",
         "type": "scatter",
         "uid": "7b2b52e5-8c15-4221-be9b-4770da7b7f73",
         "x": {
          "dtype": "float64",
          "shape": [
           100
          ]
         },
         "y": {
          "dtype": "float64",
          "shape": [
           100
          ]
         }
        },
        {
         "marker": {
          "color": "rgb(255, 127, 14)",
          "size": 10
         },
         "mode": "markers",
         "name": "2019-04-27 00:00 (Amor)",
         "type": "scatter",
         "uid": "9738386b-253f-4280-a8e9-201789552d95",
         "x": {
          "dtype": "float64",
          "shape": [
           1
          ]
         },
         "y": {
          "dtype": "float64",
          "shape": [
           1
          ]
         }
        },
        {
         "hoverinfo": "none",
         "line": {
          "color": "rgb(44, 160, 44)",
          "dash": "dash",
          "width": 2
         },
         "mode": "lines",
         "name": "2019-04-27 00:00 (Eros)",
         "type": "scatter",
         "uid": "99a64054-5304-491e-b2e3-eb3beef7c714",
         "x": {
          "dtype": "float64",
          "shape": [
           100
          ]
         },
         "y": {
          "dtype": "float64",
          "shape": [
           100
          ]
         }
        },
        {
         "marker": {
          "color": "rgb(44, 160, 44)",
          "size": 10
         },
         "mode": "markers",
         "name": "2019-04-27 00:00 (Eros)",
         "type": "scatter",
         "uid": "076c56b9-0578-4a00-a248-c732bd3716bc",
         "x": {
          "dtype": "float64",
          "shape": [
           1
          ]
         },
         "y": {
          "dtype": "float64",
          "shape": [
           1
          ]
         }
        }
       ],
       "_js2py_pointsCallback": {},
       "_js2py_relayout": {},
       "_js2py_restyle": {},
       "_js2py_update": {},
       "_last_layout_edit_id": 7,
       "_last_trace_edit_id": 7,
       "_layout": {
        "autosize": true,
        "shapes": [
         {
          "fillcolor": "#ffcc00",
          "line": {
           "color": "#ffcc00"
          },
          "opacity": 1,
          "type": "circle",
          "x0": -27904427.174349155,
          "x1": 27904427.174349155,
          "xref": "x",
          "y0": -27904427.174349155,
          "y1": 27904427.174349155,
          "yref": "y"
         }
        ],
        "template": {},
        "xaxis": {
         "constrain": "domain",
         "title": "x (km)"
        },
        "yaxis": {
         "scaleanchor": "x",
         "title": "y (km)"
        }
       },
       "_py2js_animate": {},
       "_py2js_deleteTraces": {},
       "_py2js_moveTraces": {},
       "_py2js_removeLayoutProps": {},
       "_py2js_removeTraceProps": {},
       "_py2js_restyle": {},
       "_view_count": 0
      }
     },
     "4855249139c845fdbf7cc7f04290be6a": {
      "buffers": [
       {
        "data": "ENvPqBo2pEEh/1GqsyikQT+gln+MAKRB6JyajM69o0FE6u6dvmCjQR4qzaG86aJBaYQ0RUNZokH1s3R156+hQf6gqcZX7qBBS8nFv1sVoEGO7skZpkueQeWYdjFpQZxBepYcHBsOmkENf3yEALSXQXET/BOGNZVBQJzb8j2VkkFqJ4lDuquPQX/q2V5x9IlBOyhfmoUKhEFap28WH+h7QcUX9sBW3W5Bh4odoF+sRUGey3RXQ2xkwbyOad4LR3fBBvWoUN03gsFSC9G4TtGIwemn/KMMaY/BnEWypyX8ksF3V0bdIzyWweF5z08ncZnBPYfHreGXnMGzh3RfE62fwS78EHDHVqHBuzdcAh7LosFalymWDTKkwc7wxCskiqXBrm2fEf/RpsG7we9RTAiowceSEg/MK6nB/PVDzVE7qsFgHl6oxTWrwYryXXQlGqzBbiCEx4XnrMHPWQDtEp2twRiULL8ROq7BylV3aOC9rsFlNTYK9yevwQeTtEjod6/Blizuu2Gtr8HgWIFELMivwd9YgUQsyK/Blyzuu2Gtr8EJk7RI6HevwWo1Ngr3J6/BzFV3aOC9rsEdlCy/ETquwdZZAO0Sna3BciCEx4XnrMGT8l10JRqswWgeXqjFNavBBvZDzVE7qsHUkhIPzCupwcPB71FMCKjBvW2fEf/RpsHe8MQrJIqlwW2XKZYNMqTBxDdcAh7LosEz/BBwx1ahwdWHdF8TrZ/BUofHreGXnMEBes9PJ3GZwZhXRt0jPJbBwkWypyX8ksEyqPyjDGmPwZML0bhO0YjBTvWoUN03gsFjj2neC0d3wfPMdFdDbGTB04UdoF+sRUHLFvbAVt1uQaimbxYf6HtBBihfmoUKhEE76tlecfSJQS0niUO6q49BIpzb8j2VkkFUE/wThjWVQe5+fIQAtJdBW5YcHBsOmkHGmHYxaUGcQXXuyRmmS55BP8nFv1sVoEH0oKnGV+6gQeuzdHXnr6FBYYQ0RUNZokEZKs2hvOmiQUDq7p2+YKNB4pyajM69o0E+oJZ/jACkQR//UaqzKKRBENvPqBo2pEE=",
        "encoding": "base64",
        "path": [
         "_data",
         0,
         "x",
         "value"
        ]
       },
       {
        "data": "AAAAAACZlb5dSRNyhblpQbnCWDJDrHlBwiqIa6Ywg0FA1fssY3eJQWQlEZvfo49BFHRjQd/XkkExcv0nYsqVQfnSFb1upphBy1f5YxJpm0FJFmGxdA+eQXucKC1tS6BB9dF4AlR+oUGxtjx8Mp+iQXwFtNTerKNBvO+1D0OmpEHgqz4ZXoqlQVfob85EWKZBBPjy7yIPp0FF3cL8O66nQVGrfPTrNKhBOvBtAKiiqEGA47IC//aoQWHR0AqaMalB2JBUrzxSqUFoohhMxVipQXDG8iQtRalBmUulbIgXqUGN7QwwBtCoQRO6oCXwbqhBp/t1Yar0p0EEfRbusmGnQTJ9k0qhtqZBz0JbziX0pUGVSHLzCBulQaNky4cqLKRB8vCTxoAoo0G4xGFaFxGiQS6kSEkO56BBGiPnlzFXn0GwGugh+L+cQdxxG9sbC5pB7cmv+mY7l0GKjEBkv1OUQR6OFKsjV5FBPnnU90+RjEGz0v/g5VaGQVZfO6B0BYBBnELoAf9Gc0GmkCem1rxZQcePJ6bWvFnBJELoAf9Gc8EaXzugdAWAwWnS/+DlVobBF3nU90+RjMH6jRSrI1eRwWWMQGS/U5TB0Mmv+mY7l8HFcRvbGwuawZUa6CH4v5zBAiPnlzFXn8EipEhJDuegwa7EYVoXEaLB5fCTxoAoo8GYZMuHKiykwYZIcvMIG6XByEJbziX0pcEvfZNKobamwQF9Fu6yYafBp/t1Yar0p8EMuqAl8G6owYftDDAG0KjBlkulbIgXqcFvxvIkLUWpwWqiGEzFWKnB2pBUrzxSqcFj0dAKmjGpwYTjsgL/9qjBP/BtAKiiqMFUq3z06zSowU3dwvw7rqfBCvjy7yIPp8Ff6G/ORFimweirPhleiqXByO+1D0OmpMGHBbTU3qyjwb62PHwyn6LBBdJ4AlR+ocGPnCgtbUugwWYWYbF0D57B91f5YxJpm8El0xW9bqaYwVly/SdiypXBOnRjQd/XksG7JRGb36OPwZrV+yxjd4nBEiuIa6Ywg8Faw1gyQ6x5wdJKE3KFuWnBAAAAAAC+mb4=",
        "encoding": "base64",
        "path": [
         "_data",
         0,
         "y",
         "value"
        ]
       },
       {
        "data": "sdyHUbPXj0E=",
        "encoding": "base64",
        "path": [
         "_data",
         1,
         "x",
         "value"
        ]
       },
       {
        "data": "/bnzHLSDpUE=",
        "encoding": "base64",
        "path": [
         "_data",
         1,
         "y",
         "value"
        ]
       }
      ],
      "model_module": "plotlywidget",
      "model_module_version": "^0.6.0",
      "model_name": "FigureModel",
      "state": {
       "_config": {
        "plotlyServerURL": "https://plot.ly"
       },
       "_data": [
        {
         "hoverinfo": "none",
         "line": {
          "color": "rgb(31, 119, 180)",
          "dash": "dash",
          "width": 2
         },
         "mode": "lines",
         "name": "2019-04-27 00:00 (Eros)",
         "type": "scatter",
         "uid": "5384631d-d2e7-4b90-a8be-2a91c48381ef",
         "x": {
          "dtype": "float64",
          "shape": [
           100
          ]
         },
         "y": {
          "dtype": "float64",
          "shape": [
           100
          ]
         }
        },
        {
         "marker": {
          "color": "rgb(31, 119, 180)",
          "size": 10
         },
         "mode": "markers",
         "name": "2019-04-27 00:00 (Eros)",
         "type": "scatter",
         "uid": "7eea32f7-ec39-45e0-9def-865115a412b2",
         "x": {
          "dtype": "float64",
          "shape": [
           1
          ]
         },
         "y": {
          "dtype": "float64",
          "shape": [
           1
          ]
         }
        }
       ],
       "_js2py_pointsCallback": {},
       "_js2py_relayout": {},
       "_js2py_restyle": {},
       "_js2py_update": {},
       "_last_layout_edit_id": 3,
       "_last_trace_edit_id": 3,
       "_layout": {
        "autosize": true,
        "shapes": [
         {
          "fillcolor": "#ffcc00",
          "line": {
           "color": "#ffcc00"
          },
          "opacity": 1,
          "type": "circle",
          "x0": -25431756.660895184,
          "x1": 25431756.660895184,
          "xref": "x",
          "y0": -25431756.660895184,
          "y1": 25431756.660895184,
          "yref": "y"
         }
        ],
        "template": {},
        "xaxis": {
         "constrain": "domain",
         "title": "x (km)"
        },
        "yaxis": {
         "scaleanchor": "x",
         "title": "y (km)"
        }
       },
       "_py2js_animate": {},
       "_py2js_deleteTraces": {},
       "_py2js_moveTraces": {},
       "_py2js_removeLayoutProps": {},
       "_py2js_removeTraceProps": {},
       "_py2js_restyle": {},
       "_view_count": 0
      }
     },
     "5d38428664334ee4b969b7369e20fe1f": {
      "buffers": [
       {
        "data": "ENvPqBo2pEEh/1GqsyikQT+gln+MAKRB6JyajM69o0FE6u6dvmCjQR4qzaG86aJBaYQ0RUNZokH1s3R156+hQf6gqcZX7qBBS8nFv1sVoEGO7skZpkueQeWYdjFpQZxBepYcHBsOmkENf3yEALSXQXET/BOGNZVBQJzb8j2VkkFqJ4lDuquPQX/q2V5x9IlBOyhfmoUKhEFap28WH+h7QcUX9sBW3W5Bh4odoF+sRUGey3RXQ2xkwbyOad4LR3fBBvWoUN03gsFSC9G4TtGIwemn/KMMaY/BnEWypyX8ksF3V0bdIzyWweF5z08ncZnBPYfHreGXnMGzh3RfE62fwS78EHDHVqHBuzdcAh7LosFalymWDTKkwc7wxCskiqXBrm2fEf/RpsG7we9RTAiowceSEg/MK6nB/PVDzVE7qsFgHl6oxTWrwYryXXQlGqzBbiCEx4XnrMHPWQDtEp2twRiULL8ROq7BylV3aOC9rsFlNTYK9yevwQeTtEjod6/Blizuu2Gtr8HgWIFELMivwd9YgUQsyK/Blyzuu2Gtr8EJk7RI6HevwWo1Ngr3J6/BzFV3aOC9rsEdlCy/ETquwdZZAO0Sna3BciCEx4XnrMGT8l10JRqswWgeXqjFNavBBvZDzVE7qsHUkhIPzCupwcPB71FMCKjBvW2fEf/RpsHe8MQrJIqlwW2XKZYNMqTBxDdcAh7LosEz/BBwx1ahwdWHdF8TrZ/BUofHreGXnMEBes9PJ3GZwZhXRt0jPJbBwkWypyX8ksEyqPyjDGmPwZML0bhO0YjBTvWoUN03gsFjj2neC0d3wfPMdFdDbGTB04UdoF+sRUHLFvbAVt1uQaimbxYf6HtBBihfmoUKhEE76tlecfSJQS0niUO6q49BIpzb8j2VkkFUE/wThjWVQe5+fIQAtJdBW5YcHBsOmkHGmHYxaUGcQXXuyRmmS55BP8nFv1sVoEH0oKnGV+6gQeuzdHXnr6FBYYQ0RUNZokEZKs2hvOmiQUDq7p2+YKNB4pyajM69o0E+oJZ/jACkQR//UaqzKKRBENvPqBo2pEE=",
        "encoding": "base64",
        "path": [
         "_data",
         0,
         "x",
         "value"
        ]
       },
       {
        "data": "AAAAAACZlb5dSRNyhblpQbnCWDJDrHlBwiqIa6Ywg0FA1fssY3eJQWQlEZvfo49BFHRjQd/XkkExcv0nYsqVQfnSFb1upphBy1f5YxJpm0FJFmGxdA+eQXucKC1tS6BB9dF4AlR+oUGxtjx8Mp+iQXwFtNTerKNBvO+1D0OmpEHgqz4ZXoqlQVfob85EWKZBBPjy7yIPp0FF3cL8O66nQVGrfPTrNKhBOvBtAKiiqEGA47IC//aoQWHR0AqaMalB2JBUrzxSqUFoohhMxVipQXDG8iQtRalBmUulbIgXqUGN7QwwBtCoQRO6oCXwbqhBp/t1Yar0p0EEfRbusmGnQTJ9k0qhtqZBz0JbziX0pUGVSHLzCBulQaNky4cqLKRB8vCTxoAoo0G4xGFaFxGiQS6kSEkO56BBGiPnlzFXn0GwGugh+L+cQdxxG9sbC5pB7cmv+mY7l0GKjEBkv1OUQR6OFKsjV5FBPnnU90+RjEGz0v/g5VaGQVZfO6B0BYBBnELoAf9Gc0GmkCem1rxZQcePJ6bWvFnBJELoAf9Gc8EaXzugdAWAwWnS/+DlVobBF3nU90+RjMH6jRSrI1eRwWWMQGS/U5TB0Mmv+mY7l8HFcRvbGwuawZUa6CH4v5zBAiPnlzFXn8EipEhJDuegwa7EYVoXEaLB5fCTxoAoo8GYZMuHKiykwYZIcvMIG6XByEJbziX0pcEvfZNKobamwQF9Fu6yYafBp/t1Yar0p8EMuqAl8G6owYftDDAG0KjBlkulbIgXqcFvxvIkLUWpwWqiGEzFWKnB2pBUrzxSqcFj0dAKmjGpwYTjsgL/9qjBP/BtAKiiqMFUq3z06zSowU3dwvw7rqfBCvjy7yIPp8Ff6G/ORFimweirPhleiqXByO+1D0OmpMGHBbTU3qyjwb62PHwyn6LBBdJ4AlR+ocGPnCgtbUugwWYWYbF0D57B91f5YxJpm8El0xW9bqaYwVly/SdiypXBOnRjQd/XksG7JRGb36OPwZrV+yxjd4nBEiuIa6Ywg8Faw1gyQ6x5wdJKE3KFuWnBAAAAAAC+mb4=",
        "encoding": "base64",
        "path": [
         "_data",
         0,
         "y",
         "value"
        ]
       },
       {
        "data": "sdyHUbPXj0E=",
        "encoding": "base64",
        "path": [
         "_data",
         1,
         "x",
         "value"
        ]
       },
       {
        "data": "/bnzHLSDpUE=",
        "encoding": "base64",
        "path": [
         "_data",
         1,
         "y",
         "value"
        ]
       }
      ],
      "model_module": "plotlywidget",
      "model_module_version": "^0.6.0",
      "model_name": "FigureModel",
      "state": {
       "_config": {
        "plotlyServerURL": "https://plot.ly"
       },
       "_data": [
        {
         "hoverinfo": "none",
         "line": {
          "color": "rgb(31, 119, 180)",
          "dash": "dash",
          "width": 2
         },
         "mode": "lines",
         "name": "2019-04-27 00:00 (Eros)",
         "type": "scatter",
         "uid": "b28b8169-3cbd-4df4-a045-9fbee1a1d862",
         "x": {
          "dtype": "float64",
          "shape": [
           100
          ]
         },
         "y": {
          "dtype": "float64",
          "shape": [
           100
          ]
         }
        },
        {
         "marker": {
          "color": "rgb(31, 119, 180)",
          "size": 10
         },
         "mode": "markers",
         "name": "2019-04-27 00:00 (Eros)",
         "type": "scatter",
         "uid": "45a70f11-824d-4327-b517-7c340b557398",
         "x": {
          "dtype": "float64",
          "shape": [
           1
          ]
         },
         "y": {
          "dtype": "float64",
          "shape": [
           1
          ]
         }
        }
       ],
       "_js2py_layoutDelta": {
        "layout_delta": {
         "annotations": [],
         "calendar": "gregorian",
         "clickmode": "event",
         "colorscale": {
          "diverging": [
           [
            0,
            "rgb(5,10,172)"
           ],
           [
            0.35,
            "rgb(106,137,247)"
           ],
           [
            0.5,
            "rgb(190,190,190)"
           ],
           [
            0.6,
            "rgb(220,170,132)"
           ],
           [
            0.7,
            "rgb(230,145,90)"
           ],
           [
            1,
            "rgb(178,10,28)"
           ]
          ],
          "sequential": [
           [
            0,
            "rgb(220,220,220)"
           ],
           [
            0.2,
            "rgb(245,195,157)"
           ],
           [
            0.4,
            "rgb(245,160,105)"
           ],
           [
            1,
            "rgb(178,10,28)"
           ]
          ],
          "sequentialminus": [
           [
            0,
            "rgb(5,10,172)"
           ],
           [
            0.35,
            "rgb(40,60,190)"
           ],
           [
            0.5,
            "rgb(70,100,245)"
           ],
           [
            0.6,
            "rgb(90,120,245)"
           ],
           [
            0.7,
            "rgb(106,137,247)"
           ],
           [
            1,
            "rgb(220,220,220)"
           ]
          ]
         },
         "colorway": [
          "#1f77b4",
          "#ff7f0e",
          "#2ca02c",
          "#d62728",
          "#9467bd",
          "#8c564b",
          "#e377c2",
          "#7f7f7f",
          "#bcbd22",
          "#17becf"
         ],
         "dragmode": "zoom",
         "font": {
          "color": "#444",
          "family": "\"Open Sans\", verdana, arial, sans-serif",
          "size": 12
         },
         "height": 470,
         "hidesources": false,
         "hoverdistance": 20,
         "hoverlabel": {
          "font": {
           "family": "Arial, sans-serif",
           "size": 13
          },
          "namelength": 15
         },
         "hovermode": "x",
         "images": [],
         "legend": {
          "bgcolor": "#fff",
          "bordercolor": "#444",
          "borderwidth": 0,
          "font": {
           "color": "#444",
           "family": "\"Open Sans\", verdana, arial, sans-serif",
           "size": 12
          },
          "orientation": "v",
          "traceorder": "normal",
          "valign": "middle",
          "x": 1.02,
          "xanchor": "left",
          "y": 1,
          "yanchor": "auto"
         },
         "margin": {
          "autoexpand": true,
          "b": 80,
          "l": 80,
          "pad": 0,
          "r": 80,
          "t": 100
         },
         "modebar": {
          "activecolor": "rgba(68, 68, 68, 0.7)",
          "bgcolor": "rgba(255, 255, 255, 0.5)",
          "color": "rgba(68, 68, 68, 0.3)",
          "orientation": "h"
         },
         "paper_bgcolor": "#fff",
         "plot_bgcolor": "#fff",
         "separators": ".,",
         "shapes": [
          {
           "layer": "above",
           "line": {
            "dash": "solid",
            "width": 2
           },
           "visible": true,
           "xsizemode": "scaled",
           "ysizemode": "scaled"
          }
         ],
         "showlegend": true,
         "sliders": [],
         "spikedistance": 20,
         "title": {
          "font": {
           "color": "#444",
           "family": "\"Open Sans\", verdana, arial, sans-serif",
           "size": 17
          },
          "pad": {
           "b": 0,
           "l": 0,
           "r": 0,
           "t": 0
          },
          "text": "Click to enter Plot title",
          "x": 0.5,
          "xanchor": "auto",
          "xref": "container",
          "y": "auto",
          "yanchor": "auto",
          "yref": "container"
         },
         "updatemenus": [],
         "width": 966.8,
         "xaxis": {
          "anchor": "y",
          "automargin": false,
          "autorange": true,
          "color": "#444",
          "constraintoward": "center",
          "domain": [
           0.2972031293120063,
           0.7027968706879937
          ],
          "dtick": 100000000,
          "exponentformat": "B",
          "fixedrange": false,
          "gridcolor": "rgb(238, 238, 238)",
          "gridwidth": 1,
          "hoverformat": "",
          "layer": "above traces",
          "nticks": 0,
          "range": [
           -266606114.2526312,
           169545044.4059682
          ],
          "rangemode": "normal",
          "separatethousands": false,
          "showexponent": "all",
          "showgrid": true,
          "showline": false,
          "showspikes": false,
          "showticklabels": true,
          "side": "bottom",
          "tick0": 0,
          "tickangle": "auto",
          "tickfont": {
           "color": "#444",
           "family": "\"Open Sans\", verdana, arial, sans-serif",
           "size": 12
          },
          "tickformat": "",
          "tickmode": "auto",
          "tickprefix": "",
          "ticks": "",
          "ticksuffix": "",
          "title": {
           "font": {
            "color": "#444",
            "family": "\"Open Sans\", verdana, arial, sans-serif",
            "size": 14
           },
           "text": "x (km)"
          },
          "type": "linear",
          "visible": true,
          "zeroline": true,
          "zerolinecolor": "#444",
          "zerolinewidth": 1
         },
         "yaxis": {
          "anchor": "x",
          "automargin": false,
          "autorange": true,
          "color": "#444",
          "constrain": "range",
          "constraintoward": "middle",
          "domain": [
           0,
           1
          ],
          "dtick": 100000000,
          "exponentformat": "B",
          "fixedrange": false,
          "gridcolor": "rgb(238, 238, 238)",
          "gridwidth": 1,
          "hoverformat": "",
          "layer": "above traces",
          "nticks": 0,
          "range": [
           -236248931.16457123,
           236248931.16457117
          ],
          "rangemode": "normal",
          "scaleratio": 1,
          "separatethousands": false,
          "showexponent": "all",
          "showgrid": true,
          "showline": false,
          "showspikes": false,
          "showticklabels": true,
          "side": "left",
          "tick0": 0,
          "tickangle": "auto",
          "tickfont": {
           "color": "#444",
           "family": "\"Open Sans\", verdana, arial, sans-serif",
           "size": 12
          },
          "tickformat": "",
          "tickmode": "auto",
          "tickprefix": "",
          "ticks": "",
          "ticksuffix": "",
          "title": {
           "font": {
            "color": "#444",
            "family": "\"Open Sans\", verdana, arial, sans-serif",
            "size": 14
           },
           "text": "y (km)"
          },
          "type": "linear",
          "visible": true,
          "zeroline": true,
          "zerolinecolor": "#444",
          "zerolinewidth": 1
         }
        },
        "layout_edit_id": 3
       },
       "_js2py_pointsCallback": {
        "device_state": {
         "alt": false,
         "button": 0,
         "buttons": 0,
         "ctrl": false,
         "meta": false,
         "shift": false
        },
        "event_type": "plotly_unhover",
        "points": {
         "point_indexes": [
          73
         ],
         "trace_indexes": [
          0
         ],
         "xs": [
          -65872276.49836768
         ],
         "ys": [
          -211981970.47417018
         ]
        },
        "selector": null
       },
       "_js2py_relayout": {},
       "_js2py_restyle": {},
       "_js2py_traceDeltas": {
        "trace_deltas": [
         {
          "connectgaps": false,
          "error_x": {
           "visible": false
          },
          "error_y": {
           "visible": false
          },
          "fill": "none",
          "hoverlabel": {
           "font": {
            "family": "Arial, sans-serif",
            "size": 13
           },
           "namelength": 15
          },
          "hoveron": "points",
          "hovertemplate": "",
          "hovertext": "",
          "index": 0,
          "legendgroup": "",
          "line": {
           "shape": "linear",
           "simplify": true
          },
          "opacity": 1,
          "showlegend": true,
          "stackgroup": "",
          "text": "",
          "uid": "b28b8169-3cbd-4df4-a045-9fbee1a1d862",
          "visible": true,
          "xaxis": "x",
          "xcalendar": "gregorian",
          "yaxis": "y",
          "ycalendar": "gregorian"
         },
         {
          "cliponaxis": true,
          "error_x": {
           "visible": false
          },
          "error_y": {
           "visible": false
          },
          "fill": "none",
          "hoverinfo": "all",
          "hoverlabel": {
           "font": {
            "family": "Arial, sans-serif",
            "size": 13
           },
           "namelength": 15
          },
          "hoveron": "points",
          "hovertemplate": "",
          "hovertext": "",
          "index": 1,
          "legendgroup": "",
          "marker": {
           "gradient": {
            "type": "none"
           },
           "line": {
            "color": "#444",
            "width": 0
           },
           "maxdisplayed": 0,
           "opacity": 1,
           "symbol": "circle"
          },
          "opacity": 1,
          "selected": {
           "marker": {
            "opacity": 1
           }
          },
          "showlegend": true,
          "stackgroup": "",
          "text": "",
          "uid": "45a70f11-824d-4327-b517-7c340b557398",
          "unselected": {
           "marker": {
            "opacity": 0.2
           }
          },
          "visible": true,
          "xaxis": "x",
          "xcalendar": "gregorian",
          "yaxis": "y",
          "ycalendar": "gregorian"
         }
        ],
        "trace_edit_id": 3
       },
       "_js2py_update": {},
       "_last_layout_edit_id": 3,
       "_last_trace_edit_id": 3,
       "_layout": {
        "autosize": true,
        "shapes": [
         {
          "fillcolor": "#ffcc00",
          "line": {
           "color": "#ffcc00"
          },
          "opacity": 1,
          "type": "circle",
          "x0": -25431756.660895184,
          "x1": 25431756.660895184,
          "xref": "x",
          "y0": -25431756.660895184,
          "y1": 25431756.660895184,
          "yref": "y"
         }
        ],
        "template": {},
        "xaxis": {
         "constrain": "domain",
         "title": "x (km)"
        },
        "yaxis": {
         "scaleanchor": "x",
         "title": "y (km)"
        }
       },
       "_py2js_animate": {},
       "_py2js_deleteTraces": {},
       "_py2js_moveTraces": {},
       "_py2js_removeLayoutProps": {},
       "_py2js_removeTraceProps": {},
       "_py2js_restyle": {},
       "_view_count": 1
      }
     },
     "6df2ee555558438ba9a5a53e74cc5189": {
      "buffers": [
       {
        "data": "d/cHBiHhlEHxK+kX/JSTQQNnbF7HY49B70L4H7N3gkG4awClX8MsQTbXwrSWl4bBvbbGgzxImcFUuGn4sNakwcbvl48qNa7BKL6GUPFatMHf0ufKAie6wUhR0/NnPMDBCLJSfuqkw8Fs0wCehUnHwTeyKfl3JsvBvpVRIsY3z8HYFodZn7zRwYc9QU8/89PBGXaE23o91sGFKzGx9ZjYwRdAyLtBA9vB3PmroOF53cGgkB9QS/rfwd4PsFH1QOHBmh2SAhKH4sFEV+KQK87jwXyDJM7wFOXBhMDG4hBa5sEo4lqpPJznwflLEAgo2ujBOiQKR4sS6sG0ADFiJETrwb3OI1W4bezBhsvxXxSO7cHz0U5DD6TuwSAI/HKKru/BEoqUnjlW8MG6rc7yYc7wweC0wllCP/HBlzBneGao8cEeHATtYQnywXnA677QYfLB4jCIxVex8sF3JlMGpffywTRdVwlwNPPByFbkI3pn88EegSe5jpDzwWUqaHCDr/PBSFuuYDjE88FqlqcxmM7zwWyWpzGYzvPBRluuYDjE88FkKmhwg6/zwR2BJ7mOkPPByVbkI3pn88FHXVcJcDTzwXYmUwal9/LB4jCIxVex8sF5wOu+0GHywR0cBO1hCfLBlzBneGao8cHgtMJZQj/xwbytzvJhzvDBEoqUnjlW8MEgCPxyiq7vwfPRTkMPpO7BicvxXxSO7cGpziNVuG3swbQAMWIkROvBOiQKR4sS6sH3SxAIKNrowSniWqk8nOfBhMDG4hBa5sF8gyTO8BTlwUVX4pArzuPBmR2SAhKH4sHfD7BR9UDhwa6QH1BL+t/B3vmroOF53cEYQMi7QQPbwYYrMbH1mNjBE3aE23o91sF6PUFPP/PTwdoWh1mfvNHBwJVRIsY3z8E7sin5dybLwW7TAJ6FScfBErJSfuqkw8FKUdPzZzzAwdfS58oCJ7rBLL6GUPFatMHM75ePKjWuwX+4afiw1qTB1rbGgzxImcFX18K0lpeGwcRQAKVfwyxBvUL4H7N3gkECZ2xex2OPQegr6Rf8lJNBdvcHBiHhlEE=",
        "encoding": "base64",
        "path": [
         "_data",
         0,
         "x",
         "value"
        ]
       },
       {
        "data": "AAAAAAB+i74XXksisKOEQSURLd0MmZRBOn8sFgbLnkHi8aqooG6kQXnsJm6uYqlBnxJkOJE8rkFnY9hupHuxQTVEt6r6xrNBpf1I3+39tUGyGeufNR64QXJLTt6gJbpBxarPLBgSvEFIDWfmn+G9QReM8Tlakr9B9GRei0SRwEGQoCv8R0jBQR3O5cd67cFBbWFIpDKAwkEq185T2P/CQZmPm0Hoa8NBluUaCfPDw0GDr9bonQfEQX3NAyCjNsRBsVRpNtJQxEGDOVcuEFbEQQj3eKBXRsRB4IZnwbghxEEc6vRQWejDQbd8QnN0msNB+C7Kc1o4w0FJfplycMLCQat9E/wvOcJBN2SliyadwUHCx+759O7AQQnc89ZOL8BBwT0JYvO9vkEJgC+SmP28QZJd1mpbH7tB2gOd5igluUH/iRnSChG3QQ0u97El5bRB8aqJjbajskFJgBygEE+wQRMlvuY106tBkj7MypvrpkF7IaA5YeyhQd6DsLZZtZlBkr2fjuHujkGgm0V3WaZ0QYOXRXdZpnTBhrufjuHujsGWgrC2WbWZwekgoDlh7KHBGj7MypvrpsFQJL7mNdOrwRCAHKAQT7DBsKqJjbajssHULfexJeW0wcOJGdIKEbfBmgOd5iglucFUXdZqWx+7wc5/L5KY/bzBij0JYvO9vsHz2/PWTi/AwaTH7vn07sDBIWSliyadwcGZfRP8LznCwTF+mXJwwsLB4i7Kc1o4w8GmfEJzdJrDwQTq9FBZ6MPBzYZnwbghxMH49nigV0bEwXM5Vy4QVsTBoFRpNtJQxMFvzQMgozbEwXiv1uidB8TBiuUaCfPDw8GOj5tB6GvDwSDXzlPY/8LBZGFIpDKAwsEUzuXHeu3BwYagK/xHSMHB8GRei0SRwMELjPE5WpK/wTsNZ+af4b3BwarPLBgSvMFrS07eoCW6wagZ6581HrjBoP1I3+39tcExRLeq+sazwXBj2G6ke7HBnxJkOJE8rsF87CZurmKpwfnxqqigbqTBWX8sFgbLnsEjES3dDJmUwU1eSyKwo4TBAAAAAAC/mL4=",
        "encoding": "base64",
        "path": [
         "_data",
         0,
         "y",
         "value"
        ]
       },
       {
        "data": "aI1mrQKBkkE=",
        "encoding": "base64",
        "path": [
         "_data",
         1,
         "x",
         "value"
        ]
       },
       {
        "data": "GEQh9GDqi0E=",
        "encoding": "base64",
        "path": [
         "_data",
         1,
         "y",
         "value"
        ]
       },
       {
        "data": "5ii6Oj3MlEFfQJyAvpiTQYLM38G2l49BRZ98dv3SgkFtcGb2Ug8+QetYmTli/YXBALGvGnvvmMFaYG3y4KWkwdaNyg5UAa7BxEo0zThAtMGM4LzSMwy6wd0+7q9QL8DBjIaJkn6Yw8Fx/J55Hz7HwWqvof1wHMvBUEgaR3Yvz8F+pXoVfrnRwfbNaL9O8dPBQGls0OM81sEs3zqX35nYweadhnLSBdvBXQ7ZUz1+3cGbtSkpSgDgwba0V6UgReHBaH7lRFOM4sGL0X+/kNTjwXXLvrmGHOXBXhDvIeNi5sHu+Y6MVabnwQiRGI+Q5ejBhNeyF0sf6sGiGmjAQVLrwZShgxw4fezBDBW//vme7cFwZO+2XLbuwWex6UVAwu/BcW8xQ8hg8MGf38sko9nwwSw4TDM0S/HBaKCPXQa18cHeLXWOrBbywXK3Tx3Cb/LBvb6oNeu/8sEKeOk11QbzwVVeiAQ3RPPBxoRjW9F388Hd+fkIb6HzwW/+QCflwPPBaY3cRxPW88FVm42V4+DzwRqbs+pK4fPBWBLK3EjX88FbZta858LzwWZwxYw8pPPBmc7D6WZ788FVRqfrkEjzwXLMivnuC/PBXfHJk7/F8sGtXJMTS3bywU3EVGDjHfLBdz5Nm+O88cEy95zBr1PxwYMdM0W04vDBwUkEnWVq8MHxLPmZf9bvwVJcUsyLy+7BLCs6/wK17cGD7DhRBJTswcQ8Qam5aevBeYKag1Y36sF6fOq0Fv7owTaZpCQ9v+fBkLAugBJ85sE4PRLo4zXlwS5Xl5gB7uPBHGgrj72l4sHC4vgtal7hwZsiF99YGeDBdQd0cbGv3cF0eI9HajbbwUQMcgxpydjBFoRH5S1r1sH3ypW8KR7UwWujD7675NHBfVZkyV2Cz8FDymQ7b2vLwUT9VAXjiMfBIyq9Wrrew8HlsqxOvHDAwVsKsd3jhLrBbm5QPUWutMGxQM7XQseuwduusZvZVKXBdTM8cxcemsEwqKEWgfmHwfrnFiXVDzXBMwr/Zc+egUH6JXaPkcmOQe7eUZYaZZNB5Si6Oj3MlEE=",
        "encoding": "base64",
        "path": [
         "_data",
         2,
         "x",
         "value"
        ]
       },
       {
        "data": "BpfqfQAEKsFG/YlIvD6EQb9I9yqjbpRBLz5XdSavnkHpguZNK2ukQQZx2yjebKlBEDSll4JXrkFWcVuVA5OxQYJRJLi76bNB7fPwh4AttkH7qF5h/Fu4QXZM85HvcrpBSDKOqTJwvEHXT9eyuFG+QfdWMajICsBB7igtXvXcwEFAl0/UiZ7BQS4YuX6+TsJBvXtsut3swkFtFYuIRHjDQYOyWTZj8MNBzyhh8b1UxEHSzRFH7aTEQaRCZo+e4MRBOqkXQpQHxUEVbgs2phnFQUNEucrBFsVBCqde++n+xEEbFuxbN9LEQcA3r//XkMRB2P3TSQ87xEG6xO2nNdHDQTYF0Da4U8NB95EUUhjDwkHsT8MO6x/CQbTfpKHYasFBE6DesZukwEHxjxUxAZy/Qc3WJRzJz71BRyJMjGnmu0Fj0mr22uG5QeVg59QxxLdBBY3GgpyPtUEMuRv8YEazQYHIHIba6rBBGc6Jgu7+rEFuhg5Qaw2oQd2UTflDBqNBTmxlo07dm0EqBK5HqpeRQTq0WkLGGH1BMaBl+MRjaMH72ApTYKuKwbjhTa7aipfBj7sNPLnQoMHvDs2qiMelwWii1ai9pKrBcaoNoFRjr8H5b/vENP+xwYz0JX2eOLTBOFvxgZxbtsGzLmT5+mW4wYF/W2ufVbrBXbyb7IoovMGfQXst3Ny9wWq2B2rRcL/Bd2fTHGVxwMH1PyqepBjBwfEY4tF6rcHB/ddnS04vwsHWuOI2mZ3CwcgXKOPp98LBXa7tNuM9w8EOcsEQPW/DwVwpZJHEi8PBnhA6UFyTw8EwgZt5/IXDwZ5a5tayY8PB09xHwKIsw8GvmU34BOHCwVAMY3EngcLBqyZ4/WwNwsHZpyPoTIbBwQY+qntS7MDBXjVpcRxAwMEPcHGcuAS/wd6M3FarZ73BJhR42rqqu8GJtHnOsc+5wVZUHuB52LfBkh3lyRnHtcFtDNg8s52zwUM0Ca6AXrHBFiYRFaYXrsGwO2GoHlCpwasgf1NYa6TB1n0j87zcnsFFoHPgqryUwZ6hp8rUAYXBhpzqfQAEKsE=",
        "encoding": "base64",
        "path": [
         "_data",
         2,
         "y",
         "value"
        ]
       },
       {
        "data": "iUvMIezGlEE=",
        "encoding": "base64",
        "path": [
         "_data",
         3,
         "x",
         "value"
        ]
       },
       {
        "data": "20OAlhf2WEE=",
        "encoding": "base64",
        "path": [
         "_data",
         3,
         "y",
         "value"
        ]
       },
       {
        "data": "SFxbsFaGlEEsJNfh6myTQdNwESzrYI9BggsIeqGpgkE7jiuTiSI4QRL1X4FGRobBtalc8FgqmcFJXpWBUNOkwc+AyI5+Q67B9EOf/P1ttMEhIYpU7ki6wYmh1JVDVsDBFSDdPxnJw8HmpdYcannHwSy06sBoY8vBOapgSwyDz8EeIKpHCurRwXE/tjoHKdTBJXUHSSx81sFPPar1E+HYwVJj6nRGVdvBa8uXNzzW3cHqjEVDsDDgwXQP3RUKeuHB4PsOE9jF4sGS09AyxBLkwSTUI0Z3X+XBEczXWJqq5sF3UBET2PLnwYnpJhneNunBUH5qaF516sHUd3evEK3rwRuwoqCz3OzBxk4vPQ4D7sF6KfMX8R7vwWEID8ebF/DBRNBwemSZ8MHPTmHdTBTxwV/StD3Wh/HBaW5rgonz8cH8snWm91bywRG5JSu6sfLBOIjWgXMD88Hp7Vxsz0vzwcld3lODivPBvVS0lU6/88E8/gzG+unzwfJsBOhbCvTBYpP8mlAg9MHaPAU9wiv0weSSMAKlLPTB1x68APgi9MG2wAEyxQ70wSSjL2gh8PPBFMPROCzH88EyL0PcD5TzwcWKKAIBV/PB7bIgmz4Q88GegeOXEcDywQqQEZ7MZvLBbngCs8sE8sG0a+ncc5rxwXbgsboyKPHBFrX/En6u8MHAQcda0y3wwU779GduTe/BYBKhyWkz7sERFmmQuw7twWK732+R4OvB+AVU4iKq6sFCTr3nr2zpwcdh3rt/KejBgMTzhN/h5sGoykj8IJflwTuMFRKZSuTBpI0Mjp794sGkZgKuiLHhwcuiG8StZ+DBvirbq8NC3sEQwvt76r/bwb7/E6JmSdnBgGv4EMLh1sGo+ttmd4vUwS+DIl/vSNLBrx2jVn4c0MHdmtPJwxDMwR485Bl9HcjBJWx4DztjxMHfbQZW1eXAwfoM+7jJUbvB3CbpP4BftcEE+lrr3vWvwQslafBMU6bBeDMZTnLCm8Hen1caYaGKwbD2t4WFA1bBzooYR08FgEHMPB3uhJyNQRagROmW+5JBSVxbsFaGlEE=",
        "encoding": "base64",
        "path": [
         "_data",
         4,
         "x",
         "value"
        ]
       },
       {
        "data": "UwxXKk9DPMFN4q/+EcuDQRpiWHYDQJRBaQOz/LWTnkFdWBqy/WqkQUtxpDogfqlBDhDRagd+rkHhWkj0xbKxQZ2pd77PF7RBX4QXJalrtkEBHU3x66u4QQr+Zh1G1rpBB8YxOXzovEGsMgW3a+C+QaojlY8GXsBBdOWqE7s8wUG1kAfWbQvCQclD/cRJycJBRmePKot1w0Ev5DB2gA/EQQC9zfOKlsRB01pjbx8KxUGN7H7ExmnFQVXsDVketcVB7TICg9jrxUHV0WDYvA3GQZ8uaWmoGsZBmGyY5I0SxkHcBWSkdfXFQe1snaZ9w8VBSpaHbdl8xUGxSb7K0SHFQXr1JZTEssRBYWUxQyQwxEF8EeF+d5rDQROq9ZBY8sJBD/TkxnQ4wkGo6DS/i23BQSo+9aNuksBBKvBFpv5Pv0FxfKjrXl69QeL8OA7/UbtBMEFTl/ssuUGCq1V2ivG2QVloQLn4obRBk5R/LahAskEcjaTWGaCvQfDWrJxVpapBdNKpuyWWpUGMS/ROwXegQYdw1DzenpZBiL0TuACKiEHq4j9cSMleQTp9aHJ2v4DB2vi5T1GVksF4FaCZp6mcwYeLbxwtSaPBkDa3JZkiqMG5ZV85GNyswa7BfshluLDB4fcbKv3tssEWR3A7iwy1wb+7eLXgEbfB3mLKUOj7uMGIdknrqMi6wcUl3ZBHdrzBFzkHZQkDvsFJ5GZrVW2/wc8YqBbbWcDB7LZinW3qwMER4aJCzWfBwbi8hcl40cHBKZ6+RAMnwsGezd+GFGjCwRu1P31plMLBd8QcddSrwsHfxbhKPa7CwaoUO4Khm8LBrw5AShR0wsHZHRNovjfCwZ+6pw3e5sHBHbt8mcaBwcGUBKxA4AjBwSQ2f6OnfMDBpQ7wmVq7v8EykKE7Klm+wYIyHUcr1LzBXf+muO4tu8F7m2TQJ2i5wWDaslGqhLfBx5H3oGiFtcHat+DBcWyzwW5iIjjvO7HB60/HmUXsrcEBFk12yDqpwYXIIYs9aKTBnj5O4DrznsGiigdg++eUwbBW7CkucoXBMw9XKk9DPME=",
        "encoding": "base64",
        "path": [
         "_data",
         4,
         "y",
         "value"
        ]
       },
       {
        "data": "QXEeW4EAk0E=",
        "encoding": "base64",
        "path": [
         "_data",
         5,
         "x",
         "value"
        ]
       },
       {
        "data": "stAJ7ykgh0E=",
        "encoding": "base64",
        "path": [
         "_data",
         5,
         "y",
         "value"
        ]
       },
       {
        "data": "zdEG4o1plEF7x0iSLXmTQWA9sYoVyY9BorEqvaxeg0FdXnu40f5LQe9gPZP/AIXBN4LobFJmmMGePYPwlmGkwUJzgBcaw63BvinCkQMntME0Jgj8v/u5wW7F+sXfLMDBwxZeAjmdw8HyaLE3YEvHwRpq1jSKM8vBwDst/K9Rz8GIeCx1ydDRwVJvMItgD9TBzAhW80xi1sHl5w5rKcfYwY0uNDJ+O9vBTV8/lsO83cFeuPlGMiTgwSXsYrHgbeHB0I+kMhm64sH+oudUhQfkwWLXOGXNVOXBvmvT1Zmg5sE+skWglOnnwcUzAqZqLunBbgLyDc1t6sGz4J+dcqbrwTBwmAwZ1+zBpJGhUIb+7cElgHLhiRvvwQp8T/l+FvDBLuc4UeSY8MFOZT+ObhTxwdUdYFeeiPHB8k8R6Pv08cFH3reLF1nywQdPzRCKtPLB040/M/UG88EdyJz9A1DzwTk5pyBrj/PBaKD2QOnE88EoWVc6R/DzwfukoVhYEfTB24zOhfon9MEO3BptFjT0wRb6E5OfNfTBw9p1YpQs9MHZv8wt/hj0wfcd2SXx+vPBOY2/RIzS88GlOBou+Z/zwaC4DARsY/PBSJWGMSMd88Ec2OspZ83ywTv+ZR6KdPLBQEkqqecS8sHSwwxv5KjxwTBQwbftNvHBhbI1/Xi98MGktXhyAz3wwcF8VgUjbO/BDq4AkVxS7sEiz7H91S3twQ3WHda8/+vBk+UUg0jJ6sFcXYEKuYvpwdzXhMVVSOjB+CQID2wA58GLGBrsTbXlwadjf69QaOTB66famcsa48Hrc9d3Fs7hwQrlxD+Ig+DBloQaYOt43sED+O3fX/TbwTlIMmgGfNnBwD/Tz2oS18FpKIy7CbrUwXO5ow1OddLBP532Z45G0MGmU8SFFWDMwU7VFjfUZ8jBs/rMd3CoxMGSfI89xyXBwQBcrcjtxrvBJHMC57bJtcFyrZVOFlqwwXZR0whN+6bBCVVBTanlnMFjybMMPY6MwTL3NA1dUGHBACiv5UqUfUGTtND/w7iMQd58nOuztJJBzdEG4o1plEE=",
        "encoding": "base64",
        "path": [
         "_data",
         6,
         "x",
         "value"
        ]
       },
       {
        "data": "YQd9hTeRSMEiY8nnVRSDQf2enTm455NBWAZLvm5JnkEpeZJwTVKkQYtZsN9Hd6lBlYinGlmOrkHr1kvzIMmxQSuQHGTrPrRBNXMRrAKmtkFlfJu+7Pu4QTGN6ENBPrtBn2Y6FKxqvUHMRW6e736/QTHVnZtzvMBBTWdkp0SrwUEj5ybF9IrCQdIjzl+dWsNBNCRAaGgZxEHBQAgykcbEQaxqEz5lYcVBqqSv8kTpxUH9ARFApF3GQQmVsjALvsZBqHj+ZBYKx0Fwfb15d0HHQYXh5Fj1Y8dBocludGxxx0HQ0ADrzmnHQcXnOpYkTcdB+8SfAosbx0FjOh9RNdXGQVbaYQJsesZBvjwMrIwLxkEo8EaYCYnFQfaI7k9p88RBNz7lD0ZLxEEvChUqTZHDQQ8zxlI+xsJBgGUC2+rqwUE5F9DYNADBQYiaJD4OB8BBnkP6vu8AvkH6kD/WANu7QcARK6SGnrlBiYD5R89Nt0EM3cK9Peu0QXlzqWhHebJB8EshFOP0r0HFfvBQneKqQWX4U9H3wKVBwcnptzyVoEF7UPcYgcmWQWtwofVy04hBqkgCwKGuYEFDGfSZEk+AwR6nIevQQ5LBDh9vlJY0nMFTFw2Kzfeiwcg8VE9rtafBqOVulEFOrMHrVLmeyV6wwTdJVP1mf7LB8313f8eGtMFh/5DC03K2wU2p8I+QQbjBru2g5yDxucEkexrsx3+7wVzo16zq67zByazwzRE0vsH7vwYL61a/wR0B/EmlKcDBaP/1IBaUwMFzur9RWurAwXCafO8YLMHBZJPPNA5ZwcHNPrfJC3HBwaqHU/P4c8HB0qtjrdJhwcG/SWKtqzrBwWNHPE+s/sDBxnK2axKuwMFxv6wYMUnAwaGv2abgoL/BMJkIK5mIvsGVweGorEq9wXRvbtli6LvBAcjy8ShjusEv7XYrkLy4wcIsMCVM9rbBXZZ0IzEStcEb3ActMhKzwc4Rswhf+LDBGhtzOsSNrcH6c7dr/P+owefnaVsYTKTBxeZtEeLtnsE3jQN5AwuVwXXMM5uL84XBsgh9hTeRSME=",
        "encoding": "base64",
        "path": [
         "_data",
         6,
         "y",
         "value"
        ]
       },
       {
        "data": "xrHgICT0kUE=",
        "encoding": "base64",
        "path": [
         "_data",
         7,
         "x",
         "value"
        ]
       },
       {
        "data": "55CTHVPGjUE=",
        "encoding": "base64",
        "path": [
         "_data",
         7,
         "y",
         "value"
        ]
       },
       {
        "data": "fotAkgjelEE4VoXaNSiUQSPcG5Rz5JBBCqJthz4shkHvGGBqqBlmQSVxke5sF4DBID6RFn9LlcHFtcw+PneiwTShAidIcqvB527nrs3GssHP5oxoZl+4wRX1CoApfb7B1i3yd+SMwsGDBqX2ORfGwZ5+Vvfu2cnBJovvGCPRzcHFdIDuX/zQwQ5gQW8+JtPB+UkCHvJj1cGyRmCYK7PXwSlY6muJEdrB9Z1cipp83MF1gPLN4PHewYvUm8Vpt+DBFNjYFnH44cHZnVhuuzrjwSBwyJL8fOTBcT9RVOi95cHIigTjM/zmwRWH3iOXNujBbgD+As5r6cEgULXBmZrqwSoMHD/CwevBtrzOORfg7MFo7ZCJcfTtwWFNjk+0/e7Bxz0BHM7678HADAgEXXXwwWhUX2FA5vDBo0Pvx5xP8cEH1/ubBbHxwbrqGHQWCvLBHu+rgHNa8sGH74/qyaHywaxZeijQ3/LBN4PISkYU88EIxmc99j7zwXZFlP+zX/PBa+U00V1288E9sKVV3ILzwS7QzKsihfPBl0hhey5988FUv1X3B2vzwajYZNXBTvPBu9vHOnko88FQgiueVfjywR7qAZ+IvvLB9Jdb0k178sEHSHyF6i7ywYjYanat2fHBL/bFgu578cGEMjFNDhbxwQzkt9l1qPDB1H6MIZYz8MHt9yc9z2/vwU+2ap7Ta+7B7ofaZUVc7cG5fVqAPELswQLSKajbHuvBKbkzOU/z6cEAh3H7y8DoweJRnuSNiOfBMS+E0tZL5sEBxzI/7QvlwQZBdfAayuPBQ3Tio6uH4sGRxOW460XhwWIuIdomBuDBHF0TT02T3cGu5TzFYiPbwZgrMjwRv9jBkSXj5M9o1sE7SxdxByPUwS7guZcP8NHB6ihOVVmkz8GFee6AGpfLwYuMYemPvMfBCehkgbIYxMEF7hvfQq/AwWm9vLuKB7vB/cI5/PwytcFwKmEcvs2vwbvzkbdNUabB1JJCJ+D0m8HJKRRs90aLwXqA4pEH01vB5Nbef/XGfkFy4oHxKD+NQUtB8E0wBZNBfotAkgjelEE=",
        "encoding": "base64",
        "path": [
         "_data",
         8,
         "x",
         "value"
        ]
       },
       {
        "data": "s7Rrh5SzUsFiDmabchSCQVZWRmfRWZNBnAvdEO64nUEhDggsbw6kQTe6Yih2PalBEGHPDzRkrkHh64m/rL6xQUUZWovSQbRBsNrkcvS4tkFX7WjghyG5QZ5Bej8RebtBAVgtjCa9vUGqhifQceu/QVu6gcXZAMFBXzPHgeL+wUGRa70/ze7CQaWTn6+iz8NBN/T5DXugxEEIE5ISf2DFQX2TUc7oDsZBaBFPdwSrxkF9oiIiMTTHQSH0xmfhqcdBMAdc95sLyEGJSTUT/FjIQd0jsvixkchBWPB1MoO1yEHNmKrUSsTIQUi/D6P5vchB1jSvIJaiyEG0jSaJPHLIQdG/jLMeLchBM8oR34PTx0GbW41pyGXHQbosSHBd5MZB1TRiW8hPxkEv6k1UoqjFQRhP7qeX78RB54z6FGclxEEwMl4H4UrDQVrCYMHmYMJBWw9yc2lowUH0uYpDaWLAQRM+Qoron75BU8iFxUpkvEEBNuR0RhS6Qc485ds9srdB92uB0KVAtUEIeeoyA8KyQfzDylToOLBBR6BSpeRPq0H9cVvEjCOmQbw/FjAe8qBBRLSGoeaBl0Fmll8jmVWKQU/wCAq3TGdBsi4fQaHcfMFG9RBaAC2RwdL67Mys7ZrB6r5mBJA3osG7+9rMxtOmwe8jwCi6RqvBiLsECtSLr8H7T+vSVs+xwUBPFP+JvbPB70jpGoaOtcFV3GrVa0C3wV5SRel70bjB+Q/f6RhAusG/PoPtyIq7wXde8RI3sLzBqS3A4DSvvcGQsyl9u4a+wT4B/7zsNb/B3FysCBS8v8FM4jCLUwzAwYPxTzyjJcDBxUFLAN8pwMH1j/d5AhnAwckUzBU+5r/BBjbzgrdwv8Fws0hh6tG+wYRO7WJ6Cr7B9JuAHTUbvcFlQjU2EQW8wRiqkWMtybrBQTPjRc9oucEhm5QXYuW3we+SwTZ1QLbBsn6Jibp7tMH4uMm+BJmywT5sDG1FmrDBBsk3IxYDrcEZLpbj/aGowR6gRcHFFaTBdLz9rDvGnsFzuhS5ux2VwRmdRLcAeIbBs7Rrh5SzUsE=",
        "encoding": "base64",
        "path": [
         "_data",
         8,
         "y",
         "value"
        ]
       },
       {
        "data": "EsrfZ6Ew5ME=",
        "encoding": "base64",
        "path": [
         "_data",
         9,
         "x",
         "value"
        ]
       },
       {
        "data": "yo7HzSCGyEE=",
        "encoding": "base64",
        "path": [
         "_data",
         9,
         "y",
         "value"
        ]
       }
      ],
      "model_module": "plotlywidget",
      "model_module_version": "^0.6.0",
      "model_name": "FigureModel",
      "state": {
       "_config": {
        "plotlyServerURL": "https://plot.ly"
       },
       "_data": [
        {
         "hoverinfo": "none",
         "line": {
          "color": "rgb(31, 119, 180)",
          "dash": "dash",
          "width": 2
         },
         "mode": "lines",
         "name": "-239-06-03 00:00 (Halley)",
         "type": "scatter",
         "uid": "3f4dfb3b-7032-4c94-a65c-01de4bfd5536",
         "x": {
          "dtype": "float64",
          "shape": [
           100
          ]
         },
         "y": {
          "dtype": "float64",
          "shape": [
           100
          ]
         }
        },
        {
         "marker": {
          "color": "rgb(31, 119, 180)",
          "size": 10
         },
         "mode": "markers",
         "name": "-239-06-03 00:00 (Halley)",
         "type": "scatter",
         "uid": "7e0e0d95-8cf9-4add-806b-b1266f38786c",
         "x": {
          "dtype": "float64",
          "shape": [
           1
          ]
         },
         "y": {
          "dtype": "float64",
          "shape": [
           1
          ]
         }
        },
        {
         "hoverinfo": "none",
         "line": {
          "color": "rgb(255, 127, 14)",
          "dash": "dash",
          "width": 2
         },
         "mode": "lines",
         "name": "141-03-23 00:00 (Halley)",
         "type": "scatter",
         "uid": "ee6e5749-1913-4151-83df-dd1c594c610b",
         "x": {
          "dtype": "float64",
          "shape": [
           100
          ]
         },
         "y": {
          "dtype": "float64",
          "shape": [
           100
          ]
         }
        },
        {
         "marker": {
          "color": "rgb(255, 127, 14)",
          "size": 10
         },
         "mode": "markers",
         "name": "141-03-23 00:00 (Halley)",
         "type": "scatter",
         "uid": "7d61c8ac-810c-4c4c-8359-58593dd32fcc",
         "x": {
          "dtype": "float64",
          "shape": [
           1
          ]
         },
         "y": {
          "dtype": "float64",
          "shape": [
           1
          ]
         }
        },
        {
         "hoverinfo": "none",
         "line": {
          "color": "rgb(44, 160, 44)",
          "dash": "dash",
          "width": 2
         },
         "mode": "lines",
         "name": "530-10-10 00:00 (Halley)",
         "type": "scatter",
         "uid": "24fee340-3b8c-4df1-9395-bfd603ffc2ed",
         "x": {
          "dtype": "float64",
          "shape": [
           100
          ]
         },
         "y": {
          "dtype": "float64",
          "shape": [
           100
          ]
         }
        },
        {
         "marker": {
          "color": "rgb(44, 160, 44)",
          "size": 10
         },
         "mode": "markers",
         "name": "530-10-10 00:00 (Halley)",
         "type": "scatter",
         "uid": "9a46dfd1-4eb9-48a7-8727-c54bf35e4687",
         "x": {
          "dtype": "float64",
          "shape": [
           1
          ]
         },
         "y": {
          "dtype": "float64",
          "shape": [
           1
          ]
         }
        },
        {
         "hoverinfo": "none",
         "line": {
          "color": "rgb(214, 39, 40)",
          "dash": "dash",
          "width": 2
         },
         "mode": "lines",
         "name": "1301-11-17 00:00 (Halley)",
         "type": "scatter",
         "uid": "7cae03a9-b499-4e9b-86e6-5e3214aa5bf0",
         "x": {
          "dtype": "float64",
          "shape": [
           100
          ]
         },
         "y": {
          "dtype": "float64",
          "shape": [
           100
          ]
         }
        },
        {
         "marker": {
          "color": "rgb(214, 39, 40)",
          "size": 10
         },
         "mode": "markers",
         "name": "1301-11-17 00:00 (Halley)",
         "type": "scatter",
         "uid": "0069597c-e798-44a1-8941-3f7b52f42a33",
         "x": {
          "dtype": "float64",
          "shape": [
           1
          ]
         },
         "y": {
          "dtype": "float64",
          "shape": [
           1
          ]
         }
        },
        {
         "hoverinfo": "none",
         "line": {
          "color": "rgb(148, 103, 189)",
          "dash": "dash",
          "width": 2
         },
         "mode": "lines",
         "name": "1994-02-17 00:00 (Halley)",
         "type": "scatter",
         "uid": "2a500158-0925-43d2-839c-b61ea3aaf6e7",
         "x": {
          "dtype": "float64",
          "shape": [
           100
          ]
         },
         "y": {
          "dtype": "float64",
          "shape": [
           100
          ]
         }
        },
        {
         "marker": {
          "color": "rgb(148, 103, 189)",
          "size": 10
         },
         "mode": "markers",
         "name": "1994-02-17 00:00 (Halley)",
         "type": "scatter",
         "uid": "3b8beb02-88be-4fda-8dd9-d744656034ab",
         "x": {
          "dtype": "float64",
          "shape": [
           1
          ]
         },
         "y": {
          "dtype": "float64",
          "shape": [
           1
          ]
         }
        }
       ],
       "_js2py_relayout": {},
       "_js2py_restyle": {},
       "_js2py_update": {},
       "_last_layout_edit_id": 11,
       "_last_trace_edit_id": 11,
       "_layout": {
        "autosize": true,
        "shapes": [
         {
          "fillcolor": "#ffcc00",
          "line": {
           "color": "#ffcc00"
          },
          "opacity": 1,
          "type": "circle",
          "x0": -13136189.026166992,
          "x1": 13136189.026166992,
          "xref": "x",
          "y0": -13136189.026166992,
          "y1": 13136189.026166992,
          "yref": "y"
         }
        ],
        "template": {},
        "xaxis": {
         "constrain": "domain",
         "title": "x (km)"
        },
        "yaxis": {
         "scaleanchor": "x",
         "title": "y (km)"
        }
       },
       "_py2js_animate": {},
       "_py2js_deleteTraces": {},
       "_py2js_moveTraces": {},
       "_py2js_removeLayoutProps": {},
       "_py2js_removeTraceProps": {},
       "_py2js_restyle": {},
       "_view_count": 0
      }
     },
     "7745a73940a146fcbda835f36f153c81": {
      "buffers": [
       {
        "data": "SMf9lCstpkGv7+q+rhSmQeK9v3pRy6VB0feeaF9RpUFs+8s8VqekQQ+iFj7lzaNBn3ItkezFokHQYZBRfJChQQZNEnnTLqBBb6YULr1EnUHH+g+xbNmZQRAuG8Y7H5ZBLvEFBwIakkF2mgDNyJuLQXJq6dShfoJBox05bOjLcUEoG/ibukVCwXFvToToK3fBzibskhFkhsHYfpMeyMGQwdtbPH98dJbB7JZiQUZEnMEuAw7gkxWhwTcnRsSFEaTBbEWsT+USp8F25xZsmRaqwXR1aJyGGa3Bk4BIGEkMsMGnWF68UoixweQvMXpY/7LB2x31vNdvtMHX8tWpVNi1wRY7h6dbN7fB/JVR3YKLuMEThRKoa9O5wXA0rgPEDbvBZqZ+50c5vMEtFlmUwlS9wbRA0dIPX77BF4FyIB1Xv8FBH1xl9R3AwY/9UHtGhsDBn6fpSRbkwMG3mSIdBDfBwSEJ0ni6fsHBc4/GcO+6wcFXovr0ZOvBwfRKjhHpD8LBqypFIlYowsGVuFP5kjTCwZK4U/mSNMLBqipFIlYowsHzSo4R6Q/CwVWi+vRk68HBdI/GcO+6wcEhCdJ4un7BwbaZIh0EN8HBnafpSRbkwMGM/VB7RobAwUEfXGX1HcDBEYFyIB1Xv8G1QNHSD1++wSAWWZTCVL3BZKZ+50c5vMFqNK4DxA27wQyFEqhr07nB8ZVR3YKLuMEKO4enWze3wc3y1alU2LXByx31vNdvtMHULzF6WP+ywZ5YXrxSiLHBiYBIGEkMsMFgdWichhmtwVTnFmyZFqrBTUWsT+USp8EcJ0bEhRGkwRkDDuCTFaHBqpZiQUZEnMGsWzx/fHSWwax+kx7IwZDBNybskhFkhsFfbk6E6Ct3wYAT+Ju6RULBtR45bOjLcUH0aunUoX6CQfSaAM3Im4tBavEFBwIakkFCLhvGOx+WQQj7D7Fs2ZlBoaYULr1EnUEaTRJ50y6gQeZhkFF8kKFBs3ItkezFokEgohY+5c2jQXn7yzxWp6RB3PeeaF9RpUHrvb96UculQbLv6r6uFKZBSMf9lCstpkE=",
        "encoding": "base64",
        "path": [
         "_data",
         0,
         "x",
         "value"
        ]
       },
       {
        "data": "AAAAAADgqT7uKVI4t2R0QUqbGGg0WoRB8a1UaRJtjkGivtuiSTCUQT5h3Hs6FZlBoL6xMFDgnUGAZcTsTEahQZUlzSajiqNBJtQqjdS6pUGq8Fmqn9SnQXKi3R/a1alB01604XK8q0H8RrJXdIatQSwUj2IGMq9BRkpJIbhesEERBvUujROxQegRafLHtrFBdiTyKMBHskH/q31i4MWyQXr+pJumMLNBj5myw6SHs0ECTBcugcqzQfJT2u72+LNBnSilIdYStEEesyEbBBi0QYwSeIR7CLRBvpTPYEzks0EyN838m6uzQRe0IMikXrNBeb1HGbb9skHbfsXbM4myQQKzIimWAbJBXnogzWhnsUFskJ21SruwQQbXhJ3a+69Bhk86mCdgrkHiiNO+JKWsQdY9rLuazKpBLEpGqXDYqEGkvyscqsqmQaZAdg9lpaRBDn0fttdqokE8t1ozTh2gQQrroXhQfptBeKhhS62llkHLay+/sbWRQRYPsYnpZolB3KGNeoCQfkEEeYFuWGdkQfR5gW5YZ2TBPqKNeoCQfsEsD7GJ6WaJwexrL7+xtZHBlqhhS62llsEo66F4UH6bwUK3WjNOHaDBG30fttdqosGwQHYPZaWkwae/KxyqyqbBNUpGqXDYqMHWPay7msyqwfmI074kpazBiU86mCdgrsEN14Sd2vuvwXCQnbVKu7DBZnogzWhnscEHsyIplgGyweB+xdszibLBfL1HGbb9ssEZtCDIpF6zwTQ3zfybq7PBvZTPYEzks8GMEniEewi0wR6zIRsEGLTBniilIdYStMHyU9ru9vizwQBMFy6ByrPBjJmyw6SHs8F2/qSbpjCzwfmrfWLgxbLBbiTyKMBHssHfEWnyx7axwQkG9S6NE7HBO0pJIbhesMESFI9iBjKvweNGsld0hq3BvF604XK8q8FTot0f2tWpwYTwWaqf1KfBBdQqjdS6pcF2Jc0mo4qjwVxlxOxMRqHBRr6xMFDgncHiYNx7OhWZwUq+26JJMJTBK61UaRJtjsFMmhhoNFqEwXYoUji3ZHTBAAAAAAAgoD4=",
        "encoding": "base64",
        "path": [
         "_data",
         0,
         "y",
         "value"
        ]
       },
       {
        "data": "/9qTVsBAtsE=",
        "encoding": "base64",
        "path": [
         "_data",
         1,
         "x",
         "value"
        ]
       },
       {
        "data": "fBdgHzpjssE=",
        "encoding": "base64",
        "path": [
         "_data",
         1,
         "y",
         "value"
        ]
       },
       {
        "data": "5FewZMFbn8H8zHZ0+1edwfMJMoQKHZvBugq+HTutmMHXgJRKEAuWwUOR8fxAOZPBsjt2Q7U6kMGZt1WUBiWKwTPO8FfYh4PBPB+AX2JJecH4sjJrqgpmwWAS0IURbk1B6x4AwLzAckGMXYBGCBKBQcbCpWzw44hB8cxHmwNnkEFSm3UNEmSUQeg97gUHZZhBIqh2+MFlnEEwyFFKETGgQYFEXIMGK6JBjIHzGbcepEGiyMf2HwqmQdCBmItG66dBU1pf3TrAqUHDv5SDGYerQQWpfpoNPq1BrgOIplLjrkF6Q1czmzqwQc4PE0oN+bBBVEKyRjussUHXX251bFOyQQC65H307bJBFK++FDR7s0FN4+WfmfqzQaIwm8yha7RBN5XVFtjNtEHUlV1B1yC1QQhFKb5JZLVBqluNBuqXtUGweejigru1QayufqHvzrVBe71MPBzStUGJHaxtBcW1QaxysrO4p7VBmgFJQlR6tUE5dwrkBj21QakaB8oP8LRBeSKhSr6TtEGDUsSPcSi0QU8wzTSYrrNBsuyE1K8ms0FiiqeHRJGyQeu4eVTw7rFBt0EDkFpAsUGAsZExN4awQdUYajKMgq9BBZDrk6TkrUHy2h8xYjSsQQ45Fp+Cc6pB2Tskk9SjqEH4g+0FNsemQUTCr0aS36RBzuDOAODuokG6Yqs1H/egQVg8slmu9J1BxbqsuSj1mUEMX9aczPOVQbFmvPm69JFBVqq91CT4i0GfkSra1RuEQY9xDrFGuXhB0mG/iSYKY0HMuv6XCVVVwVfRLMhqxnPBqZ23YsHfgMEFAaaCEZmHwfZXAmY3CI7B3+4skUgTksFv7HIL6PaUwdAseLb/q5fBqTfVHcUvmsEixo+koH+cwdvfKzEwmZ7B151J0SQ9oMFZTaWFfhChwbAmVFjLxaHBWnX+ZVBcosH9m++FctOiwQcLB+q2KqPBvVpPncNho8EMC7ngX3ijwXZSmWV0bqPB5q+wZQtEo8FAe6CYUPmiwUJS2gaRjqLB1dU3ujoEosG/koxM3FqhwZACp1Qkk6DB5VewZMFbn8E=",
        "encoding": "base64",
        "path": [
         "_data",
         2,
         "x",
         "value"
        ]
       },
       {
        "data": "XaYMIgbulMGilb10HB6Ywetczna0JJvB6bNtsK/+ncEcUkrTjlSgwXhyWXGfkKHBcv3p40OyosFo0CiZUbijwYiHr2+6oaTBXFD5zI1tpcFJ4GeV+RqmwYjl2ARLqabBIrDsZu8Xp8FCHkCudGanwabo/emJlKfBYh5Omf+hp8EFzk3cx46nwSBiXIL2WqfBAPOv9cAGp8FjmkUEfpKmwVKLZoal/qXB8ioe489LpcEegyBztXqkwdD/wsItjKPBHFrLsy6BosGkuvl/y1qhwQNaU50zGqDB/iOkCmOBncHeqnbAUp+awZ1t+ysvkZfBCeIejB5alMHTVMRPcf2QwT8xYVY9/YrBF9L6CoLCg8GC+hAHSaR4wTyzpT4/z2LBKJ89+QyFWEGnsPobXOZ1Qe4SX7m064JBuvwuNv7xikGewfR04n6RQV5Fwsheg5VB8NwR50+CmUHe5GhXl3edQbJvnEuQr6BBr8ZJp3KaokG2TyK7eHqkQQcVhbWzTaZBsj3c9EESqEGc3xb4UMapQSLxij8faKtBnqVPHP71rEEjkzJsU26uQQ39fUCbz69BjjrutjSMsEEszt6BtSOxQZKG3NSzrbFBNKPDcKEpskGBWSKW/payQfw/6Iha9bJBXuKbBFREs0FgtJ6gmYOzQdQHGCTqsrNBHoUwyRTSs0El2Fhv+eCzQUO+Z7yI37NBvFFtLMTNs0HzQisQvquzQbqSM3qZebNBYkTBGoo3s0HqS3AK1OWyQcCkC4TLhLJBCO25jdQUskGvBeKRYpaxQVAAMuj3CbFB1v5CTyVwsEGbCcmuEpOvQZURUn6fLa5BNYW4hGGxrEFMajO44B+rQWlvjvm6eqlBe3yHaaLDp0EqikypW/ylQcAM5we8JqRBJel1nqdEokH9oihdD1igQQpU/BXexZxBMKOudJbOmEEQBfFoXs6UQeIcP7xVyZBB2L1mXUKHiUGejSpjzIKBQYmuw4QaG3NBzED6S5D7SkHNeMe+UTpowcjo5Wi/SnvB3/XvHNYMhcF7qOfGVT2MweUoQ7y6l5HBWaYMIgbulME=",
        "encoding": "base64",
        "path": [
         "_data",
         2,
         "y",
         "value"
        ]
       },
       {
        "data": "kKWnbGTyoUE=",
        "encoding": "base64",
        "path": [
         "_data",
         3,
         "x",
         "value"
        ]
       },
       {
        "data": "aFTIgZvbs0E=",
        "encoding": "base64",
        "path": [
         "_data",
         3,
         "y",
         "value"
        ]
       },
       {
        "data": "u43ER2VzmcFVGON9SM2bwSxZiW7+Ap7BRw0Q+h8JoMFGhHPGdvygwdVym8WI2qHB881SDXGiosHaivuLYVOjwRYx+tyj7KPBn5q5BJptpMGeEoUTv9WkwfvzkK6nJKXBn4WkfgJapcF8AfODmHWlwc9XzU5Nd6XBTD3yHB9fpcEvTV7bJi2lwVdgmgyY4aTBSpaik8B8pMGTy5xjCP+jwfJAsRTxaKPB1udzXhW7osEfCWh4KPahwdOsQmH1GqHBADKqDV4qoMGtlJX+tEqewYblX4rvGZzBkuHUzK3EmcHRdUFwV02XwVDVeUB3tpTBzKP+i7gCksHM3j3HyGmOwaoY2na9n4jBuA3430atgsFOu9/LDDF5wQpWJRIDn2nBQIoh5cyrEMEqeQW49NBoQQ35egbsJHlBYrwSbsLygkEyx7HSj06JQQB2yzdQn49BI/UghEDvkkGCyY3k2AKWQcKcZl5FB5lB+bSBtmn5m0Fx7BaKPNaeQZIoDDhlzaBBJNLxgRwiokEEBRXr5GejQdHlgqBunaRBcOIpjnrBpUFFZ8On29KmQXGEJx940KdBGKDKhkq5qEFlwznfYoypQcm3f47nSKpBIO9zQBbuqkFJ/guvRHurQdMr4VHh76tBeCQ19HNLrEHrMNswno2sQfExhtMbtqxBXhUXH8PErEFNSqP4hLmsQQvbBvdslKxBgx/yVqFVrEHKWH/TYv2rQTbXeGMMjKtBQnOU2xICq0HwAQV2BGCqQeno3T+IpqlBEfTfbF3WqEFI7mCSWvCnQcwoGcps9aZBRPW6vZbmpUEQA1Cc78SkQc56b/qhkaNBVYB1nupNokFxYPk5F/ugQeQIpiMKNZ9BtIAkLD9bnEG9OrbWvWuZQZOfUs6MaZZBLxIVAcZXk0ETc9ZtkzmQQflGbsJXJIpBAXTsSp/Jg0HU1wCiFNN6QT2kTN2sKmxBUA8MJGRyNkE46/VK01RmwZIe+4xkknfB3nnjSgDigcEgg6L2VdmHwUfI3eAMqY3BeNwLvJOlkcHA+oOX61yUwUj/fDzB95bBt43ER2VzmcE=",
        "encoding": "base64",
        "path": [
         "_data",
         4,
         "x",
         "value"
        ]
       },
       {
        "data": "pssASJGJmUG4uR4ju2eXQZTQcWo5JpVByGdsbF/HkkEvkVC3nk2QQfv7sygJd4tB+DikzG4nhkHMOInc57GAQU3LlOQpOHZB5tx5yt+uZUHAb7KReFQmwc5j6PBXtGjBedksOSUTeMHR72AHveiBwWo/sb2HxIfBImDyuuiWjcGa90bX76yRwYhiyxW+g5TB5kcJ5PFMl8FdZskSrAWawdx2cm4eq5zBjqBfo446n8G3E92GrNigwTUl+Lh5BqLBGLJ9zXclo8F1L+HtfjSkwTyqgbh3MqXBGtKnYFwepsFAYWS8OfemwciwOD8wvKfB1xeH4HRsqMFwit3sUQepwU26QsEnjKnBf6bEb236qcEb+Z5MsVGqwZeyZ2OZkarB6VnJ0+O5qsFKG2sVZ8qqwebVwCISw6rBk/aWiuyjqsEgCUhoFm2qwUAIpELIHqrBA4qr0VK5qcEU2VqrHj2pwanA2terqqjBkCyGTZECqMFgqUxVfEWnwegtEtgvdKbB0U/ElYOPpcEv//NGY5ikwVUK2anNj6PBxOO5e9N2osGkWcZflk6hwa4Ph7RHGKDBNP0qsk6qncEj68HGBA2bwaYDqZFjW5jBo1h/9TGYlcGzM+HvSMaSwRb75FMh0Y/B2daL8voDisGQYG+oGSuEweR3ffMImXzBT10Zl5DccMHA8mk5jbNUwQD2cBDMp1lBk46cGADccUE6a/eSdx19QcFt+JVfEYRBsdyJUz1wiUFOj0jEy6WOQQ9Qxh9W1pFB6nJ6Hdg/lEEWGOpQ74yWQfR/wXo8u5hBo3qmGIDImkFBuXe2nLKcQQIwcRyZd55B2xj7K9EKoEFwNnTOhsWgQd3Ozf4sa6FB9zjQ+xj7oUEZzOZptnSiQcMMDuyH16JB2tgNpScjo0H5XXqgR1ejQT+cDyOyc6NBDaAU4kl4o0FvWo0hCmWjQSz4G7kGOqNBj6+M/2v3okF3GiGdfp2iQSY6ykSbLKJB9RiaVDaloUGEis9d2wehQeWw95QsVaBBPilzVcQbn0FIVvAbk2WdQXYHHTCJiZtBqMsASJGJmUE=",
        "encoding": "base64",
        "path": [
         "_data",
         4,
         "y",
         "value"
        ]
       },
       {
        "data": "A6wmbhAvpcE=",
        "encoding": "base64",
        "path": [
         "_data",
         5,
         "x",
         "value"
        ]
       },
       {
        "data": "viPGxHuWkcE=",
        "encoding": "base64",
        "path": [
         "_data",
         5,
         "y",
         "value"
        ]
       }
      ],
      "model_module": "plotlywidget",
      "model_module_version": "^0.6.0",
      "model_name": "FigureModel",
      "state": {
       "_config": {
        "plotlyServerURL": "https://plot.ly"
       },
       "_data": [
        {
         "hoverinfo": "none",
         "line": {
          "color": "rgb(31, 119, 180)",
          "dash": "dash",
          "width": 2
         },
         "mode": "lines",
         "name": "2019-04-27 00:00 (Ganymed)",
         "type": "scatter",
         "uid": "c4e890e0-6829-406b-b7dc-cbb5902a67ee",
         "x": {
          "dtype": "float64",
          "shape": [
           100
          ]
         },
         "y": {
          "dtype": "float64",
          "shape": [
           100
          ]
         }
        },
        {
         "marker": {
          "color": "rgb(31, 119, 180)",
          "size": 10
         },
         "mode": "markers",
         "name": "2019-04-27 00:00 (Ganymed)",
         "type": "scatter",
         "uid": "d572cf43-f27b-498f-a473-0b012ec97032",
         "x": {
          "dtype": "float64",
          "shape": [
           1
          ]
         },
         "y": {
          "dtype": "float64",
          "shape": [
           1
          ]
         }
        },
        {
         "hoverinfo": "none",
         "line": {
          "color": "rgb(255, 127, 14)",
          "dash": "dash",
          "width": 2
         },
         "mode": "lines",
         "name": "2019-04-27 00:00 (Amor)",
         "type": "scatter",
         "uid": "5e86e956-b152-4181-8127-14451def8561",
         "x": {
          "dtype": "float64",
          "shape": [
           100
          ]
         },
         "y": {
          "dtype": "float64",
          "shape": [
           100
          ]
         }
        },
        {
         "marker": {
          "color": "rgb(255, 127, 14)",
          "size": 10
         },
         "mode": "markers",
         "name": "2019-04-27 00:00 (Amor)",
         "type": "scatter",
         "uid": "f299a891-9be7-4e95-9b81-907401091e73",
         "x": {
          "dtype": "float64",
          "shape": [
           1
          ]
         },
         "y": {
          "dtype": "float64",
          "shape": [
           1
          ]
         }
        },
        {
         "hoverinfo": "none",
         "line": {
          "color": "rgb(44, 160, 44)",
          "dash": "dash",
          "width": 2
         },
         "mode": "lines",
         "name": "2019-04-27 00:00 (Eros)",
         "type": "scatter",
         "uid": "ae9521e4-3db8-41fa-a2e1-850edfe6a965",
         "x": {
          "dtype": "float64",
          "shape": [
           100
          ]
         },
         "y": {
          "dtype": "float64",
          "shape": [
           100
          ]
         }
        },
        {
         "marker": {
          "color": "rgb(44, 160, 44)",
          "size": 10
         },
         "mode": "markers",
         "name": "2019-04-27 00:00 (Eros)",
         "type": "scatter",
         "uid": "ba0b79bb-c2ca-43c0-998d-6831c15e4cec",
         "x": {
          "dtype": "float64",
          "shape": [
           1
          ]
         },
         "y": {
          "dtype": "float64",
          "shape": [
           1
          ]
         }
        }
       ],
       "_js2py_pointsCallback": {},
       "_js2py_relayout": {},
       "_js2py_restyle": {},
       "_js2py_update": {},
       "_last_layout_edit_id": 7,
       "_last_trace_edit_id": 7,
       "_layout": {
        "autosize": true,
        "shapes": [
         {
          "fillcolor": "#ffcc00",
          "line": {
           "color": "#ffcc00"
          },
          "opacity": 1,
          "type": "circle",
          "x0": -27904427.174349155,
          "x1": 27904427.174349155,
          "xref": "x",
          "y0": -27904427.174349155,
          "y1": 27904427.174349155,
          "yref": "y"
         }
        ],
        "template": {},
        "xaxis": {
         "constrain": "domain",
         "title": "x (km)"
        },
        "yaxis": {
         "scaleanchor": "x",
         "title": "y (km)"
        }
       },
       "_py2js_animate": {},
       "_py2js_deleteTraces": {},
       "_py2js_moveTraces": {},
       "_py2js_removeLayoutProps": {},
       "_py2js_removeTraceProps": {},
       "_py2js_restyle": {},
       "_view_count": 0
      }
     },
     "7c61f8026dbb4aeb90211068a91638c8": {
      "buffers": [
       {
        "data": "qJhkpq/qkUGaQ0xMEN2RQYzC2UhAtJFB4OwWrmlwkUET9uJp0hGRQa/K3P3bmJBBphXgGgMGkEFlFPlAvrOOQRbi1wFDKo1BfKRPFCpxi0ETkrYpOoqJQUoDETRpd4dB8eimYNo6hUGlGvnj29aCQZbqW5nkTYBBhEhU8SJFe0FBnV3JRa91QS4iMlTnv29BDOc7elO6Y0FkC1fP0WhNQaghrOnPTkXBUszF3FNCYsFB4mKJVmRvwWFMFi8ZVnbBwSehWhsGfcHGzWiApt2BwZYrYQFiN4XBsXDrBMyMiME+gEnTdNqLweNgIrP0HI/BouQMtncokcFA9cXei7mSwVC07WIZQJTBIKxnq426lcHgTsmZYieXweOMfhoghZjBz8d0qF3SmcE3hbzAww2bwSDKokQNNpzB5BzVyAhKncH+szbQmUiewb5JIvG5MJ/B8iP18bwAoMHEOsA8AV2gwXpyo7zKrKDBRb2SMsfvoMHu9YyRsSWhwaC2yUVSTqHBT6cDbn9pocGYNaQGHXehwZc1pAYdd6HBUKcDbn9pocGgtslFUk6hwfD1jJGxJaHBRr2SMsfvoMF9cqO8yqygwcY6wDwBXaDB+iP18bwAoMHKSSLxuTCfwQu0NtCZSJ7B7hzVyAhKncEuyqJEDTacwUaFvMDDDZvB48d0qF3SmcHrjH4aIIWYwfJOyZliJ5fBMqxnq426lcFWtO1iGUCUwU/1xd6LuZLBtuQMtncokcEAYSKz9ByPwVqASdN02ovB2nDrBMyMiMHNK2EBYjeFwe/NaICm3YHBCCihWhsGfcHATBYvGVZ2wf/iYolWZG/BvczF3FNCYsHoJKzpz05FwQwJV8/RaE1Bj+Y7elO6Y0GbITJU579vQfecXclFr3VBOkhU8SJFe0GJ6luZ5E2AQZIa+ePb1oJB5eimYNo6hUE8AxE0aXeHQQSStik6iolBYaRPFCpxi0EC4tcBQyqNQVMU+UC+s45BohXgGgMGkEGpytz925iQQRD24mnSEZFB3ewWrmlwkUGKwtlIQLSRQZpDTEwQ3ZFBp5hkpq/qkUE=",
        "encoding": "base64",
        "path": [
         "_data",
         0,
         "x",
         "value"
        ]
       },
       {
        "data": "AAAAAACAUr7dCKONOGRZQd/+4EQiV2lB5wR8lwTxckFwxoeT8SJ5QXrfGEj1On9BVV43zmOZgkGUJZbTIIKFQTj25QKyVIhBGVmqhS4Oi0H6sfhfx6uNQduYziplFZBBd53OWFJEkUGE5Jz2cmGSQXX02hmha5NBCtMkYMphlEGrZegJ8UKVQcgs9/8sDpZBTLjEwqzClkFsN1tCtl+XQcuGJ56n5JdB+wfXy/dQmEGJP5skN6SYQaebQdgP3phBQ7+oRUb+mEF/Ijg4uQSZQdqrGgpi8ZhBT/kYq1TEmEEZSQyMv32YQXEx/27rHZhBDYAtHDull0GfkTD8KhSXQRMYwZdQa5ZB7YGS/VmrlUGC5+YODdWUQcRxlLNG6ZNB1X5O9vnokkHUPx0KL9WRQT8RBjoCr5BBP5T6h0XvjkEiMp9Ao2CMQdROim3AtIlBcCWnBV7uhkFZhYpQWBCEQXRNmfOjHYFBGKohzJUyfEFFiSqe0gx2QdcXAkSpoG9BKCr/FBMHY0Ec5NjBfmdJQeTh2MF+Z0nBxin/FBMHY8FrFwJEqaBvwfCIKp7SDHbB1qkhzJUyfME4TZnzox2BwUCFilBYEITBQiWnBV7uhsGnToptwLSJwfkxn0CjYIzBJZT6h0XvjsEuEQY6Aq+QwcI/HQov1ZHBwn5O9vnoksG6cZSzRumTwXTn5g4N1ZTB34GS/VmrlcEKGMGXUGuWwZORMPwqFJfBA4AtHDull8FnMf9u6x2YwRNJDIy/fZjBSPkYq1TEmMHUqxoKYvGYwXkiODi5BJnBQr+oRUb+mMGom0HYD96YwYo/myQ3pJjB/AfXy/dQmMHNhieep+SXwW43W0K2X5fBUbjEwqzClsHLLPf/LA6WwbNl6AnxQpXBEtMkYMphlMF29NoZoWuTwYjknPZyYZLBfZ3OWFJEkcHhmM4qZRWQwQuy+F/Hq43BOVmqhS4Oi8FW9uUCslSIwa8lltMggoXBa143zmOZgsGy3xhI9Tp/wZrGh5PxInnBEQV8lwTxcsEi/+BEIldpwWAJo404ZFnBAAAAAAAQjL4=",
        "encoding": "base64",
        "path": [
         "_data",
         0,
         "y",
         "value"
        ]
       },
       {
        "data": "tUS+eJcHkcE=",
        "encoding": "base64",
        "path": [
         "_data",
         1,
         "x",
         "value"
        ]
       },
       {
        "data": "btAZ2emvl0E=",
        "encoding": "base64",
        "path": [
         "_data",
         1,
         "y",
         "value"
        ]
       },
       {
        "data": "vjSiniHPqkH+GjHTWSOsQQUjAeDbVa1B746R0GtlrkH2vTm28VCvQQhMXGS9C7BBsjg8MB1csEHKtcJkRZmwQbhuLvf2wrBBHdfy7AbZsEFA1QWIXtuwQQg+UV77ybBBC/gvXO+ksEEDNfSxYGywQQ7NiayJILBBPaC68nCDr0FygYurnaCuQdwTiFSDma1B0BgAJDFvrEEe+P6d2iKrQSpNTVfWtalBDQlNlJwpqEF8MBzFxX+mQasGjuAIuqRBV6asnznaokGCeZWbRuKgQYIfQ59uqJ1BP8POA1RkmUHkAHwoo/yUQUbUA4DmdZBBvnjG+5Cph0EfeFwcO3h8QXKsgDaqtGJBqFh9nrblY8HHqwqncFt9wcoKfZm0ZYjBwDwZ564LkcFm9KTlWtyVwTF0L57nn5rB/VVW7WtRn8HA0zSjCPahwZOXEliMNaTBDR+O1O9kpsF4hmZ38oGoweBsN5FmiqrBQKxYozN8rMHgIeaIWFWuwTy62sP2CbDBAkqMIxPbsMEVWTPVKZ2xwfhEscZyT7LB6e5ZMDbxssFIfmVSzYGzwXzd0yCjALTB/cEQ3TRttMHu3rmcEse0waxU/LzfDbXBv3ESQlNBtcHtVX8iOGG1wRXqun1tbbXBmdEVvuZltcHsZbKlq0q1we5chUbYG7XBm1hm5ZzZtMGmM07IPYS0wX5V9u8SHLTBjpkhvYehs8GwTOyBGhWzwR5alf9bd7LBOOJG0e7IscHWC3jEhgqxwezYlB/oPLDBVBpWr83BrsG6a9lry+6swboZ09uqAqvBDGPgSmf/qMHy9y3eE+emwQfj83DZu6TBvheQWvR/osEOHIsgsjWgwQ7zzS3evpvBTsBV4if/lsFrRluNJjGSwWx3uTKcs4rBpTtUIzj8gMG+9szrkxhtwYQ9M5rUJFNBPzhdAh/0d0HY5Tq7WHCFQUU7h0+1vY5BntLePUfsk0HvvMDHwFuYQRDhlsy0qJxBuG27NFpnoEF2951xvGSiQdL7fwd0SqRBHj9SRowWpkFvBIjnKsenQU3M+/aRWqlBuDSiniHPqkE=",
        "encoding": "base64",
        "path": [
         "_data",
         2,
         "x",
         "value"
        ]
       },
       {
        "data": "b9HnvdwYpcGBVmfF/+CiwUPEl7/4kaDBjtzO1VFcnMEmDiXlDXCXwTFlD8k4ZJLBAItTTwx8isGa0TqpiQWAwSTRXMPKvmXBGmM99TzqZEFuPUFxe9x/QQhhm6FQoIpBVRWAwOCikkG2YqNyy+mXQQmdU9l3H51BW0ODlkMfoUGRUtn62KCjQaJr973mEaZB7zY3juhvqEGjIS68bbiqQRrDnb4b6axBbFKPn7D/rkER9gyoAn2wQVzCNvAHa7FBiH3szPJIskG9V1B83hWzQdUYzsH30LNBLm/av315tEExQcK+wg61QToRvd8skLVB6tyJuzb9tUEd9/Lrb1W2QQocq399mLZB1k8MWBrGtkFx5VdwF962QVg7Lg5c4LZB3jcM2+XMtkHrPrTmyKO2QYwkgJIvZbZBI26xZVoRtkFG6uzKn6i1QbQwJrdrK7VB1d1WOj+atEFNQHT6r/WzQS6dLJlnPrNBIA4LBSN1skHMOba2sZqxQTqoEtv0r7BB3FBK1rxrr0FqGEll4FqtQUyxd4x1L6tBlLMd1bjrqEHie0Xa/5GmQTfRteC2JKRBX/yOV16moUGa0jyIEDOeQTyvIjerAZlBbJ+DGue9k0FZwqMBY9qMQZqnOiAKKoJB2jiQASHXbUGWa3ozz7pZwbz7eum1pHvBZO8oO0xQiME+LbV/LlORwa+fMNHyZJbBWnLiTTlYm8FY3wjQ8xOgwWMdhRGEZ6LBbWzxf2ekpMG6YZaPT8imwXkBOXUH0ajBeGRObHa8qsEXi0vgoYiswVH/1navM67By/zB+Oa7r8GciegL2o+wwck+wAfULrHB7UiLjz26scHuR7/thjGywfHExys1lLLBkv/GkOLhssH2anEKPxqzwfDDl38QPbPBuqoKDDNKs8E+BJolmUGzwaP/CapLI7PB31zv1WnvssEuYHwkKaaywaKjXxjVR7LB1prt7c7UscF/BeU2jU2xwTyjNWCbsrDBZyZHIpkEsMH0Gam4c4iuwestC7eH5KzB4+gJHR8fq8F/wstMDTqpwS1TfktGN6fBd9HnvdwYpcE=",
        "encoding": "base64",
        "path": [
         "_data",
         2,
         "y",
         "value"
        ]
       },
       {
        "data": "ctsN572ar0E=",
        "encoding": "base64",
        "path": [
         "_data",
         3,
         "x",
         "value"
        ]
       },
       {
        "data": "6et7+NzVoEE=",
        "encoding": "base64",
        "path": [
         "_data",
         3,
         "y",
         "value"
        ]
       }
      ],
      "model_module": "plotlywidget",
      "model_module_version": "^0.6.0",
      "model_name": "FigureModel",
      "state": {
       "_config": {
        "plotlyServerURL": "https://plot.ly"
       },
       "_data": [
        {
         "hoverinfo": "none",
         "line": {
          "color": "rgb(31, 119, 180)",
          "dash": "dash",
          "width": 2
         },
         "mode": "lines",
         "name": "2008-02-15 00:00 (Atira (NEO))",
         "type": "scatter",
         "uid": "b692023b-cd42-45cf-95c3-3a6b9fe0064d",
         "x": {
          "dtype": "float64",
          "shape": [
           100
          ]
         },
         "y": {
          "dtype": "float64",
          "shape": [
           100
          ]
         }
        },
        {
         "marker": {
          "color": "rgb(31, 119, 180)",
          "size": 10
         },
         "mode": "markers",
         "name": "2008-02-15 00:00 (Atira (NEO))",
         "type": "scatter",
         "uid": "b671cbea-5ac0-405c-a00f-5c31c498e4a5",
         "x": {
          "dtype": "float64",
          "shape": [
           1
          ]
         },
         "y": {
          "dtype": "float64",
          "shape": [
           1
          ]
         }
        },
        {
         "hoverinfo": "none",
         "line": {
          "color": "rgb(255, 127, 14)",
          "dash": "dash",
          "width": 2
         },
         "mode": "lines",
         "name": "2012-09-13 00:00 (Wikipedia (asteroid))",
         "type": "scatter",
         "uid": "a8b70aca-e730-47bd-8d82-acace374ab2e",
         "x": {
          "dtype": "float64",
          "shape": [
           100
          ]
         },
         "y": {
          "dtype": "float64",
          "shape": [
           100
          ]
         }
        },
        {
         "marker": {
          "color": "rgb(255, 127, 14)",
          "size": 10
         },
         "mode": "markers",
         "name": "2012-09-13 00:00 (Wikipedia (asteroid))",
         "type": "scatter",
         "uid": "bdb4f8f6-dc6b-41e4-803d-2cb1221655e1",
         "x": {
          "dtype": "float64",
          "shape": [
           1
          ]
         },
         "y": {
          "dtype": "float64",
          "shape": [
           1
          ]
         }
        }
       ],
       "_js2py_pointsCallback": {},
       "_js2py_relayout": {},
       "_js2py_restyle": {},
       "_js2py_update": {},
       "_last_layout_edit_id": 5,
       "_last_trace_edit_id": 5,
       "_layout": {
        "autosize": true,
        "shapes": [
         {
          "fillcolor": "#ffcc00",
          "line": {
           "color": "#ffcc00"
          },
          "opacity": 1,
          "type": "circle",
          "x0": -11272239.839735778,
          "x1": 11272239.839735778,
          "xref": "x",
          "y0": -11272239.839735778,
          "y1": 11272239.839735778,
          "yref": "y"
         }
        ],
        "template": {},
        "xaxis": {
         "constrain": "domain",
         "title": {
          "text": "x (km)"
         }
        },
        "yaxis": {
         "scaleanchor": "x",
         "title": {
          "text": "y (km)"
         }
        }
       },
       "_py2js_animate": {},
       "_py2js_deleteTraces": {},
       "_py2js_moveTraces": {},
       "_py2js_removeLayoutProps": {},
       "_py2js_removeTraceProps": {},
       "_py2js_restyle": {},
       "_view_count": 1
      }
     },
     "85c5bfbcbd1d48c6a6dd47b4b5636728": {
      "buffers": [
       {
        "data": "ENvPqBo2pEEh/1GqsyikQT+gln+MAKRB6JyajM69o0FE6u6dvmCjQR4qzaG86aJBaYQ0RUNZokH1s3R156+hQf6gqcZX7qBBS8nFv1sVoEGO7skZpkueQeWYdjFpQZxBepYcHBsOmkENf3yEALSXQXET/BOGNZVBQJzb8j2VkkFqJ4lDuquPQX/q2V5x9IlBOyhfmoUKhEFap28WH+h7QcUX9sBW3W5Bh4odoF+sRUGey3RXQ2xkwbyOad4LR3fBBvWoUN03gsFSC9G4TtGIwemn/KMMaY/BnEWypyX8ksF3V0bdIzyWweF5z08ncZnBPYfHreGXnMGzh3RfE62fwS78EHDHVqHBuzdcAh7LosFalymWDTKkwc7wxCskiqXBrm2fEf/RpsG7we9RTAiowceSEg/MK6nB/PVDzVE7qsFgHl6oxTWrwYryXXQlGqzBbiCEx4XnrMHPWQDtEp2twRiULL8ROq7BylV3aOC9rsFlNTYK9yevwQeTtEjod6/Blizuu2Gtr8HgWIFELMivwd9YgUQsyK/Blyzuu2Gtr8EJk7RI6HevwWo1Ngr3J6/BzFV3aOC9rsEdlCy/ETquwdZZAO0Sna3BciCEx4XnrMGT8l10JRqswWgeXqjFNavBBvZDzVE7qsHUkhIPzCupwcPB71FMCKjBvW2fEf/RpsHe8MQrJIqlwW2XKZYNMqTBxDdcAh7LosEz/BBwx1ahwdWHdF8TrZ/BUofHreGXnMEBes9PJ3GZwZhXRt0jPJbBwkWypyX8ksEyqPyjDGmPwZML0bhO0YjBTvWoUN03gsFjj2neC0d3wfPMdFdDbGTB04UdoF+sRUHLFvbAVt1uQaimbxYf6HtBBihfmoUKhEE76tlecfSJQS0niUO6q49BIpzb8j2VkkFUE/wThjWVQe5+fIQAtJdBW5YcHBsOmkHGmHYxaUGcQXXuyRmmS55BP8nFv1sVoEH0oKnGV+6gQeuzdHXnr6FBYYQ0RUNZokEZKs2hvOmiQUDq7p2+YKNB4pyajM69o0E+oJZ/jACkQR//UaqzKKRBENvPqBo2pEE=",
        "encoding": "base64",
        "path": [
         "_data",
         0,
         "x",
         "value"
        ]
       },
       {
        "data": "AAAAAACZlb5dSRNyhblpQbnCWDJDrHlBwiqIa6Ywg0FA1fssY3eJQWQlEZvfo49BFHRjQd/XkkExcv0nYsqVQfnSFb1upphBy1f5YxJpm0FJFmGxdA+eQXucKC1tS6BB9dF4AlR+oUGxtjx8Mp+iQXwFtNTerKNBvO+1D0OmpEHgqz4ZXoqlQVfob85EWKZBBPjy7yIPp0FF3cL8O66nQVGrfPTrNKhBOvBtAKiiqEGA47IC//aoQWHR0AqaMalB2JBUrzxSqUFoohhMxVipQXDG8iQtRalBmUulbIgXqUGN7QwwBtCoQRO6oCXwbqhBp/t1Yar0p0EEfRbusmGnQTJ9k0qhtqZBz0JbziX0pUGVSHLzCBulQaNky4cqLKRB8vCTxoAoo0G4xGFaFxGiQS6kSEkO56BBGiPnlzFXn0GwGugh+L+cQdxxG9sbC5pB7cmv+mY7l0GKjEBkv1OUQR6OFKsjV5FBPnnU90+RjEGz0v/g5VaGQVZfO6B0BYBBnELoAf9Gc0GmkCem1rxZQcePJ6bWvFnBJELoAf9Gc8EaXzugdAWAwWnS/+DlVobBF3nU90+RjMH6jRSrI1eRwWWMQGS/U5TB0Mmv+mY7l8HFcRvbGwuawZUa6CH4v5zBAiPnlzFXn8EipEhJDuegwa7EYVoXEaLB5fCTxoAoo8GYZMuHKiykwYZIcvMIG6XByEJbziX0pcEvfZNKobamwQF9Fu6yYafBp/t1Yar0p8EMuqAl8G6owYftDDAG0KjBlkulbIgXqcFvxvIkLUWpwWqiGEzFWKnB2pBUrzxSqcFj0dAKmjGpwYTjsgL/9qjBP/BtAKiiqMFUq3z06zSowU3dwvw7rqfBCvjy7yIPp8Ff6G/ORFimweirPhleiqXByO+1D0OmpMGHBbTU3qyjwb62PHwyn6LBBdJ4AlR+ocGPnCgtbUugwWYWYbF0D57B91f5YxJpm8El0xW9bqaYwVly/SdiypXBOnRjQd/XksG7JRGb36OPwZrV+yxjd4nBEiuIa6Ywg8Faw1gyQ6x5wdJKE3KFuWnBAAAAAAC+mb4=",
        "encoding": "base64",
        "path": [
         "_data",
         0,
         "y",
         "value"
        ]
       },
       {
        "data": "sdyHUbPXj0E=",
        "encoding": "base64",
        "path": [
         "_data",
         1,
         "x",
         "value"
        ]
       },
       {
        "data": "/bnzHLSDpUE=",
        "encoding": "base64",
        "path": [
         "_data",
         1,
         "y",
         "value"
        ]
       }
      ],
      "model_module": "plotlywidget",
      "model_module_version": "^0.6.0",
      "model_name": "FigureModel",
      "state": {
       "_config": {
        "plotlyServerURL": "https://plot.ly"
       },
       "_data": [
        {
         "hoverinfo": "none",
         "line": {
          "color": "rgb(31, 119, 180)",
          "dash": "dash",
          "width": 2
         },
         "mode": "lines",
         "name": "2019-04-27 00:00 (Eros)",
         "type": "scatter",
         "uid": "bfc3dff0-c25d-4080-a14e-b5b7659d0b04",
         "x": {
          "dtype": "float64",
          "shape": [
           100
          ]
         },
         "y": {
          "dtype": "float64",
          "shape": [
           100
          ]
         }
        },
        {
         "marker": {
          "color": "rgb(31, 119, 180)",
          "size": 10
         },
         "mode": "markers",
         "name": "2019-04-27 00:00 (Eros)",
         "type": "scatter",
         "uid": "f0f12e20-ec56-41e7-b4bd-9e9a5334c1c0",
         "x": {
          "dtype": "float64",
          "shape": [
           1
          ]
         },
         "y": {
          "dtype": "float64",
          "shape": [
           1
          ]
         }
        }
       ],
       "_js2py_pointsCallback": {},
       "_js2py_relayout": {},
       "_js2py_restyle": {},
       "_js2py_update": {},
       "_last_layout_edit_id": 3,
       "_last_trace_edit_id": 3,
       "_layout": {
        "autosize": true,
        "shapes": [
         {
          "fillcolor": "#ffcc00",
          "line": {
           "color": "#ffcc00"
          },
          "opacity": 1,
          "type": "circle",
          "x0": -25431756.660895184,
          "x1": 25431756.660895184,
          "xref": "x",
          "y0": -25431756.660895184,
          "y1": 25431756.660895184,
          "yref": "y"
         }
        ],
        "template": {},
        "xaxis": {
         "constrain": "domain",
         "title": "x (km)"
        },
        "yaxis": {
         "scaleanchor": "x",
         "title": "y (km)"
        }
       },
       "_py2js_animate": {},
       "_py2js_deleteTraces": {},
       "_py2js_moveTraces": {},
       "_py2js_removeLayoutProps": {},
       "_py2js_removeTraceProps": {},
       "_py2js_restyle": {},
       "_view_count": 0
      }
     },
     "97d3da8a57c84a5d8268a4385a2b0587": {
      "buffers": [
       {
        "data": "ml/glCstpkH+ic2+rhSmQSleonpRy6VBAqKBaF9RpUFbs648VqekQZdr+T3lzaNBhlEQkezFokHCWXNRfJChQY5h9XjTLqBBsQ/bLb1EnUHWqtawbNmZQUYr4sU7H5ZBqUHNBgIakkE47Y/MyJuLQfJ5edShfoJBXMpaa+jLcUHov92iukVCwcxyKYXoK3fBAMlYkxFkhsHKXMkeyMGQwfTDcX98dJbBwIaXQUZEnMECPijgkxWhwUAkYMSFEaTBUATGT+USp8H4ZzBsmRaqwaS3gZyGGa3BoAJVGEkMsMEDvGq8Uoixwel0PXpY/7LBG0UBvddvtMHy/OGpVNi1wcwok6dbN7fBNmhd3YKLuMHKPB6oa9O5wcPSuQPEDbvBgiyK50c5vMFchWSUwlS9wWSa3NIPX77BtcZ9IB1Xv8HTuGFl9R3AwbKOVntGhsDBLTHvSRbkwMGTHCgdBDfBwS6G13i6fsHBpAfMcO+6wcGdFgD1ZOvBwUq8kxHpD8LBCJpKIlYowsHyJln5kjTCwfMmWfmSNMLBCJpKIlYowsFLvJMR6Q/CwZ8WAPVk68HBqAfMcO+6wcEzhtd4un7BwZQcKB0EN8HBMDHvSRbkwMG1jlZ7RobAwde4YWX1HcDBu8Z9IB1Xv8FumtzSD1++wWWFZJTCVL3BjCyK50c5vMHQ0rkDxA27wd48Hqhr07nBQ2hd3YKLuMHiKJOnWze3wQH94alU2LXBLEUBvddvtMH6dD16WP+ywRK8arxSiLHBtwJVGEkMsMHIt4GchhmtwRloMGyZFqrBbwTGT+USp8FyJGDEhRGkwSo+KOCTFaHBBoeXQUZEnMFsxHF/fHSWwURdyR7IwZDBtMlYkxFkhsHycymF6Ct3wfDB3aK6RULBEMlaa+jLcUF2eXnUoX6CQdrsj8zIm4tBW0HNBgIakkH6KuLFOx+WQZSq1rBs2ZlBbA/bLb1EnUF5YfV40y6gQZ5Zc1F8kKFBbFEQkezFokGPa/k95c2jQUuzrjxWp6RB8aGBaF9RpUElXqJ6UculQfqJzb6uFKZBmV/glCstpkE=",
        "encoding": "base64",
        "path": [
         "_data",
         0,
         "x",
         "value"
        ]
       },
       {
        "data": "AAAAAAAAwb5MrEc4t2R0QW4kDmg0WoRBdwlFaRJtjkEeXtGiSTCUQd98z3s6FZlBp2OiMFDgnUGwhLvsTEahQZcawyajiqNBQqkfjdS6pUFwsU2qn9SnQYBb0B/a1alB2R2m4XK8q0GvGqNXdIatQScMf2IGMq9BqeBAIbhesEGRP+wujROxQYX3X/LHtrFBl7/oKMBHskFSBnRi4MWyQfQhm5umMLNBV5Cow6SHs0FwIA0ugcqzQYEQ0O72+LNB49eaIdYStEG8XxcbBBi0QSrHbYR7CLRB8lvFYEzks0GKG8P8m6uzQf+/FsikXrNBMPs9Gbb9skF1+LvbM4myQU9yGSmWAbJB5YgXzWhnsUFq95S1SruwQZ5ndJ3a+69BsbMqmCdgrkG90MS+JKWsQXZ4nruazKpB3YU5qXDYqEF+CSAcqsqmQcSkaw9lpaRBZwYWttdqokGAb1IzTh2gQaPKk3hQfptBjwVWS62llkFcUia/sbWRQR0CpInpZolBkO59eoCQfkEoAHduWGdkQcj9dm5YZ2TBrO19eoCQfsFmAaSJ6WaJwR5SJr+xtZHBRAVWS62llsFIypN4UH6bwWJvUjNOHaDBRQYWttdqosGipGsPZaWkwV8JIByqyqbBxoU5qXDYqMFXeJ67msyqwaHQxL4kpazBk7MqmCdgrsF6Z3Sd2vuvwVn3lLVKu7DB24gXzWhnscFBchkplgGywWr4u9szibLBKPs9Gbb9ssH3vxbIpF6zwYIbw/ybq7PB6lvFYEzks8Eix22Eewi0wbhfFxsEGLTB39eaIdYStMGAENDu9vizwWwgDS6ByrPBV5Cow6SHs8H3IZubpjCzwVoGdGLgxbLBnL/oKMBHssGL91/yx7axwZE/7C6NE7HBs+BAIbhesME4DH9iBjKvwbwao1d0hq3B9x2m4XK8q8GhW9Af2tWpwZKxTaqf1KfBbakfjdS6pcGyGsMmo4qjwemEu+xMRqHBFGSiMFDgncEBfc97OhWZwXpe0aJJMJTBigpFaRJtjsHgJA5oNFqEwS6uRzi3ZHTBAAAAAACAhD4=",
        "encoding": "base64",
        "path": [
         "_data",
         0,
         "y",
         "value"
        ]
       },
       {
        "data": "OIGQVsBAtsE=",
        "encoding": "base64",
        "path": [
         "_data",
         1,
         "x",
         "value"
        ]
       },
       {
        "data": "VV9cHzpjssE=",
        "encoding": "base64",
        "path": [
         "_data",
         1,
         "y",
         "value"
        ]
       },
       {
        "data": "C1q0ZMFbn8H4rnN0+1edwb3LJ4QKHZvBu7OsHTutmMG7H3xKEAuWwfw70vxAOZPBUg9QQ7U6kMEz+fuTBiWKwen/iVfYh4PBCiuZXmJJecGk3DNpqgpmwYhMh44Rbk1BwW8twbzAckG2pSFHCBKBQdIKUW3w44hB3huimwNnkEEiO9QNEmSUQVvQUAYHZZhBsMrc+MFlnEGDboZKETGgQSpLkoMGK6JBhrIqGrcepEGM7P/2HwqmQWFg0YtG66dBlrqY3TrAqUEVaM6DGYerQZ5fuJoNPq1BoY7BplLjrkFD1nMzmzqwQUBTL0oN+bBBGRrORjussUEGsIl1bFOyQT5n/3307bJBq57YFDR7s0FN+/6fmfqzQfhXs8yha7RBzbPsFtjNtEGclHNB1yC1QSYOPr5JZLVBfNqgBuqXtUHomvrigru1QWRgj6HvzrVBSe9bPBzStUGUwLltBcW1Qa55vrO4p7VB+GBTQlR6tUERJRPkBj21QdQODsoP8LRBlVamSr6TtEH+wcePcSi0QWrYzjSYrrNBicyE1K8ms0HdoqWHRJGyQc0MdlTw7rFBk9X9j1pAsUG+i4oxN4awQW5qWDKMgq9BgJLWk6TkrUGPpQcxYjSsQVjm+p6Cc6pBk+kFk9SjqEHoUswFNsemQVrWi0aS36RBlWCoAODuokFyd4I1H/egQWHnW1mu9J1BjENSuSj1mUHfJXiczPOVQQfQWvm69JFBgpH00yT4i0GdYlzZ1RuEQcedaa9GuXhBqkxohiYKY0Ekr8CeCVVVwZF14MlqxnPBiRySY8HfgMESRYCDEZmHwcZ522Y3CI7Bl3uYkUgTksHqAt0L6PaUwY1c4Lb/q5fBBxI7HsUvmsHw3vKkoH+cwc3NizEwmZ7BVsx30SQ9oMEpgtGFfhChwawyfljLxaHBkysmZlBcosHu0RSGctOiwbaYKeq2KqPB9hpvncNho8F929XgX3ijwdMTs2V0bqPBDUbHZQtEo8FSzbOYUPmiwblK6gaRjqLBo2JEujoEosFcpZVM3FqhwRKQrFQkk6DB8Fm0ZMFbn8E=",
        "encoding": "base64",
        "path": [
         "_data",
         2,
         "x",
         "value"
        ]
       },
       {
        "data": "p3k/IgbulMGIUOx0HB6Yweem+Ha0JJvB8ziTsK/+ncGlilrTjlSgwRf8ZnGfkKHBCLb040OyosGomDCZUbijwU9DtG+6oaTBgub6zI1tpcECO2aV+RqmwVPy0wRLqabB6V/kZu8Xp8FkZTSudGanwQW/7umJlKfBbn87mf+hp8G/uDfcx46nwRfZQoL2WqfBWPyS9cAGp8HEPyUEfpKmweTZQoal/qXBSDP34s9LpcE2WfZytXqkwfa6lcItjKPBuBSbsy6BosFSksZ/y1qhwUpvHZ0zGqDBghAzCmOBncGSpQDAUp+awazHgCsvkZfBivGfix5alME1dEFPcf2QwexMVFU9/YrBAI/nCYLCg8HSTN8ESaR4wYBLLzo/z2LBKNpJAg2FWEHC5kMeXOZ1QQLlhbq064JBhCZXN/7xikE0Eol14n6RQSJhVsleg5VBklOl50+CmUHRRvtXl3edQQTf5EuQr6BB6D2Rp3KaokFXmWi7eHqkQdr8ybWzTaZB0ZAf9UESqEHkbFj4UMapQTGJyj8faKtBDRuNHP71rEHUum1sU26uQTGutkCbz69BukQJtzSMsEEtePiBtSOxQQjA9NSzrbFBRF3acKEpskHWhjeW/payQdjU+4ha9bJBrtStBFREs0G++66gmYOzQY2dJiTqsrNBRWQ9yRTSs0GO/WNv+eCzQYgocbyI37NBRQF1LMTNs0HmOTEQvquzQQ7VN3qZebNBztfDGoo3s0HbN3EK1OWyQWDyCoTLhLJBKKe3jdQUskG7ON6RYpaxQVK6LOj3CbFBUk88TyVwsEGI+biuEpOvQTd1P36fLa5B6IOjhGGxrEHrLRy44B+rQRMkdfm6eqlBf1BsaaLDp0G9rS+pW/ylQc2xyAe8JqRBKkNWnqdEokHY5gddD1igQTMbuRXexZxBbxdqdJbOmEFilatoXs6UQXo5+btVyZBBaPDaXEKHiUE6mp9izIKBQbU7sYMaG3NBFDCQQ5D7SkFlLNTAUTpowSqr42m/SnvBordpHdYMhcGCfFvHVT2MwdG3eby6l5HB03k/IgbulME=",
        "encoding": "base64",
        "path": [
         "_data",
         2,
         "y",
         "value"
        ]
       },
       {
        "data": "2Oh/bGTyoUE=",
        "encoding": "base64",
        "path": [
         "_data",
         3,
         "x",
         "value"
        ]
       },
       {
        "data": "x1XUgZvbs0E=",
        "encoding": "base64",
        "path": [
         "_data",
         3,
         "y",
         "value"
        ]
       },
       {
        "data": "uWUERWVzmcFuT2d7SM2bwU92VWz+Ap7BSq0b+R8JoMFoLabFdvygwYp09sSI2qHBFk7XDHGiosGDhKqLYVOjwZRz1Nyj7KPBnsi/BJptpMGHobcTv9WkwXor8K6nJKXBUn8wfwJapcHkqKuEmHWlwVhqsk9Nd6XBn0oDHh9fpcGat5rcJi2lwX1dAQ6Y4aTB3i8zlcB8pMFs4FVlCP+jwSuGkRbxaKPBIup5YBW7osFSLpJ6KPahwXg1j2P1GqHBMjsXEF4qoMFgn6wDtUqeweygr4/vGZzBi8tY0q3EmcGB1vR1V02Xwe/DV0Z3tpTBtwsCkrgCksGEKoXTyGmOwUwnV4O9n4jBuu6f7EatgsEA6W7lDDF5wVKTlUUDn2nBAC28V9OrEMEOenmE9NBoQVoY0OzrJHlB6CZWYcLygkGSPhnGj06JQfEGYitQn49BjjgJfkDvkkEhWJje2AKWQWujmFhFB5lB7DfgsGn5m0EYwqaEPNaeQXIObzVlzaBBCulxfxwiokHKZLTo5GejQQCGQ55unaRBcZgNjHrBpUFB5Mul29KmQaVTVh140KdBRCUhhUq5qEFSObndYoypQR0vKY3nSKpBKE1IPxbuqkEX/AuuRHurQYZVDVHh76tBq9iN83NLrEFDoGAwno2sQQJfONMbtqxBltT1HsPErEEqQq74hLmsQXqEPfdslKxBZMZTV6FVrEGqHAvUYv2rQTKsLWQMjKtBNiNx3BICq0GRLQh3BGCqQUQJBkGIpqlBIFwrbl3WqEGnzM2TWvCnQZKJpcts9aZBF8Rkv5bmpUE0DRWe78SkQX1xTfyhkaNBDftpoOpNokGE3wE8F/ugQRzn2ScKNZ9BZ/J1MD9bnEHv1B/bvWuZQSveztKMaZZBB16eBcZXk0F7J2dykzmQQU0ok8tXJIpB3nEJVJ/Jg0GCZBS0FNN6Qa7e+QCtKmxBiM5CPGVyNkE4TcEo01RmwVBsX3xkknfBiW3fQgDigcHZdfLuVdmHwdCVi9kMqY3BUm6WuJOlkcH4v0aU61yUwSpGfDnB95bBSWYERWVzmcE=",
        "encoding": "base64",
        "path": [
         "_data",
         4,
         "x",
         "value"
        ]
       },
       {
        "data": "aELiTZGJmUFgBD4pu2eXQYsKx3A5JpVBzHTvcl/HkkHcJfm9nk2QQUdQPzYJd4tBBphY2m4nhkEMWFXq57GAQTHEOQAqOHZBHp2XAeCuZUEgE/EmdVQmwdT78rpXtGjBFaCvHiUTeMGc4XH6vOiBwdI+IrGHxIfBQInTruiWjcFGdXfR76yRwbJbQxC+g5TBNwXQ3vFMl8Fh3+UNrAWawZ5K62keq5zBEw87n446n8F2Bf+ErNigwboIUbd5BqLBDQYQzHclo8FWN6/sfjSkwelrjbd3MqXB3RPzX1wepsHpp/C7OfemwSQ+Bz8wvKfBZemY4HRsqMFTWDPtUQepwZT23MEnjKnBrXyjcG36qcH8TcJNsVGqwWIkz2SZkarBl0B01eO5qsFNiVgXZ8qqwSGZ7yQSw6rBipkFjeyjqsF91PRqFm2qwaQEjUXIHqrB94HO1FK5qcFoW7WuHj2pweUiaturqqjBwI1HUZECqMH/9DxZfEWnwRsfLtwvdKbBunQImoOPpcGFvFxLY5ikwR+fYq7Nj6PBD21ggNN2osG91oVklk6hwSNmW7lHGKDB8vz0u06qncGMu6TQBA2bwdYInJtjW5jBG+Z5/zGYlcE6ldr5SMaSwSAAxGch0Y/BDcxFBvsDisFGGvO7GSuEwTKN9hkJmXzByr/ivJDccMH8M07NjbNUwWwgTYDLp1lBJoWi9f/bcUHGBypxdx19QUJRtoVfEYRBcu35Qz1wiUFLrne1y6WOQYx0wxhW1pFBeNHiFtg/lEFP58JK74yWQZ2CD3U8u5hBovptE4DImkFMg7yxnLKcQZKPNhiZd55B7HYfKtEKoEGOYtvMhsWgQfSjeP0sa6FBM0y/+hj7oUFIbBpptnSiQRhChuuH16JByWTKpCcjo0GJu3qgR1ejQY0AUyOyc6NBHPuZ4kl4o0FHWFMiCmWjQTUCIboGOqNBLe7OAGz3okH9dp6efp2iQe9ggEabLKJB3XuGVjaloUF6Y+9f2wehQc0ESJcsVaBBumxuWsQbn0HQfT8hk2WdQQIFuTWJiZtB7EHiTZGJmUE=",
        "encoding": "base64",
        "path": [
         "_data",
         4,
         "y",
         "value"
        ]
       },
       {
        "data": "Ptp4bhAvpcE=",
        "encoding": "base64",
        "path": [
         "_data",
         5,
         "x",
         "value"
        ]
       },
       {
        "data": "OCS1yXuWkcE=",
        "encoding": "base64",
        "path": [
         "_data",
         5,
         "y",
         "value"
        ]
       }
      ],
      "model_module": "plotlywidget",
      "model_module_version": "^0.6.0",
      "model_name": "FigureModel",
      "state": {
       "_config": {
        "plotlyServerURL": "https://plot.ly"
       },
       "_data": [
        {
         "hoverinfo": "none",
         "line": {
          "color": "rgb(31, 119, 180)",
          "dash": "dash",
          "width": 2
         },
         "mode": "lines",
         "name": "2019-04-27 00:00 (Ganymed)",
         "type": "scatter",
         "uid": "7a4bc466-5341-4f23-a2d1-045a0f04b1f9",
         "x": {
          "dtype": "float64",
          "shape": [
           100
          ]
         },
         "y": {
          "dtype": "float64",
          "shape": [
           100
          ]
         }
        },
        {
         "marker": {
          "color": "rgb(31, 119, 180)",
          "size": 10
         },
         "mode": "markers",
         "name": "2019-04-27 00:00 (Ganymed)",
         "type": "scatter",
         "uid": "87f1a2e3-4ebe-4af1-b518-e3243f5dbbff",
         "x": {
          "dtype": "float64",
          "shape": [
           1
          ]
         },
         "y": {
          "dtype": "float64",
          "shape": [
           1
          ]
         }
        },
        {
         "hoverinfo": "none",
         "line": {
          "color": "rgb(255, 127, 14)",
          "dash": "dash",
          "width": 2
         },
         "mode": "lines",
         "name": "2019-04-27 00:00 (Amor)",
         "type": "scatter",
         "uid": "d6ee29c5-6a5a-4b64-ae0c-e2eaa09f2d3b",
         "x": {
          "dtype": "float64",
          "shape": [
           100
          ]
         },
         "y": {
          "dtype": "float64",
          "shape": [
           100
          ]
         }
        },
        {
         "marker": {
          "color": "rgb(255, 127, 14)",
          "size": 10
         },
         "mode": "markers",
         "name": "2019-04-27 00:00 (Amor)",
         "type": "scatter",
         "uid": "33e03d3d-5e67-48b3-8703-cc9e27de9cdd",
         "x": {
          "dtype": "float64",
          "shape": [
           1
          ]
         },
         "y": {
          "dtype": "float64",
          "shape": [
           1
          ]
         }
        },
        {
         "hoverinfo": "none",
         "line": {
          "color": "rgb(44, 160, 44)",
          "dash": "dash",
          "width": 2
         },
         "mode": "lines",
         "name": "2019-04-27 00:00 (Eros)",
         "type": "scatter",
         "uid": "a7bd4d35-bf6f-4492-bfa0-6cfdf97d9f1b",
         "x": {
          "dtype": "float64",
          "shape": [
           100
          ]
         },
         "y": {
          "dtype": "float64",
          "shape": [
           100
          ]
         }
        },
        {
         "marker": {
          "color": "rgb(44, 160, 44)",
          "size": 10
         },
         "mode": "markers",
         "name": "2019-04-27 00:00 (Eros)",
         "type": "scatter",
         "uid": "a39192e8-35ec-473e-b21b-9ce5217f4ca8",
         "x": {
          "dtype": "float64",
          "shape": [
           1
          ]
         },
         "y": {
          "dtype": "float64",
          "shape": [
           1
          ]
         }
        }
       ],
       "_js2py_pointsCallback": {},
       "_js2py_relayout": {},
       "_js2py_restyle": {},
       "_js2py_update": {},
       "_last_layout_edit_id": 7,
       "_last_trace_edit_id": 7,
       "_layout": {
        "autosize": true,
        "shapes": [
         {
          "fillcolor": "#ffcc00",
          "line": {
           "color": "#ffcc00"
          },
          "opacity": 1,
          "type": "circle",
          "x0": -27904427.16573439,
          "x1": 27904427.16573439,
          "xref": "x",
          "y0": -27904427.16573439,
          "y1": 27904427.16573439,
          "yref": "y"
         }
        ],
        "template": {},
        "xaxis": {
         "constrain": "domain",
         "title": {
          "text": "x (km)"
         }
        },
        "yaxis": {
         "scaleanchor": "x",
         "title": {
          "text": "y (km)"
         }
        }
       },
       "_py2js_animate": {},
       "_py2js_deleteTraces": {},
       "_py2js_moveTraces": {},
       "_py2js_removeLayoutProps": {},
       "_py2js_removeTraceProps": {},
       "_py2js_restyle": {},
       "_view_count": 0
      }
     },
     "bc62f4a637304a0c95d56b9fa68a132a": {
      "buffers": [
       {
        "data": "SMf9lCstpkGv7+q+rhSmQeK9v3pRy6VB0feeaF9RpUFs+8s8VqekQQ+iFj7lzaNBn3ItkezFokHQYZBRfJChQQZNEnnTLqBBb6YULr1EnUHH+g+xbNmZQRAuG8Y7H5ZBLvEFBwIakkF2mgDNyJuLQXJq6dShfoJBox05bOjLcUEoG/ibukVCwXFvToToK3fBzibskhFkhsHYfpMeyMGQwdtbPH98dJbB7JZiQUZEnMEuAw7gkxWhwTcnRsSFEaTBbEWsT+USp8F25xZsmRaqwXR1aJyGGa3Bk4BIGEkMsMGnWF68UoixweQvMXpY/7LB2x31vNdvtMHX8tWpVNi1wRY7h6dbN7fB/JVR3YKLuMEThRKoa9O5wXA0rgPEDbvBZqZ+50c5vMEtFlmUwlS9wbRA0dIPX77BF4FyIB1Xv8FBH1xl9R3AwY/9UHtGhsDBn6fpSRbkwMG3mSIdBDfBwSEJ0ni6fsHBc4/GcO+6wcFXovr0ZOvBwfRKjhHpD8LBqypFIlYowsGVuFP5kjTCwZK4U/mSNMLBqipFIlYowsHzSo4R6Q/CwVWi+vRk68HBdI/GcO+6wcEhCdJ4un7BwbaZIh0EN8HBnafpSRbkwMGM/VB7RobAwUEfXGX1HcDBEYFyIB1Xv8G1QNHSD1++wSAWWZTCVL3BZKZ+50c5vMFqNK4DxA27wQyFEqhr07nB8ZVR3YKLuMEKO4enWze3wc3y1alU2LXByx31vNdvtMHULzF6WP+ywZ5YXrxSiLHBiYBIGEkMsMFgdWichhmtwVTnFmyZFqrBTUWsT+USp8EcJ0bEhRGkwRkDDuCTFaHBqpZiQUZEnMGsWzx/fHSWwax+kx7IwZDBNybskhFkhsFfbk6E6Ct3wYAT+Ju6RULBtR45bOjLcUH0aunUoX6CQfSaAM3Im4tBavEFBwIakkFCLhvGOx+WQQj7D7Fs2ZlBoaYULr1EnUEaTRJ50y6gQeZhkFF8kKFBs3ItkezFokEgohY+5c2jQXn7yzxWp6RB3PeeaF9RpUHrvb96UculQbLv6r6uFKZBSMf9lCstpkE=",
        "encoding": "base64",
        "path": [
         "_data",
         0,
         "x",
         "value"
        ]
       },
       {
        "data": "AAAAAADgqT7uKVI4t2R0QUqbGGg0WoRB8a1UaRJtjkGivtuiSTCUQT5h3Hs6FZlBoL6xMFDgnUGAZcTsTEahQZUlzSajiqNBJtQqjdS6pUGq8Fmqn9SnQXKi3R/a1alB01604XK8q0H8RrJXdIatQSwUj2IGMq9BRkpJIbhesEERBvUujROxQegRafLHtrFBdiTyKMBHskH/q31i4MWyQXr+pJumMLNBj5myw6SHs0ECTBcugcqzQfJT2u72+LNBnSilIdYStEEesyEbBBi0QYwSeIR7CLRBvpTPYEzks0EyN838m6uzQRe0IMikXrNBeb1HGbb9skHbfsXbM4myQQKzIimWAbJBXnogzWhnsUFskJ21SruwQQbXhJ3a+69Bhk86mCdgrkHiiNO+JKWsQdY9rLuazKpBLEpGqXDYqEGkvyscqsqmQaZAdg9lpaRBDn0fttdqokE8t1ozTh2gQQrroXhQfptBeKhhS62llkHLay+/sbWRQRYPsYnpZolB3KGNeoCQfkEEeYFuWGdkQfR5gW5YZ2TBPqKNeoCQfsEsD7GJ6WaJwexrL7+xtZHBlqhhS62llsEo66F4UH6bwUK3WjNOHaDBG30fttdqosGwQHYPZaWkwae/KxyqyqbBNUpGqXDYqMHWPay7msyqwfmI074kpazBiU86mCdgrsEN14Sd2vuvwXCQnbVKu7DBZnogzWhnscEHsyIplgGyweB+xdszibLBfL1HGbb9ssEZtCDIpF6zwTQ3zfybq7PBvZTPYEzks8GMEniEewi0wR6zIRsEGLTBniilIdYStMHyU9ru9vizwQBMFy6ByrPBjJmyw6SHs8F2/qSbpjCzwfmrfWLgxbLBbiTyKMBHssHfEWnyx7axwQkG9S6NE7HBO0pJIbhesMESFI9iBjKvweNGsld0hq3BvF604XK8q8FTot0f2tWpwYTwWaqf1KfBBdQqjdS6pcF2Jc0mo4qjwVxlxOxMRqHBRr6xMFDgncHiYNx7OhWZwUq+26JJMJTBK61UaRJtjsFMmhhoNFqEwXYoUji3ZHTBAAAAAAAgoD4=",
        "encoding": "base64",
        "path": [
         "_data",
         0,
         "y",
         "value"
        ]
       },
       {
        "data": "/9qTVsBAtsE=",
        "encoding": "base64",
        "path": [
         "_data",
         1,
         "x",
         "value"
        ]
       },
       {
        "data": "fBdgHzpjssE=",
        "encoding": "base64",
        "path": [
         "_data",
         1,
         "y",
         "value"
        ]
       },
       {
        "data": "5FewZMFbn8H8zHZ0+1edwfMJMoQKHZvBugq+HTutmMHXgJRKEAuWwUOR8fxAOZPBsjt2Q7U6kMGZt1WUBiWKwTPO8FfYh4PBPB+AX2JJecH4sjJrqgpmwWAS0IURbk1B6x4AwLzAckGMXYBGCBKBQcbCpWzw44hB8cxHmwNnkEFSm3UNEmSUQeg97gUHZZhBIqh2+MFlnEEwyFFKETGgQYFEXIMGK6JBjIHzGbcepEGiyMf2HwqmQdCBmItG66dBU1pf3TrAqUHDv5SDGYerQQWpfpoNPq1BrgOIplLjrkF6Q1czmzqwQc4PE0oN+bBBVEKyRjussUHXX251bFOyQQC65H307bJBFK++FDR7s0FN4+WfmfqzQaIwm8yha7RBN5XVFtjNtEHUlV1B1yC1QQhFKb5JZLVBqluNBuqXtUGweejigru1QayufqHvzrVBe71MPBzStUGJHaxtBcW1QaxysrO4p7VBmgFJQlR6tUE5dwrkBj21QakaB8oP8LRBeSKhSr6TtEGDUsSPcSi0QU8wzTSYrrNBsuyE1K8ms0FiiqeHRJGyQeu4eVTw7rFBt0EDkFpAsUGAsZExN4awQdUYajKMgq9BBZDrk6TkrUHy2h8xYjSsQQ45Fp+Cc6pB2Tskk9SjqEH4g+0FNsemQUTCr0aS36RBzuDOAODuokG6Yqs1H/egQVg8slmu9J1BxbqsuSj1mUEMX9aczPOVQbFmvPm69JFBVqq91CT4i0GfkSra1RuEQY9xDrFGuXhB0mG/iSYKY0HMuv6XCVVVwVfRLMhqxnPBqZ23YsHfgMEFAaaCEZmHwfZXAmY3CI7B3+4skUgTksFv7HIL6PaUwdAseLb/q5fBqTfVHcUvmsEixo+koH+cwdvfKzEwmZ7B151J0SQ9oMFZTaWFfhChwbAmVFjLxaHBWnX+ZVBcosH9m++FctOiwQcLB+q2KqPBvVpPncNho8EMC7ngX3ijwXZSmWV0bqPB5q+wZQtEo8FAe6CYUPmiwUJS2gaRjqLB1dU3ujoEosG/koxM3FqhwZACp1Qkk6DB5VewZMFbn8E=",
        "encoding": "base64",
        "path": [
         "_data",
         2,
         "x",
         "value"
        ]
       },
       {
        "data": "XaYMIgbulMGilb10HB6Ywetczna0JJvB6bNtsK/+ncEcUkrTjlSgwXhyWXGfkKHBcv3p40OyosFo0CiZUbijwYiHr2+6oaTBXFD5zI1tpcFJ4GeV+RqmwYjl2ARLqabBIrDsZu8Xp8FCHkCudGanwabo/emJlKfBYh5Omf+hp8EFzk3cx46nwSBiXIL2WqfBAPOv9cAGp8FjmkUEfpKmwVKLZoal/qXB8ioe489LpcEegyBztXqkwdD/wsItjKPBHFrLsy6BosGkuvl/y1qhwQNaU50zGqDB/iOkCmOBncHeqnbAUp+awZ1t+ysvkZfBCeIejB5alMHTVMRPcf2QwT8xYVY9/YrBF9L6CoLCg8GC+hAHSaR4wTyzpT4/z2LBKJ89+QyFWEGnsPobXOZ1Qe4SX7m064JBuvwuNv7xikGewfR04n6RQV5Fwsheg5VB8NwR50+CmUHe5GhXl3edQbJvnEuQr6BBr8ZJp3KaokG2TyK7eHqkQQcVhbWzTaZBsj3c9EESqEGc3xb4UMapQSLxij8faKtBnqVPHP71rEEjkzJsU26uQQ39fUCbz69BjjrutjSMsEEszt6BtSOxQZKG3NSzrbFBNKPDcKEpskGBWSKW/payQfw/6Iha9bJBXuKbBFREs0FgtJ6gmYOzQdQHGCTqsrNBHoUwyRTSs0El2Fhv+eCzQUO+Z7yI37NBvFFtLMTNs0HzQisQvquzQbqSM3qZebNBYkTBGoo3s0HqS3AK1OWyQcCkC4TLhLJBCO25jdQUskGvBeKRYpaxQVAAMuj3CbFB1v5CTyVwsEGbCcmuEpOvQZURUn6fLa5BNYW4hGGxrEFMajO44B+rQWlvjvm6eqlBe3yHaaLDp0EqikypW/ylQcAM5we8JqRBJel1nqdEokH9oihdD1igQQpU/BXexZxBMKOudJbOmEEQBfFoXs6UQeIcP7xVyZBB2L1mXUKHiUGejSpjzIKBQYmuw4QaG3NBzED6S5D7SkHNeMe+UTpowcjo5Wi/SnvB3/XvHNYMhcF7qOfGVT2MweUoQ7y6l5HBWaYMIgbulME=",
        "encoding": "base64",
        "path": [
         "_data",
         2,
         "y",
         "value"
        ]
       },
       {
        "data": "kKWnbGTyoUE=",
        "encoding": "base64",
        "path": [
         "_data",
         3,
         "x",
         "value"
        ]
       },
       {
        "data": "aFTIgZvbs0E=",
        "encoding": "base64",
        "path": [
         "_data",
         3,
         "y",
         "value"
        ]
       },
       {
        "data": "u43ER2VzmcFVGON9SM2bwSxZiW7+Ap7BRw0Q+h8JoMFGhHPGdvygwdVym8WI2qHB881SDXGiosHaivuLYVOjwRYx+tyj7KPBn5q5BJptpMGeEoUTv9WkwfvzkK6nJKXBn4WkfgJapcF8AfODmHWlwc9XzU5Nd6XBTD3yHB9fpcEvTV7bJi2lwVdgmgyY4aTBSpaik8B8pMGTy5xjCP+jwfJAsRTxaKPB1udzXhW7osEfCWh4KPahwdOsQmH1GqHBADKqDV4qoMGtlJX+tEqewYblX4rvGZzBkuHUzK3EmcHRdUFwV02XwVDVeUB3tpTBzKP+i7gCksHM3j3HyGmOwaoY2na9n4jBuA3430atgsFOu9/LDDF5wQpWJRIDn2nBQIoh5cyrEMEqeQW49NBoQQ35egbsJHlBYrwSbsLygkEyx7HSj06JQQB2yzdQn49BI/UghEDvkkGCyY3k2AKWQcKcZl5FB5lB+bSBtmn5m0Fx7BaKPNaeQZIoDDhlzaBBJNLxgRwiokEEBRXr5GejQdHlgqBunaRBcOIpjnrBpUFFZ8On29KmQXGEJx940KdBGKDKhkq5qEFlwznfYoypQcm3f47nSKpBIO9zQBbuqkFJ/guvRHurQdMr4VHh76tBeCQ19HNLrEHrMNswno2sQfExhtMbtqxBXhUXH8PErEFNSqP4hLmsQQvbBvdslKxBgx/yVqFVrEHKWH/TYv2rQTbXeGMMjKtBQnOU2xICq0HwAQV2BGCqQeno3T+IpqlBEfTfbF3WqEFI7mCSWvCnQcwoGcps9aZBRPW6vZbmpUEQA1Cc78SkQc56b/qhkaNBVYB1nupNokFxYPk5F/ugQeQIpiMKNZ9BtIAkLD9bnEG9OrbWvWuZQZOfUs6MaZZBLxIVAcZXk0ETc9ZtkzmQQflGbsJXJIpBAXTsSp/Jg0HU1wCiFNN6QT2kTN2sKmxBUA8MJGRyNkE46/VK01RmwZIe+4xkknfB3nnjSgDigcEgg6L2VdmHwUfI3eAMqY3BeNwLvJOlkcHA+oOX61yUwUj/fDzB95bBt43ER2VzmcE=",
        "encoding": "base64",
        "path": [
         "_data",
         4,
         "x",
         "value"
        ]
       },
       {
        "data": "pssASJGJmUG4uR4ju2eXQZTQcWo5JpVByGdsbF/HkkEvkVC3nk2QQfv7sygJd4tB+DikzG4nhkHMOInc57GAQU3LlOQpOHZB5tx5yt+uZUHAb7KReFQmwc5j6PBXtGjBedksOSUTeMHR72AHveiBwWo/sb2HxIfBImDyuuiWjcGa90bX76yRwYhiyxW+g5TB5kcJ5PFMl8FdZskSrAWawdx2cm4eq5zBjqBfo446n8G3E92GrNigwTUl+Lh5BqLBGLJ9zXclo8F1L+HtfjSkwTyqgbh3MqXBGtKnYFwepsFAYWS8OfemwciwOD8wvKfB1xeH4HRsqMFwit3sUQepwU26QsEnjKnBf6bEb236qcEb+Z5MsVGqwZeyZ2OZkarB6VnJ0+O5qsFKG2sVZ8qqwebVwCISw6rBk/aWiuyjqsEgCUhoFm2qwUAIpELIHqrBA4qr0VK5qcEU2VqrHj2pwanA2terqqjBkCyGTZECqMFgqUxVfEWnwegtEtgvdKbB0U/ElYOPpcEv//NGY5ikwVUK2anNj6PBxOO5e9N2osGkWcZflk6hwa4Ph7RHGKDBNP0qsk6qncEj68HGBA2bwaYDqZFjW5jBo1h/9TGYlcGzM+HvSMaSwRb75FMh0Y/B2daL8voDisGQYG+oGSuEweR3ffMImXzBT10Zl5DccMHA8mk5jbNUwQD2cBDMp1lBk46cGADccUE6a/eSdx19QcFt+JVfEYRBsdyJUz1wiUFOj0jEy6WOQQ9Qxh9W1pFB6nJ6Hdg/lEEWGOpQ74yWQfR/wXo8u5hBo3qmGIDImkFBuXe2nLKcQQIwcRyZd55B2xj7K9EKoEFwNnTOhsWgQd3Ozf4sa6FB9zjQ+xj7oUEZzOZptnSiQcMMDuyH16JB2tgNpScjo0H5XXqgR1ejQT+cDyOyc6NBDaAU4kl4o0FvWo0hCmWjQSz4G7kGOqNBj6+M/2v3okF3GiGdfp2iQSY6ykSbLKJB9RiaVDaloUGEis9d2wehQeWw95QsVaBBPilzVcQbn0FIVvAbk2WdQXYHHTCJiZtBqMsASJGJmUE=",
        "encoding": "base64",
        "path": [
         "_data",
         4,
         "y",
         "value"
        ]
       },
       {
        "data": "A6wmbhAvpcE=",
        "encoding": "base64",
        "path": [
         "_data",
         5,
         "x",
         "value"
        ]
       },
       {
        "data": "viPGxHuWkcE=",
        "encoding": "base64",
        "path": [
         "_data",
         5,
         "y",
         "value"
        ]
       }
      ],
      "model_module": "plotlywidget",
      "model_module_version": "^0.6.0",
      "model_name": "FigureModel",
      "state": {
       "_config": {
        "plotlyServerURL": "https://plot.ly"
       },
       "_data": [
        {
         "hoverinfo": "none",
         "line": {
          "color": "rgb(31, 119, 180)",
          "dash": "dash",
          "width": 2
         },
         "mode": "lines",
         "name": "2019-04-27 00:00 (Ganymed)",
         "type": "scatter",
         "uid": "5d13c980-86c7-42cf-a936-d404cd1abe76",
         "x": {
          "dtype": "float64",
          "shape": [
           100
          ]
         },
         "y": {
          "dtype": "float64",
          "shape": [
           100
          ]
         }
        },
        {
         "marker": {
          "color": "rgb(31, 119, 180)",
          "size": 10
         },
         "mode": "markers",
         "name": "2019-04-27 00:00 (Ganymed)",
         "type": "scatter",
         "uid": "2a43da45-e230-4f00-ae94-a8fd2a5ab1a3",
         "x": {
          "dtype": "float64",
          "shape": [
           1
          ]
         },
         "y": {
          "dtype": "float64",
          "shape": [
           1
          ]
         }
        },
        {
         "hoverinfo": "none",
         "line": {
          "color": "rgb(255, 127, 14)",
          "dash": "dash",
          "width": 2
         },
         "mode": "lines",
         "name": "2019-04-27 00:00 (Amor)",
         "type": "scatter",
         "uid": "46089d44-4646-4b9a-a9d5-d633adc8756b",
         "x": {
          "dtype": "float64",
          "shape": [
           100
          ]
         },
         "y": {
          "dtype": "float64",
          "shape": [
           100
          ]
         }
        },
        {
         "marker": {
          "color": "rgb(255, 127, 14)",
          "size": 10
         },
         "mode": "markers",
         "name": "2019-04-27 00:00 (Amor)",
         "type": "scatter",
         "uid": "4e98fe6d-72e8-4617-9524-56289eb3145b",
         "x": {
          "dtype": "float64",
          "shape": [
           1
          ]
         },
         "y": {
          "dtype": "float64",
          "shape": [
           1
          ]
         }
        },
        {
         "hoverinfo": "none",
         "line": {
          "color": "rgb(44, 160, 44)",
          "dash": "dash",
          "width": 2
         },
         "mode": "lines",
         "name": "2019-04-27 00:00 (Eros)",
         "type": "scatter",
         "uid": "377a2b38-9e26-4d5b-a240-7735db9cd083",
         "x": {
          "dtype": "float64",
          "shape": [
           100
          ]
         },
         "y": {
          "dtype": "float64",
          "shape": [
           100
          ]
         }
        },
        {
         "marker": {
          "color": "rgb(44, 160, 44)",
          "size": 10
         },
         "mode": "markers",
         "name": "2019-04-27 00:00 (Eros)",
         "type": "scatter",
         "uid": "443f14a9-ef6b-4dbc-bcb8-10fa2b7482bb",
         "x": {
          "dtype": "float64",
          "shape": [
           1
          ]
         },
         "y": {
          "dtype": "float64",
          "shape": [
           1
          ]
         }
        }
       ],
       "_js2py_layoutDelta": {
        "layout_delta": {
         "annotations": [],
         "calendar": "gregorian",
         "clickmode": "event",
         "colorscale": {
          "diverging": [
           [
            0,
            "rgb(5,10,172)"
           ],
           [
            0.35,
            "rgb(106,137,247)"
           ],
           [
            0.5,
            "rgb(190,190,190)"
           ],
           [
            0.6,
            "rgb(220,170,132)"
           ],
           [
            0.7,
            "rgb(230,145,90)"
           ],
           [
            1,
            "rgb(178,10,28)"
           ]
          ],
          "sequential": [
           [
            0,
            "rgb(220,220,220)"
           ],
           [
            0.2,
            "rgb(245,195,157)"
           ],
           [
            0.4,
            "rgb(245,160,105)"
           ],
           [
            1,
            "rgb(178,10,28)"
           ]
          ],
          "sequentialminus": [
           [
            0,
            "rgb(5,10,172)"
           ],
           [
            0.35,
            "rgb(40,60,190)"
           ],
           [
            0.5,
            "rgb(70,100,245)"
           ],
           [
            0.6,
            "rgb(90,120,245)"
           ],
           [
            0.7,
            "rgb(106,137,247)"
           ],
           [
            1,
            "rgb(220,220,220)"
           ]
          ]
         },
         "colorway": [
          "#1f77b4",
          "#ff7f0e",
          "#2ca02c",
          "#d62728",
          "#9467bd",
          "#8c564b",
          "#e377c2",
          "#7f7f7f",
          "#bcbd22",
          "#17becf"
         ],
         "dragmode": "zoom",
         "font": {
          "color": "#444",
          "family": "\"Open Sans\", verdana, arial, sans-serif",
          "size": 12
         },
         "height": 470,
         "hidesources": false,
         "hoverdistance": 20,
         "hoverlabel": {
          "font": {
           "family": "Arial, sans-serif",
           "size": 13
          },
          "namelength": 15
         },
         "hovermode": "x",
         "images": [],
         "legend": {
          "bgcolor": "#fff",
          "bordercolor": "#444",
          "borderwidth": 0,
          "font": {
           "color": "#444",
           "family": "\"Open Sans\", verdana, arial, sans-serif",
           "size": 12
          },
          "orientation": "v",
          "traceorder": "normal",
          "valign": "middle",
          "x": 1.02,
          "xanchor": "left",
          "y": 1,
          "yanchor": "auto"
         },
         "margin": {
          "autoexpand": true,
          "b": 80,
          "l": 80,
          "pad": 0,
          "r": 80,
          "t": 100
         },
         "modebar": {
          "activecolor": "rgba(68, 68, 68, 0.7)",
          "bgcolor": "rgba(255, 255, 255, 0.5)",
          "color": "rgba(68, 68, 68, 0.3)",
          "orientation": "h"
         },
         "paper_bgcolor": "#fff",
         "plot_bgcolor": "#fff",
         "separators": ".,",
         "shapes": [
          {
           "layer": "above",
           "line": {
            "dash": "solid",
            "width": 2
           },
           "visible": true,
           "xsizemode": "scaled",
           "ysizemode": "scaled"
          }
         ],
         "showlegend": true,
         "sliders": [],
         "spikedistance": 20,
         "title": {
          "font": {
           "color": "#444",
           "family": "\"Open Sans\", verdana, arial, sans-serif",
           "size": 17
          },
          "pad": {
           "b": 0,
           "l": 0,
           "r": 0,
           "t": 0
          },
          "text": "Click to enter Plot title",
          "x": 0.5,
          "xanchor": "auto",
          "xref": "container",
          "y": "auto",
          "yanchor": "auto",
          "yref": "container"
         },
         "updatemenus": [],
         "width": 966.8,
         "xaxis": {
          "anchor": "y",
          "automargin": false,
          "autorange": true,
          "color": "#444",
          "constraintoward": "center",
          "domain": [
           0.20484061077625132,
           0.7951593892237487
          ],
          "dtick": 200000000,
          "exponentformat": "B",
          "fixedrange": false,
          "gridcolor": "rgb(238, 238, 238)",
          "gridwidth": 1,
          "hoverformat": "",
          "layer": "above traces",
          "nticks": 0,
          "range": [
           -610870770.6540705,
           366091324.29976624
          ],
          "rangemode": "normal",
          "separatethousands": false,
          "showexponent": "all",
          "showgrid": true,
          "showline": false,
          "showspikes": false,
          "showticklabels": true,
          "side": "bottom",
          "tick0": 0,
          "tickangle": "auto",
          "tickfont": {
           "color": "#444",
           "family": "\"Open Sans\", verdana, arial, sans-serif",
           "size": 12
          },
          "tickformat": "",
          "tickmode": "auto",
          "tickprefix": "",
          "ticks": "",
          "ticksuffix": "",
          "title": {
           "font": {
            "color": "#444",
            "family": "\"Open Sans\", verdana, arial, sans-serif",
            "size": 14
           },
           "text": "x (km)"
          },
          "type": "linear",
          "visible": true,
          "zeroline": true,
          "zerolinecolor": "#444",
          "zerolinewidth": 1
         },
         "yaxis": {
          "anchor": "x",
          "automargin": false,
          "autorange": true,
          "color": "#444",
          "constrain": "range",
          "constraintoward": "middle",
          "domain": [
           0,
           1
          ],
          "dtick": 100000000,
          "exponentformat": "B",
          "fixedrange": false,
          "gridcolor": "rgb(238, 238, 238)",
          "gridwidth": 1,
          "hoverformat": "",
          "layer": "above traces",
          "nticks": 0,
          "range": [
           -375269458.7911313,
           387755014.39870745
          ],
          "rangemode": "normal",
          "scaleratio": 1,
          "separatethousands": false,
          "showexponent": "all",
          "showgrid": true,
          "showline": false,
          "showspikes": false,
          "showticklabels": true,
          "side": "left",
          "tick0": 0,
          "tickangle": "auto",
          "tickfont": {
           "color": "#444",
           "family": "\"Open Sans\", verdana, arial, sans-serif",
           "size": 12
          },
          "tickformat": "",
          "tickmode": "auto",
          "tickprefix": "",
          "ticks": "",
          "ticksuffix": "",
          "title": {
           "font": {
            "color": "#444",
            "family": "\"Open Sans\", verdana, arial, sans-serif",
            "size": 14
           },
           "text": "y (km)"
          },
          "type": "linear",
          "visible": true,
          "zeroline": true,
          "zerolinecolor": "#444",
          "zerolinewidth": 1
         }
        },
        "layout_edit_id": 7
       },
       "_js2py_pointsCallback": {},
       "_js2py_relayout": {},
       "_js2py_restyle": {},
       "_js2py_traceDeltas": {
        "trace_deltas": [
         {
          "connectgaps": false,
          "error_x": {
           "visible": false
          },
          "error_y": {
           "visible": false
          },
          "fill": "none",
          "hoverlabel": {
           "font": {
            "family": "Arial, sans-serif",
            "size": 13
           },
           "namelength": 15
          },
          "hoveron": "points",
          "hovertemplate": "",
          "hovertext": "",
          "index": 0,
          "legendgroup": "",
          "line": {
           "shape": "linear",
           "simplify": true
          },
          "opacity": 1,
          "showlegend": true,
          "stackgroup": "",
          "text": "",
          "uid": "5d13c980-86c7-42cf-a936-d404cd1abe76",
          "visible": true,
          "xaxis": "x",
          "xcalendar": "gregorian",
          "yaxis": "y",
          "ycalendar": "gregorian"
         },
         {
          "cliponaxis": true,
          "error_x": {
           "visible": false
          },
          "error_y": {
           "visible": false
          },
          "fill": "none",
          "hoverinfo": "all",
          "hoverlabel": {
           "font": {
            "family": "Arial, sans-serif",
            "size": 13
           },
           "namelength": 15
          },
          "hoveron": "points",
          "hovertemplate": "",
          "hovertext": "",
          "index": 1,
          "legendgroup": "",
          "marker": {
           "gradient": {
            "type": "none"
           },
           "line": {
            "color": "#444",
            "width": 0
           },
           "maxdisplayed": 0,
           "opacity": 1,
           "symbol": "circle"
          },
          "opacity": 1,
          "selected": {
           "marker": {
            "opacity": 1
           }
          },
          "showlegend": true,
          "stackgroup": "",
          "text": "",
          "uid": "2a43da45-e230-4f00-ae94-a8fd2a5ab1a3",
          "unselected": {
           "marker": {
            "opacity": 0.2
           }
          },
          "visible": true,
          "xaxis": "x",
          "xcalendar": "gregorian",
          "yaxis": "y",
          "ycalendar": "gregorian"
         },
         {
          "connectgaps": false,
          "error_x": {
           "visible": false
          },
          "error_y": {
           "visible": false
          },
          "fill": "none",
          "hoverlabel": {
           "font": {
            "family": "Arial, sans-serif",
            "size": 13
           },
           "namelength": 15
          },
          "hoveron": "points",
          "hovertemplate": "",
          "hovertext": "",
          "index": 2,
          "legendgroup": "",
          "line": {
           "shape": "linear",
           "simplify": true
          },
          "opacity": 1,
          "showlegend": true,
          "stackgroup": "",
          "text": "",
          "uid": "46089d44-4646-4b9a-a9d5-d633adc8756b",
          "visible": true,
          "xaxis": "x",
          "xcalendar": "gregorian",
          "yaxis": "y",
          "ycalendar": "gregorian"
         },
         {
          "cliponaxis": true,
          "error_x": {
           "visible": false
          },
          "error_y": {
           "visible": false
          },
          "fill": "none",
          "hoverinfo": "all",
          "hoverlabel": {
           "font": {
            "family": "Arial, sans-serif",
            "size": 13
           },
           "namelength": 15
          },
          "hoveron": "points",
          "hovertemplate": "",
          "hovertext": "",
          "index": 3,
          "legendgroup": "",
          "marker": {
           "gradient": {
            "type": "none"
           },
           "line": {
            "color": "#444",
            "width": 0
           },
           "maxdisplayed": 0,
           "opacity": 1,
           "symbol": "circle"
          },
          "opacity": 1,
          "selected": {
           "marker": {
            "opacity": 1
           }
          },
          "showlegend": true,
          "stackgroup": "",
          "text": "",
          "uid": "4e98fe6d-72e8-4617-9524-56289eb3145b",
          "unselected": {
           "marker": {
            "opacity": 0.2
           }
          },
          "visible": true,
          "xaxis": "x",
          "xcalendar": "gregorian",
          "yaxis": "y",
          "ycalendar": "gregorian"
         },
         {
          "connectgaps": false,
          "error_x": {
           "visible": false
          },
          "error_y": {
           "visible": false
          },
          "fill": "none",
          "hoverlabel": {
           "font": {
            "family": "Arial, sans-serif",
            "size": 13
           },
           "namelength": 15
          },
          "hoveron": "points",
          "hovertemplate": "",
          "hovertext": "",
          "index": 4,
          "legendgroup": "",
          "line": {
           "shape": "linear",
           "simplify": true
          },
          "opacity": 1,
          "showlegend": true,
          "stackgroup": "",
          "text": "",
          "uid": "377a2b38-9e26-4d5b-a240-7735db9cd083",
          "visible": true,
          "xaxis": "x",
          "xcalendar": "gregorian",
          "yaxis": "y",
          "ycalendar": "gregorian"
         },
         {
          "cliponaxis": true,
          "error_x": {
           "visible": false
          },
          "error_y": {
           "visible": false
          },
          "fill": "none",
          "hoverinfo": "all",
          "hoverlabel": {
           "font": {
            "family": "Arial, sans-serif",
            "size": 13
           },
           "namelength": 15
          },
          "hoveron": "points",
          "hovertemplate": "",
          "hovertext": "",
          "index": 5,
          "legendgroup": "",
          "marker": {
           "gradient": {
            "type": "none"
           },
           "line": {
            "color": "#444",
            "width": 0
           },
           "maxdisplayed": 0,
           "opacity": 1,
           "symbol": "circle"
          },
          "opacity": 1,
          "selected": {
           "marker": {
            "opacity": 1
           }
          },
          "showlegend": true,
          "stackgroup": "",
          "text": "",
          "uid": "443f14a9-ef6b-4dbc-bcb8-10fa2b7482bb",
          "unselected": {
           "marker": {
            "opacity": 0.2
           }
          },
          "visible": true,
          "xaxis": "x",
          "xcalendar": "gregorian",
          "yaxis": "y",
          "ycalendar": "gregorian"
         }
        ],
        "trace_edit_id": 7
       },
       "_js2py_update": {},
       "_last_layout_edit_id": 7,
       "_last_trace_edit_id": 7,
       "_layout": {
        "autosize": true,
        "shapes": [
         {
          "fillcolor": "#ffcc00",
          "line": {
           "color": "#ffcc00"
          },
          "opacity": 1,
          "type": "circle",
          "x0": -27904427.174349155,
          "x1": 27904427.174349155,
          "xref": "x",
          "y0": -27904427.174349155,
          "y1": 27904427.174349155,
          "yref": "y"
         }
        ],
        "template": {},
        "xaxis": {
         "constrain": "domain",
         "title": "x (km)"
        },
        "yaxis": {
         "scaleanchor": "x",
         "title": "y (km)"
        }
       },
       "_py2js_animate": {},
       "_py2js_deleteTraces": {},
       "_py2js_moveTraces": {},
       "_py2js_removeLayoutProps": {},
       "_py2js_removeTraceProps": {},
       "_py2js_restyle": {},
       "_view_count": 1
      }
     },
     "e26d53eed8ce448c9932fb64a7303c90": {
      "buffers": [
       {
        "data": "m5bjqBo2pEFLvWWqsyikQUNmqn+MAKRB+W+ujM69o0GLzwKevmCjQawm4aG86aJBOJ1IRUNZokHk7Yh156+hQc0AvsZX7qBBi1Pav1sVoEHAYPMZpkueQUNxoDFpQZxBB91GHBsOmkFhO6eEALSXQahMJxSGNZVB+1gH8z2VkkEPtOFDuquPQWqVM19x9IlBVfu5moUKhEEqrycXH+h7QSUJa8JW3W5BbjcFpl+sRUEo0vVVQ2xkwYiDp90LR3fB5qVGUN03gsHIcW24TtGIwSLEl6MMaY/Bey9/pyX8ksGTnhLdIzyWwV8gm08ncZnB4o+SreGXnMH69T5fE62fwSbo9W/HVqHB3NpAAh7LosFA9A2WDTKkwWQKqSskiqXBJkeDEf/RpsF0XtNRTAiowX/29Q7MK6nBlSQnzVE7qsH3G0GoxTWrwXLDQHQlGqzBJclmx4XnrMED3+LsEp2twZH6Dr8ROq7Bd6JZaOC9rsFSbRgK9yevwUq7lkjod6/BX0rQu2Gtr8FqcWNELMivwWhxY0QsyK/BV0rQu2Gtr8FAu5ZI6HevwUFtGAr3J6/BYqJZaOC9rsF8+g6/ETquwefe4uwSna3BAslmx4XnrMFNw0B0JRqswc0bQajFNavBaiQnzVE7qsFM9vUOzCupwT9e01FMCKjB6UaDEf/RpsEpCqkrJIqlwQX0DZYNMqTBmdpAAh7LosHg5/Vvx1ahwWL1Pl8TrZ/BVY+SreGXnMHDH5tPJ3GZwd+dEt0jPJbBzi5/pyX8ksHnwpejDGmPwWpwbbhO0YjBu6RGUN03gsEfgafdC0d3wZfN9VVDbGTBxkwFpl+sRUFcDmvCVt1uQcixJxcf6HtBwPy5moUKhEGZljNfcfSJQVq14UO6q49BmFkH8z2VkkFGTScUhjWVQf87p4QAtJdBj91GHBsOmkG7caAxaUGcQTZh8xmmS55Bv1Pav1sVoEH6AL7GV+6gQRDuiHXnr6FBYJ1IRUNZokHMJuGhvOmiQaHPAp6+YKNBDXCujM69o0FSZqp/jACkQVG9ZaqzKKRBm5bjqBo2pEE=",
        "encoding": "base64",
        "path": [
         "_data",
         0,
         "x",
         "value"
        ]
       },
       {
        "data": "AAAAAADjdz7dvxNyhblpQXg4WTJDrHlBvIKIa6Ywg0HYSfwsY3eJQTq2EZvfo49BTspjQd/XkkHj1f0nYsqVQcFDFr1upphBL9X5YxJpm0HKn2GxdA+eQQLnKC1tS6BB9SF5AlR+oUHaCz18Mp+iQXVftNTerKNBKE62D0OmpEFbDj8ZXoqlQYBOcM5EWKZBb2Hz7yIPp0GIScP8O66nQfYZffTrNKhB12BuAKiiqEGdVbMC//aoQYdE0QqaMalBkgRVrzxSqUFAFhlMxVipQew58yQtRalBQr6lbIgXqUHqXg0wBtCoQbIpoSXwbqhBGml2Yar0p0HT5xbusmGnQfPkk0qhtqZBEqdbziX0pUH3qHLzCBulQb7Ay4cqLKRBY0iUxoAoo0E0F2JaFxGiQVLxSEkO56BBGrLnlzFXn0HNnegh+L+cQZ7oG9sbC5pByzOw+mY7l0Ea6UBkv1OUQQzdFKsjV5FBLPvU90+RjEEHOADh5VaGQeKnO6B0BYBBS5noAf9Gc0FYACim1rxZQV4IKKbWvFnBM5voAf9Gc8HWqDugdAWAwQE5AOHlVobBMvzU90+RjMFw3RSrI1eRwY7pQGS/U5TBSjSw+mY7l8EQ6RvbGwuawTme6CH4v5zBgbLnlzFXn8GE8UhJDuegwWIXYloXEaLBl0iUxoAoo8HpwMuHKiykwRqpcvMIG6XBNqdbziX0pcER5ZNKobamwfDnFu6yYafBLml2Yar0p8HFKaEl8G6owfpeDTAG0KjBTL6lbIgXqcHuOfMkLUWpwT0WGUzFWKnBiwRVrzxSqcF+RNEKmjGpwY1VswL/9qjBv2BuAKiiqMHaGX306zSowWRJw/w7rqfBRWHz7yIPp8FTTnDORFimwScOPxleiqXB8E22D0OmpMEzX7TU3qyjwZALPXwyn6LBqyF5AlR+ocG45igtbUugwSqfYbF0D57BjdT5YxJpm8EZQxa9bqaYwSPV/SdiypXBgcljQd/XksG8tBGb36OPwYlI/Cxjd4nBPoGIa6Ywg8FdNVkyQ6x5wbO5E3KFuWnBAAAAANgZyT4=",
        "encoding": "base64",
        "path": [
         "_data",
         0,
         "y",
         "value"
        ]
       },
       {
        "data": "bCnWPLPXj0E=",
        "encoding": "base64",
        "path": [
         "_data",
         1,
         "x",
         "value"
        ]
       },
       {
        "data": "FicmILSDpUE=",
        "encoding": "base64",
        "path": [
         "_data",
         1,
         "y",
         "value"
        ]
       }
      ],
      "model_module": "plotlywidget",
      "model_module_version": "^0.6.0",
      "model_name": "FigureModel",
      "state": {
       "_config": {
        "plotlyServerURL": "https://plot.ly"
       },
       "_data": [
        {
         "hoverinfo": "none",
         "line": {
          "color": "rgb(31, 119, 180)",
          "dash": "dash",
          "width": 2
         },
         "mode": "lines",
         "name": "2019-04-27 00:00 (Eros)",
         "type": "scatter",
         "uid": "5093c652-f2e3-4f01-8512-9865ff7c8972",
         "x": {
          "dtype": "float64",
          "shape": [
           100
          ]
         },
         "y": {
          "dtype": "float64",
          "shape": [
           100
          ]
         }
        },
        {
         "marker": {
          "color": "rgb(31, 119, 180)",
          "size": 10
         },
         "mode": "markers",
         "name": "2019-04-27 00:00 (Eros)",
         "type": "scatter",
         "uid": "005ae47b-5375-4a45-93ea-5927aaa10b7f",
         "x": {
          "dtype": "float64",
          "shape": [
           1
          ]
         },
         "y": {
          "dtype": "float64",
          "shape": [
           1
          ]
         }
        }
       ],
       "_js2py_pointsCallback": {},
       "_js2py_relayout": {},
       "_js2py_restyle": {},
       "_js2py_update": {},
       "_last_layout_edit_id": 3,
       "_last_trace_edit_id": 3,
       "_layout": {
        "autosize": true,
        "shapes": [
         {
          "fillcolor": "#ffcc00",
          "line": {
           "color": "#ffcc00"
          },
          "opacity": 1,
          "type": "circle",
          "x0": -25431756.666676283,
          "x1": 25431756.666676283,
          "xref": "x",
          "y0": -25431756.666676283,
          "y1": 25431756.666676283,
          "yref": "y"
         }
        ],
        "template": {},
        "xaxis": {
         "constrain": "domain",
         "title": {
          "text": "x (km)"
         }
        },
        "yaxis": {
         "scaleanchor": "x",
         "title": {
          "text": "y (km)"
         }
        }
       },
       "_py2js_animate": {},
       "_py2js_deleteTraces": {},
       "_py2js_moveTraces": {},
       "_py2js_removeLayoutProps": {},
       "_py2js_removeTraceProps": {},
       "_py2js_restyle": {},
       "_view_count": 1
      }
     },
     "f47d2a1b0b664fdcad81f8118a76b84e": {
      "buffers": [
       {
        "data": "ml/glCstpkH+ic2+rhSmQSleonpRy6VBAqKBaF9RpUFbs648VqekQZdr+T3lzaNBhlEQkezFokHCWXNRfJChQY5h9XjTLqBBsQ/bLb1EnUHWqtawbNmZQUYr4sU7H5ZBqUHNBgIakkE47Y/MyJuLQfJ5edShfoJBXMpaa+jLcUHov92iukVCwcxyKYXoK3fBAMlYkxFkhsHKXMkeyMGQwfTDcX98dJbBwIaXQUZEnMECPijgkxWhwUAkYMSFEaTBUATGT+USp8H4ZzBsmRaqwaS3gZyGGa3BoAJVGEkMsMEDvGq8Uoixwel0PXpY/7LBG0UBvddvtMHy/OGpVNi1wcwok6dbN7fBNmhd3YKLuMHKPB6oa9O5wcPSuQPEDbvBgiyK50c5vMFchWSUwlS9wWSa3NIPX77BtcZ9IB1Xv8HTuGFl9R3AwbKOVntGhsDBLTHvSRbkwMGTHCgdBDfBwS6G13i6fsHBpAfMcO+6wcGdFgD1ZOvBwUq8kxHpD8LBCJpKIlYowsHyJln5kjTCwfMmWfmSNMLBCJpKIlYowsFLvJMR6Q/CwZ8WAPVk68HBqAfMcO+6wcEzhtd4un7BwZQcKB0EN8HBMDHvSRbkwMG1jlZ7RobAwde4YWX1HcDBu8Z9IB1Xv8FumtzSD1++wWWFZJTCVL3BjCyK50c5vMHQ0rkDxA27wd48Hqhr07nBQ2hd3YKLuMHiKJOnWze3wQH94alU2LXBLEUBvddvtMH6dD16WP+ywRK8arxSiLHBtwJVGEkMsMHIt4GchhmtwRloMGyZFqrBbwTGT+USp8FyJGDEhRGkwSo+KOCTFaHBBoeXQUZEnMFsxHF/fHSWwURdyR7IwZDBtMlYkxFkhsHycymF6Ct3wfDB3aK6RULBEMlaa+jLcUF2eXnUoX6CQdrsj8zIm4tBW0HNBgIakkH6KuLFOx+WQZSq1rBs2ZlBbA/bLb1EnUF5YfV40y6gQZ5Zc1F8kKFBbFEQkezFokGPa/k95c2jQUuzrjxWp6RB8aGBaF9RpUElXqJ6UculQfqJzb6uFKZBmV/glCstpkE=",
        "encoding": "base64",
        "path": [
         "_data",
         0,
         "x",
         "value"
        ]
       },
       {
        "data": "AAAAAAAAwb5MrEc4t2R0QW4kDmg0WoRBdwlFaRJtjkEeXtGiSTCUQd98z3s6FZlBp2OiMFDgnUGwhLvsTEahQZcawyajiqNBQqkfjdS6pUFwsU2qn9SnQYBb0B/a1alB2R2m4XK8q0GvGqNXdIatQScMf2IGMq9BqeBAIbhesEGRP+wujROxQYX3X/LHtrFBl7/oKMBHskFSBnRi4MWyQfQhm5umMLNBV5Cow6SHs0FwIA0ugcqzQYEQ0O72+LNB49eaIdYStEG8XxcbBBi0QSrHbYR7CLRB8lvFYEzks0GKG8P8m6uzQf+/FsikXrNBMPs9Gbb9skF1+LvbM4myQU9yGSmWAbJB5YgXzWhnsUFq95S1SruwQZ5ndJ3a+69BsbMqmCdgrkG90MS+JKWsQXZ4nruazKpB3YU5qXDYqEF+CSAcqsqmQcSkaw9lpaRBZwYWttdqokGAb1IzTh2gQaPKk3hQfptBjwVWS62llkFcUia/sbWRQR0CpInpZolBkO59eoCQfkEoAHduWGdkQcj9dm5YZ2TBrO19eoCQfsFmAaSJ6WaJwR5SJr+xtZHBRAVWS62llsFIypN4UH6bwWJvUjNOHaDBRQYWttdqosGipGsPZaWkwV8JIByqyqbBxoU5qXDYqMFXeJ67msyqwaHQxL4kpazBk7MqmCdgrsF6Z3Sd2vuvwVn3lLVKu7DB24gXzWhnscFBchkplgGywWr4u9szibLBKPs9Gbb9ssH3vxbIpF6zwYIbw/ybq7PB6lvFYEzks8Eix22Eewi0wbhfFxsEGLTB39eaIdYStMGAENDu9vizwWwgDS6ByrPBV5Cow6SHs8H3IZubpjCzwVoGdGLgxbLBnL/oKMBHssGL91/yx7axwZE/7C6NE7HBs+BAIbhesME4DH9iBjKvwbwao1d0hq3B9x2m4XK8q8GhW9Af2tWpwZKxTaqf1KfBbakfjdS6pcGyGsMmo4qjwemEu+xMRqHBFGSiMFDgncEBfc97OhWZwXpe0aJJMJTBigpFaRJtjsHgJA5oNFqEwS6uRzi3ZHTBAAAAAACAhD4=",
        "encoding": "base64",
        "path": [
         "_data",
         0,
         "y",
         "value"
        ]
       },
       {
        "data": "OIGQVsBAtsE=",
        "encoding": "base64",
        "path": [
         "_data",
         1,
         "x",
         "value"
        ]
       },
       {
        "data": "VV9cHzpjssE=",
        "encoding": "base64",
        "path": [
         "_data",
         1,
         "y",
         "value"
        ]
       },
       {
        "data": "C1q0ZMFbn8H4rnN0+1edwb3LJ4QKHZvBu7OsHTutmMG7H3xKEAuWwfw70vxAOZPBUg9QQ7U6kMEz+fuTBiWKwen/iVfYh4PBCiuZXmJJecGk3DNpqgpmwYhMh44Rbk1BwW8twbzAckG2pSFHCBKBQdIKUW3w44hB3huimwNnkEEiO9QNEmSUQVvQUAYHZZhBsMrc+MFlnEGDboZKETGgQSpLkoMGK6JBhrIqGrcepEGM7P/2HwqmQWFg0YtG66dBlrqY3TrAqUEVaM6DGYerQZ5fuJoNPq1BoY7BplLjrkFD1nMzmzqwQUBTL0oN+bBBGRrORjussUEGsIl1bFOyQT5n/3307bJBq57YFDR7s0FN+/6fmfqzQfhXs8yha7RBzbPsFtjNtEGclHNB1yC1QSYOPr5JZLVBfNqgBuqXtUHomvrigru1QWRgj6HvzrVBSe9bPBzStUGUwLltBcW1Qa55vrO4p7VB+GBTQlR6tUERJRPkBj21QdQODsoP8LRBlVamSr6TtEH+wcePcSi0QWrYzjSYrrNBicyE1K8ms0HdoqWHRJGyQc0MdlTw7rFBk9X9j1pAsUG+i4oxN4awQW5qWDKMgq9BgJLWk6TkrUGPpQcxYjSsQVjm+p6Cc6pBk+kFk9SjqEHoUswFNsemQVrWi0aS36RBlWCoAODuokFyd4I1H/egQWHnW1mu9J1BjENSuSj1mUHfJXiczPOVQQfQWvm69JFBgpH00yT4i0GdYlzZ1RuEQcedaa9GuXhBqkxohiYKY0Ekr8CeCVVVwZF14MlqxnPBiRySY8HfgMESRYCDEZmHwcZ522Y3CI7Bl3uYkUgTksHqAt0L6PaUwY1c4Lb/q5fBBxI7HsUvmsHw3vKkoH+cwc3NizEwmZ7BVsx30SQ9oMEpgtGFfhChwawyfljLxaHBkysmZlBcosHu0RSGctOiwbaYKeq2KqPB9hpvncNho8F929XgX3ijwdMTs2V0bqPBDUbHZQtEo8FSzbOYUPmiwblK6gaRjqLBo2JEujoEosFcpZVM3FqhwRKQrFQkk6DB8Fm0ZMFbn8E=",
        "encoding": "base64",
        "path": [
         "_data",
         2,
         "x",
         "value"
        ]
       },
       {
        "data": "p3k/IgbulMGIUOx0HB6Yweem+Ha0JJvB8ziTsK/+ncGlilrTjlSgwRf8ZnGfkKHBCLb040OyosGomDCZUbijwU9DtG+6oaTBgub6zI1tpcECO2aV+RqmwVPy0wRLqabB6V/kZu8Xp8FkZTSudGanwQW/7umJlKfBbn87mf+hp8G/uDfcx46nwRfZQoL2WqfBWPyS9cAGp8HEPyUEfpKmweTZQoal/qXBSDP34s9LpcE2WfZytXqkwfa6lcItjKPBuBSbsy6BosFSksZ/y1qhwUpvHZ0zGqDBghAzCmOBncGSpQDAUp+awazHgCsvkZfBivGfix5alME1dEFPcf2QwexMVFU9/YrBAI/nCYLCg8HSTN8ESaR4wYBLLzo/z2LBKNpJAg2FWEHC5kMeXOZ1QQLlhbq064JBhCZXN/7xikE0Eol14n6RQSJhVsleg5VBklOl50+CmUHRRvtXl3edQQTf5EuQr6BB6D2Rp3KaokFXmWi7eHqkQdr8ybWzTaZB0ZAf9UESqEHkbFj4UMapQTGJyj8faKtBDRuNHP71rEHUum1sU26uQTGutkCbz69BukQJtzSMsEEtePiBtSOxQQjA9NSzrbFBRF3acKEpskHWhjeW/payQdjU+4ha9bJBrtStBFREs0G++66gmYOzQY2dJiTqsrNBRWQ9yRTSs0GO/WNv+eCzQYgocbyI37NBRQF1LMTNs0HmOTEQvquzQQ7VN3qZebNBztfDGoo3s0HbN3EK1OWyQWDyCoTLhLJBKKe3jdQUskG7ON6RYpaxQVK6LOj3CbFBUk88TyVwsEGI+biuEpOvQTd1P36fLa5B6IOjhGGxrEHrLRy44B+rQRMkdfm6eqlBf1BsaaLDp0G9rS+pW/ylQc2xyAe8JqRBKkNWnqdEokHY5gddD1igQTMbuRXexZxBbxdqdJbOmEFilatoXs6UQXo5+btVyZBBaPDaXEKHiUE6mp9izIKBQbU7sYMaG3NBFDCQQ5D7SkFlLNTAUTpowSqr42m/SnvBordpHdYMhcGCfFvHVT2MwdG3eby6l5HB03k/IgbulME=",
        "encoding": "base64",
        "path": [
         "_data",
         2,
         "y",
         "value"
        ]
       },
       {
        "data": "2Oh/bGTyoUE=",
        "encoding": "base64",
        "path": [
         "_data",
         3,
         "x",
         "value"
        ]
       },
       {
        "data": "x1XUgZvbs0E=",
        "encoding": "base64",
        "path": [
         "_data",
         3,
         "y",
         "value"
        ]
       },
       {
        "data": "uWUERWVzmcFuT2d7SM2bwU92VWz+Ap7BSq0b+R8JoMFoLabFdvygwYp09sSI2qHBFk7XDHGiosGDhKqLYVOjwZRz1Nyj7KPBnsi/BJptpMGHobcTv9WkwXor8K6nJKXBUn8wfwJapcHkqKuEmHWlwVhqsk9Nd6XBn0oDHh9fpcGat5rcJi2lwX1dAQ6Y4aTB3i8zlcB8pMFs4FVlCP+jwSuGkRbxaKPBIup5YBW7osFSLpJ6KPahwXg1j2P1GqHBMjsXEF4qoMFgn6wDtUqeweygr4/vGZzBi8tY0q3EmcGB1vR1V02Xwe/DV0Z3tpTBtwsCkrgCksGEKoXTyGmOwUwnV4O9n4jBuu6f7EatgsEA6W7lDDF5wVKTlUUDn2nBAC28V9OrEMEOenmE9NBoQVoY0OzrJHlB6CZWYcLygkGSPhnGj06JQfEGYitQn49BjjgJfkDvkkEhWJje2AKWQWujmFhFB5lB7DfgsGn5m0EYwqaEPNaeQXIObzVlzaBBCulxfxwiokHKZLTo5GejQQCGQ55unaRBcZgNjHrBpUFB5Mul29KmQaVTVh140KdBRCUhhUq5qEFSObndYoypQR0vKY3nSKpBKE1IPxbuqkEX/AuuRHurQYZVDVHh76tBq9iN83NLrEFDoGAwno2sQQJfONMbtqxBltT1HsPErEEqQq74hLmsQXqEPfdslKxBZMZTV6FVrEGqHAvUYv2rQTKsLWQMjKtBNiNx3BICq0GRLQh3BGCqQUQJBkGIpqlBIFwrbl3WqEGnzM2TWvCnQZKJpcts9aZBF8Rkv5bmpUE0DRWe78SkQX1xTfyhkaNBDftpoOpNokGE3wE8F/ugQRzn2ScKNZ9BZ/J1MD9bnEHv1B/bvWuZQSveztKMaZZBB16eBcZXk0F7J2dykzmQQU0ok8tXJIpB3nEJVJ/Jg0GCZBS0FNN6Qa7e+QCtKmxBiM5CPGVyNkE4TcEo01RmwVBsX3xkknfBiW3fQgDigcHZdfLuVdmHwdCVi9kMqY3BUm6WuJOlkcH4v0aU61yUwSpGfDnB95bBSWYERWVzmcE=",
        "encoding": "base64",
        "path": [
         "_data",
         4,
         "x",
         "value"
        ]
       },
       {
        "data": "aELiTZGJmUFgBD4pu2eXQYsKx3A5JpVBzHTvcl/HkkHcJfm9nk2QQUdQPzYJd4tBBphY2m4nhkEMWFXq57GAQTHEOQAqOHZBHp2XAeCuZUEgE/EmdVQmwdT78rpXtGjBFaCvHiUTeMGc4XH6vOiBwdI+IrGHxIfBQInTruiWjcFGdXfR76yRwbJbQxC+g5TBNwXQ3vFMl8Fh3+UNrAWawZ5K62keq5zBEw87n446n8F2Bf+ErNigwboIUbd5BqLBDQYQzHclo8FWN6/sfjSkwelrjbd3MqXB3RPzX1wepsHpp/C7OfemwSQ+Bz8wvKfBZemY4HRsqMFTWDPtUQepwZT23MEnjKnBrXyjcG36qcH8TcJNsVGqwWIkz2SZkarBl0B01eO5qsFNiVgXZ8qqwSGZ7yQSw6rBipkFjeyjqsF91PRqFm2qwaQEjUXIHqrB94HO1FK5qcFoW7WuHj2pweUiaturqqjBwI1HUZECqMH/9DxZfEWnwRsfLtwvdKbBunQImoOPpcGFvFxLY5ikwR+fYq7Nj6PBD21ggNN2osG91oVklk6hwSNmW7lHGKDB8vz0u06qncGMu6TQBA2bwdYInJtjW5jBG+Z5/zGYlcE6ldr5SMaSwSAAxGch0Y/BDcxFBvsDisFGGvO7GSuEwTKN9hkJmXzByr/ivJDccMH8M07NjbNUwWwgTYDLp1lBJoWi9f/bcUHGBypxdx19QUJRtoVfEYRBcu35Qz1wiUFLrne1y6WOQYx0wxhW1pFBeNHiFtg/lEFP58JK74yWQZ2CD3U8u5hBovptE4DImkFMg7yxnLKcQZKPNhiZd55B7HYfKtEKoEGOYtvMhsWgQfSjeP0sa6FBM0y/+hj7oUFIbBpptnSiQRhChuuH16JByWTKpCcjo0GJu3qgR1ejQY0AUyOyc6NBHPuZ4kl4o0FHWFMiCmWjQTUCIboGOqNBLe7OAGz3okH9dp6efp2iQe9ggEabLKJB3XuGVjaloUF6Y+9f2wehQc0ESJcsVaBBumxuWsQbn0HQfT8hk2WdQQIFuTWJiZtB7EHiTZGJmUE=",
        "encoding": "base64",
        "path": [
         "_data",
         4,
         "y",
         "value"
        ]
       },
       {
        "data": "Ptp4bhAvpcE=",
        "encoding": "base64",
        "path": [
         "_data",
         5,
         "x",
         "value"
        ]
       },
       {
        "data": "OCS1yXuWkcE=",
        "encoding": "base64",
        "path": [
         "_data",
         5,
         "y",
         "value"
        ]
       }
      ],
      "model_module": "plotlywidget",
      "model_module_version": "^0.6.0",
      "model_name": "FigureModel",
      "state": {
       "_config": {
        "plotlyServerURL": "https://plot.ly"
       },
       "_data": [
        {
         "hoverinfo": "none",
         "line": {
          "color": "rgb(31, 119, 180)",
          "dash": "dash",
          "width": 2
         },
         "mode": "lines",
         "name": "2019-04-27 00:00 (Ganymed)",
         "type": "scatter",
         "uid": "4149e0a7-4b37-46ca-b3ac-4173022a153e",
         "x": {
          "dtype": "float64",
          "shape": [
           100
          ]
         },
         "y": {
          "dtype": "float64",
          "shape": [
           100
          ]
         }
        },
        {
         "marker": {
          "color": "rgb(31, 119, 180)",
          "size": 10
         },
         "mode": "markers",
         "name": "2019-04-27 00:00 (Ganymed)",
         "type": "scatter",
         "uid": "653ce6bb-102e-4513-9b95-bcadabd41606",
         "x": {
          "dtype": "float64",
          "shape": [
           1
          ]
         },
         "y": {
          "dtype": "float64",
          "shape": [
           1
          ]
         }
        },
        {
         "hoverinfo": "none",
         "line": {
          "color": "rgb(255, 127, 14)",
          "dash": "dash",
          "width": 2
         },
         "mode": "lines",
         "name": "2019-04-27 00:00 (Amor)",
         "type": "scatter",
         "uid": "29ef2008-128f-48e1-918e-84b24c0ffc86",
         "x": {
          "dtype": "float64",
          "shape": [
           100
          ]
         },
         "y": {
          "dtype": "float64",
          "shape": [
           100
          ]
         }
        },
        {
         "marker": {
          "color": "rgb(255, 127, 14)",
          "size": 10
         },
         "mode": "markers",
         "name": "2019-04-27 00:00 (Amor)",
         "type": "scatter",
         "uid": "a1b801d2-7ddc-4546-8a8e-025e4e95ad66",
         "x": {
          "dtype": "float64",
          "shape": [
           1
          ]
         },
         "y": {
          "dtype": "float64",
          "shape": [
           1
          ]
         }
        },
        {
         "hoverinfo": "none",
         "line": {
          "color": "rgb(44, 160, 44)",
          "dash": "dash",
          "width": 2
         },
         "mode": "lines",
         "name": "2019-04-27 00:00 (Eros)",
         "type": "scatter",
         "uid": "1d1e1953-344f-44b5-979f-bad358851711",
         "x": {
          "dtype": "float64",
          "shape": [
           100
          ]
         },
         "y": {
          "dtype": "float64",
          "shape": [
           100
          ]
         }
        },
        {
         "marker": {
          "color": "rgb(44, 160, 44)",
          "size": 10
         },
         "mode": "markers",
         "name": "2019-04-27 00:00 (Eros)",
         "type": "scatter",
         "uid": "31271cef-c688-4950-9f4b-bdd3def304ae",
         "x": {
          "dtype": "float64",
          "shape": [
           1
          ]
         },
         "y": {
          "dtype": "float64",
          "shape": [
           1
          ]
         }
        }
       ],
       "_js2py_relayout": {},
       "_js2py_restyle": {},
       "_js2py_update": {},
       "_last_layout_edit_id": 7,
       "_last_trace_edit_id": 7,
       "_layout": {
        "autosize": true,
        "shapes": [
         {
          "fillcolor": "#ffcc00",
          "line": {
           "color": "#ffcc00"
          },
          "opacity": 1,
          "type": "circle",
          "x0": -27904427.16573439,
          "x1": 27904427.16573439,
          "xref": "x",
          "y0": -27904427.16573439,
          "y1": 27904427.16573439,
          "yref": "y"
         }
        ],
        "template": {},
        "xaxis": {
         "constrain": "domain",
         "title": {
          "text": "x (km)"
         }
        },
        "yaxis": {
         "scaleanchor": "x",
         "title": {
          "text": "y (km)"
         }
        }
       },
       "_py2js_animate": {},
       "_py2js_deleteTraces": {},
       "_py2js_moveTraces": {},
       "_py2js_removeLayoutProps": {},
       "_py2js_removeTraceProps": {},
       "_py2js_restyle": {},
       "_view_count": 1
      }
     }
    },
    "version_major": 2,
    "version_minor": 0
   }
  }
 },
 "nbformat": 4,
 "nbformat_minor": 2
}
