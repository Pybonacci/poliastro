{
 "cells": [
  {
   "cell_type": "markdown",
   "metadata": {},
   "source": [
    "# Gallery of examples\n",
    "\n",
    "![logo_text.png](docs/source/examples/logo_text.png)\n",
    "\n",
    "Here you can browse a gallery of examples using poliastro in the form of Jupyter notebooks."
   ]
  },
  {
   "cell_type": "markdown",
   "metadata": {},
   "source": [
    "## [Comparing Hohmann and bielliptic transfers](docs/source/examples/Comparing Hohmann and bielliptic transfers.ipynb)\n",
    "\n",
    "[![hohmann_bielliptic](docs/source/examples/hohmann_bielliptic.png)](docs/source/examples/Comparing Hohmann and bielliptic transfers.ipynb)\n",
    "\n",
    "## [Exploring the New Horizons launch](docs/source/examples/Exploring the New Horizons launch.ipynb)\n",
    "\n",
    "[![new_horizons](docs/source/examples/new_horizons.png)](docs/source/examples/Exploring the New Horizons launch.ipynb)\n",
    "\n",
    "## [Going to Jupiter with Python using Jupyter and poliastro](docs/source/examples/Going to Jupiter with Python using Jupyter and poliastro.ipynb)\n",
    "\n",
    "[![mars](docs/source/examples/jupiter.png)](docs/source/examples/Going to Jupiter with Python using Jupyter and poliastro.ipynb)\n",
    "\n",
    "## [Going to Mars with Python using poliastro](docs/source/examples/Going to Mars with Python using poliastro.ipynb)\n",
    "\n",
    "[![mars](docs/source/examples/trans_30_260.png)](docs/source/examples/Going to Mars with Python using poliastro.ipynb)\n",
    "\n",
    "## [Propagation using Cowell's formulation](docs/source/examples/Propagation using Cowell's formulation.ipynb)\n",
    "\n",
    "[![cowell](docs/source/examples/cowell.png)](docs/source/examples/Propagation using Cowell's formulation.ipynb)\n",
    "\n",
    "## [Revisiting Lambert's problem in Python](docs/source/examples/Revisiting Lambert's problem in Python.ipynb)\n",
    "\n",
    "[![cowell](docs/source/examples/lambert.png)](docs/source/examples/Revisiting Lambert's problem in Python.ipynb)\n",
    "\n",
    "## [Studying Hohmann transfers](docs/source/examples/Studying Hohmann transfers.ipynb)\n",
    "\n",
    "[![hohmann](docs/source/examples/hohmann.png)](docs/source/examples/Studying Hohmann transfers.ipynb)\n",
    "\n",
    "## [Catch that asteroid!](docs/source/examples/Catch that asteroid!.ipynb)\n",
    "\n",
    "[![Florence](docs/source/examples/Florence.png)](docs/source/examples/Catch that asteroid!.ipynb)\n",
    "\n",
    "## [Using NEOS package](docs/source/examples/Using NEOS package.ipynb)\n",
    "\n",
    "[![NEOS](docs/source/examples/NEOS.png)](docs/source/examples/Using NEOS package.ipynb)\n",
    "\n",
    "## [Plotting in 3D](docs/source/examples/Plotting in 3D.ipynb)\n",
    "\n",
    "[![3DPlot](docs/source/examples/3DPlot.png)](docs/source/examples/Plotting in 3D.ipynb)\n",
    "\n",
    "## [Visualizing the SpaceX Tesla Roadster trip to Mars](docs/source/examples/Visualizing the SpaceX Tesla Roadster trip to Mars.ipynb)\n",
    "\n",
    "[![3DPlot](docs/source/examples/Tesla.png)](docs/source/examples/Visualizing the SpaceX Tesla Roadster trip to Mars.ipynb)"
   ]
  },
  {
   "cell_type": "markdown",
   "metadata": {},
   "source": [
    "## Old notebooks\n",
    "\n",
    "These notebooks are based on old versions of poliastro and cannot be run with current ones. They are kept here for historical purposes.\n",
    "\n",
    "* https://github.com/poliastro/poliastro/blob/c361af5/examples/Solving%20Lambert's%20problem%20in%20Python.ipynb\n",
    "* https://github.com/poliastro/poliastro/blob/9e71402/examples/Quickly%20solving%20Kepler's%20Problem%20in%20Python%20using%20numba.ipynb"
   ]
  }
 ],
 "metadata": {
  "kernelspec": {
   "display_name": "Python 3",
   "language": "python",
   "name": "python3"
  },
  "language_info": {
   "codemirror_mode": {
    "name": "ipython",
    "version": 3
   },
   "file_extension": ".py",
   "mimetype": "text/x-python",
   "name": "python",
   "nbconvert_exporter": "python",
   "pygments_lexer": "ipython3",
   "version": "3.6.5"
  }
 },
 "nbformat": 4,
 "nbformat_minor": 1
}
