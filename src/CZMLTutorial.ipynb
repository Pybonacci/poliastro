{
 "cells": [
  {
   "cell_type": "markdown",
   "metadata": {},
   "source": [
    "# Visualize orbital data with Cesium\n",
    "\n",
    "Poliastro allows users to easily convert orbital data to CZML, a JSON format primarily used in applications running Cesium"
   ]
  },
  {
   "cell_type": "markdown",
   "metadata": {},
   "source": [
    "## Dependencies\n",
    "\n",
    "You will only need poliastro (obviously) and czml3, a library for easily creating and using CZML packets\n",
    "\n",
    "``pip install poliastro czml3``"
   ]
  },
  {
   "cell_type": "markdown",
   "metadata": {},
   "source": [
    "## Our first example: The Molniya orbit\n",
    "\n",
    "We'll start off by using one of the readily usable poliastro examples. Of course, you can use any poliastro ``Orbit`` object."
   ]
  },
  {
   "cell_type": "code",
   "execution_count": 1,
   "metadata": {},
   "outputs": [
    {
     "name": "stderr",
     "output_type": "stream",
     "text": [
      "WARNING: AstropyDeprecationWarning: astropy.extern.six will be removed in 4.0, use the six module directly if it is still needed [astropy.extern.six]\n"
     ]
    }
   ],
   "source": [
    "from poliastro.czml.extract_czml import CZMLExtractor"
   ]
  },
  {
   "cell_type": "code",
   "execution_count": 2,
   "metadata": {},
   "outputs": [],
   "source": [
    "from poliastro.examples import molniya"
   ]
  },
  {
   "cell_type": "markdown",
   "metadata": {},
   "source": [
    "To initialize the extractor, you'll only need the starting and ending epoch of the time period you wish to visualize and the number of sample points. The larger the sample point size, the more accurate the trajectory and the bigger your packets. Finding that sweet spot between reasonable package size and visual accuracy depends on the specific orbit. Generally, you'll need a bigger sample for faster satellites. You could also \"break\" your orbit into different parts and define the sample size individually (for example, this could be useful when the satellite accelerates within a certain time interval).\n",
    "\n",
    "For this specific example, we're only interested in a single orbital period."
   ]
  },
  {
   "cell_type": "code",
   "execution_count": 3,
   "metadata": {},
   "outputs": [],
   "source": [
    "start_epoch = molniya.epoch\n",
    "end_epoch = molniya.epoch + molniya.period\n",
    "N = 80"
   ]
  },
  {
   "cell_type": "code",
   "execution_count": 4,
   "metadata": {},
   "outputs": [],
   "source": [
    "extractor = CZMLExtractor(\n",
    "        start_epoch,\n",
    "        end_epoch,\n",
    "        N\n",
    "    )"
   ]
  },
  {
   "cell_type": "markdown",
   "metadata": {},
   "source": [
    "To add an orbit you can simply call ``add_orbit`` and pass your ``Orbit`` along with an optional precision parameter (``rtol``). However, there are also many optional parameters you can pass to the extractor to specify the visual characteristics of your trajectory:\n",
    "\n",
    "#### Id parameters:\n",
    "\n",
    "``id_name``: The orbit id name\n",
    "\n",
    "``id_description``: The orbit's description\n",
    "\n",
    "#### Path parameters:\n",
    "\n",
    "``path_width``: The trajectorie's width. It's defined in pixels and defaults to ``1.0``\n",
    "\n",
    "``path_show``: Whether the trajectorie's path is visible (true by default)\n",
    "\n",
    "``path_color``: The trajectorie's color, a simple list with the rgba values (e.g. ``[45, 30, 50, 255]``)\n",
    "\n",
    "#### Label parameters:\n",
    "\n",
    "``label_text``: The label text; the text that appears besides the orbit. \n",
    "\n",
    "``label_show``: Whether the label is visible (true by default)\n",
    "\n",
    "``label_fill_color``: The fill color of the label , a simple list with the rgba values\n",
    "\n",
    "``label_outline_color``: The fill color of the label , a simple list with the rgba values\n",
    "\n",
    "``label_font``:  The font properties (CSS syntax)\n",
    "\n",
    "#### Groundtrack parameters:\n",
    "\n",
    "``show_groundtrack``: Whether the groundtrack is visible (true by default)\n",
    "\n",
    "``groundtrack_lead_time``: The time the animation is ahead of the real-time groundtrack\n",
    "\n",
    "``groundtrack_trail_time``: The time the animation is behind the real-time groundtrack"
   ]
  },
  {
   "cell_type": "code",
   "execution_count": null,
   "metadata": {},
   "outputs": [],
   "source": [
    "extractor.add_orbit(molniya,\n",
    "              id_name=\"MolniyaOrbit\",\n",
    "              path_width=2,\n",
    "              label_text=\"Molniya\", \n",
    "              label_fill_color=[125, 80, 120, 255]\n",
    "             )"
   ]
  },
  {
   "cell_type": "markdown",
   "metadata": {},
   "source": [
    "You can now export the extractor packets by simply calling ``extractor.packets`` and load it to the Cesium app as described [here](https://github.com/poliastro/cesium-app)"
   ]
  },
  {
   "cell_type": "code",
   "execution_count": null,
   "metadata": {},
   "outputs": [],
   "source": [
    "extractor.packets"
   ]
  },
  {
   "cell_type": "markdown",
   "metadata": {},
   "source": [
    "#### Landing on Mars\n",
    "\n",
    "You can customize the attractor of your orbit by defining any valid ellipsoid with the help of poliastro's ``Body`` class. For your convenience, poliastro offers a pre-defined list of all the major planetary bodies of the solar system so you can simply import them."
   ]
  },
  {
   "cell_type": "code",
   "execution_count": null,
   "metadata": {},
   "outputs": [],
   "source": [
    "from poliastro.bodies import Mars"
   ]
  },
  {
   "cell_type": "markdown",
   "metadata": {},
   "source": [
    "Of course, when defining a new attractor you want to be able to identify something other than it's shape. For this reason, the extractor allows you to easily set the UV map by simply providing a valid URL."
   ]
  },
  {
   "cell_type": "code",
   "execution_count": null,
   "metadata": {},
   "outputs": [],
   "source": [
    "mars_uv = \"https://upload.wikimedia.org/wikipedia/commons/f/fd/Mars_2020_LandingSites_Final_8-full.jpg\""
   ]
  },
  {
   "cell_type": "code",
   "execution_count": null,
   "metadata": {},
   "outputs": [],
   "source": [
    "extractor = CZMLExtractor(\n",
    "        start_epoch,\n",
    "        end_epoch,\n",
    "        N,\n",
    "        attractor=Mars,\n",
    "        pr_map=mars_uv\n",
    ")"
   ]
  },
  {
   "cell_type": "code",
   "execution_count": null,
   "metadata": {},
   "outputs": [],
   "source": [
    "extractor.packets"
   ]
  },
  {
   "cell_type": "code",
   "execution_count": null,
   "metadata": {},
   "outputs": [],
   "source": []
  }
 ],
 "metadata": {
  "kernelspec": {
   "display_name": "Python 3",
   "language": "python",
   "name": "python3"
  },
  "language_info": {
   "codemirror_mode": {
    "name": "ipython",
    "version": 3
   },
   "file_extension": ".py",
   "mimetype": "text/x-python",
   "name": "python",
   "nbconvert_exporter": "python",
   "pygments_lexer": "ipython3",
   "version": "3.7.3"
  }
 },
 "nbformat": 4,
 "nbformat_minor": 2
}
